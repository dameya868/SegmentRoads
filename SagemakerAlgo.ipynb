{
 "cells": [
  {
   "cell_type": "code",
   "execution_count": 1,
   "metadata": {},
   "outputs": [
    {
     "name": "stdout",
     "output_type": "stream",
     "text": [
      "Requirement already satisfied: tqdm in /home/ec2-user/anaconda3/envs/tensorflow2_p36/lib/python3.6/site-packages (4.44.1)\n",
      "\u001b[33mWARNING: You are using pip version 20.0.2; however, version 20.2.2 is available.\n",
      "You should consider upgrading via the '/home/ec2-user/anaconda3/envs/tensorflow2_p36/bin/python -m pip install --upgrade pip' command.\u001b[0m\n",
      "Collecting pillow\n",
      "  Downloading Pillow-7.2.0-cp36-cp36m-manylinux1_x86_64.whl (2.2 MB)\n",
      "\u001b[K     |████████████████████████████████| 2.2 MB 14.9 MB/s eta 0:00:01\n",
      "\u001b[?25hInstalling collected packages: pillow\n",
      "  Attempting uninstall: pillow\n",
      "    Found existing installation: Pillow 7.0.0\n",
      "    Uninstalling Pillow-7.0.0:\n",
      "      Successfully uninstalled Pillow-7.0.0\n",
      "Successfully installed pillow-7.2.0\n",
      "\u001b[33mWARNING: You are using pip version 20.0.2; however, version 20.2.2 is available.\n",
      "You should consider upgrading via the '/home/ec2-user/anaconda3/envs/tensorflow2_p36/bin/python -m pip install --upgrade pip' command.\u001b[0m\n"
     ]
    }
   ],
   "source": [
    "!pip3 install tqdm\n",
    "!pip3 install pillow --upgrade"
   ]
  },
  {
   "cell_type": "code",
   "execution_count": 38,
   "metadata": {},
   "outputs": [],
   "source": [
    "%matplotlib inline\n",
    "\n",
    "import os\n",
    "import tarfile\n",
    "import urllib\n",
    "import shutil\n",
    "import json\n",
    "import random\n",
    "import numpy as np\n",
    "import boto3\n",
    "import sagemaker\n",
    "\n",
    "from tqdm import tqdm\n",
    "from sagemaker.amazon.amazon_estimator import get_image_uri\n",
    "from matplotlib import pyplot as plt\n",
    "from xml.etree import ElementTree as ET\n",
    "from PIL import Image, ImageDraw, ImageFont"
   ]
  },
  {
   "cell_type": "code",
   "execution_count": 39,
   "metadata": {},
   "outputs": [
    {
     "name": "stderr",
     "output_type": "stream",
     "text": [
      "'get_image_uri' method will be deprecated in favor of 'ImageURIProvider' class in SageMaker Python SDK v2.\n"
     ]
    },
    {
     "name": "stdout",
     "output_type": "stream",
     "text": [
      "811284229777.dkr.ecr.us-east-1.amazonaws.com/semantic-segmentation:latest\n"
     ]
    }
   ],
   "source": [
    "role = sagemaker.get_execution_role()\n",
    "bucket_name = 'segmentroads'\n",
    "training_image = get_image_uri(boto3.Session().region_name, 'semantic-segmentation',\n",
    "                              repo_version='latest')\n",
    "print(training_image)"
   ]
  },
  {
   "cell_type": "code",
   "execution_count": 40,
   "metadata": {},
   "outputs": [],
   "source": [
    "folders = ['train', 'train_annotation', 'validation', 'validation_annotation']\n",
    "for folder in folders:\n",
    "    if os.path.isdir(folder):\n",
    "        shutil.rmtree(folder)\n",
    "    os.mkdir(folder)"
   ]
  },
  {
   "cell_type": "code",
   "execution_count": 41,
   "metadata": {},
   "outputs": [],
   "source": [
    "train_path = 'train/'\n",
    "train_annotation_path = 'train_annotation/'\n",
    "validation_path = 'validation/'\n",
    "validation_annotation_path = 'validation_annotation/'"
   ]
  },
  {
   "cell_type": "code",
   "execution_count": 42,
   "metadata": {},
   "outputs": [],
   "source": [
    "s3 = boto3.resource('s3')\n",
    "my_bucket = s3.Bucket('segmentroads')"
   ]
  },
  {
   "cell_type": "code",
   "execution_count": 43,
   "metadata": {},
   "outputs": [
    {
     "name": "stdout",
     "output_type": "stream",
     "text": [
      "['', '22679440_15.jpeg', '22679455_15.jpeg', '22679485_15.jpeg', '22828855_15.jpeg', '22828870_15.jpeg', '22828885_15.jpeg', '22828900_15.jpeg', '22828915_15.jpeg', '22828930_15.jpeg'] ['', '22679440_15.png', '22679455_15.png', '22679470_15.png', '22679485_15.png', '22828855_15.png', '22828870_15.png', '22828885_15.png', '22828900_15.png', '22828915_15.png']\n"
     ]
    }
   ],
   "source": [
    "s3_client = boto3.client('s3')\n",
    "def get_s3_keys(bucket, prefix,list_objs):\n",
    "\n",
    "    \"\"\"Get a list of keys in an S3 bucket.\"\"\"\n",
    "    resp = s3_client.list_objects_v2(Bucket=bucket, Prefix=prefix)\n",
    "    for obj in resp['Contents']:\n",
    "      files = obj['Key']\n",
    "      fileName = files.split('/')[1]      \n",
    "      list_objs.append(fileName)  \n",
    "      #print(files)\n",
    "    return files\n",
    "\n",
    "\n",
    "sat_images =[]\n",
    "masks_images =[]\n",
    "get_s3_keys('segmentroads', 'satimg',sat_images)\n",
    "get_s3_keys('segmentroads', 'masksimg',masks_images)\n",
    "\n",
    "print(sat_images[:10],masks_images[:10])"
   ]
  },
  {
   "cell_type": "code",
   "execution_count": 44,
   "metadata": {},
   "outputs": [],
   "source": [
    "s3_sat_path = 'sat/'\n",
    "s3_masks_path = 'masks/'\n",
    "s3_satimg_path = 'satimg/'\n",
    "s3_masksimg_path = 'masksimg/'"
   ]
  },
  {
   "cell_type": "code",
   "execution_count": 47,
   "metadata": {},
   "outputs": [
    {
     "name": "stderr",
     "output_type": "stream",
     "text": [
      "\r",
      "  0%|          | 0/439 [00:00<?, ?it/s]"
     ]
    },
    {
     "name": "stdout",
     "output_type": "stream",
     "text": [
      "22679440_15.png\n",
      "22679440_15.png\n",
      "satimg/22679440_15.jpeg\n",
      "masksimg/22679440_15.png\n",
      "train/22679440_15.jpeg\n",
      "train_annotation/22679440_15.png\n"
     ]
    },
    {
     "name": "stderr",
     "output_type": "stream",
     "text": [
      "\r",
      "  0%|          | 2/439 [00:00<01:09,  6.27it/s]"
     ]
    },
    {
     "name": "stdout",
     "output_type": "stream",
     "text": [
      "22679455_15.png\n",
      "22679455_15.png\n",
      "satimg/22679455_15.jpeg\n",
      "masksimg/22679455_15.png\n",
      "train/22679455_15.jpeg\n",
      "train_annotation/22679455_15.png\n"
     ]
    },
    {
     "name": "stderr",
     "output_type": "stream",
     "text": [
      "\r",
      "  1%|          | 3/439 [00:00<01:19,  5.46it/s]"
     ]
    },
    {
     "name": "stdout",
     "output_type": "stream",
     "text": [
      "22679485_15.png\n",
      "22679485_15.png\n",
      "satimg/22679485_15.jpeg\n",
      "masksimg/22679485_15.png\n",
      "validation/22679485_15.jpeg\n",
      "validation_annotation/22679485_15.png\n"
     ]
    },
    {
     "name": "stderr",
     "output_type": "stream",
     "text": [
      "\r",
      "  1%|          | 4/439 [00:00<01:27,  4.96it/s]"
     ]
    },
    {
     "name": "stdout",
     "output_type": "stream",
     "text": [
      "22828855_15.png\n",
      "22828855_15.png\n",
      "satimg/22828855_15.jpeg\n",
      "masksimg/22828855_15.png\n",
      "train/22828855_15.jpeg\n",
      "train_annotation/22828855_15.png\n"
     ]
    },
    {
     "name": "stderr",
     "output_type": "stream",
     "text": [
      "\r",
      "  1%|          | 5/439 [00:01<01:28,  4.92it/s]"
     ]
    },
    {
     "name": "stdout",
     "output_type": "stream",
     "text": [
      "22828870_15.png\n",
      "22828870_15.png\n",
      "satimg/22828870_15.jpeg\n",
      "masksimg/22828870_15.png\n",
      "validation/22828870_15.jpeg\n",
      "validation_annotation/22828870_15.png\n"
     ]
    },
    {
     "name": "stderr",
     "output_type": "stream",
     "text": [
      "\r",
      "  1%|▏         | 6/439 [00:01<01:42,  4.24it/s]"
     ]
    },
    {
     "name": "stdout",
     "output_type": "stream",
     "text": [
      "22828885_15.png\n",
      "22828885_15.png\n",
      "satimg/22828885_15.jpeg\n",
      "masksimg/22828885_15.png\n",
      "validation/22828885_15.jpeg\n",
      "validation_annotation/22828885_15.png\n"
     ]
    },
    {
     "name": "stderr",
     "output_type": "stream",
     "text": [
      "\r",
      "  2%|▏         | 7/439 [00:01<01:55,  3.73it/s]"
     ]
    },
    {
     "name": "stdout",
     "output_type": "stream",
     "text": [
      "22828900_15.png\n",
      "22828900_15.png\n",
      "satimg/22828900_15.jpeg\n",
      "masksimg/22828900_15.png\n",
      "train/22828900_15.jpeg\n",
      "train_annotation/22828900_15.png\n"
     ]
    },
    {
     "name": "stderr",
     "output_type": "stream",
     "text": [
      "  2%|▏         | 9/439 [00:02<01:44,  4.12it/s]"
     ]
    },
    {
     "name": "stdout",
     "output_type": "stream",
     "text": [
      "22828915_15.png\n",
      "22828915_15.png\n",
      "satimg/22828915_15.jpeg\n",
      "masksimg/22828915_15.png\n",
      "train/22828915_15.jpeg\n",
      "train_annotation/22828915_15.png\n",
      "22828930_15.png\n",
      "22828930_15.png\n",
      "satimg/22828930_15.jpeg\n",
      "masksimg/22828930_15.png\n",
      "train/22828930_15.jpeg\n",
      "train_annotation/22828930_15.png\n"
     ]
    },
    {
     "name": "stderr",
     "output_type": "stream",
     "text": [
      "\r",
      "  2%|▏         | 10/439 [00:02<01:41,  4.22it/s]"
     ]
    },
    {
     "name": "stdout",
     "output_type": "stream",
     "text": [
      "22828945_15.png\n",
      "22828945_15.png\n",
      "satimg/22828945_15.jpeg\n",
      "masksimg/22828945_15.png\n",
      "train/22828945_15.jpeg\n",
      "train_annotation/22828945_15.png\n"
     ]
    },
    {
     "name": "stderr",
     "output_type": "stream",
     "text": [
      "  3%|▎         | 12/439 [00:02<01:38,  4.35it/s]"
     ]
    },
    {
     "name": "stdout",
     "output_type": "stream",
     "text": [
      "22828960_15.png\n",
      "22828960_15.png\n",
      "satimg/22828960_15.jpeg\n",
      "masksimg/22828960_15.png\n",
      "train/22828960_15.jpeg\n",
      "train_annotation/22828960_15.png\n",
      "22828975_15.png\n",
      "22828975_15.png\n",
      "satimg/22828975_15.jpeg\n",
      "masksimg/22828975_15.png\n",
      "train/22828975_15.jpeg\n",
      "train_annotation/22828975_15.png\n"
     ]
    },
    {
     "name": "stderr",
     "output_type": "stream",
     "text": [
      "\r",
      "  3%|▎         | 13/439 [00:03<01:40,  4.24it/s]"
     ]
    },
    {
     "name": "stdout",
     "output_type": "stream",
     "text": [
      "22828990_15.png\n",
      "22828990_15.png\n",
      "satimg/22828990_15.jpeg\n",
      "masksimg/22828990_15.png\n",
      "train/22828990_15.jpeg\n",
      "train_annotation/22828990_15.png\n"
     ]
    },
    {
     "name": "stderr",
     "output_type": "stream",
     "text": [
      "\r",
      "  3%|▎         | 14/439 [00:03<01:40,  4.21it/s]"
     ]
    },
    {
     "name": "stdout",
     "output_type": "stream",
     "text": [
      "22829005_15.png\n",
      "22829005_15.png\n",
      "satimg/22829005_15.jpeg\n",
      "masksimg/22829005_15.png\n",
      "train/22829005_15.jpeg\n",
      "train_annotation/22829005_15.png\n"
     ]
    },
    {
     "name": "stderr",
     "output_type": "stream",
     "text": [
      "\r",
      "  3%|▎         | 15/439 [00:03<01:36,  4.38it/s]"
     ]
    },
    {
     "name": "stdout",
     "output_type": "stream",
     "text": [
      "22829020_15.png\n",
      "22829020_15.png\n",
      "satimg/22829020_15.jpeg\n",
      "masksimg/22829020_15.png\n",
      "train/22829020_15.jpeg\n",
      "train_annotation/22829020_15.png\n"
     ]
    },
    {
     "name": "stderr",
     "output_type": "stream",
     "text": [
      "\r",
      "  4%|▎         | 16/439 [00:03<01:36,  4.39it/s]"
     ]
    },
    {
     "name": "stdout",
     "output_type": "stream",
     "text": [
      "22829050_15.png\n",
      "22829050_15.png\n",
      "satimg/22829050_15.jpeg\n",
      "masksimg/22829050_15.png\n",
      "train/22829050_15.jpeg\n",
      "train_annotation/22829050_15.png\n"
     ]
    },
    {
     "name": "stderr",
     "output_type": "stream",
     "text": [
      "\r",
      "  4%|▍         | 17/439 [00:03<01:33,  4.53it/s]"
     ]
    },
    {
     "name": "stdout",
     "output_type": "stream",
     "text": [
      "22829065_15.png\n",
      "22829065_15.png\n",
      "satimg/22829065_15.jpeg\n",
      "masksimg/22829065_15.png\n",
      "train/22829065_15.jpeg\n",
      "train_annotation/22829065_15.png\n"
     ]
    },
    {
     "name": "stderr",
     "output_type": "stream",
     "text": [
      "\r",
      "  4%|▍         | 18/439 [00:04<01:35,  4.43it/s]"
     ]
    },
    {
     "name": "stdout",
     "output_type": "stream",
     "text": [
      "22829410_15.png\n",
      "22829410_15.png\n",
      "satimg/22829410_15.jpeg\n",
      "masksimg/22829410_15.png\n",
      "validation/22829410_15.jpeg\n",
      "validation_annotation/22829410_15.png\n"
     ]
    },
    {
     "name": "stderr",
     "output_type": "stream",
     "text": [
      "\r",
      "  4%|▍         | 19/439 [00:04<01:37,  4.29it/s]"
     ]
    },
    {
     "name": "stdout",
     "output_type": "stream",
     "text": [
      "22829425_15.png\n",
      "22829425_15.png\n",
      "satimg/22829425_15.jpeg\n",
      "masksimg/22829425_15.png\n",
      "train/22829425_15.jpeg\n",
      "train_annotation/22829425_15.png\n"
     ]
    },
    {
     "name": "stderr",
     "output_type": "stream",
     "text": [
      "\r",
      "  5%|▍         | 20/439 [00:04<01:40,  4.18it/s]"
     ]
    },
    {
     "name": "stdout",
     "output_type": "stream",
     "text": [
      "22829440_15.png\n",
      "22829440_15.png\n",
      "satimg/22829440_15.jpeg\n",
      "masksimg/22829440_15.png\n",
      "train/22829440_15.jpeg\n",
      "train_annotation/22829440_15.png\n"
     ]
    },
    {
     "name": "stderr",
     "output_type": "stream",
     "text": [
      "\r",
      "  5%|▍         | 21/439 [00:04<01:37,  4.31it/s]"
     ]
    },
    {
     "name": "stdout",
     "output_type": "stream",
     "text": [
      "22829455_15.png\n",
      "22829455_15.png\n",
      "satimg/22829455_15.jpeg\n",
      "masksimg/22829455_15.png\n",
      "train/22829455_15.jpeg\n",
      "train_annotation/22829455_15.png\n"
     ]
    },
    {
     "name": "stderr",
     "output_type": "stream",
     "text": [
      "\r",
      "  5%|▌         | 22/439 [00:05<02:11,  3.17it/s]"
     ]
    },
    {
     "name": "stdout",
     "output_type": "stream",
     "text": [
      "22829470_15.png\n",
      "22829470_15.png\n",
      "satimg/22829470_15.jpeg\n",
      "masksimg/22829470_15.png\n",
      "train/22829470_15.jpeg\n",
      "train_annotation/22829470_15.png\n"
     ]
    },
    {
     "name": "stderr",
     "output_type": "stream",
     "text": [
      "  5%|▌         | 24/439 [00:05<01:47,  3.86it/s]"
     ]
    },
    {
     "name": "stdout",
     "output_type": "stream",
     "text": [
      "22829485_15.png\n",
      "22829485_15.png\n",
      "satimg/22829485_15.jpeg\n",
      "masksimg/22829485_15.png\n",
      "train/22829485_15.jpeg\n",
      "train_annotation/22829485_15.png\n",
      "22978840_15.png\n",
      "22978840_15.png\n",
      "satimg/22978840_15.jpeg\n",
      "masksimg/22978840_15.png\n",
      "train/22978840_15.jpeg\n",
      "train_annotation/22978840_15.png\n"
     ]
    },
    {
     "name": "stderr",
     "output_type": "stream",
     "text": [
      "\r",
      "  6%|▌         | 25/439 [00:06<01:47,  3.84it/s]"
     ]
    },
    {
     "name": "stdout",
     "output_type": "stream",
     "text": [
      "22978855_15.png\n",
      "22978855_15.png\n",
      "satimg/22978855_15.jpeg\n",
      "masksimg/22978855_15.png\n",
      "train/22978855_15.jpeg\n",
      "train_annotation/22978855_15.png\n"
     ]
    },
    {
     "name": "stderr",
     "output_type": "stream",
     "text": [
      "\r",
      "  6%|▌         | 26/439 [00:06<01:44,  3.94it/s]"
     ]
    },
    {
     "name": "stdout",
     "output_type": "stream",
     "text": [
      "22978870_15.png\n",
      "22978870_15.png\n",
      "satimg/22978870_15.jpeg\n",
      "masksimg/22978870_15.png\n",
      "train/22978870_15.jpeg\n",
      "train_annotation/22978870_15.png\n"
     ]
    },
    {
     "name": "stderr",
     "output_type": "stream",
     "text": [
      "\r",
      "  6%|▌         | 27/439 [00:06<01:42,  4.02it/s]"
     ]
    },
    {
     "name": "stdout",
     "output_type": "stream",
     "text": [
      "22978885_15.png\n",
      "22978885_15.png\n",
      "satimg/22978885_15.jpeg\n",
      "masksimg/22978885_15.png\n",
      "train/22978885_15.jpeg\n",
      "train_annotation/22978885_15.png\n"
     ]
    },
    {
     "name": "stderr",
     "output_type": "stream",
     "text": [
      "\r",
      "  6%|▋         | 28/439 [00:06<01:37,  4.21it/s]"
     ]
    },
    {
     "name": "stdout",
     "output_type": "stream",
     "text": [
      "22978900_15.png\n",
      "22978900_15.png\n",
      "satimg/22978900_15.jpeg\n",
      "masksimg/22978900_15.png\n",
      "train/22978900_15.jpeg\n",
      "train_annotation/22978900_15.png\n"
     ]
    },
    {
     "name": "stderr",
     "output_type": "stream",
     "text": [
      "\r",
      "  7%|▋         | 29/439 [00:07<01:45,  3.88it/s]"
     ]
    },
    {
     "name": "stdout",
     "output_type": "stream",
     "text": [
      "22978915_15.png\n",
      "22978915_15.png\n",
      "satimg/22978915_15.jpeg\n",
      "masksimg/22978915_15.png\n",
      "train/22978915_15.jpeg\n",
      "train_annotation/22978915_15.png\n"
     ]
    },
    {
     "name": "stderr",
     "output_type": "stream",
     "text": [
      "  7%|▋         | 31/439 [00:07<01:48,  3.76it/s]"
     ]
    },
    {
     "name": "stdout",
     "output_type": "stream",
     "text": [
      "22978930_15.png\n",
      "22978930_15.png\n",
      "satimg/22978930_15.jpeg\n",
      "masksimg/22978930_15.png\n",
      "train/22978930_15.jpeg\n",
      "train_annotation/22978930_15.png\n",
      "22978945_15.png\n",
      "22978945_15.png\n",
      "satimg/22978945_15.jpeg\n",
      "masksimg/22978945_15.png\n",
      "train/22978945_15.jpeg\n",
      "train_annotation/22978945_15.png\n"
     ]
    },
    {
     "name": "stderr",
     "output_type": "stream",
     "text": [
      "\r",
      "  7%|▋         | 32/439 [00:07<01:42,  3.95it/s]"
     ]
    },
    {
     "name": "stdout",
     "output_type": "stream",
     "text": [
      "22978960_15.png\n",
      "22978960_15.png\n",
      "satimg/22978960_15.jpeg\n",
      "masksimg/22978960_15.png\n",
      "train/22978960_15.jpeg\n",
      "train_annotation/22978960_15.png\n"
     ]
    },
    {
     "name": "stderr",
     "output_type": "stream",
     "text": [
      "\r",
      "  8%|▊         | 33/439 [00:08<01:50,  3.66it/s]"
     ]
    },
    {
     "name": "stdout",
     "output_type": "stream",
     "text": [
      "22978975_15.png\n",
      "22978975_15.png\n",
      "satimg/22978975_15.jpeg\n",
      "masksimg/22978975_15.png\n",
      "train/22978975_15.jpeg\n",
      "train_annotation/22978975_15.png\n"
     ]
    },
    {
     "name": "stderr",
     "output_type": "stream",
     "text": [
      "\r",
      "  8%|▊         | 34/439 [00:08<01:42,  3.95it/s]"
     ]
    },
    {
     "name": "stdout",
     "output_type": "stream",
     "text": [
      "22979005_15.png\n",
      "22979005_15.png\n",
      "satimg/22979005_15.jpeg\n",
      "masksimg/22979005_15.png\n",
      "train/22979005_15.jpeg\n",
      "train_annotation/22979005_15.png\n"
     ]
    },
    {
     "name": "stderr",
     "output_type": "stream",
     "text": [
      "\r",
      "  8%|▊         | 35/439 [00:08<01:36,  4.17it/s]"
     ]
    },
    {
     "name": "stdout",
     "output_type": "stream",
     "text": [
      "22979020_15.png\n",
      "22979020_15.png\n",
      "satimg/22979020_15.jpeg\n",
      "masksimg/22979020_15.png\n",
      "train/22979020_15.jpeg\n",
      "train_annotation/22979020_15.png\n"
     ]
    },
    {
     "name": "stderr",
     "output_type": "stream",
     "text": [
      "\r",
      "  8%|▊         | 36/439 [00:08<01:44,  3.84it/s]"
     ]
    },
    {
     "name": "stdout",
     "output_type": "stream",
     "text": [
      "22979035_15.png\n",
      "22979035_15.png\n",
      "satimg/22979035_15.jpeg\n",
      "masksimg/22979035_15.png\n",
      "train/22979035_15.jpeg\n",
      "train_annotation/22979035_15.png\n"
     ]
    },
    {
     "name": "stderr",
     "output_type": "stream",
     "text": [
      "  9%|▊         | 38/439 [00:09<01:36,  4.13it/s]"
     ]
    },
    {
     "name": "stdout",
     "output_type": "stream",
     "text": [
      "22979050_15.png\n",
      "22979050_15.png\n",
      "satimg/22979050_15.jpeg\n",
      "masksimg/22979050_15.png\n",
      "train/22979050_15.jpeg\n",
      "train_annotation/22979050_15.png\n",
      "22979065_15.png\n",
      "22979065_15.png\n",
      "satimg/22979065_15.jpeg\n",
      "masksimg/22979065_15.png\n",
      "validation/22979065_15.jpeg\n",
      "validation_annotation/22979065_15.png\n"
     ]
    },
    {
     "name": "stderr",
     "output_type": "stream",
     "text": [
      "\r",
      "  9%|▉         | 39/439 [00:09<01:31,  4.36it/s]"
     ]
    },
    {
     "name": "stdout",
     "output_type": "stream",
     "text": [
      "22979410_15.png\n",
      "22979410_15.png\n",
      "satimg/22979410_15.jpeg\n",
      "masksimg/22979410_15.png\n",
      "train/22979410_15.jpeg\n",
      "train_annotation/22979410_15.png\n"
     ]
    },
    {
     "name": "stderr",
     "output_type": "stream",
     "text": [
      "\r",
      "  9%|▉         | 40/439 [00:09<01:31,  4.36it/s]"
     ]
    },
    {
     "name": "stdout",
     "output_type": "stream",
     "text": [
      "22979425_15.png\n",
      "22979425_15.png\n",
      "satimg/22979425_15.jpeg\n",
      "masksimg/22979425_15.png\n",
      "validation/22979425_15.jpeg\n",
      "validation_annotation/22979425_15.png\n"
     ]
    },
    {
     "name": "stderr",
     "output_type": "stream",
     "text": [
      "\r",
      "  9%|▉         | 41/439 [00:10<01:30,  4.42it/s]"
     ]
    },
    {
     "name": "stdout",
     "output_type": "stream",
     "text": [
      "22979440_15.png\n",
      "22979440_15.png\n",
      "satimg/22979440_15.jpeg\n",
      "masksimg/22979440_15.png\n",
      "train/22979440_15.jpeg\n",
      "train_annotation/22979440_15.png\n"
     ]
    },
    {
     "name": "stderr",
     "output_type": "stream",
     "text": [
      "\r",
      " 10%|▉         | 42/439 [00:10<01:53,  3.51it/s]"
     ]
    },
    {
     "name": "stdout",
     "output_type": "stream",
     "text": [
      "22979455_15.png\n",
      "22979455_15.png\n",
      "satimg/22979455_15.jpeg\n",
      "masksimg/22979455_15.png\n",
      "validation/22979455_15.jpeg\n",
      "validation_annotation/22979455_15.png\n"
     ]
    },
    {
     "name": "stderr",
     "output_type": "stream",
     "text": [
      "\r",
      " 10%|▉         | 43/439 [00:10<01:50,  3.57it/s]"
     ]
    },
    {
     "name": "stdout",
     "output_type": "stream",
     "text": [
      "22979470_15.png\n",
      "22979470_15.png\n",
      "satimg/22979470_15.jpeg\n",
      "masksimg/22979470_15.png\n",
      "train/22979470_15.jpeg\n",
      "train_annotation/22979470_15.png\n"
     ]
    },
    {
     "name": "stderr",
     "output_type": "stream",
     "text": [
      "\r",
      " 10%|█         | 44/439 [00:11<02:07,  3.09it/s]"
     ]
    },
    {
     "name": "stdout",
     "output_type": "stream",
     "text": [
      "23128870_15.png\n",
      "23128870_15.png\n",
      "satimg/23128870_15.jpeg\n",
      "masksimg/23128870_15.png\n",
      "train/23128870_15.jpeg\n",
      "train_annotation/23128870_15.png\n"
     ]
    },
    {
     "name": "stderr",
     "output_type": "stream",
     "text": [
      "\r",
      " 10%|█         | 45/439 [00:11<02:03,  3.20it/s]"
     ]
    },
    {
     "name": "stdout",
     "output_type": "stream",
     "text": [
      "23128885_15.png\n",
      "23128885_15.png\n",
      "satimg/23128885_15.jpeg\n",
      "masksimg/23128885_15.png\n",
      "train/23128885_15.jpeg\n",
      "train_annotation/23128885_15.png\n"
     ]
    },
    {
     "name": "stderr",
     "output_type": "stream",
     "text": [
      "\r",
      " 10%|█         | 46/439 [00:11<02:09,  3.04it/s]"
     ]
    },
    {
     "name": "stdout",
     "output_type": "stream",
     "text": [
      "23128900_15.png\n",
      "23128900_15.png\n",
      "satimg/23128900_15.jpeg\n",
      "masksimg/23128900_15.png\n",
      "train/23128900_15.jpeg\n",
      "train_annotation/23128900_15.png\n"
     ]
    },
    {
     "name": "stderr",
     "output_type": "stream",
     "text": [
      "\r",
      " 11%|█         | 47/439 [00:12<01:58,  3.32it/s]"
     ]
    },
    {
     "name": "stdout",
     "output_type": "stream",
     "text": [
      "23128915_15.png\n",
      "23128915_15.png\n",
      "satimg/23128915_15.jpeg\n",
      "masksimg/23128915_15.png\n",
      "train/23128915_15.jpeg\n",
      "train_annotation/23128915_15.png\n"
     ]
    },
    {
     "name": "stderr",
     "output_type": "stream",
     "text": [
      "\r",
      " 11%|█         | 48/439 [00:12<01:48,  3.60it/s]"
     ]
    },
    {
     "name": "stdout",
     "output_type": "stream",
     "text": [
      "23128945_15.png\n",
      "23128945_15.png\n",
      "satimg/23128945_15.jpeg\n",
      "masksimg/23128945_15.png\n",
      "validation/23128945_15.jpeg\n",
      "validation_annotation/23128945_15.png\n"
     ]
    },
    {
     "name": "stderr",
     "output_type": "stream",
     "text": [
      "\r",
      " 11%|█         | 49/439 [00:12<01:42,  3.81it/s]"
     ]
    },
    {
     "name": "stdout",
     "output_type": "stream",
     "text": [
      "23128960_15.png\n",
      "23128960_15.png\n",
      "satimg/23128960_15.jpeg\n",
      "masksimg/23128960_15.png\n",
      "train/23128960_15.jpeg\n",
      "train_annotation/23128960_15.png\n"
     ]
    },
    {
     "name": "stderr",
     "output_type": "stream",
     "text": [
      "\r",
      " 11%|█▏        | 50/439 [00:12<02:04,  3.12it/s]"
     ]
    },
    {
     "name": "stdout",
     "output_type": "stream",
     "text": [
      "23128975_15.png\n",
      "23128975_15.png\n",
      "satimg/23128975_15.jpeg\n",
      "masksimg/23128975_15.png\n",
      "train/23128975_15.jpeg\n",
      "train_annotation/23128975_15.png\n"
     ]
    },
    {
     "name": "stderr",
     "output_type": "stream",
     "text": [
      "\r",
      " 12%|█▏        | 51/439 [00:13<02:04,  3.11it/s]"
     ]
    },
    {
     "name": "stdout",
     "output_type": "stream",
     "text": [
      "23128990_15.png\n",
      "23128990_15.png\n",
      "satimg/23128990_15.jpeg\n",
      "masksimg/23128990_15.png\n",
      "train/23128990_15.jpeg\n",
      "train_annotation/23128990_15.png\n"
     ]
    },
    {
     "name": "stderr",
     "output_type": "stream",
     "text": [
      "\r",
      " 12%|█▏        | 52/439 [00:13<01:50,  3.49it/s]"
     ]
    },
    {
     "name": "stdout",
     "output_type": "stream",
     "text": [
      "23129005_15.png\n",
      "23129005_15.png\n",
      "satimg/23129005_15.jpeg\n",
      "masksimg/23129005_15.png\n",
      "validation/23129005_15.jpeg\n",
      "validation_annotation/23129005_15.png\n"
     ]
    },
    {
     "name": "stderr",
     "output_type": "stream",
     "text": [
      "\r",
      " 12%|█▏        | 53/439 [00:13<01:46,  3.62it/s]"
     ]
    },
    {
     "name": "stdout",
     "output_type": "stream",
     "text": [
      "23129020_15.png\n",
      "23129020_15.png\n",
      "satimg/23129020_15.jpeg\n",
      "masksimg/23129020_15.png\n",
      "train/23129020_15.jpeg\n",
      "train_annotation/23129020_15.png\n"
     ]
    },
    {
     "name": "stderr",
     "output_type": "stream",
     "text": [
      " 13%|█▎        | 55/439 [00:14<01:32,  4.16it/s]"
     ]
    },
    {
     "name": "stdout",
     "output_type": "stream",
     "text": [
      "23129035_15.png\n",
      "23129035_15.png\n",
      "satimg/23129035_15.jpeg\n",
      "masksimg/23129035_15.png\n",
      "train/23129035_15.jpeg\n",
      "train_annotation/23129035_15.png\n",
      "23129050_15.png\n",
      "23129050_15.png\n",
      "satimg/23129050_15.jpeg\n",
      "masksimg/23129050_15.png\n",
      "train/23129050_15.jpeg\n",
      "train_annotation/23129050_15.png\n"
     ]
    },
    {
     "name": "stderr",
     "output_type": "stream",
     "text": [
      "\r",
      " 13%|█▎        | 56/439 [00:14<01:36,  3.97it/s]"
     ]
    },
    {
     "name": "stdout",
     "output_type": "stream",
     "text": [
      "23129065_15.png\n",
      "23129065_15.png\n",
      "satimg/23129065_15.jpeg\n",
      "masksimg/23129065_15.png\n",
      "validation/23129065_15.jpeg\n",
      "validation_annotation/23129065_15.png\n"
     ]
    },
    {
     "name": "stderr",
     "output_type": "stream",
     "text": [
      " 13%|█▎        | 58/439 [00:14<01:35,  4.01it/s]"
     ]
    },
    {
     "name": "stdout",
     "output_type": "stream",
     "text": [
      "23129110_15.png\n",
      "23129110_15.png\n",
      "satimg/23129110_15.jpeg\n",
      "masksimg/23129110_15.png\n",
      "train/23129110_15.jpeg\n",
      "train_annotation/23129110_15.png\n",
      "23129125_15.png\n",
      "23129125_15.png\n",
      "satimg/23129125_15.jpeg\n",
      "masksimg/23129125_15.png\n",
      "train/23129125_15.jpeg\n",
      "train_annotation/23129125_15.png\n"
     ]
    },
    {
     "name": "stderr",
     "output_type": "stream",
     "text": [
      "\r",
      " 13%|█▎        | 59/439 [00:15<01:29,  4.23it/s]"
     ]
    },
    {
     "name": "stdout",
     "output_type": "stream",
     "text": [
      "23129140_15.png\n",
      "23129140_15.png\n",
      "satimg/23129140_15.jpeg\n",
      "masksimg/23129140_15.png\n",
      "train/23129140_15.jpeg\n",
      "train_annotation/23129140_15.png\n"
     ]
    },
    {
     "name": "stderr",
     "output_type": "stream",
     "text": [
      " 14%|█▍        | 61/439 [00:15<01:22,  4.60it/s]"
     ]
    },
    {
     "name": "stdout",
     "output_type": "stream",
     "text": [
      "23129155_15.png\n",
      "23129155_15.png\n",
      "satimg/23129155_15.jpeg\n",
      "masksimg/23129155_15.png\n",
      "train/23129155_15.jpeg\n",
      "train_annotation/23129155_15.png\n",
      "23129170_15.png\n",
      "23129170_15.png\n",
      "satimg/23129170_15.jpeg\n",
      "masksimg/23129170_15.png\n",
      "train/23129170_15.jpeg\n",
      "train_annotation/23129170_15.png\n"
     ]
    },
    {
     "name": "stderr",
     "output_type": "stream",
     "text": [
      "\r",
      " 14%|█▍        | 62/439 [00:15<01:26,  4.35it/s]"
     ]
    },
    {
     "name": "stdout",
     "output_type": "stream",
     "text": [
      "23129410_15.png\n",
      "23129410_15.png\n",
      "satimg/23129410_15.jpeg\n",
      "masksimg/23129410_15.png\n",
      "train/23129410_15.jpeg\n",
      "train_annotation/23129410_15.png\n"
     ]
    },
    {
     "name": "stderr",
     "output_type": "stream",
     "text": [
      "\r",
      " 14%|█▍        | 63/439 [00:16<01:30,  4.17it/s]"
     ]
    },
    {
     "name": "stdout",
     "output_type": "stream",
     "text": [
      "23129425_15.png\n",
      "23129425_15.png\n",
      "satimg/23129425_15.jpeg\n",
      "masksimg/23129425_15.png\n",
      "train/23129425_15.jpeg\n",
      "train_annotation/23129425_15.png\n"
     ]
    },
    {
     "name": "stderr",
     "output_type": "stream",
     "text": [
      "\r",
      " 15%|█▍        | 64/439 [00:16<01:31,  4.11it/s]"
     ]
    },
    {
     "name": "stdout",
     "output_type": "stream",
     "text": [
      "23129440_15.png\n",
      "23129440_15.png\n",
      "satimg/23129440_15.jpeg\n",
      "masksimg/23129440_15.png\n",
      "train/23129440_15.jpeg\n",
      "train_annotation/23129440_15.png\n"
     ]
    },
    {
     "name": "stderr",
     "output_type": "stream",
     "text": [
      "\r",
      " 15%|█▍        | 65/439 [00:16<01:30,  4.14it/s]"
     ]
    },
    {
     "name": "stdout",
     "output_type": "stream",
     "text": [
      "23129455_15.png\n",
      "23129455_15.png\n",
      "satimg/23129455_15.jpeg\n",
      "masksimg/23129455_15.png\n",
      "train/23129455_15.jpeg\n",
      "train_annotation/23129455_15.png\n"
     ]
    },
    {
     "name": "stderr",
     "output_type": "stream",
     "text": [
      "\r",
      " 15%|█▌        | 66/439 [00:16<01:31,  4.09it/s]"
     ]
    },
    {
     "name": "stdout",
     "output_type": "stream",
     "text": [
      "23278825_15.png\n",
      "23278825_15.png\n",
      "satimg/23278825_15.jpeg\n",
      "masksimg/23278825_15.png\n",
      "validation/23278825_15.jpeg\n",
      "validation_annotation/23278825_15.png\n"
     ]
    },
    {
     "name": "stderr",
     "output_type": "stream",
     "text": [
      "\r",
      " 15%|█▌        | 67/439 [00:17<01:33,  3.98it/s]"
     ]
    },
    {
     "name": "stdout",
     "output_type": "stream",
     "text": [
      "23278840_15.png\n",
      "23278840_15.png\n",
      "satimg/23278840_15.jpeg\n",
      "masksimg/23278840_15.png\n",
      "train/23278840_15.jpeg\n",
      "train_annotation/23278840_15.png\n"
     ]
    },
    {
     "name": "stderr",
     "output_type": "stream",
     "text": [
      " 16%|█▌        | 69/439 [00:17<01:24,  4.35it/s]"
     ]
    },
    {
     "name": "stdout",
     "output_type": "stream",
     "text": [
      "23278885_15.png\n",
      "23278885_15.png\n",
      "satimg/23278885_15.jpeg\n",
      "masksimg/23278885_15.png\n",
      "train/23278885_15.jpeg\n",
      "train_annotation/23278885_15.png\n",
      "23278900_15.png\n",
      "23278900_15.png\n",
      "satimg/23278900_15.jpeg\n",
      "masksimg/23278900_15.png\n",
      "train/23278900_15.jpeg\n",
      "train_annotation/23278900_15.png\n"
     ]
    },
    {
     "name": "stderr",
     "output_type": "stream",
     "text": [
      "\r",
      " 16%|█▌        | 70/439 [00:17<01:25,  4.30it/s]"
     ]
    },
    {
     "name": "stdout",
     "output_type": "stream",
     "text": [
      "23278945_15.png\n",
      "23278945_15.png\n",
      "satimg/23278945_15.jpeg\n",
      "masksimg/23278945_15.png\n",
      "train/23278945_15.jpeg\n",
      "train_annotation/23278945_15.png\n"
     ]
    },
    {
     "name": "stderr",
     "output_type": "stream",
     "text": [
      " 16%|█▋        | 72/439 [00:18<01:22,  4.43it/s]"
     ]
    },
    {
     "name": "stdout",
     "output_type": "stream",
     "text": [
      "23278960_15.png\n",
      "23278960_15.png\n",
      "satimg/23278960_15.jpeg\n",
      "masksimg/23278960_15.png\n",
      "validation/23278960_15.jpeg\n",
      "validation_annotation/23278960_15.png\n",
      "23278975_15.png\n",
      "23278975_15.png\n",
      "satimg/23278975_15.jpeg\n",
      "masksimg/23278975_15.png\n",
      "train/23278975_15.jpeg\n",
      "train_annotation/23278975_15.png\n"
     ]
    },
    {
     "name": "stderr",
     "output_type": "stream",
     "text": [
      " 17%|█▋        | 74/439 [00:18<01:19,  4.58it/s]"
     ]
    },
    {
     "name": "stdout",
     "output_type": "stream",
     "text": [
      "23278990_15.png\n",
      "23278990_15.png\n",
      "satimg/23278990_15.jpeg\n",
      "masksimg/23278990_15.png\n",
      "train/23278990_15.jpeg\n",
      "train_annotation/23278990_15.png\n",
      "23279005_15.png\n",
      "23279005_15.png\n",
      "satimg/23279005_15.jpeg\n",
      "masksimg/23279005_15.png\n",
      "train/23279005_15.jpeg\n",
      "train_annotation/23279005_15.png\n"
     ]
    },
    {
     "name": "stderr",
     "output_type": "stream",
     "text": [
      "\r",
      " 17%|█▋        | 75/439 [00:18<01:18,  4.63it/s]"
     ]
    },
    {
     "name": "stdout",
     "output_type": "stream",
     "text": [
      "23279020_15.png\n",
      "23279020_15.png\n",
      "satimg/23279020_15.jpeg\n",
      "masksimg/23279020_15.png\n",
      "train/23279020_15.jpeg\n",
      "train_annotation/23279020_15.png\n"
     ]
    },
    {
     "name": "stderr",
     "output_type": "stream",
     "text": [
      "\r",
      " 17%|█▋        | 76/439 [00:19<01:19,  4.55it/s]"
     ]
    },
    {
     "name": "stdout",
     "output_type": "stream",
     "text": [
      "23279035_15.png\n",
      "23279035_15.png\n",
      "satimg/23279035_15.jpeg\n",
      "masksimg/23279035_15.png\n",
      "train/23279035_15.jpeg\n",
      "train_annotation/23279035_15.png\n"
     ]
    },
    {
     "name": "stderr",
     "output_type": "stream",
     "text": [
      " 18%|█▊        | 78/439 [00:19<01:19,  4.53it/s]"
     ]
    },
    {
     "name": "stdout",
     "output_type": "stream",
     "text": [
      "23279050_15.png\n",
      "23279050_15.png\n",
      "satimg/23279050_15.jpeg\n",
      "masksimg/23279050_15.png\n",
      "train/23279050_15.jpeg\n",
      "train_annotation/23279050_15.png\n",
      "23279080_15.png\n",
      "23279080_15.png\n",
      "satimg/23279080_15.jpeg\n",
      "masksimg/23279080_15.png\n",
      "train/23279080_15.jpeg\n",
      "train_annotation/23279080_15.png\n"
     ]
    },
    {
     "name": "stderr",
     "output_type": "stream",
     "text": [
      "\r",
      " 18%|█▊        | 79/439 [00:19<01:19,  4.52it/s]"
     ]
    },
    {
     "name": "stdout",
     "output_type": "stream",
     "text": [
      "23279095_15.png\n",
      "23279095_15.png\n",
      "satimg/23279095_15.jpeg\n",
      "masksimg/23279095_15.png\n",
      "train/23279095_15.jpeg\n",
      "train_annotation/23279095_15.png\n"
     ]
    },
    {
     "name": "stderr",
     "output_type": "stream",
     "text": [
      "\r",
      " 18%|█▊        | 80/439 [00:20<01:26,  4.14it/s]"
     ]
    },
    {
     "name": "stdout",
     "output_type": "stream",
     "text": [
      "23279110_15.png\n",
      "23279110_15.png\n",
      "satimg/23279110_15.jpeg\n",
      "masksimg/23279110_15.png\n",
      "train/23279110_15.jpeg\n",
      "train_annotation/23279110_15.png\n"
     ]
    },
    {
     "name": "stderr",
     "output_type": "stream",
     "text": [
      "\r",
      " 18%|█▊        | 81/439 [00:20<01:30,  3.97it/s]"
     ]
    },
    {
     "name": "stdout",
     "output_type": "stream",
     "text": [
      "23279125_15.png\n",
      "23279125_15.png\n",
      "satimg/23279125_15.jpeg\n",
      "masksimg/23279125_15.png\n",
      "train/23279125_15.jpeg\n",
      "train_annotation/23279125_15.png\n"
     ]
    },
    {
     "name": "stderr",
     "output_type": "stream",
     "text": [
      "\r",
      " 19%|█▊        | 82/439 [00:20<01:25,  4.19it/s]"
     ]
    },
    {
     "name": "stdout",
     "output_type": "stream",
     "text": [
      "23279140_15.png\n",
      "23279140_15.png\n",
      "satimg/23279140_15.jpeg\n",
      "masksimg/23279140_15.png\n",
      "train/23279140_15.jpeg\n",
      "train_annotation/23279140_15.png\n"
     ]
    },
    {
     "name": "stderr",
     "output_type": "stream",
     "text": [
      "\r",
      " 19%|█▉        | 83/439 [00:20<01:26,  4.10it/s]"
     ]
    },
    {
     "name": "stdout",
     "output_type": "stream",
     "text": [
      "23279155_15.png\n",
      "23279155_15.png\n",
      "satimg/23279155_15.jpeg\n",
      "masksimg/23279155_15.png\n",
      "validation/23279155_15.jpeg\n",
      "validation_annotation/23279155_15.png\n"
     ]
    },
    {
     "name": "stderr",
     "output_type": "stream",
     "text": [
      "\r",
      " 19%|█▉        | 84/439 [00:21<01:27,  4.06it/s]"
     ]
    },
    {
     "name": "stdout",
     "output_type": "stream",
     "text": [
      "23279170_15.png\n",
      "23279170_15.png\n",
      "satimg/23279170_15.jpeg\n",
      "masksimg/23279170_15.png\n",
      "train/23279170_15.jpeg\n",
      "train_annotation/23279170_15.png\n"
     ]
    },
    {
     "name": "stderr",
     "output_type": "stream",
     "text": [
      " 20%|█▉        | 86/439 [00:21<01:23,  4.23it/s]"
     ]
    },
    {
     "name": "stdout",
     "output_type": "stream",
     "text": [
      "23428510_15.png\n",
      "23428510_15.png\n",
      "satimg/23428510_15.jpeg\n",
      "masksimg/23428510_15.png\n",
      "train/23428510_15.jpeg\n",
      "train_annotation/23428510_15.png\n",
      "23428525_15.png\n",
      "23428525_15.png\n",
      "satimg/23428525_15.jpeg\n",
      "masksimg/23428525_15.png\n",
      "train/23428525_15.jpeg\n",
      "train_annotation/23428525_15.png\n"
     ]
    },
    {
     "name": "stderr",
     "output_type": "stream",
     "text": [
      "\r",
      " 20%|█▉        | 87/439 [00:21<01:35,  3.69it/s]"
     ]
    },
    {
     "name": "stdout",
     "output_type": "stream",
     "text": [
      "23428555_15.png\n",
      "23428555_15.png\n",
      "satimg/23428555_15.jpeg\n",
      "masksimg/23428555_15.png\n",
      "train/23428555_15.jpeg\n",
      "train_annotation/23428555_15.png\n"
     ]
    },
    {
     "name": "stderr",
     "output_type": "stream",
     "text": [
      " 20%|██        | 89/439 [00:22<01:20,  4.33it/s]"
     ]
    },
    {
     "name": "stdout",
     "output_type": "stream",
     "text": [
      "23428570_15.png\n",
      "23428570_15.png\n",
      "satimg/23428570_15.jpeg\n",
      "masksimg/23428570_15.png\n",
      "train/23428570_15.jpeg\n",
      "train_annotation/23428570_15.png\n",
      "23428585_15.png\n",
      "23428585_15.png\n",
      "satimg/23428585_15.jpeg\n",
      "masksimg/23428585_15.png\n",
      "train/23428585_15.jpeg\n",
      "train_annotation/23428585_15.png\n"
     ]
    },
    {
     "name": "stderr",
     "output_type": "stream",
     "text": [
      " 21%|██        | 91/439 [00:22<01:24,  4.12it/s]"
     ]
    },
    {
     "name": "stdout",
     "output_type": "stream",
     "text": [
      "23428825_15.png\n",
      "23428825_15.png\n",
      "satimg/23428825_15.jpeg\n",
      "masksimg/23428825_15.png\n",
      "train/23428825_15.jpeg\n",
      "train_annotation/23428825_15.png\n",
      "23428840_15.png\n",
      "23428840_15.png\n",
      "satimg/23428840_15.jpeg\n",
      "masksimg/23428840_15.png\n",
      "validation/23428840_15.jpeg\n",
      "validation_annotation/23428840_15.png\n"
     ]
    },
    {
     "name": "stderr",
     "output_type": "stream",
     "text": [
      "\r",
      " 21%|██        | 92/439 [00:22<01:19,  4.39it/s]"
     ]
    },
    {
     "name": "stdout",
     "output_type": "stream",
     "text": [
      "23428900_15.png\n",
      "23428900_15.png\n",
      "satimg/23428900_15.jpeg\n",
      "masksimg/23428900_15.png\n",
      "train/23428900_15.jpeg\n",
      "train_annotation/23428900_15.png\n"
     ]
    },
    {
     "name": "stderr",
     "output_type": "stream",
     "text": [
      "\r",
      " 21%|██        | 93/439 [00:23<01:23,  4.16it/s]"
     ]
    },
    {
     "name": "stdout",
     "output_type": "stream",
     "text": [
      "23428915_15.png\n",
      "23428915_15.png\n",
      "satimg/23428915_15.jpeg\n",
      "masksimg/23428915_15.png\n",
      "train/23428915_15.jpeg\n",
      "train_annotation/23428915_15.png\n"
     ]
    },
    {
     "name": "stderr",
     "output_type": "stream",
     "text": [
      "\r",
      " 21%|██▏       | 94/439 [00:23<01:28,  3.89it/s]"
     ]
    },
    {
     "name": "stdout",
     "output_type": "stream",
     "text": [
      "23428930_15.png\n",
      "23428930_15.png\n",
      "satimg/23428930_15.jpeg\n",
      "masksimg/23428930_15.png\n",
      "train/23428930_15.jpeg\n",
      "train_annotation/23428930_15.png\n"
     ]
    },
    {
     "name": "stderr",
     "output_type": "stream",
     "text": [
      "\r",
      " 22%|██▏       | 95/439 [00:23<01:34,  3.65it/s]"
     ]
    },
    {
     "name": "stdout",
     "output_type": "stream",
     "text": [
      "23428945_15.png\n",
      "23428945_15.png\n",
      "satimg/23428945_15.jpeg\n",
      "masksimg/23428945_15.png\n",
      "train/23428945_15.jpeg\n",
      "train_annotation/23428945_15.png\n"
     ]
    },
    {
     "name": "stderr",
     "output_type": "stream",
     "text": [
      "\r",
      " 22%|██▏       | 96/439 [00:24<01:32,  3.72it/s]"
     ]
    },
    {
     "name": "stdout",
     "output_type": "stream",
     "text": [
      "23428960_15.png\n",
      "23428960_15.png\n",
      "satimg/23428960_15.jpeg\n",
      "masksimg/23428960_15.png\n",
      "train/23428960_15.jpeg\n",
      "train_annotation/23428960_15.png\n"
     ]
    },
    {
     "name": "stderr",
     "output_type": "stream",
     "text": [
      "\r",
      " 22%|██▏       | 97/439 [00:24<01:30,  3.77it/s]"
     ]
    },
    {
     "name": "stdout",
     "output_type": "stream",
     "text": [
      "23428975_15.png\n",
      "23428975_15.png\n",
      "satimg/23428975_15.jpeg\n",
      "masksimg/23428975_15.png\n",
      "train/23428975_15.jpeg\n",
      "train_annotation/23428975_15.png\n"
     ]
    },
    {
     "name": "stderr",
     "output_type": "stream",
     "text": [
      "\r",
      " 22%|██▏       | 98/439 [00:24<01:39,  3.43it/s]"
     ]
    },
    {
     "name": "stdout",
     "output_type": "stream",
     "text": [
      "23428990_15.png\n",
      "23428990_15.png\n",
      "satimg/23428990_15.jpeg\n",
      "masksimg/23428990_15.png\n",
      "train/23428990_15.jpeg\n",
      "train_annotation/23428990_15.png\n"
     ]
    },
    {
     "name": "stderr",
     "output_type": "stream",
     "text": [
      "\r",
      " 23%|██▎       | 99/439 [00:25<01:37,  3.48it/s]"
     ]
    },
    {
     "name": "stdout",
     "output_type": "stream",
     "text": [
      "23429005_15.png\n",
      "23429005_15.png\n",
      "satimg/23429005_15.jpeg\n",
      "masksimg/23429005_15.png\n",
      "train/23429005_15.jpeg\n",
      "train_annotation/23429005_15.png\n"
     ]
    },
    {
     "name": "stderr",
     "output_type": "stream",
     "text": [
      "\r",
      " 23%|██▎       | 100/439 [00:25<01:34,  3.60it/s]"
     ]
    },
    {
     "name": "stdout",
     "output_type": "stream",
     "text": [
      "23429020_15.png\n",
      "23429020_15.png\n",
      "satimg/23429020_15.jpeg\n",
      "masksimg/23429020_15.png\n",
      "train/23429020_15.jpeg\n",
      "train_annotation/23429020_15.png\n"
     ]
    },
    {
     "name": "stderr",
     "output_type": "stream",
     "text": [
      "\r",
      " 23%|██▎       | 101/439 [00:25<01:33,  3.61it/s]"
     ]
    },
    {
     "name": "stdout",
     "output_type": "stream",
     "text": [
      "23429035_15.png\n",
      "23429035_15.png\n",
      "satimg/23429035_15.jpeg\n",
      "masksimg/23429035_15.png\n",
      "validation/23429035_15.jpeg\n",
      "validation_annotation/23429035_15.png\n"
     ]
    },
    {
     "name": "stderr",
     "output_type": "stream",
     "text": [
      "\r",
      " 23%|██▎       | 102/439 [00:25<01:28,  3.79it/s]"
     ]
    },
    {
     "name": "stdout",
     "output_type": "stream",
     "text": [
      "23429050_15.png\n",
      "23429050_15.png\n",
      "satimg/23429050_15.jpeg\n",
      "masksimg/23429050_15.png\n",
      "train/23429050_15.jpeg\n",
      "train_annotation/23429050_15.png\n"
     ]
    },
    {
     "name": "stderr",
     "output_type": "stream",
     "text": [
      "\r",
      " 23%|██▎       | 103/439 [00:26<01:34,  3.57it/s]"
     ]
    },
    {
     "name": "stdout",
     "output_type": "stream",
     "text": [
      "23429065_15.png\n",
      "23429065_15.png\n",
      "satimg/23429065_15.jpeg\n",
      "masksimg/23429065_15.png\n",
      "validation/23429065_15.jpeg\n",
      "validation_annotation/23429065_15.png\n"
     ]
    },
    {
     "name": "stderr",
     "output_type": "stream",
     "text": [
      "\r",
      " 24%|██▎       | 104/439 [00:26<01:33,  3.57it/s]"
     ]
    },
    {
     "name": "stdout",
     "output_type": "stream",
     "text": [
      "23429095_15.png\n",
      "23429095_15.png\n",
      "satimg/23429095_15.jpeg\n",
      "masksimg/23429095_15.png\n",
      "train/23429095_15.jpeg\n",
      "train_annotation/23429095_15.png\n"
     ]
    },
    {
     "name": "stderr",
     "output_type": "stream",
     "text": [
      " 24%|██▍       | 106/439 [00:26<01:33,  3.55it/s]"
     ]
    },
    {
     "name": "stdout",
     "output_type": "stream",
     "text": [
      "23429110_15.png\n",
      "23429110_15.png\n",
      "satimg/23429110_15.jpeg\n",
      "masksimg/23429110_15.png\n",
      "train/23429110_15.jpeg\n",
      "train_annotation/23429110_15.png\n",
      "23429125_15.png\n",
      "23429125_15.png\n",
      "satimg/23429125_15.jpeg\n",
      "masksimg/23429125_15.png\n",
      "train/23429125_15.jpeg\n",
      "train_annotation/23429125_15.png\n"
     ]
    },
    {
     "name": "stderr",
     "output_type": "stream",
     "text": [
      "\r",
      " 24%|██▍       | 107/439 [00:27<01:25,  3.87it/s]"
     ]
    },
    {
     "name": "stdout",
     "output_type": "stream",
     "text": [
      "23429140_15.png\n",
      "23429140_15.png\n",
      "satimg/23429140_15.jpeg\n",
      "masksimg/23429140_15.png\n",
      "validation/23429140_15.jpeg\n",
      "validation_annotation/23429140_15.png\n"
     ]
    },
    {
     "name": "stderr",
     "output_type": "stream",
     "text": [
      "\r",
      " 25%|██▍       | 108/439 [00:27<01:19,  4.15it/s]"
     ]
    },
    {
     "name": "stdout",
     "output_type": "stream",
     "text": [
      "23429155_15.png\n",
      "23429155_15.png\n",
      "satimg/23429155_15.jpeg\n",
      "masksimg/23429155_15.png\n",
      "train/23429155_15.jpeg\n",
      "train_annotation/23429155_15.png\n"
     ]
    },
    {
     "name": "stderr",
     "output_type": "stream",
     "text": [
      "\r",
      " 25%|██▍       | 109/439 [00:27<01:20,  4.09it/s]"
     ]
    },
    {
     "name": "stdout",
     "output_type": "stream",
     "text": [
      "23429170_15.png\n",
      "23429170_15.png\n",
      "satimg/23429170_15.jpeg\n",
      "masksimg/23429170_15.png\n",
      "train/23429170_15.jpeg\n",
      "train_annotation/23429170_15.png\n"
     ]
    },
    {
     "name": "stderr",
     "output_type": "stream",
     "text": [
      "\r",
      " 25%|██▌       | 110/439 [00:27<01:26,  3.82it/s]"
     ]
    },
    {
     "name": "stdout",
     "output_type": "stream",
     "text": [
      "23578495_15.png\n",
      "23578495_15.png\n",
      "satimg/23578495_15.jpeg\n",
      "masksimg/23578495_15.png\n",
      "train/23578495_15.jpeg\n",
      "train_annotation/23578495_15.png\n"
     ]
    },
    {
     "name": "stderr",
     "output_type": "stream",
     "text": [
      "\r",
      " 25%|██▌       | 111/439 [00:28<01:36,  3.38it/s]"
     ]
    },
    {
     "name": "stdout",
     "output_type": "stream",
     "text": [
      "23578510_15.png\n",
      "23578510_15.png\n",
      "satimg/23578510_15.jpeg\n",
      "masksimg/23578510_15.png\n",
      "train/23578510_15.jpeg\n",
      "train_annotation/23578510_15.png\n"
     ]
    },
    {
     "name": "stderr",
     "output_type": "stream",
     "text": [
      "\r",
      " 26%|██▌       | 112/439 [00:28<01:33,  3.50it/s]"
     ]
    },
    {
     "name": "stdout",
     "output_type": "stream",
     "text": [
      "23578525_15.png\n",
      "23578525_15.png\n",
      "satimg/23578525_15.jpeg\n",
      "masksimg/23578525_15.png\n",
      "validation/23578525_15.jpeg\n",
      "validation_annotation/23578525_15.png\n"
     ]
    },
    {
     "name": "stderr",
     "output_type": "stream",
     "text": [
      " 26%|██▌       | 114/439 [00:29<01:24,  3.83it/s]"
     ]
    },
    {
     "name": "stdout",
     "output_type": "stream",
     "text": [
      "23578540_15.png\n",
      "23578540_15.png\n",
      "satimg/23578540_15.jpeg\n",
      "masksimg/23578540_15.png\n",
      "train/23578540_15.jpeg\n",
      "train_annotation/23578540_15.png\n",
      "23578555_15.png\n",
      "23578555_15.png\n",
      "satimg/23578555_15.jpeg\n",
      "masksimg/23578555_15.png\n",
      "train/23578555_15.jpeg\n",
      "train_annotation/23578555_15.png\n"
     ]
    },
    {
     "name": "stderr",
     "output_type": "stream",
     "text": [
      "\r",
      " 26%|██▌       | 115/439 [00:29<01:22,  3.92it/s]"
     ]
    },
    {
     "name": "stdout",
     "output_type": "stream",
     "text": [
      "23578570_15.png\n",
      "23578570_15.png\n",
      "satimg/23578570_15.jpeg\n",
      "masksimg/23578570_15.png\n",
      "train/23578570_15.jpeg\n",
      "train_annotation/23578570_15.png\n"
     ]
    },
    {
     "name": "stderr",
     "output_type": "stream",
     "text": [
      "\r",
      " 26%|██▋       | 116/439 [00:29<01:21,  3.99it/s]"
     ]
    },
    {
     "name": "stdout",
     "output_type": "stream",
     "text": [
      "23578585_15.png\n",
      "23578585_15.png\n",
      "satimg/23578585_15.jpeg\n",
      "masksimg/23578585_15.png\n",
      "train/23578585_15.jpeg\n",
      "train_annotation/23578585_15.png\n"
     ]
    },
    {
     "name": "stderr",
     "output_type": "stream",
     "text": [
      "\r",
      " 27%|██▋       | 117/439 [00:29<01:16,  4.19it/s]"
     ]
    },
    {
     "name": "stdout",
     "output_type": "stream",
     "text": [
      "23578600_15.png\n",
      "23578600_15.png\n",
      "satimg/23578600_15.jpeg\n",
      "masksimg/23578600_15.png\n",
      "train/23578600_15.jpeg\n",
      "train_annotation/23578600_15.png\n"
     ]
    },
    {
     "name": "stderr",
     "output_type": "stream",
     "text": [
      "\r",
      " 27%|██▋       | 118/439 [00:30<01:32,  3.47it/s]"
     ]
    },
    {
     "name": "stdout",
     "output_type": "stream",
     "text": [
      "23578780_15.png\n",
      "23578780_15.png\n",
      "satimg/23578780_15.jpeg\n",
      "masksimg/23578780_15.png\n",
      "train/23578780_15.jpeg\n",
      "train_annotation/23578780_15.png\n"
     ]
    },
    {
     "name": "stderr",
     "output_type": "stream",
     "text": [
      "\r",
      " 27%|██▋       | 119/439 [00:30<01:24,  3.80it/s]"
     ]
    },
    {
     "name": "stdout",
     "output_type": "stream",
     "text": [
      "23578795_15.png\n",
      "23578795_15.png\n",
      "satimg/23578795_15.jpeg\n",
      "masksimg/23578795_15.png\n",
      "train/23578795_15.jpeg\n",
      "train_annotation/23578795_15.png\n"
     ]
    },
    {
     "name": "stderr",
     "output_type": "stream",
     "text": [
      " 28%|██▊       | 121/439 [00:30<01:19,  4.02it/s]"
     ]
    },
    {
     "name": "stdout",
     "output_type": "stream",
     "text": [
      "23578810_15.png\n",
      "23578810_15.png\n",
      "satimg/23578810_15.jpeg\n",
      "masksimg/23578810_15.png\n",
      "train/23578810_15.jpeg\n",
      "train_annotation/23578810_15.png\n",
      "23578825_15.png\n",
      "23578825_15.png\n",
      "satimg/23578825_15.jpeg\n",
      "masksimg/23578825_15.png\n",
      "train/23578825_15.jpeg\n",
      "train_annotation/23578825_15.png\n"
     ]
    },
    {
     "name": "stderr",
     "output_type": "stream",
     "text": [
      "\r",
      " 28%|██▊       | 122/439 [00:31<01:10,  4.51it/s]"
     ]
    },
    {
     "name": "stdout",
     "output_type": "stream",
     "text": [
      "23578840_15.png\n",
      "23578840_15.png\n",
      "satimg/23578840_15.jpeg\n",
      "masksimg/23578840_15.png\n",
      "validation/23578840_15.jpeg\n",
      "validation_annotation/23578840_15.png\n"
     ]
    },
    {
     "name": "stderr",
     "output_type": "stream",
     "text": [
      "\r",
      " 28%|██▊       | 123/439 [00:31<01:10,  4.49it/s]"
     ]
    },
    {
     "name": "stdout",
     "output_type": "stream",
     "text": [
      "23578915_15.png\n",
      "23578915_15.png\n",
      "satimg/23578915_15.jpeg\n",
      "masksimg/23578915_15.png\n",
      "validation/23578915_15.jpeg\n",
      "validation_annotation/23578915_15.png\n"
     ]
    },
    {
     "name": "stderr",
     "output_type": "stream",
     "text": [
      " 28%|██▊       | 125/439 [00:31<01:14,  4.21it/s]"
     ]
    },
    {
     "name": "stdout",
     "output_type": "stream",
     "text": [
      "23578930_15.png\n",
      "23578930_15.png\n",
      "satimg/23578930_15.jpeg\n",
      "masksimg/23578930_15.png\n",
      "train/23578930_15.jpeg\n",
      "train_annotation/23578930_15.png\n",
      "23578945_15.png\n",
      "23578945_15.png\n",
      "satimg/23578945_15.jpeg\n",
      "masksimg/23578945_15.png\n",
      "train/23578945_15.jpeg\n",
      "train_annotation/23578945_15.png\n"
     ]
    },
    {
     "name": "stderr",
     "output_type": "stream",
     "text": [
      "\r",
      " 29%|██▊       | 126/439 [00:32<01:16,  4.08it/s]"
     ]
    },
    {
     "name": "stdout",
     "output_type": "stream",
     "text": [
      "23578960_15.png\n",
      "23578960_15.png\n",
      "satimg/23578960_15.jpeg\n",
      "masksimg/23578960_15.png\n",
      "train/23578960_15.jpeg\n",
      "train_annotation/23578960_15.png\n"
     ]
    },
    {
     "name": "stderr",
     "output_type": "stream",
     "text": [
      "\r",
      " 29%|██▉       | 127/439 [00:32<01:16,  4.06it/s]"
     ]
    },
    {
     "name": "stdout",
     "output_type": "stream",
     "text": [
      "23578975_15.png\n",
      "23578975_15.png\n",
      "satimg/23578975_15.jpeg\n",
      "masksimg/23578975_15.png\n",
      "validation/23578975_15.jpeg\n",
      "validation_annotation/23578975_15.png\n"
     ]
    },
    {
     "name": "stderr",
     "output_type": "stream",
     "text": [
      "\r",
      " 29%|██▉       | 128/439 [00:32<01:13,  4.24it/s]"
     ]
    },
    {
     "name": "stdout",
     "output_type": "stream",
     "text": [
      "23578990_15.png\n",
      "23578990_15.png\n",
      "satimg/23578990_15.jpeg\n",
      "masksimg/23578990_15.png\n",
      "train/23578990_15.jpeg\n",
      "train_annotation/23578990_15.png\n"
     ]
    },
    {
     "name": "stderr",
     "output_type": "stream",
     "text": [
      " 30%|██▉       | 130/439 [00:32<01:07,  4.57it/s]"
     ]
    },
    {
     "name": "stdout",
     "output_type": "stream",
     "text": [
      "23579005_15.png\n",
      "23579005_15.png\n",
      "satimg/23579005_15.jpeg\n",
      "masksimg/23579005_15.png\n",
      "validation/23579005_15.jpeg\n",
      "validation_annotation/23579005_15.png\n",
      "23579020_15.png\n",
      "23579020_15.png\n",
      "satimg/23579020_15.jpeg\n",
      "masksimg/23579020_15.png\n",
      "train/23579020_15.jpeg\n",
      "train_annotation/23579020_15.png\n"
     ]
    },
    {
     "name": "stderr",
     "output_type": "stream",
     "text": [
      "\r",
      " 30%|██▉       | 131/439 [00:33<01:09,  4.42it/s]"
     ]
    },
    {
     "name": "stdout",
     "output_type": "stream",
     "text": [
      "23579035_15.png\n",
      "23579035_15.png\n",
      "satimg/23579035_15.jpeg\n",
      "masksimg/23579035_15.png\n",
      "validation/23579035_15.jpeg\n",
      "validation_annotation/23579035_15.png\n"
     ]
    },
    {
     "name": "stderr",
     "output_type": "stream",
     "text": [
      " 30%|███       | 133/439 [00:33<01:05,  4.70it/s]"
     ]
    },
    {
     "name": "stdout",
     "output_type": "stream",
     "text": [
      "23579050_15.png\n",
      "23579050_15.png\n",
      "satimg/23579050_15.jpeg\n",
      "masksimg/23579050_15.png\n",
      "train/23579050_15.jpeg\n",
      "train_annotation/23579050_15.png\n",
      "23579065_15.png\n",
      "23579065_15.png\n",
      "satimg/23579065_15.jpeg\n",
      "masksimg/23579065_15.png\n",
      "train/23579065_15.jpeg\n",
      "train_annotation/23579065_15.png\n"
     ]
    },
    {
     "name": "stderr",
     "output_type": "stream",
     "text": [
      "\r",
      " 31%|███       | 134/439 [00:33<01:03,  4.83it/s]"
     ]
    },
    {
     "name": "stdout",
     "output_type": "stream",
     "text": [
      "23579080_15.png\n",
      "23579080_15.png\n",
      "satimg/23579080_15.jpeg\n",
      "masksimg/23579080_15.png\n",
      "train/23579080_15.jpeg\n",
      "train_annotation/23579080_15.png\n"
     ]
    },
    {
     "name": "stderr",
     "output_type": "stream",
     "text": [
      "\r",
      " 31%|███       | 135/439 [00:34<01:19,  3.81it/s]"
     ]
    },
    {
     "name": "stdout",
     "output_type": "stream",
     "text": [
      "23579095_15.png\n",
      "23579095_15.png\n",
      "satimg/23579095_15.jpeg\n",
      "masksimg/23579095_15.png\n",
      "train/23579095_15.jpeg\n",
      "train_annotation/23579095_15.png\n"
     ]
    },
    {
     "name": "stderr",
     "output_type": "stream",
     "text": [
      "\r",
      " 31%|███       | 136/439 [00:34<01:54,  2.64it/s]"
     ]
    },
    {
     "name": "stdout",
     "output_type": "stream",
     "text": [
      "23579110_15.png\n",
      "23579110_15.png\n",
      "satimg/23579110_15.jpeg\n",
      "masksimg/23579110_15.png\n",
      "validation/23579110_15.jpeg\n",
      "validation_annotation/23579110_15.png\n"
     ]
    },
    {
     "name": "stderr",
     "output_type": "stream",
     "text": [
      "\r",
      " 31%|███       | 137/439 [00:35<01:42,  2.95it/s]"
     ]
    },
    {
     "name": "stdout",
     "output_type": "stream",
     "text": [
      "23579125_15.png\n",
      "23579125_15.png\n",
      "satimg/23579125_15.jpeg\n",
      "masksimg/23579125_15.png\n",
      "train/23579125_15.jpeg\n",
      "train_annotation/23579125_15.png\n"
     ]
    },
    {
     "name": "stderr",
     "output_type": "stream",
     "text": [
      "\r",
      " 31%|███▏      | 138/439 [00:35<02:02,  2.46it/s]"
     ]
    },
    {
     "name": "stdout",
     "output_type": "stream",
     "text": [
      "23579140_15.png\n",
      "23579140_15.png\n",
      "satimg/23579140_15.jpeg\n",
      "masksimg/23579140_15.png\n",
      "train/23579140_15.jpeg\n",
      "train_annotation/23579140_15.png\n"
     ]
    },
    {
     "name": "stderr",
     "output_type": "stream",
     "text": [
      " 32%|███▏      | 140/439 [00:36<01:30,  3.30it/s]"
     ]
    },
    {
     "name": "stdout",
     "output_type": "stream",
     "text": [
      "23579155_15.png\n",
      "23579155_15.png\n",
      "satimg/23579155_15.jpeg\n",
      "masksimg/23579155_15.png\n",
      "train/23579155_15.jpeg\n",
      "train_annotation/23579155_15.png\n",
      "23728480_15.png\n",
      "23728480_15.png\n",
      "satimg/23728480_15.jpeg\n",
      "masksimg/23728480_15.png\n",
      "validation/23728480_15.jpeg\n",
      "validation_annotation/23728480_15.png\n"
     ]
    },
    {
     "name": "stderr",
     "output_type": "stream",
     "text": [
      "\r",
      " 32%|███▏      | 141/439 [00:36<01:31,  3.25it/s]"
     ]
    },
    {
     "name": "stdout",
     "output_type": "stream",
     "text": [
      "23728495_15.png\n",
      "23728495_15.png\n",
      "satimg/23728495_15.jpeg\n",
      "masksimg/23728495_15.png\n",
      "train/23728495_15.jpeg\n",
      "train_annotation/23728495_15.png\n"
     ]
    },
    {
     "name": "stderr",
     "output_type": "stream",
     "text": [
      " 33%|███▎      | 143/439 [00:36<01:24,  3.52it/s]"
     ]
    },
    {
     "name": "stdout",
     "output_type": "stream",
     "text": [
      "23728510_15.png\n",
      "23728510_15.png\n",
      "satimg/23728510_15.jpeg\n",
      "masksimg/23728510_15.png\n",
      "train/23728510_15.jpeg\n",
      "train_annotation/23728510_15.png\n",
      "23728525_15.png\n",
      "23728525_15.png\n",
      "satimg/23728525_15.jpeg\n",
      "masksimg/23728525_15.png\n",
      "train/23728525_15.jpeg\n",
      "train_annotation/23728525_15.png\n"
     ]
    },
    {
     "name": "stderr",
     "output_type": "stream",
     "text": [
      "\r",
      " 33%|███▎      | 144/439 [00:37<01:14,  3.94it/s]"
     ]
    },
    {
     "name": "stdout",
     "output_type": "stream",
     "text": [
      "23728540_15.png\n",
      "23728540_15.png\n",
      "satimg/23728540_15.jpeg\n",
      "masksimg/23728540_15.png\n",
      "train/23728540_15.jpeg\n",
      "train_annotation/23728540_15.png\n"
     ]
    },
    {
     "name": "stderr",
     "output_type": "stream",
     "text": [
      "\r",
      " 33%|███▎      | 145/439 [00:37<01:12,  4.07it/s]"
     ]
    },
    {
     "name": "stdout",
     "output_type": "stream",
     "text": [
      "23728555_15.png\n",
      "23728555_15.png\n",
      "satimg/23728555_15.jpeg\n",
      "masksimg/23728555_15.png\n",
      "validation/23728555_15.jpeg\n",
      "validation_annotation/23728555_15.png\n"
     ]
    },
    {
     "name": "stderr",
     "output_type": "stream",
     "text": [
      "\r",
      " 33%|███▎      | 146/439 [00:37<01:18,  3.75it/s]"
     ]
    },
    {
     "name": "stdout",
     "output_type": "stream",
     "text": [
      "23728570_15.png\n",
      "23728570_15.png\n",
      "satimg/23728570_15.jpeg\n",
      "masksimg/23728570_15.png\n",
      "train/23728570_15.jpeg\n",
      "train_annotation/23728570_15.png\n"
     ]
    },
    {
     "name": "stderr",
     "output_type": "stream",
     "text": [
      "\r",
      " 33%|███▎      | 147/439 [00:37<01:20,  3.63it/s]"
     ]
    },
    {
     "name": "stdout",
     "output_type": "stream",
     "text": [
      "23728600_15.png\n",
      "23728600_15.png\n",
      "satimg/23728600_15.jpeg\n",
      "masksimg/23728600_15.png\n",
      "train/23728600_15.jpeg\n",
      "train_annotation/23728600_15.png\n"
     ]
    },
    {
     "name": "stderr",
     "output_type": "stream",
     "text": [
      "\r",
      " 34%|███▎      | 148/439 [00:38<01:19,  3.68it/s]"
     ]
    },
    {
     "name": "stdout",
     "output_type": "stream",
     "text": [
      "23728765_15.png\n",
      "23728765_15.png\n",
      "satimg/23728765_15.jpeg\n",
      "masksimg/23728765_15.png\n",
      "train/23728765_15.jpeg\n",
      "train_annotation/23728765_15.png\n"
     ]
    },
    {
     "name": "stderr",
     "output_type": "stream",
     "text": [
      " 34%|███▍      | 150/439 [00:38<01:07,  4.30it/s]"
     ]
    },
    {
     "name": "stdout",
     "output_type": "stream",
     "text": [
      "23728780_15.png\n",
      "23728780_15.png\n",
      "satimg/23728780_15.jpeg\n",
      "masksimg/23728780_15.png\n",
      "train/23728780_15.jpeg\n",
      "train_annotation/23728780_15.png\n",
      "23728795_15.png\n",
      "23728795_15.png\n",
      "satimg/23728795_15.jpeg\n",
      "masksimg/23728795_15.png\n",
      "train/23728795_15.jpeg\n",
      "train_annotation/23728795_15.png\n"
     ]
    },
    {
     "name": "stderr",
     "output_type": "stream",
     "text": [
      "\r",
      " 34%|███▍      | 151/439 [00:38<01:11,  4.03it/s]"
     ]
    },
    {
     "name": "stdout",
     "output_type": "stream",
     "text": [
      "23728810_15.png\n",
      "23728810_15.png\n",
      "satimg/23728810_15.jpeg\n",
      "masksimg/23728810_15.png\n",
      "train/23728810_15.jpeg\n",
      "train_annotation/23728810_15.png\n"
     ]
    },
    {
     "name": "stderr",
     "output_type": "stream",
     "text": [
      "\r",
      " 35%|███▍      | 152/439 [00:39<01:08,  4.20it/s]"
     ]
    },
    {
     "name": "stdout",
     "output_type": "stream",
     "text": [
      "23728825_15.png\n",
      "23728825_15.png\n",
      "satimg/23728825_15.jpeg\n",
      "masksimg/23728825_15.png\n",
      "train/23728825_15.jpeg\n",
      "train_annotation/23728825_15.png\n"
     ]
    },
    {
     "name": "stderr",
     "output_type": "stream",
     "text": [
      " 35%|███▌      | 154/439 [00:39<01:08,  4.17it/s]"
     ]
    },
    {
     "name": "stdout",
     "output_type": "stream",
     "text": [
      "23728840_15.png\n",
      "23728840_15.png\n",
      "satimg/23728840_15.jpeg\n",
      "masksimg/23728840_15.png\n",
      "train/23728840_15.jpeg\n",
      "train_annotation/23728840_15.png\n",
      "23728915_15.png\n",
      "23728915_15.png\n",
      "satimg/23728915_15.jpeg\n",
      "masksimg/23728915_15.png\n",
      "train/23728915_15.jpeg\n",
      "train_annotation/23728915_15.png\n"
     ]
    },
    {
     "name": "stderr",
     "output_type": "stream",
     "text": [
      "\r",
      " 35%|███▌      | 155/439 [00:39<01:06,  4.29it/s]"
     ]
    },
    {
     "name": "stdout",
     "output_type": "stream",
     "text": [
      "23728930_15.png\n",
      "23728930_15.png\n",
      "satimg/23728930_15.jpeg\n",
      "masksimg/23728930_15.png\n",
      "train/23728930_15.jpeg\n",
      "train_annotation/23728930_15.png\n"
     ]
    },
    {
     "name": "stderr",
     "output_type": "stream",
     "text": [
      "\r",
      " 36%|███▌      | 156/439 [00:40<01:16,  3.71it/s]"
     ]
    },
    {
     "name": "stdout",
     "output_type": "stream",
     "text": [
      "23728945_15.png\n",
      "23728945_15.png\n",
      "satimg/23728945_15.jpeg\n",
      "masksimg/23728945_15.png\n",
      "train/23728945_15.jpeg\n",
      "train_annotation/23728945_15.png\n"
     ]
    },
    {
     "name": "stderr",
     "output_type": "stream",
     "text": [
      "\r",
      " 36%|███▌      | 157/439 [00:40<01:12,  3.91it/s]"
     ]
    },
    {
     "name": "stdout",
     "output_type": "stream",
     "text": [
      "23728960_15.png\n",
      "23728960_15.png\n",
      "satimg/23728960_15.jpeg\n",
      "masksimg/23728960_15.png\n",
      "train/23728960_15.jpeg\n",
      "train_annotation/23728960_15.png\n"
     ]
    },
    {
     "name": "stderr",
     "output_type": "stream",
     "text": [
      " 36%|███▌      | 159/439 [00:40<01:05,  4.27it/s]"
     ]
    },
    {
     "name": "stdout",
     "output_type": "stream",
     "text": [
      "23728975_15.png\n",
      "23728975_15.png\n",
      "satimg/23728975_15.jpeg\n",
      "masksimg/23728975_15.png\n",
      "train/23728975_15.jpeg\n",
      "train_annotation/23728975_15.png\n",
      "23728990_15.png\n",
      "23728990_15.png\n",
      "satimg/23728990_15.jpeg\n",
      "masksimg/23728990_15.png\n",
      "train/23728990_15.jpeg\n",
      "train_annotation/23728990_15.png\n"
     ]
    },
    {
     "name": "stderr",
     "output_type": "stream",
     "text": [
      "\r",
      " 36%|███▋      | 160/439 [00:41<01:05,  4.26it/s]"
     ]
    },
    {
     "name": "stdout",
     "output_type": "stream",
     "text": [
      "23729005_15.png\n",
      "23729005_15.png\n",
      "satimg/23729005_15.jpeg\n",
      "masksimg/23729005_15.png\n",
      "train/23729005_15.jpeg\n",
      "train_annotation/23729005_15.png\n"
     ]
    },
    {
     "name": "stderr",
     "output_type": "stream",
     "text": [
      " 37%|███▋      | 162/439 [00:41<01:03,  4.38it/s]"
     ]
    },
    {
     "name": "stdout",
     "output_type": "stream",
     "text": [
      "23729035_15.png\n",
      "23729035_15.png\n",
      "satimg/23729035_15.jpeg\n",
      "masksimg/23729035_15.png\n",
      "train/23729035_15.jpeg\n",
      "train_annotation/23729035_15.png\n",
      "23729050_15.png\n",
      "23729050_15.png\n",
      "satimg/23729050_15.jpeg\n",
      "masksimg/23729050_15.png\n",
      "train/23729050_15.jpeg\n",
      "train_annotation/23729050_15.png\n"
     ]
    },
    {
     "name": "stderr",
     "output_type": "stream",
     "text": [
      "\r",
      " 37%|███▋      | 163/439 [00:41<01:00,  4.56it/s]"
     ]
    },
    {
     "name": "stdout",
     "output_type": "stream",
     "text": [
      "23729065_15.png\n",
      "23729065_15.png\n",
      "satimg/23729065_15.jpeg\n",
      "masksimg/23729065_15.png\n",
      "train/23729065_15.jpeg\n",
      "train_annotation/23729065_15.png\n"
     ]
    },
    {
     "name": "stderr",
     "output_type": "stream",
     "text": [
      "\r",
      " 37%|███▋      | 164/439 [00:42<01:21,  3.38it/s]"
     ]
    },
    {
     "name": "stdout",
     "output_type": "stream",
     "text": [
      "23729080_15.png\n",
      "23729080_15.png\n",
      "satimg/23729080_15.jpeg\n",
      "masksimg/23729080_15.png\n",
      "train/23729080_15.jpeg\n",
      "train_annotation/23729080_15.png\n"
     ]
    },
    {
     "name": "stderr",
     "output_type": "stream",
     "text": [
      "\r",
      " 38%|███▊      | 165/439 [00:42<01:17,  3.55it/s]"
     ]
    },
    {
     "name": "stdout",
     "output_type": "stream",
     "text": [
      "23729095_15.png\n",
      "23729095_15.png\n",
      "satimg/23729095_15.jpeg\n",
      "masksimg/23729095_15.png\n",
      "train/23729095_15.jpeg\n",
      "train_annotation/23729095_15.png\n"
     ]
    },
    {
     "name": "stderr",
     "output_type": "stream",
     "text": [
      " 38%|███▊      | 167/439 [00:42<01:05,  4.13it/s]"
     ]
    },
    {
     "name": "stdout",
     "output_type": "stream",
     "text": [
      "23729110_15.png\n",
      "23729110_15.png\n",
      "satimg/23729110_15.jpeg\n",
      "masksimg/23729110_15.png\n",
      "train/23729110_15.jpeg\n",
      "train_annotation/23729110_15.png\n",
      "23729230_15.png\n",
      "23729230_15.png\n",
      "satimg/23729230_15.jpeg\n",
      "masksimg/23729230_15.png\n",
      "train/23729230_15.jpeg\n",
      "train_annotation/23729230_15.png\n"
     ]
    },
    {
     "name": "stderr",
     "output_type": "stream",
     "text": [
      "\r",
      " 38%|███▊      | 168/439 [00:43<01:05,  4.15it/s]"
     ]
    },
    {
     "name": "stdout",
     "output_type": "stream",
     "text": [
      "23729245_15.png\n",
      "23729245_15.png\n",
      "satimg/23729245_15.jpeg\n",
      "masksimg/23729245_15.png\n",
      "validation/23729245_15.jpeg\n",
      "validation_annotation/23729245_15.png\n"
     ]
    },
    {
     "name": "stderr",
     "output_type": "stream",
     "text": [
      "\r",
      " 38%|███▊      | 169/439 [00:43<01:02,  4.33it/s]"
     ]
    },
    {
     "name": "stdout",
     "output_type": "stream",
     "text": [
      "23878480_15.png\n",
      "23878480_15.png\n",
      "satimg/23878480_15.jpeg\n",
      "masksimg/23878480_15.png\n",
      "train/23878480_15.jpeg\n",
      "train_annotation/23878480_15.png\n"
     ]
    },
    {
     "name": "stderr",
     "output_type": "stream",
     "text": [
      " 39%|███▉      | 171/439 [00:43<01:01,  4.34it/s]"
     ]
    },
    {
     "name": "stdout",
     "output_type": "stream",
     "text": [
      "23878495_15.png\n",
      "23878495_15.png\n",
      "satimg/23878495_15.jpeg\n",
      "masksimg/23878495_15.png\n",
      "train/23878495_15.jpeg\n",
      "train_annotation/23878495_15.png\n",
      "23878510_15.png\n",
      "23878510_15.png\n",
      "satimg/23878510_15.jpeg\n",
      "masksimg/23878510_15.png\n",
      "train/23878510_15.jpeg\n",
      "train_annotation/23878510_15.png\n"
     ]
    },
    {
     "name": "stderr",
     "output_type": "stream",
     "text": [
      "\r",
      " 39%|███▉      | 172/439 [00:43<00:56,  4.75it/s]"
     ]
    },
    {
     "name": "stdout",
     "output_type": "stream",
     "text": [
      "23878525_15.png\n",
      "23878525_15.png\n",
      "satimg/23878525_15.jpeg\n",
      "masksimg/23878525_15.png\n",
      "train/23878525_15.jpeg\n",
      "train_annotation/23878525_15.png\n"
     ]
    },
    {
     "name": "stderr",
     "output_type": "stream",
     "text": [
      "\r",
      " 39%|███▉      | 173/439 [00:44<00:58,  4.56it/s]"
     ]
    },
    {
     "name": "stdout",
     "output_type": "stream",
     "text": [
      "23878555_15.png\n",
      "23878555_15.png\n",
      "satimg/23878555_15.jpeg\n",
      "masksimg/23878555_15.png\n",
      "train/23878555_15.jpeg\n",
      "train_annotation/23878555_15.png\n"
     ]
    },
    {
     "name": "stderr",
     "output_type": "stream",
     "text": [
      "\r",
      " 40%|███▉      | 174/439 [00:44<01:09,  3.79it/s]"
     ]
    },
    {
     "name": "stdout",
     "output_type": "stream",
     "text": [
      "23878570_15.png\n",
      "23878570_15.png\n",
      "satimg/23878570_15.jpeg\n",
      "masksimg/23878570_15.png\n",
      "validation/23878570_15.jpeg\n",
      "validation_annotation/23878570_15.png\n"
     ]
    },
    {
     "name": "stderr",
     "output_type": "stream",
     "text": [
      "\r",
      " 40%|███▉      | 175/439 [00:44<01:12,  3.63it/s]"
     ]
    },
    {
     "name": "stdout",
     "output_type": "stream",
     "text": [
      "23878585_15.png\n",
      "23878585_15.png\n",
      "satimg/23878585_15.jpeg\n",
      "masksimg/23878585_15.png\n",
      "validation/23878585_15.jpeg\n",
      "validation_annotation/23878585_15.png\n"
     ]
    },
    {
     "name": "stderr",
     "output_type": "stream",
     "text": [
      "\r",
      " 40%|████      | 176/439 [00:45<01:07,  3.93it/s]"
     ]
    },
    {
     "name": "stdout",
     "output_type": "stream",
     "text": [
      "23878765_15.png\n",
      "23878765_15.png\n",
      "satimg/23878765_15.jpeg\n",
      "masksimg/23878765_15.png\n",
      "train/23878765_15.jpeg\n",
      "train_annotation/23878765_15.png\n"
     ]
    },
    {
     "name": "stderr",
     "output_type": "stream",
     "text": [
      "\r",
      " 40%|████      | 177/439 [00:45<01:03,  4.15it/s]"
     ]
    },
    {
     "name": "stdout",
     "output_type": "stream",
     "text": [
      "23878780_15.png\n",
      "23878780_15.png\n",
      "satimg/23878780_15.jpeg\n",
      "masksimg/23878780_15.png\n",
      "train/23878780_15.jpeg\n",
      "train_annotation/23878780_15.png\n"
     ]
    },
    {
     "name": "stderr",
     "output_type": "stream",
     "text": [
      "\r",
      " 41%|████      | 178/439 [00:45<01:01,  4.26it/s]"
     ]
    },
    {
     "name": "stdout",
     "output_type": "stream",
     "text": [
      "23878795_15.png\n",
      "23878795_15.png\n",
      "satimg/23878795_15.jpeg\n",
      "masksimg/23878795_15.png\n",
      "train/23878795_15.jpeg\n",
      "train_annotation/23878795_15.png\n"
     ]
    },
    {
     "name": "stderr",
     "output_type": "stream",
     "text": [
      " 41%|████      | 180/439 [00:45<00:57,  4.48it/s]"
     ]
    },
    {
     "name": "stdout",
     "output_type": "stream",
     "text": [
      "23878810_15.png\n",
      "23878810_15.png\n",
      "satimg/23878810_15.jpeg\n",
      "masksimg/23878810_15.png\n",
      "train/23878810_15.jpeg\n",
      "train_annotation/23878810_15.png\n",
      "23878825_15.png\n",
      "23878825_15.png\n",
      "satimg/23878825_15.jpeg\n",
      "masksimg/23878825_15.png\n",
      "validation/23878825_15.jpeg\n",
      "validation_annotation/23878825_15.png\n"
     ]
    },
    {
     "name": "stderr",
     "output_type": "stream",
     "text": [
      "\r",
      " 41%|████      | 181/439 [00:46<00:59,  4.37it/s]"
     ]
    },
    {
     "name": "stdout",
     "output_type": "stream",
     "text": [
      "23878915_15.png\n",
      "23878915_15.png\n",
      "satimg/23878915_15.jpeg\n",
      "masksimg/23878915_15.png\n",
      "train/23878915_15.jpeg\n",
      "train_annotation/23878915_15.png\n"
     ]
    },
    {
     "name": "stderr",
     "output_type": "stream",
     "text": [
      "\r",
      " 41%|████▏     | 182/439 [00:46<00:57,  4.44it/s]"
     ]
    },
    {
     "name": "stdout",
     "output_type": "stream",
     "text": [
      "23878930_15.png\n",
      "23878930_15.png\n",
      "satimg/23878930_15.jpeg\n",
      "masksimg/23878930_15.png\n",
      "train/23878930_15.jpeg\n",
      "train_annotation/23878930_15.png\n"
     ]
    },
    {
     "name": "stderr",
     "output_type": "stream",
     "text": [
      "\r",
      " 42%|████▏     | 183/439 [00:46<00:56,  4.54it/s]"
     ]
    },
    {
     "name": "stdout",
     "output_type": "stream",
     "text": [
      "23878945_15.png\n",
      "23878945_15.png\n",
      "satimg/23878945_15.jpeg\n",
      "masksimg/23878945_15.png\n",
      "train/23878945_15.jpeg\n",
      "train_annotation/23878945_15.png\n"
     ]
    },
    {
     "name": "stderr",
     "output_type": "stream",
     "text": [
      " 42%|████▏     | 185/439 [00:47<01:01,  4.11it/s]"
     ]
    },
    {
     "name": "stdout",
     "output_type": "stream",
     "text": [
      "23878960_15.png\n",
      "23878960_15.png\n",
      "satimg/23878960_15.jpeg\n",
      "masksimg/23878960_15.png\n",
      "validation/23878960_15.jpeg\n",
      "validation_annotation/23878960_15.png\n",
      "23878975_15.png\n",
      "23878975_15.png\n",
      "satimg/23878975_15.jpeg\n",
      "masksimg/23878975_15.png\n",
      "train/23878975_15.jpeg\n",
      "train_annotation/23878975_15.png\n"
     ]
    },
    {
     "name": "stderr",
     "output_type": "stream",
     "text": [
      "\r",
      " 42%|████▏     | 186/439 [00:47<00:56,  4.47it/s]"
     ]
    },
    {
     "name": "stdout",
     "output_type": "stream",
     "text": [
      "23878990_15.png\n",
      "23878990_15.png\n",
      "satimg/23878990_15.jpeg\n",
      "masksimg/23878990_15.png\n",
      "validation/23878990_15.jpeg\n",
      "validation_annotation/23878990_15.png\n"
     ]
    },
    {
     "name": "stderr",
     "output_type": "stream",
     "text": [
      "\r",
      " 43%|████▎     | 187/439 [00:47<01:06,  3.80it/s]"
     ]
    },
    {
     "name": "stdout",
     "output_type": "stream",
     "text": [
      "23879005_15.png\n",
      "23879005_15.png\n",
      "satimg/23879005_15.jpeg\n",
      "masksimg/23879005_15.png\n",
      "train/23879005_15.jpeg\n",
      "train_annotation/23879005_15.png\n"
     ]
    },
    {
     "name": "stderr",
     "output_type": "stream",
     "text": [
      "\r",
      " 43%|████▎     | 188/439 [00:48<01:18,  3.22it/s]"
     ]
    },
    {
     "name": "stdout",
     "output_type": "stream",
     "text": [
      "23879020_15.png\n",
      "23879020_15.png\n",
      "satimg/23879020_15.jpeg\n",
      "masksimg/23879020_15.png\n",
      "train/23879020_15.jpeg\n",
      "train_annotation/23879020_15.png\n"
     ]
    },
    {
     "name": "stderr",
     "output_type": "stream",
     "text": [
      "\r",
      " 43%|████▎     | 189/439 [00:48<01:14,  3.36it/s]"
     ]
    },
    {
     "name": "stdout",
     "output_type": "stream",
     "text": [
      "23879035_15.png\n",
      "23879035_15.png\n",
      "satimg/23879035_15.jpeg\n",
      "masksimg/23879035_15.png\n",
      "train/23879035_15.jpeg\n",
      "train_annotation/23879035_15.png\n"
     ]
    },
    {
     "name": "stderr",
     "output_type": "stream",
     "text": [
      "\r",
      " 43%|████▎     | 190/439 [00:48<01:12,  3.42it/s]"
     ]
    },
    {
     "name": "stdout",
     "output_type": "stream",
     "text": [
      "23879050_15.png\n",
      "23879050_15.png\n",
      "satimg/23879050_15.jpeg\n",
      "masksimg/23879050_15.png\n",
      "train/23879050_15.jpeg\n",
      "train_annotation/23879050_15.png\n"
     ]
    },
    {
     "name": "stderr",
     "output_type": "stream",
     "text": [
      "\r",
      " 44%|████▎     | 191/439 [00:49<01:14,  3.32it/s]"
     ]
    },
    {
     "name": "stdout",
     "output_type": "stream",
     "text": [
      "23879065_15.png\n",
      "23879065_15.png\n",
      "satimg/23879065_15.jpeg\n",
      "masksimg/23879065_15.png\n",
      "train/23879065_15.jpeg\n",
      "train_annotation/23879065_15.png\n"
     ]
    },
    {
     "name": "stderr",
     "output_type": "stream",
     "text": [
      "\r",
      " 44%|████▎     | 192/439 [00:49<01:13,  3.38it/s]"
     ]
    },
    {
     "name": "stdout",
     "output_type": "stream",
     "text": [
      "23879080_15.png\n",
      "23879080_15.png\n",
      "satimg/23879080_15.jpeg\n",
      "masksimg/23879080_15.png\n",
      "validation/23879080_15.jpeg\n",
      "validation_annotation/23879080_15.png\n"
     ]
    },
    {
     "name": "stderr",
     "output_type": "stream",
     "text": [
      "\r",
      " 44%|████▍     | 193/439 [00:49<01:07,  3.62it/s]"
     ]
    },
    {
     "name": "stdout",
     "output_type": "stream",
     "text": [
      "23879095_15.png\n",
      "23879095_15.png\n",
      "satimg/23879095_15.jpeg\n",
      "masksimg/23879095_15.png\n",
      "validation/23879095_15.jpeg\n",
      "validation_annotation/23879095_15.png\n"
     ]
    },
    {
     "name": "stderr",
     "output_type": "stream",
     "text": [
      "\r",
      " 44%|████▍     | 194/439 [00:49<01:04,  3.82it/s]"
     ]
    },
    {
     "name": "stdout",
     "output_type": "stream",
     "text": [
      "23879110_15.png\n",
      "23879110_15.png\n",
      "satimg/23879110_15.jpeg\n",
      "masksimg/23879110_15.png\n",
      "validation/23879110_15.jpeg\n",
      "validation_annotation/23879110_15.png\n"
     ]
    },
    {
     "name": "stderr",
     "output_type": "stream",
     "text": [
      " 45%|████▍     | 196/439 [00:50<01:02,  3.91it/s]"
     ]
    },
    {
     "name": "stdout",
     "output_type": "stream",
     "text": [
      "23879200_15.png\n",
      "23879200_15.png\n",
      "satimg/23879200_15.jpeg\n",
      "masksimg/23879200_15.png\n",
      "validation/23879200_15.jpeg\n",
      "validation_annotation/23879200_15.png\n",
      "23879215_15.png\n",
      "23879215_15.png\n",
      "satimg/23879215_15.jpeg\n",
      "masksimg/23879215_15.png\n",
      "train/23879215_15.jpeg\n",
      "train_annotation/23879215_15.png\n"
     ]
    },
    {
     "name": "stderr",
     "output_type": "stream",
     "text": [
      "\r",
      " 45%|████▍     | 197/439 [00:50<01:02,  3.89it/s]"
     ]
    },
    {
     "name": "stdout",
     "output_type": "stream",
     "text": [
      "23879230_15.png\n",
      "23879230_15.png\n",
      "satimg/23879230_15.jpeg\n",
      "masksimg/23879230_15.png\n",
      "train/23879230_15.jpeg\n",
      "train_annotation/23879230_15.png\n"
     ]
    },
    {
     "name": "stderr",
     "output_type": "stream",
     "text": [
      "\r",
      " 45%|████▌     | 198/439 [00:50<01:08,  3.50it/s]"
     ]
    },
    {
     "name": "stdout",
     "output_type": "stream",
     "text": [
      "23879245_15.png\n",
      "23879245_15.png\n",
      "satimg/23879245_15.jpeg\n",
      "masksimg/23879245_15.png\n",
      "train/23879245_15.jpeg\n",
      "train_annotation/23879245_15.png\n"
     ]
    },
    {
     "name": "stderr",
     "output_type": "stream",
     "text": [
      "\r",
      " 45%|████▌     | 199/439 [00:51<01:14,  3.20it/s]"
     ]
    },
    {
     "name": "stdout",
     "output_type": "stream",
     "text": [
      "24028480_15.png\n",
      "24028480_15.png\n",
      "satimg/24028480_15.jpeg\n",
      "masksimg/24028480_15.png\n",
      "train/24028480_15.jpeg\n",
      "train_annotation/24028480_15.png\n"
     ]
    },
    {
     "name": "stderr",
     "output_type": "stream",
     "text": [
      " 46%|████▌     | 201/439 [00:51<01:02,  3.83it/s]"
     ]
    },
    {
     "name": "stdout",
     "output_type": "stream",
     "text": [
      "24028495_15.png\n",
      "24028495_15.png\n",
      "satimg/24028495_15.jpeg\n",
      "masksimg/24028495_15.png\n",
      "train/24028495_15.jpeg\n",
      "train_annotation/24028495_15.png\n",
      "24028510_15.png\n",
      "24028510_15.png\n",
      "satimg/24028510_15.jpeg\n",
      "masksimg/24028510_15.png\n",
      "train/24028510_15.jpeg\n",
      "train_annotation/24028510_15.png\n"
     ]
    },
    {
     "name": "stderr",
     "output_type": "stream",
     "text": [
      "\r",
      " 46%|████▌     | 202/439 [00:51<01:00,  3.94it/s]"
     ]
    },
    {
     "name": "stdout",
     "output_type": "stream",
     "text": [
      "24028525_15.png\n",
      "24028525_15.png\n",
      "satimg/24028525_15.jpeg\n",
      "masksimg/24028525_15.png\n",
      "train/24028525_15.jpeg\n",
      "train_annotation/24028525_15.png\n"
     ]
    },
    {
     "name": "stderr",
     "output_type": "stream",
     "text": [
      "\r",
      " 46%|████▌     | 203/439 [00:52<00:59,  3.96it/s]"
     ]
    },
    {
     "name": "stdout",
     "output_type": "stream",
     "text": [
      "24028540_15.png\n",
      "24028540_15.png\n",
      "satimg/24028540_15.jpeg\n",
      "masksimg/24028540_15.png\n",
      "train/24028540_15.jpeg\n",
      "train_annotation/24028540_15.png\n"
     ]
    },
    {
     "name": "stderr",
     "output_type": "stream",
     "text": [
      "\r",
      " 46%|████▋     | 204/439 [00:52<01:05,  3.61it/s]"
     ]
    },
    {
     "name": "stdout",
     "output_type": "stream",
     "text": [
      "24028555_15.png\n",
      "24028555_15.png\n",
      "satimg/24028555_15.jpeg\n",
      "masksimg/24028555_15.png\n",
      "train/24028555_15.jpeg\n",
      "train_annotation/24028555_15.png\n"
     ]
    },
    {
     "name": "stderr",
     "output_type": "stream",
     "text": [
      "\r",
      " 47%|████▋     | 205/439 [00:52<01:09,  3.34it/s]"
     ]
    },
    {
     "name": "stdout",
     "output_type": "stream",
     "text": [
      "24028795_15.png\n",
      "24028795_15.png\n",
      "satimg/24028795_15.jpeg\n",
      "masksimg/24028795_15.png\n",
      "train/24028795_15.jpeg\n",
      "train_annotation/24028795_15.png\n"
     ]
    },
    {
     "name": "stderr",
     "output_type": "stream",
     "text": [
      "\r",
      " 47%|████▋     | 206/439 [00:53<01:06,  3.51it/s]"
     ]
    },
    {
     "name": "stdout",
     "output_type": "stream",
     "text": [
      "24028810_15.png\n",
      "24028810_15.png\n",
      "satimg/24028810_15.jpeg\n",
      "masksimg/24028810_15.png\n",
      "train/24028810_15.jpeg\n",
      "train_annotation/24028810_15.png\n"
     ]
    },
    {
     "name": "stderr",
     "output_type": "stream",
     "text": [
      " 47%|████▋     | 208/439 [00:53<00:59,  3.85it/s]"
     ]
    },
    {
     "name": "stdout",
     "output_type": "stream",
     "text": [
      "24028825_15.png\n",
      "24028825_15.png\n",
      "satimg/24028825_15.jpeg\n",
      "masksimg/24028825_15.png\n",
      "train/24028825_15.jpeg\n",
      "train_annotation/24028825_15.png\n",
      "24028990_15.png\n",
      "24028990_15.png\n",
      "satimg/24028990_15.jpeg\n",
      "masksimg/24028990_15.png\n",
      "train/24028990_15.jpeg\n",
      "train_annotation/24028990_15.png\n"
     ]
    },
    {
     "name": "stderr",
     "output_type": "stream",
     "text": [
      " 48%|████▊     | 210/439 [00:54<00:52,  4.37it/s]"
     ]
    },
    {
     "name": "stdout",
     "output_type": "stream",
     "text": [
      "24029005_15.png\n",
      "24029005_15.png\n",
      "satimg/24029005_15.jpeg\n",
      "masksimg/24029005_15.png\n",
      "train/24029005_15.jpeg\n",
      "train_annotation/24029005_15.png\n",
      "24029020_15.png\n",
      "24029020_15.png\n",
      "satimg/24029020_15.jpeg\n",
      "masksimg/24029020_15.png\n",
      "train/24029020_15.jpeg\n",
      "train_annotation/24029020_15.png\n"
     ]
    },
    {
     "name": "stderr",
     "output_type": "stream",
     "text": [
      "\r",
      " 48%|████▊     | 211/439 [00:54<00:47,  4.78it/s]"
     ]
    },
    {
     "name": "stdout",
     "output_type": "stream",
     "text": [
      "24029050_15.png\n",
      "24029050_15.png\n",
      "satimg/24029050_15.jpeg\n",
      "masksimg/24029050_15.png\n",
      "train/24029050_15.jpeg\n",
      "train_annotation/24029050_15.png\n"
     ]
    },
    {
     "name": "stderr",
     "output_type": "stream",
     "text": [
      "\r",
      " 48%|████▊     | 212/439 [00:54<00:48,  4.64it/s]"
     ]
    },
    {
     "name": "stdout",
     "output_type": "stream",
     "text": [
      "24029065_15.png\n",
      "24029065_15.png\n",
      "satimg/24029065_15.jpeg\n",
      "masksimg/24029065_15.png\n",
      "train/24029065_15.jpeg\n",
      "train_annotation/24029065_15.png\n"
     ]
    },
    {
     "name": "stderr",
     "output_type": "stream",
     "text": [
      "\r",
      " 49%|████▊     | 213/439 [00:54<00:53,  4.21it/s]"
     ]
    },
    {
     "name": "stdout",
     "output_type": "stream",
     "text": [
      "24029080_15.png\n",
      "24029080_15.png\n",
      "satimg/24029080_15.jpeg\n",
      "masksimg/24029080_15.png\n",
      "train/24029080_15.jpeg\n",
      "train_annotation/24029080_15.png\n"
     ]
    },
    {
     "name": "stderr",
     "output_type": "stream",
     "text": [
      "\r",
      " 49%|████▊     | 214/439 [00:54<00:55,  4.05it/s]"
     ]
    },
    {
     "name": "stdout",
     "output_type": "stream",
     "text": [
      "24029095_15.png\n",
      "24029095_15.png\n",
      "satimg/24029095_15.jpeg\n",
      "masksimg/24029095_15.png\n",
      "train/24029095_15.jpeg\n",
      "train_annotation/24029095_15.png\n"
     ]
    },
    {
     "name": "stderr",
     "output_type": "stream",
     "text": [
      "\r",
      " 49%|████▉     | 215/439 [00:55<00:54,  4.10it/s]"
     ]
    },
    {
     "name": "stdout",
     "output_type": "stream",
     "text": [
      "24029110_15.png\n",
      "24029110_15.png\n",
      "satimg/24029110_15.jpeg\n",
      "masksimg/24029110_15.png\n",
      "train/24029110_15.jpeg\n",
      "train_annotation/24029110_15.png\n"
     ]
    },
    {
     "name": "stderr",
     "output_type": "stream",
     "text": [
      " 49%|████▉     | 217/439 [00:55<00:49,  4.52it/s]"
     ]
    },
    {
     "name": "stdout",
     "output_type": "stream",
     "text": [
      "24029185_15.png\n",
      "24029185_15.png\n",
      "satimg/24029185_15.jpeg\n",
      "masksimg/24029185_15.png\n",
      "train/24029185_15.jpeg\n",
      "train_annotation/24029185_15.png\n",
      "24029200_15.png\n",
      "24029200_15.png\n",
      "satimg/24029200_15.jpeg\n",
      "masksimg/24029200_15.png\n",
      "train/24029200_15.jpeg\n",
      "train_annotation/24029200_15.png\n"
     ]
    },
    {
     "name": "stderr",
     "output_type": "stream",
     "text": [
      "\r",
      " 50%|████▉     | 218/439 [00:55<00:49,  4.48it/s]"
     ]
    },
    {
     "name": "stdout",
     "output_type": "stream",
     "text": [
      "24029215_15.png\n",
      "24029215_15.png\n",
      "satimg/24029215_15.jpeg\n",
      "masksimg/24029215_15.png\n",
      "train/24029215_15.jpeg\n",
      "train_annotation/24029215_15.png\n"
     ]
    },
    {
     "name": "stderr",
     "output_type": "stream",
     "text": [
      "\r",
      " 50%|████▉     | 219/439 [00:56<00:50,  4.38it/s]"
     ]
    },
    {
     "name": "stdout",
     "output_type": "stream",
     "text": [
      "24029230_15.png\n",
      "24029230_15.png\n",
      "satimg/24029230_15.jpeg\n",
      "masksimg/24029230_15.png\n",
      "train/24029230_15.jpeg\n",
      "train_annotation/24029230_15.png\n"
     ]
    },
    {
     "name": "stderr",
     "output_type": "stream",
     "text": [
      " 50%|█████     | 221/439 [00:56<00:50,  4.30it/s]"
     ]
    },
    {
     "name": "stdout",
     "output_type": "stream",
     "text": [
      "24029245_15.png\n",
      "24029245_15.png\n",
      "satimg/24029245_15.jpeg\n",
      "masksimg/24029245_15.png\n",
      "validation/24029245_15.jpeg\n",
      "validation_annotation/24029245_15.png\n",
      "24178480_15.png\n",
      "24178480_15.png\n",
      "satimg/24178480_15.jpeg\n",
      "masksimg/24178480_15.png\n",
      "train/24178480_15.jpeg\n",
      "train_annotation/24178480_15.png\n"
     ]
    },
    {
     "name": "stderr",
     "output_type": "stream",
     "text": [
      " 51%|█████     | 223/439 [00:57<00:54,  3.94it/s]"
     ]
    },
    {
     "name": "stdout",
     "output_type": "stream",
     "text": [
      "24178495_15.png\n",
      "24178495_15.png\n",
      "satimg/24178495_15.jpeg\n",
      "masksimg/24178495_15.png\n",
      "validation/24178495_15.jpeg\n",
      "validation_annotation/24178495_15.png\n",
      "24178510_15.png\n",
      "24178510_15.png\n",
      "satimg/24178510_15.jpeg\n",
      "masksimg/24178510_15.png\n",
      "train/24178510_15.jpeg\n",
      "train_annotation/24178510_15.png\n"
     ]
    },
    {
     "name": "stderr",
     "output_type": "stream",
     "text": [
      "\r",
      " 51%|█████     | 224/439 [00:57<00:53,  4.05it/s]"
     ]
    },
    {
     "name": "stdout",
     "output_type": "stream",
     "text": [
      "24178525_15.png\n",
      "24178525_15.png\n",
      "satimg/24178525_15.jpeg\n",
      "masksimg/24178525_15.png\n",
      "train/24178525_15.jpeg\n",
      "train_annotation/24178525_15.png\n"
     ]
    },
    {
     "name": "stderr",
     "output_type": "stream",
     "text": [
      "\r",
      " 51%|█████▏    | 225/439 [00:57<00:51,  4.17it/s]"
     ]
    },
    {
     "name": "stdout",
     "output_type": "stream",
     "text": [
      "24178540_15.png\n",
      "24178540_15.png\n",
      "satimg/24178540_15.jpeg\n",
      "masksimg/24178540_15.png\n",
      "train/24178540_15.jpeg\n",
      "train_annotation/24178540_15.png\n"
     ]
    },
    {
     "name": "stderr",
     "output_type": "stream",
     "text": [
      "\r",
      " 51%|█████▏    | 226/439 [00:57<00:50,  4.26it/s]"
     ]
    },
    {
     "name": "stdout",
     "output_type": "stream",
     "text": [
      "24178975_15.png\n",
      "24178975_15.png\n",
      "satimg/24178975_15.jpeg\n",
      "masksimg/24178975_15.png\n",
      "train/24178975_15.jpeg\n",
      "train_annotation/24178975_15.png\n"
     ]
    },
    {
     "name": "stderr",
     "output_type": "stream",
     "text": [
      "\r",
      " 52%|█████▏    | 227/439 [00:58<00:48,  4.38it/s]"
     ]
    },
    {
     "name": "stdout",
     "output_type": "stream",
     "text": [
      "24179005_15.png\n",
      "24179005_15.png\n",
      "satimg/24179005_15.jpeg\n",
      "masksimg/24179005_15.png\n",
      "train/24179005_15.jpeg\n",
      "train_annotation/24179005_15.png\n"
     ]
    },
    {
     "name": "stderr",
     "output_type": "stream",
     "text": [
      "\r",
      " 52%|█████▏    | 228/439 [00:58<00:51,  4.07it/s]"
     ]
    },
    {
     "name": "stdout",
     "output_type": "stream",
     "text": [
      "24179020_15.png\n",
      "24179020_15.png\n",
      "satimg/24179020_15.jpeg\n",
      "masksimg/24179020_15.png\n",
      "train/24179020_15.jpeg\n",
      "train_annotation/24179020_15.png\n"
     ]
    },
    {
     "name": "stderr",
     "output_type": "stream",
     "text": [
      "\r",
      " 52%|█████▏    | 229/439 [00:58<00:51,  4.06it/s]"
     ]
    },
    {
     "name": "stdout",
     "output_type": "stream",
     "text": [
      "24179035_15.png\n",
      "24179035_15.png\n",
      "satimg/24179035_15.jpeg\n",
      "masksimg/24179035_15.png\n",
      "validation/24179035_15.jpeg\n",
      "validation_annotation/24179035_15.png\n"
     ]
    },
    {
     "name": "stderr",
     "output_type": "stream",
     "text": [
      "\r",
      " 52%|█████▏    | 230/439 [00:58<00:56,  3.73it/s]"
     ]
    },
    {
     "name": "stdout",
     "output_type": "stream",
     "text": [
      "24179050_15.png\n",
      "24179050_15.png\n",
      "satimg/24179050_15.jpeg\n",
      "masksimg/24179050_15.png\n",
      "validation/24179050_15.jpeg\n",
      "validation_annotation/24179050_15.png\n"
     ]
    },
    {
     "name": "stderr",
     "output_type": "stream",
     "text": [
      "\r",
      " 53%|█████▎    | 231/439 [00:59<00:53,  3.88it/s]"
     ]
    },
    {
     "name": "stdout",
     "output_type": "stream",
     "text": [
      "24179065_15.png\n",
      "24179065_15.png\n",
      "satimg/24179065_15.jpeg\n",
      "masksimg/24179065_15.png\n",
      "validation/24179065_15.jpeg\n",
      "validation_annotation/24179065_15.png\n"
     ]
    },
    {
     "name": "stderr",
     "output_type": "stream",
     "text": [
      "\r",
      " 53%|█████▎    | 232/439 [00:59<01:04,  3.20it/s]"
     ]
    },
    {
     "name": "stdout",
     "output_type": "stream",
     "text": [
      "24179080_15.png\n",
      "24179080_15.png\n",
      "satimg/24179080_15.jpeg\n",
      "masksimg/24179080_15.png\n",
      "train/24179080_15.jpeg\n",
      "train_annotation/24179080_15.png\n"
     ]
    },
    {
     "name": "stderr",
     "output_type": "stream",
     "text": [
      "\r",
      " 53%|█████▎    | 233/439 [00:59<00:58,  3.52it/s]"
     ]
    },
    {
     "name": "stdout",
     "output_type": "stream",
     "text": [
      "24179095_15.png\n",
      "24179095_15.png\n",
      "satimg/24179095_15.jpeg\n",
      "masksimg/24179095_15.png\n",
      "validation/24179095_15.jpeg\n",
      "validation_annotation/24179095_15.png\n"
     ]
    },
    {
     "name": "stderr",
     "output_type": "stream",
     "text": [
      "\r",
      " 53%|█████▎    | 234/439 [01:00<01:03,  3.25it/s]"
     ]
    },
    {
     "name": "stdout",
     "output_type": "stream",
     "text": [
      "24179110_15.png\n",
      "24179110_15.png\n",
      "satimg/24179110_15.jpeg\n",
      "masksimg/24179110_15.png\n",
      "train/24179110_15.jpeg\n",
      "train_annotation/24179110_15.png\n"
     ]
    },
    {
     "name": "stderr",
     "output_type": "stream",
     "text": [
      "\r",
      " 54%|█████▎    | 235/439 [01:00<00:58,  3.49it/s]"
     ]
    },
    {
     "name": "stdout",
     "output_type": "stream",
     "text": [
      "24179170_15.png\n",
      "24179170_15.png\n",
      "satimg/24179170_15.jpeg\n",
      "masksimg/24179170_15.png\n",
      "train/24179170_15.jpeg\n",
      "train_annotation/24179170_15.png\n"
     ]
    },
    {
     "name": "stderr",
     "output_type": "stream",
     "text": [
      "\r",
      " 54%|█████▍    | 236/439 [01:00<00:54,  3.70it/s]"
     ]
    },
    {
     "name": "stdout",
     "output_type": "stream",
     "text": [
      "24179185_15.png\n",
      "24179185_15.png\n",
      "satimg/24179185_15.jpeg\n",
      "masksimg/24179185_15.png\n",
      "train/24179185_15.jpeg\n",
      "train_annotation/24179185_15.png\n"
     ]
    },
    {
     "name": "stderr",
     "output_type": "stream",
     "text": [
      "\r",
      " 54%|█████▍    | 237/439 [01:01<01:07,  2.99it/s]"
     ]
    },
    {
     "name": "stdout",
     "output_type": "stream",
     "text": [
      "24179200_15.png\n",
      "24179200_15.png\n",
      "satimg/24179200_15.jpeg\n",
      "masksimg/24179200_15.png\n",
      "train/24179200_15.jpeg\n",
      "train_annotation/24179200_15.png\n"
     ]
    },
    {
     "name": "stderr",
     "output_type": "stream",
     "text": [
      "\r",
      " 54%|█████▍    | 238/439 [01:01<01:00,  3.33it/s]"
     ]
    },
    {
     "name": "stdout",
     "output_type": "stream",
     "text": [
      "24179215_15.png\n",
      "24179215_15.png\n",
      "satimg/24179215_15.jpeg\n",
      "masksimg/24179215_15.png\n",
      "train/24179215_15.jpeg\n",
      "train_annotation/24179215_15.png\n"
     ]
    },
    {
     "name": "stderr",
     "output_type": "stream",
     "text": [
      "\r",
      " 54%|█████▍    | 239/439 [01:01<00:59,  3.35it/s]"
     ]
    },
    {
     "name": "stdout",
     "output_type": "stream",
     "text": [
      "24179230_15.png\n",
      "24179230_15.png\n",
      "satimg/24179230_15.jpeg\n",
      "masksimg/24179230_15.png\n",
      "train/24179230_15.jpeg\n",
      "train_annotation/24179230_15.png\n"
     ]
    },
    {
     "name": "stderr",
     "output_type": "stream",
     "text": [
      "\r",
      " 55%|█████▍    | 240/439 [01:02<01:03,  3.13it/s]"
     ]
    },
    {
     "name": "stdout",
     "output_type": "stream",
     "text": [
      "24179260_15.png\n",
      "24179260_15.png\n",
      "satimg/24179260_15.jpeg\n",
      "masksimg/24179260_15.png\n",
      "train/24179260_15.jpeg\n",
      "train_annotation/24179260_15.png\n"
     ]
    },
    {
     "name": "stderr",
     "output_type": "stream",
     "text": [
      "\r",
      " 55%|█████▍    | 241/439 [01:02<00:58,  3.36it/s]"
     ]
    },
    {
     "name": "stdout",
     "output_type": "stream",
     "text": [
      "24179275_15.png\n",
      "24179275_15.png\n",
      "satimg/24179275_15.jpeg\n",
      "masksimg/24179275_15.png\n",
      "validation/24179275_15.jpeg\n",
      "validation_annotation/24179275_15.png\n"
     ]
    },
    {
     "name": "stderr",
     "output_type": "stream",
     "text": [
      "\r",
      " 55%|█████▌    | 242/439 [01:02<00:54,  3.59it/s]"
     ]
    },
    {
     "name": "stdout",
     "output_type": "stream",
     "text": [
      "24328765_15.png\n",
      "24328765_15.png\n",
      "satimg/24328765_15.jpeg\n",
      "masksimg/24328765_15.png\n",
      "train/24328765_15.jpeg\n",
      "train_annotation/24328765_15.png\n"
     ]
    },
    {
     "name": "stderr",
     "output_type": "stream",
     "text": [
      " 56%|█████▌    | 244/439 [01:02<00:47,  4.06it/s]"
     ]
    },
    {
     "name": "stdout",
     "output_type": "stream",
     "text": [
      "24328780_15.png\n",
      "24328780_15.png\n",
      "satimg/24328780_15.jpeg\n",
      "masksimg/24328780_15.png\n",
      "train/24328780_15.jpeg\n",
      "train_annotation/24328780_15.png\n",
      "24328795_15.png\n",
      "24328795_15.png\n",
      "satimg/24328795_15.jpeg\n",
      "masksimg/24328795_15.png\n",
      "train/24328795_15.jpeg\n",
      "train_annotation/24328795_15.png\n"
     ]
    },
    {
     "name": "stderr",
     "output_type": "stream",
     "text": [
      "\r",
      " 56%|█████▌    | 245/439 [01:03<00:46,  4.21it/s]"
     ]
    },
    {
     "name": "stdout",
     "output_type": "stream",
     "text": [
      "24328825_15.png\n",
      "24328825_15.png\n",
      "satimg/24328825_15.jpeg\n",
      "masksimg/24328825_15.png\n",
      "train/24328825_15.jpeg\n",
      "train_annotation/24328825_15.png\n"
     ]
    },
    {
     "name": "stderr",
     "output_type": "stream",
     "text": [
      "\r",
      " 56%|█████▌    | 246/439 [01:03<00:45,  4.25it/s]"
     ]
    },
    {
     "name": "stdout",
     "output_type": "stream",
     "text": [
      "24328840_15.png\n",
      "24328840_15.png\n",
      "satimg/24328840_15.jpeg\n",
      "masksimg/24328840_15.png\n",
      "validation/24328840_15.jpeg\n",
      "validation_annotation/24328840_15.png\n"
     ]
    },
    {
     "name": "stderr",
     "output_type": "stream",
     "text": [
      "\r",
      " 56%|█████▋    | 247/439 [01:03<00:47,  4.02it/s]"
     ]
    },
    {
     "name": "stdout",
     "output_type": "stream",
     "text": [
      "24328855_15.png\n",
      "24328855_15.png\n",
      "satimg/24328855_15.jpeg\n",
      "masksimg/24328855_15.png\n",
      "train/24328855_15.jpeg\n",
      "train_annotation/24328855_15.png\n"
     ]
    },
    {
     "name": "stderr",
     "output_type": "stream",
     "text": [
      "\r",
      " 56%|█████▋    | 248/439 [01:03<00:48,  3.91it/s]"
     ]
    },
    {
     "name": "stdout",
     "output_type": "stream",
     "text": [
      "24328870_15.png\n",
      "24328870_15.png\n",
      "satimg/24328870_15.jpeg\n",
      "masksimg/24328870_15.png\n",
      "train/24328870_15.jpeg\n",
      "train_annotation/24328870_15.png\n"
     ]
    },
    {
     "name": "stderr",
     "output_type": "stream",
     "text": [
      "\r",
      " 57%|█████▋    | 249/439 [01:04<00:53,  3.53it/s]"
     ]
    },
    {
     "name": "stdout",
     "output_type": "stream",
     "text": [
      "24328885_15.png\n",
      "24328885_15.png\n",
      "satimg/24328885_15.jpeg\n",
      "masksimg/24328885_15.png\n",
      "validation/24328885_15.jpeg\n",
      "validation_annotation/24328885_15.png\n"
     ]
    },
    {
     "name": "stderr",
     "output_type": "stream",
     "text": [
      "\r",
      " 57%|█████▋    | 250/439 [01:04<00:49,  3.82it/s]"
     ]
    },
    {
     "name": "stdout",
     "output_type": "stream",
     "text": [
      "24329005_15.png\n",
      "24329005_15.png\n",
      "satimg/24329005_15.jpeg\n",
      "masksimg/24329005_15.png\n",
      "validation/24329005_15.jpeg\n",
      "validation_annotation/24329005_15.png\n"
     ]
    },
    {
     "name": "stderr",
     "output_type": "stream",
     "text": [
      "\r",
      " 57%|█████▋    | 251/439 [01:04<00:48,  3.85it/s]"
     ]
    },
    {
     "name": "stdout",
     "output_type": "stream",
     "text": [
      "24329020_15.png\n",
      "24329020_15.png\n",
      "satimg/24329020_15.jpeg\n",
      "masksimg/24329020_15.png\n",
      "train/24329020_15.jpeg\n",
      "train_annotation/24329020_15.png\n"
     ]
    },
    {
     "name": "stderr",
     "output_type": "stream",
     "text": [
      "\r",
      " 57%|█████▋    | 252/439 [01:05<00:48,  3.87it/s]"
     ]
    },
    {
     "name": "stdout",
     "output_type": "stream",
     "text": [
      "24329035_15.png\n",
      "24329035_15.png\n",
      "satimg/24329035_15.jpeg\n",
      "masksimg/24329035_15.png\n",
      "train/24329035_15.jpeg\n",
      "train_annotation/24329035_15.png\n"
     ]
    },
    {
     "name": "stderr",
     "output_type": "stream",
     "text": [
      "\r",
      " 58%|█████▊    | 253/439 [01:05<00:53,  3.50it/s]"
     ]
    },
    {
     "name": "stdout",
     "output_type": "stream",
     "text": [
      "24329050_15.png\n",
      "24329050_15.png\n",
      "satimg/24329050_15.jpeg\n",
      "masksimg/24329050_15.png\n",
      "validation/24329050_15.jpeg\n",
      "validation_annotation/24329050_15.png\n"
     ]
    },
    {
     "name": "stderr",
     "output_type": "stream",
     "text": [
      "\r",
      " 58%|█████▊    | 254/439 [01:05<00:48,  3.81it/s]"
     ]
    },
    {
     "name": "stdout",
     "output_type": "stream",
     "text": [
      "24329095_15.png\n",
      "24329095_15.png\n",
      "satimg/24329095_15.jpeg\n",
      "masksimg/24329095_15.png\n",
      "train/24329095_15.jpeg\n",
      "train_annotation/24329095_15.png\n"
     ]
    },
    {
     "name": "stderr",
     "output_type": "stream",
     "text": [
      " 58%|█████▊    | 256/439 [01:05<00:40,  4.56it/s]"
     ]
    },
    {
     "name": "stdout",
     "output_type": "stream",
     "text": [
      "24329110_15.png\n",
      "24329110_15.png\n",
      "satimg/24329110_15.jpeg\n",
      "masksimg/24329110_15.png\n",
      "train/24329110_15.jpeg\n",
      "train_annotation/24329110_15.png\n",
      "24329155_15.png\n",
      "24329155_15.png\n",
      "satimg/24329155_15.jpeg\n",
      "masksimg/24329155_15.png\n",
      "validation/24329155_15.jpeg\n",
      "validation_annotation/24329155_15.png\n"
     ]
    },
    {
     "name": "stderr",
     "output_type": "stream",
     "text": [
      " 59%|█████▉    | 258/439 [01:06<00:38,  4.76it/s]"
     ]
    },
    {
     "name": "stdout",
     "output_type": "stream",
     "text": [
      "24329170_15.png\n",
      "24329170_15.png\n",
      "satimg/24329170_15.jpeg\n",
      "masksimg/24329170_15.png\n",
      "train/24329170_15.jpeg\n",
      "train_annotation/24329170_15.png\n",
      "24329185_15.png\n",
      "24329185_15.png\n",
      "satimg/24329185_15.jpeg\n",
      "masksimg/24329185_15.png\n",
      "train/24329185_15.jpeg\n",
      "train_annotation/24329185_15.png\n"
     ]
    },
    {
     "name": "stderr",
     "output_type": "stream",
     "text": [
      "\r",
      " 59%|█████▉    | 259/439 [01:06<00:37,  4.86it/s]"
     ]
    },
    {
     "name": "stdout",
     "output_type": "stream",
     "text": [
      "24329200_15.png\n",
      "24329200_15.png\n",
      "satimg/24329200_15.jpeg\n",
      "masksimg/24329200_15.png\n",
      "train/24329200_15.jpeg\n",
      "train_annotation/24329200_15.png\n"
     ]
    },
    {
     "name": "stderr",
     "output_type": "stream",
     "text": [
      "\r",
      " 59%|█████▉    | 260/439 [01:06<00:41,  4.31it/s]"
     ]
    },
    {
     "name": "stdout",
     "output_type": "stream",
     "text": [
      "24329215_15.png\n",
      "24329215_15.png\n",
      "satimg/24329215_15.jpeg\n",
      "masksimg/24329215_15.png\n",
      "train/24329215_15.jpeg\n",
      "train_annotation/24329215_15.png\n"
     ]
    },
    {
     "name": "stderr",
     "output_type": "stream",
     "text": [
      "\r",
      " 59%|█████▉    | 261/439 [01:07<00:40,  4.39it/s]"
     ]
    },
    {
     "name": "stdout",
     "output_type": "stream",
     "text": [
      "24329230_15.png\n",
      "24329230_15.png\n",
      "satimg/24329230_15.jpeg\n",
      "masksimg/24329230_15.png\n",
      "train/24329230_15.jpeg\n",
      "train_annotation/24329230_15.png\n"
     ]
    },
    {
     "name": "stderr",
     "output_type": "stream",
     "text": [
      "\r",
      " 60%|█████▉    | 262/439 [01:07<00:42,  4.19it/s]"
     ]
    },
    {
     "name": "stdout",
     "output_type": "stream",
     "text": [
      "24329245_15.png\n",
      "24329245_15.png\n",
      "satimg/24329245_15.jpeg\n",
      "masksimg/24329245_15.png\n",
      "train/24329245_15.jpeg\n",
      "train_annotation/24329245_15.png\n"
     ]
    },
    {
     "name": "stderr",
     "output_type": "stream",
     "text": [
      "\r",
      " 60%|█████▉    | 263/439 [01:07<00:40,  4.31it/s]"
     ]
    },
    {
     "name": "stdout",
     "output_type": "stream",
     "text": [
      "24329260_15.png\n",
      "24329260_15.png\n",
      "satimg/24329260_15.jpeg\n",
      "masksimg/24329260_15.png\n",
      "train/24329260_15.jpeg\n",
      "train_annotation/24329260_15.png\n"
     ]
    },
    {
     "name": "stderr",
     "output_type": "stream",
     "text": [
      " 60%|██████    | 265/439 [01:08<00:42,  4.11it/s]"
     ]
    },
    {
     "name": "stdout",
     "output_type": "stream",
     "text": [
      "24329275_15.png\n",
      "24329275_15.png\n",
      "satimg/24329275_15.jpeg\n",
      "masksimg/24329275_15.png\n",
      "train/24329275_15.jpeg\n",
      "train_annotation/24329275_15.png\n",
      "24478765_15.png\n",
      "24478765_15.png\n",
      "satimg/24478765_15.jpeg\n",
      "masksimg/24478765_15.png\n",
      "train/24478765_15.jpeg\n",
      "train_annotation/24478765_15.png\n"
     ]
    },
    {
     "name": "stderr",
     "output_type": "stream",
     "text": [
      "\r",
      " 61%|██████    | 266/439 [01:08<00:38,  4.47it/s]"
     ]
    },
    {
     "name": "stdout",
     "output_type": "stream",
     "text": [
      "24478780_15.png\n",
      "24478780_15.png\n",
      "satimg/24478780_15.jpeg\n",
      "masksimg/24478780_15.png\n",
      "train/24478780_15.jpeg\n",
      "train_annotation/24478780_15.png\n"
     ]
    },
    {
     "name": "stderr",
     "output_type": "stream",
     "text": [
      "\r",
      " 61%|██████    | 267/439 [01:08<00:38,  4.41it/s]"
     ]
    },
    {
     "name": "stdout",
     "output_type": "stream",
     "text": [
      "24478795_15.png\n",
      "24478795_15.png\n",
      "satimg/24478795_15.jpeg\n",
      "masksimg/24478795_15.png\n",
      "train/24478795_15.jpeg\n",
      "train_annotation/24478795_15.png\n"
     ]
    },
    {
     "name": "stderr",
     "output_type": "stream",
     "text": [
      "\r",
      " 61%|██████    | 268/439 [01:08<00:47,  3.61it/s]"
     ]
    },
    {
     "name": "stdout",
     "output_type": "stream",
     "text": [
      "24478810_15.png\n",
      "24478810_15.png\n",
      "satimg/24478810_15.jpeg\n",
      "masksimg/24478810_15.png\n",
      "train/24478810_15.jpeg\n",
      "train_annotation/24478810_15.png\n"
     ]
    },
    {
     "name": "stderr",
     "output_type": "stream",
     "text": [
      "\r",
      " 61%|██████▏   | 269/439 [01:09<00:52,  3.24it/s]"
     ]
    },
    {
     "name": "stdout",
     "output_type": "stream",
     "text": [
      "24478840_15.png\n",
      "24478840_15.png\n",
      "satimg/24478840_15.jpeg\n",
      "masksimg/24478840_15.png\n",
      "train/24478840_15.jpeg\n",
      "train_annotation/24478840_15.png\n"
     ]
    },
    {
     "name": "stderr",
     "output_type": "stream",
     "text": [
      "\r",
      " 62%|██████▏   | 270/439 [01:09<00:48,  3.50it/s]"
     ]
    },
    {
     "name": "stdout",
     "output_type": "stream",
     "text": [
      "24478870_15.png\n",
      "24478870_15.png\n",
      "satimg/24478870_15.jpeg\n",
      "masksimg/24478870_15.png\n",
      "train/24478870_15.jpeg\n",
      "train_annotation/24478870_15.png\n"
     ]
    },
    {
     "name": "stderr",
     "output_type": "stream",
     "text": [
      "\r",
      " 62%|██████▏   | 271/439 [01:09<00:45,  3.72it/s]"
     ]
    },
    {
     "name": "stdout",
     "output_type": "stream",
     "text": [
      "24478885_15.png\n",
      "24478885_15.png\n",
      "satimg/24478885_15.jpeg\n",
      "masksimg/24478885_15.png\n",
      "train/24478885_15.jpeg\n",
      "train_annotation/24478885_15.png\n"
     ]
    },
    {
     "name": "stderr",
     "output_type": "stream",
     "text": [
      " 62%|██████▏   | 273/439 [01:10<00:37,  4.40it/s]"
     ]
    },
    {
     "name": "stdout",
     "output_type": "stream",
     "text": [
      "24478900_15.png\n",
      "24478900_15.png\n",
      "satimg/24478900_15.jpeg\n",
      "masksimg/24478900_15.png\n",
      "train/24478900_15.jpeg\n",
      "train_annotation/24478900_15.png\n",
      "24478990_15.png\n",
      "24478990_15.png\n",
      "satimg/24478990_15.jpeg\n",
      "masksimg/24478990_15.png\n",
      "train/24478990_15.jpeg\n",
      "train_annotation/24478990_15.png\n"
     ]
    },
    {
     "name": "stderr",
     "output_type": "stream",
     "text": [
      "\r",
      " 62%|██████▏   | 274/439 [01:10<00:34,  4.79it/s]"
     ]
    },
    {
     "name": "stdout",
     "output_type": "stream",
     "text": [
      "24479005_15.png\n",
      "24479005_15.png\n",
      "satimg/24479005_15.jpeg\n",
      "masksimg/24479005_15.png\n",
      "train/24479005_15.jpeg\n",
      "train_annotation/24479005_15.png\n"
     ]
    },
    {
     "name": "stderr",
     "output_type": "stream",
     "text": [
      "\r",
      " 63%|██████▎   | 275/439 [01:10<00:35,  4.57it/s]"
     ]
    },
    {
     "name": "stdout",
     "output_type": "stream",
     "text": [
      "24479095_15.png\n",
      "24479095_15.png\n",
      "satimg/24479095_15.jpeg\n",
      "masksimg/24479095_15.png\n",
      "train/24479095_15.jpeg\n",
      "train_annotation/24479095_15.png\n"
     ]
    },
    {
     "name": "stderr",
     "output_type": "stream",
     "text": [
      " 63%|██████▎   | 277/439 [01:10<00:32,  4.92it/s]"
     ]
    },
    {
     "name": "stdout",
     "output_type": "stream",
     "text": [
      "24479110_15.png\n",
      "24479110_15.png\n",
      "satimg/24479110_15.jpeg\n",
      "masksimg/24479110_15.png\n",
      "train/24479110_15.jpeg\n",
      "train_annotation/24479110_15.png\n",
      "24479155_15.png\n",
      "24479155_15.png\n",
      "satimg/24479155_15.jpeg\n",
      "masksimg/24479155_15.png\n",
      "validation/24479155_15.jpeg\n",
      "validation_annotation/24479155_15.png\n"
     ]
    },
    {
     "name": "stderr",
     "output_type": "stream",
     "text": [
      "\r",
      " 63%|██████▎   | 278/439 [01:11<00:32,  4.96it/s]"
     ]
    },
    {
     "name": "stdout",
     "output_type": "stream",
     "text": [
      "24479185_15.png\n",
      "24479185_15.png\n",
      "satimg/24479185_15.jpeg\n",
      "masksimg/24479185_15.png\n",
      "validation/24479185_15.jpeg\n",
      "validation_annotation/24479185_15.png\n"
     ]
    },
    {
     "name": "stderr",
     "output_type": "stream",
     "text": [
      "\r",
      " 64%|██████▎   | 279/439 [01:11<00:34,  4.61it/s]"
     ]
    },
    {
     "name": "stdout",
     "output_type": "stream",
     "text": [
      "24479200_15.png\n",
      "24479200_15.png\n",
      "satimg/24479200_15.jpeg\n",
      "masksimg/24479200_15.png\n",
      "train/24479200_15.jpeg\n",
      "train_annotation/24479200_15.png\n"
     ]
    },
    {
     "name": "stderr",
     "output_type": "stream",
     "text": [
      " 64%|██████▍   | 281/439 [01:11<00:33,  4.78it/s]"
     ]
    },
    {
     "name": "stdout",
     "output_type": "stream",
     "text": [
      "24479230_15.png\n",
      "24479230_15.png\n",
      "satimg/24479230_15.jpeg\n",
      "masksimg/24479230_15.png\n",
      "train/24479230_15.jpeg\n",
      "train_annotation/24479230_15.png\n",
      "24479245_15.png\n",
      "24479245_15.png\n",
      "satimg/24479245_15.jpeg\n",
      "masksimg/24479245_15.png\n",
      "train/24479245_15.jpeg\n",
      "train_annotation/24479245_15.png\n"
     ]
    },
    {
     "name": "stderr",
     "output_type": "stream",
     "text": [
      "\r",
      " 64%|██████▍   | 282/439 [01:11<00:32,  4.84it/s]"
     ]
    },
    {
     "name": "stdout",
     "output_type": "stream",
     "text": [
      "24479260_15.png\n",
      "24479260_15.png\n",
      "satimg/24479260_15.jpeg\n",
      "masksimg/24479260_15.png\n",
      "train/24479260_15.jpeg\n",
      "train_annotation/24479260_15.png\n"
     ]
    },
    {
     "name": "stderr",
     "output_type": "stream",
     "text": [
      "\r",
      " 64%|██████▍   | 283/439 [01:12<00:33,  4.62it/s]"
     ]
    },
    {
     "name": "stdout",
     "output_type": "stream",
     "text": [
      "24479275_15.png\n",
      "24479275_15.png\n",
      "satimg/24479275_15.jpeg\n",
      "masksimg/24479275_15.png\n",
      "train/24479275_15.jpeg\n",
      "train_annotation/24479275_15.png\n"
     ]
    },
    {
     "name": "stderr",
     "output_type": "stream",
     "text": [
      " 65%|██████▍   | 285/439 [01:12<00:31,  4.87it/s]"
     ]
    },
    {
     "name": "stdout",
     "output_type": "stream",
     "text": [
      "24479290_15.png\n",
      "24479290_15.png\n",
      "satimg/24479290_15.jpeg\n",
      "masksimg/24479290_15.png\n",
      "train/24479290_15.jpeg\n",
      "train_annotation/24479290_15.png\n",
      "24628780_15.png\n",
      "24628780_15.png\n",
      "satimg/24628780_15.jpeg\n",
      "masksimg/24628780_15.png\n",
      "train/24628780_15.jpeg\n",
      "train_annotation/24628780_15.png\n"
     ]
    },
    {
     "name": "stderr",
     "output_type": "stream",
     "text": [
      "\r",
      " 65%|██████▌   | 286/439 [01:12<00:34,  4.43it/s]"
     ]
    },
    {
     "name": "stdout",
     "output_type": "stream",
     "text": [
      "24628795_15.png\n",
      "24628795_15.png\n",
      "satimg/24628795_15.jpeg\n",
      "masksimg/24628795_15.png\n",
      "train/24628795_15.jpeg\n",
      "train_annotation/24628795_15.png\n"
     ]
    },
    {
     "name": "stderr",
     "output_type": "stream",
     "text": [
      "\r",
      " 65%|██████▌   | 287/439 [01:13<00:39,  3.89it/s]"
     ]
    },
    {
     "name": "stdout",
     "output_type": "stream",
     "text": [
      "24628810_15.png\n",
      "24628810_15.png\n",
      "satimg/24628810_15.jpeg\n",
      "masksimg/24628810_15.png\n",
      "validation/24628810_15.jpeg\n",
      "validation_annotation/24628810_15.png\n"
     ]
    },
    {
     "name": "stderr",
     "output_type": "stream",
     "text": [
      "\r",
      " 66%|██████▌   | 288/439 [01:13<00:36,  4.16it/s]"
     ]
    },
    {
     "name": "stdout",
     "output_type": "stream",
     "text": [
      "24628825_15.png\n",
      "24628825_15.png\n",
      "satimg/24628825_15.jpeg\n",
      "masksimg/24628825_15.png\n",
      "validation/24628825_15.jpeg\n",
      "validation_annotation/24628825_15.png\n"
     ]
    },
    {
     "name": "stderr",
     "output_type": "stream",
     "text": [
      "\r",
      " 66%|██████▌   | 289/439 [01:13<00:37,  3.98it/s]"
     ]
    },
    {
     "name": "stdout",
     "output_type": "stream",
     "text": [
      "24628840_15.png\n",
      "24628840_15.png\n",
      "satimg/24628840_15.jpeg\n",
      "masksimg/24628840_15.png\n",
      "validation/24628840_15.jpeg\n",
      "validation_annotation/24628840_15.png\n"
     ]
    },
    {
     "name": "stderr",
     "output_type": "stream",
     "text": [
      "\r",
      " 66%|██████▌   | 290/439 [01:13<00:41,  3.63it/s]"
     ]
    },
    {
     "name": "stdout",
     "output_type": "stream",
     "text": [
      "24628855_15.png\n",
      "24628855_15.png\n",
      "satimg/24628855_15.jpeg\n",
      "masksimg/24628855_15.png\n",
      "train/24628855_15.jpeg\n",
      "train_annotation/24628855_15.png\n"
     ]
    },
    {
     "name": "stderr",
     "output_type": "stream",
     "text": [
      "\r",
      " 66%|██████▋   | 291/439 [01:14<00:42,  3.45it/s]"
     ]
    },
    {
     "name": "stdout",
     "output_type": "stream",
     "text": [
      "24628870_15.png\n",
      "24628870_15.png\n",
      "satimg/24628870_15.jpeg\n",
      "masksimg/24628870_15.png\n",
      "validation/24628870_15.jpeg\n",
      "validation_annotation/24628870_15.png\n"
     ]
    },
    {
     "name": "stderr",
     "output_type": "stream",
     "text": [
      "\r",
      " 67%|██████▋   | 292/439 [01:14<00:38,  3.80it/s]"
     ]
    },
    {
     "name": "stdout",
     "output_type": "stream",
     "text": [
      "24628900_15.png\n",
      "24628900_15.png\n",
      "satimg/24628900_15.jpeg\n",
      "masksimg/24628900_15.png\n",
      "train/24628900_15.jpeg\n",
      "train_annotation/24628900_15.png\n"
     ]
    },
    {
     "name": "stderr",
     "output_type": "stream",
     "text": [
      "\r",
      " 67%|██████▋   | 293/439 [01:14<00:37,  3.91it/s]"
     ]
    },
    {
     "name": "stdout",
     "output_type": "stream",
     "text": [
      "24629155_15.png\n",
      "24629155_15.png\n",
      "satimg/24629155_15.jpeg\n",
      "masksimg/24629155_15.png\n",
      "train/24629155_15.jpeg\n",
      "train_annotation/24629155_15.png\n"
     ]
    },
    {
     "name": "stderr",
     "output_type": "stream",
     "text": [
      "\r",
      " 67%|██████▋   | 294/439 [01:15<00:40,  3.62it/s]"
     ]
    },
    {
     "name": "stdout",
     "output_type": "stream",
     "text": [
      "24629170_15.png\n",
      "24629170_15.png\n",
      "satimg/24629170_15.jpeg\n",
      "masksimg/24629170_15.png\n",
      "train/24629170_15.jpeg\n",
      "train_annotation/24629170_15.png\n"
     ]
    },
    {
     "name": "stderr",
     "output_type": "stream",
     "text": [
      "\r",
      " 67%|██████▋   | 295/439 [01:15<00:37,  3.82it/s]"
     ]
    },
    {
     "name": "stdout",
     "output_type": "stream",
     "text": [
      "24629185_15.png\n",
      "24629185_15.png\n",
      "satimg/24629185_15.jpeg\n",
      "masksimg/24629185_15.png\n",
      "validation/24629185_15.jpeg\n",
      "validation_annotation/24629185_15.png\n"
     ]
    },
    {
     "name": "stderr",
     "output_type": "stream",
     "text": [
      "\r",
      " 67%|██████▋   | 296/439 [01:15<00:37,  3.81it/s]"
     ]
    },
    {
     "name": "stdout",
     "output_type": "stream",
     "text": [
      "24629215_15.png\n",
      "24629215_15.png\n",
      "satimg/24629215_15.jpeg\n",
      "masksimg/24629215_15.png\n",
      "train/24629215_15.jpeg\n",
      "train_annotation/24629215_15.png\n"
     ]
    },
    {
     "name": "stderr",
     "output_type": "stream",
     "text": [
      "\r",
      " 68%|██████▊   | 297/439 [01:16<00:47,  3.01it/s]"
     ]
    },
    {
     "name": "stdout",
     "output_type": "stream",
     "text": [
      "24629230_15.png\n",
      "24629230_15.png\n",
      "satimg/24629230_15.jpeg\n",
      "masksimg/24629230_15.png\n",
      "validation/24629230_15.jpeg\n",
      "validation_annotation/24629230_15.png\n"
     ]
    },
    {
     "name": "stderr",
     "output_type": "stream",
     "text": [
      "\r",
      " 68%|██████▊   | 298/439 [01:16<00:44,  3.16it/s]"
     ]
    },
    {
     "name": "stdout",
     "output_type": "stream",
     "text": [
      "24629245_15.png\n",
      "24629245_15.png\n",
      "satimg/24629245_15.jpeg\n",
      "masksimg/24629245_15.png\n",
      "train/24629245_15.jpeg\n",
      "train_annotation/24629245_15.png\n"
     ]
    },
    {
     "name": "stderr",
     "output_type": "stream",
     "text": [
      "\r",
      " 68%|██████▊   | 299/439 [01:16<00:41,  3.34it/s]"
     ]
    },
    {
     "name": "stdout",
     "output_type": "stream",
     "text": [
      "24629260_15.png\n",
      "24629260_15.png\n",
      "satimg/24629260_15.jpeg\n",
      "masksimg/24629260_15.png\n",
      "validation/24629260_15.jpeg\n",
      "validation_annotation/24629260_15.png\n"
     ]
    },
    {
     "name": "stderr",
     "output_type": "stream",
     "text": [
      "\r",
      " 68%|██████▊   | 300/439 [01:16<00:38,  3.58it/s]"
     ]
    },
    {
     "name": "stdout",
     "output_type": "stream",
     "text": [
      "24629275_15.png\n",
      "24629275_15.png\n",
      "satimg/24629275_15.jpeg\n",
      "masksimg/24629275_15.png\n",
      "train/24629275_15.jpeg\n",
      "train_annotation/24629275_15.png\n"
     ]
    },
    {
     "name": "stderr",
     "output_type": "stream",
     "text": [
      "\r",
      " 69%|██████▊   | 301/439 [01:17<00:42,  3.23it/s]"
     ]
    },
    {
     "name": "stdout",
     "output_type": "stream",
     "text": [
      "24629290_15.png\n",
      "24629290_15.png\n",
      "satimg/24629290_15.jpeg\n",
      "masksimg/24629290_15.png\n",
      "train/24629290_15.jpeg\n",
      "train_annotation/24629290_15.png\n"
     ]
    },
    {
     "name": "stderr",
     "output_type": "stream",
     "text": [
      " 69%|██████▉   | 303/439 [01:17<00:36,  3.75it/s]"
     ]
    },
    {
     "name": "stdout",
     "output_type": "stream",
     "text": [
      "24629305_15.png\n",
      "24629305_15.png\n",
      "satimg/24629305_15.jpeg\n",
      "masksimg/24629305_15.png\n",
      "train/24629305_15.jpeg\n",
      "train_annotation/24629305_15.png\n",
      "24778780_15.png\n",
      "24778780_15.png\n",
      "satimg/24778780_15.jpeg\n",
      "masksimg/24778780_15.png\n",
      "validation/24778780_15.jpeg\n",
      "validation_annotation/24778780_15.png\n"
     ]
    },
    {
     "name": "stderr",
     "output_type": "stream",
     "text": [
      "\r",
      " 69%|██████▉   | 304/439 [01:18<00:39,  3.46it/s]"
     ]
    },
    {
     "name": "stdout",
     "output_type": "stream",
     "text": [
      "24778795_15.png\n",
      "24778795_15.png\n",
      "satimg/24778795_15.jpeg\n",
      "masksimg/24778795_15.png\n",
      "train/24778795_15.jpeg\n",
      "train_annotation/24778795_15.png\n"
     ]
    },
    {
     "name": "stderr",
     "output_type": "stream",
     "text": [
      "\r",
      " 69%|██████▉   | 305/439 [01:18<00:41,  3.21it/s]"
     ]
    },
    {
     "name": "stdout",
     "output_type": "stream",
     "text": [
      "24778810_15.png\n",
      "24778810_15.png\n",
      "satimg/24778810_15.jpeg\n",
      "masksimg/24778810_15.png\n",
      "train/24778810_15.jpeg\n",
      "train_annotation/24778810_15.png\n"
     ]
    },
    {
     "name": "stderr",
     "output_type": "stream",
     "text": [
      "\r",
      " 70%|██████▉   | 306/439 [01:18<00:43,  3.06it/s]"
     ]
    },
    {
     "name": "stdout",
     "output_type": "stream",
     "text": [
      "24778825_15.png\n",
      "24778825_15.png\n",
      "satimg/24778825_15.jpeg\n",
      "masksimg/24778825_15.png\n",
      "train/24778825_15.jpeg\n",
      "train_annotation/24778825_15.png\n"
     ]
    },
    {
     "name": "stderr",
     "output_type": "stream",
     "text": [
      " 70%|███████   | 308/439 [01:19<00:33,  3.90it/s]"
     ]
    },
    {
     "name": "stdout",
     "output_type": "stream",
     "text": [
      "24778840_15.png\n",
      "24778840_15.png\n",
      "satimg/24778840_15.jpeg\n",
      "masksimg/24778840_15.png\n",
      "validation/24778840_15.jpeg\n",
      "validation_annotation/24778840_15.png\n",
      "24778855_15.png\n",
      "24778855_15.png\n",
      "satimg/24778855_15.jpeg\n",
      "masksimg/24778855_15.png\n",
      "train/24778855_15.jpeg\n",
      "train_annotation/24778855_15.png\n"
     ]
    },
    {
     "name": "stderr",
     "output_type": "stream",
     "text": [
      "\r",
      " 70%|███████   | 309/439 [01:19<00:31,  4.18it/s]"
     ]
    },
    {
     "name": "stdout",
     "output_type": "stream",
     "text": [
      "24778870_15.png\n",
      "24778870_15.png\n",
      "satimg/24778870_15.jpeg\n",
      "masksimg/24778870_15.png\n",
      "train/24778870_15.jpeg\n",
      "train_annotation/24778870_15.png\n"
     ]
    },
    {
     "name": "stderr",
     "output_type": "stream",
     "text": [
      "\r",
      " 71%|███████   | 310/439 [01:19<00:33,  3.88it/s]"
     ]
    },
    {
     "name": "stdout",
     "output_type": "stream",
     "text": [
      "24778885_15.png\n",
      "24778885_15.png\n",
      "satimg/24778885_15.jpeg\n",
      "masksimg/24778885_15.png\n",
      "validation/24778885_15.jpeg\n",
      "validation_annotation/24778885_15.png\n"
     ]
    },
    {
     "name": "stderr",
     "output_type": "stream",
     "text": [
      "\r",
      " 71%|███████   | 311/439 [01:19<00:31,  4.00it/s]"
     ]
    },
    {
     "name": "stdout",
     "output_type": "stream",
     "text": [
      "24778900_15.png\n",
      "24778900_15.png\n",
      "satimg/24778900_15.jpeg\n",
      "masksimg/24778900_15.png\n",
      "train/24778900_15.jpeg\n",
      "train_annotation/24778900_15.png\n"
     ]
    },
    {
     "name": "stderr",
     "output_type": "stream",
     "text": [
      " 71%|███████▏  | 313/439 [01:20<00:28,  4.36it/s]"
     ]
    },
    {
     "name": "stdout",
     "output_type": "stream",
     "text": [
      "24778915_15.png\n",
      "24778915_15.png\n",
      "satimg/24778915_15.jpeg\n",
      "masksimg/24778915_15.png\n",
      "train/24778915_15.jpeg\n",
      "train_annotation/24778915_15.png\n",
      "24779155_15.png\n",
      "24779155_15.png\n",
      "satimg/24779155_15.jpeg\n",
      "masksimg/24779155_15.png\n",
      "train/24779155_15.jpeg\n",
      "train_annotation/24779155_15.png\n"
     ]
    },
    {
     "name": "stderr",
     "output_type": "stream",
     "text": [
      "\r",
      " 72%|███████▏  | 314/439 [01:20<00:28,  4.45it/s]"
     ]
    },
    {
     "name": "stdout",
     "output_type": "stream",
     "text": [
      "24779170_15.png\n",
      "24779170_15.png\n",
      "satimg/24779170_15.jpeg\n",
      "masksimg/24779170_15.png\n",
      "train/24779170_15.jpeg\n",
      "train_annotation/24779170_15.png\n"
     ]
    },
    {
     "name": "stderr",
     "output_type": "stream",
     "text": [
      "\r",
      " 72%|███████▏  | 315/439 [01:20<00:28,  4.29it/s]"
     ]
    },
    {
     "name": "stdout",
     "output_type": "stream",
     "text": [
      "24779185_15.png\n",
      "24779185_15.png\n",
      "satimg/24779185_15.jpeg\n",
      "masksimg/24779185_15.png\n",
      "train/24779185_15.jpeg\n",
      "train_annotation/24779185_15.png\n"
     ]
    },
    {
     "name": "stderr",
     "output_type": "stream",
     "text": [
      "\r",
      " 72%|███████▏  | 316/439 [01:21<00:31,  3.93it/s]"
     ]
    },
    {
     "name": "stdout",
     "output_type": "stream",
     "text": [
      "24779200_15.png\n",
      "24779200_15.png\n",
      "satimg/24779200_15.jpeg\n",
      "masksimg/24779200_15.png\n",
      "train/24779200_15.jpeg\n",
      "train_annotation/24779200_15.png\n"
     ]
    },
    {
     "name": "stderr",
     "output_type": "stream",
     "text": [
      "\r",
      " 72%|███████▏  | 317/439 [01:21<00:31,  3.88it/s]"
     ]
    },
    {
     "name": "stdout",
     "output_type": "stream",
     "text": [
      "24779215_15.png\n",
      "24779215_15.png\n",
      "satimg/24779215_15.jpeg\n",
      "masksimg/24779215_15.png\n",
      "validation/24779215_15.jpeg\n",
      "validation_annotation/24779215_15.png\n"
     ]
    },
    {
     "name": "stderr",
     "output_type": "stream",
     "text": [
      "\r",
      " 72%|███████▏  | 318/439 [01:21<00:29,  4.11it/s]"
     ]
    },
    {
     "name": "stdout",
     "output_type": "stream",
     "text": [
      "24779230_15.png\n",
      "24779230_15.png\n",
      "satimg/24779230_15.jpeg\n",
      "masksimg/24779230_15.png\n",
      "train/24779230_15.jpeg\n",
      "train_annotation/24779230_15.png\n"
     ]
    },
    {
     "name": "stderr",
     "output_type": "stream",
     "text": [
      "\r",
      " 73%|███████▎  | 319/439 [01:21<00:29,  4.10it/s]"
     ]
    },
    {
     "name": "stdout",
     "output_type": "stream",
     "text": [
      "24779245_15.png\n",
      "24779245_15.png\n",
      "satimg/24779245_15.jpeg\n",
      "masksimg/24779245_15.png\n",
      "train/24779245_15.jpeg\n",
      "train_annotation/24779245_15.png\n"
     ]
    },
    {
     "name": "stderr",
     "output_type": "stream",
     "text": [
      "\r",
      " 73%|███████▎  | 320/439 [01:22<00:29,  4.05it/s]"
     ]
    },
    {
     "name": "stdout",
     "output_type": "stream",
     "text": [
      "24779260_15.png\n",
      "24779260_15.png\n",
      "satimg/24779260_15.jpeg\n",
      "masksimg/24779260_15.png\n",
      "train/24779260_15.jpeg\n",
      "train_annotation/24779260_15.png\n"
     ]
    },
    {
     "name": "stderr",
     "output_type": "stream",
     "text": [
      "\r",
      " 73%|███████▎  | 321/439 [01:22<00:28,  4.13it/s]"
     ]
    },
    {
     "name": "stdout",
     "output_type": "stream",
     "text": [
      "24779290_15.png\n",
      "24779290_15.png\n",
      "satimg/24779290_15.jpeg\n",
      "masksimg/24779290_15.png\n",
      "validation/24779290_15.jpeg\n",
      "validation_annotation/24779290_15.png\n"
     ]
    },
    {
     "name": "stderr",
     "output_type": "stream",
     "text": [
      " 74%|███████▎  | 323/439 [01:22<00:28,  4.05it/s]"
     ]
    },
    {
     "name": "stdout",
     "output_type": "stream",
     "text": [
      "24779305_15.png\n",
      "24779305_15.png\n",
      "satimg/24779305_15.jpeg\n",
      "masksimg/24779305_15.png\n",
      "validation/24779305_15.jpeg\n",
      "validation_annotation/24779305_15.png\n",
      "24928900_15.png\n",
      "24928900_15.png\n",
      "satimg/24928900_15.jpeg\n",
      "masksimg/24928900_15.png\n",
      "train/24928900_15.jpeg\n",
      "train_annotation/24928900_15.png\n"
     ]
    },
    {
     "name": "stderr",
     "output_type": "stream",
     "text": [
      "\r",
      " 74%|███████▍  | 324/439 [01:23<00:27,  4.13it/s]"
     ]
    },
    {
     "name": "stdout",
     "output_type": "stream",
     "text": [
      "24929155_15.png\n",
      "24929155_15.png\n",
      "satimg/24929155_15.jpeg\n",
      "masksimg/24929155_15.png\n",
      "train/24929155_15.jpeg\n",
      "train_annotation/24929155_15.png\n"
     ]
    },
    {
     "name": "stderr",
     "output_type": "stream",
     "text": [
      "\r",
      " 74%|███████▍  | 325/439 [01:23<00:27,  4.08it/s]"
     ]
    },
    {
     "name": "stdout",
     "output_type": "stream",
     "text": [
      "24929185_15.png\n",
      "24929185_15.png\n",
      "satimg/24929185_15.jpeg\n",
      "masksimg/24929185_15.png\n",
      "train/24929185_15.jpeg\n",
      "train_annotation/24929185_15.png\n"
     ]
    },
    {
     "name": "stderr",
     "output_type": "stream",
     "text": [
      "\r",
      " 74%|███████▍  | 326/439 [01:23<00:27,  4.13it/s]"
     ]
    },
    {
     "name": "stdout",
     "output_type": "stream",
     "text": [
      "24929200_15.png\n",
      "24929200_15.png\n",
      "satimg/24929200_15.jpeg\n",
      "masksimg/24929200_15.png\n",
      "train/24929200_15.jpeg\n",
      "train_annotation/24929200_15.png\n"
     ]
    },
    {
     "name": "stderr",
     "output_type": "stream",
     "text": [
      "\r",
      " 74%|███████▍  | 327/439 [01:23<00:30,  3.69it/s]"
     ]
    },
    {
     "name": "stdout",
     "output_type": "stream",
     "text": [
      "24929215_15.png\n",
      "24929215_15.png\n",
      "satimg/24929215_15.jpeg\n",
      "masksimg/24929215_15.png\n",
      "train/24929215_15.jpeg\n",
      "train_annotation/24929215_15.png\n"
     ]
    },
    {
     "name": "stderr",
     "output_type": "stream",
     "text": [
      "\r",
      " 75%|███████▍  | 328/439 [01:24<00:28,  3.83it/s]"
     ]
    },
    {
     "name": "stdout",
     "output_type": "stream",
     "text": [
      "24929230_15.png\n",
      "24929230_15.png\n",
      "satimg/24929230_15.jpeg\n",
      "masksimg/24929230_15.png\n",
      "validation/24929230_15.jpeg\n",
      "validation_annotation/24929230_15.png\n"
     ]
    },
    {
     "name": "stderr",
     "output_type": "stream",
     "text": [
      "\r",
      " 75%|███████▍  | 329/439 [01:24<00:29,  3.75it/s]"
     ]
    },
    {
     "name": "stdout",
     "output_type": "stream",
     "text": [
      "24929260_15.png\n",
      "24929260_15.png\n",
      "satimg/24929260_15.jpeg\n",
      "masksimg/24929260_15.png\n",
      "train/24929260_15.jpeg\n",
      "train_annotation/24929260_15.png\n"
     ]
    },
    {
     "name": "stderr",
     "output_type": "stream",
     "text": [
      "\r",
      " 75%|███████▌  | 330/439 [01:24<00:30,  3.55it/s]"
     ]
    },
    {
     "name": "stdout",
     "output_type": "stream",
     "text": [
      "24929275_15.png\n",
      "24929275_15.png\n",
      "satimg/24929275_15.jpeg\n",
      "masksimg/24929275_15.png\n",
      "train/24929275_15.jpeg\n",
      "train_annotation/24929275_15.png\n"
     ]
    },
    {
     "name": "stderr",
     "output_type": "stream",
     "text": [
      "\r",
      " 75%|███████▌  | 331/439 [01:24<00:28,  3.82it/s]"
     ]
    },
    {
     "name": "stdout",
     "output_type": "stream",
     "text": [
      "24929290_15.png\n",
      "24929290_15.png\n",
      "satimg/24929290_15.jpeg\n",
      "masksimg/24929290_15.png\n",
      "train/24929290_15.jpeg\n",
      "train_annotation/24929290_15.png\n"
     ]
    },
    {
     "name": "stderr",
     "output_type": "stream",
     "text": [
      "\r",
      " 76%|███████▌  | 332/439 [01:25<00:27,  3.93it/s]"
     ]
    },
    {
     "name": "stdout",
     "output_type": "stream",
     "text": [
      "25079155_15.png\n",
      "25079155_15.png\n",
      "satimg/25079155_15.jpeg\n",
      "masksimg/25079155_15.png\n",
      "validation/25079155_15.jpeg\n",
      "validation_annotation/25079155_15.png\n"
     ]
    },
    {
     "name": "stderr",
     "output_type": "stream",
     "text": [
      "\r",
      " 76%|███████▌  | 333/439 [01:25<00:28,  3.75it/s]"
     ]
    },
    {
     "name": "stdout",
     "output_type": "stream",
     "text": [
      "25079185_15.png\n",
      "25079185_15.png\n",
      "satimg/25079185_15.jpeg\n",
      "masksimg/25079185_15.png\n",
      "train/25079185_15.jpeg\n",
      "train_annotation/25079185_15.png\n"
     ]
    },
    {
     "name": "stderr",
     "output_type": "stream",
     "text": [
      "\r",
      " 76%|███████▌  | 334/439 [01:25<00:28,  3.66it/s]"
     ]
    },
    {
     "name": "stdout",
     "output_type": "stream",
     "text": [
      "25079200_15.png\n",
      "25079200_15.png\n",
      "satimg/25079200_15.jpeg\n",
      "masksimg/25079200_15.png\n",
      "train/25079200_15.jpeg\n",
      "train_annotation/25079200_15.png\n"
     ]
    },
    {
     "name": "stderr",
     "output_type": "stream",
     "text": [
      "\r",
      " 76%|███████▋  | 335/439 [01:25<00:27,  3.84it/s]"
     ]
    },
    {
     "name": "stdout",
     "output_type": "stream",
     "text": [
      "25079215_15.png\n",
      "25079215_15.png\n",
      "satimg/25079215_15.jpeg\n",
      "masksimg/25079215_15.png\n",
      "validation/25079215_15.jpeg\n",
      "validation_annotation/25079215_15.png\n"
     ]
    },
    {
     "name": "stderr",
     "output_type": "stream",
     "text": [
      "\r",
      " 77%|███████▋  | 336/439 [01:26<00:26,  3.91it/s]"
     ]
    },
    {
     "name": "stdout",
     "output_type": "stream",
     "text": [
      "25079230_15.png\n",
      "25079230_15.png\n",
      "satimg/25079230_15.jpeg\n",
      "masksimg/25079230_15.png\n",
      "train/25079230_15.jpeg\n",
      "train_annotation/25079230_15.png\n"
     ]
    },
    {
     "name": "stderr",
     "output_type": "stream",
     "text": [
      "\r",
      " 77%|███████▋  | 337/439 [01:26<00:32,  3.16it/s]"
     ]
    },
    {
     "name": "stdout",
     "output_type": "stream",
     "text": [
      "25079245_15.png\n",
      "25079245_15.png\n",
      "satimg/25079245_15.jpeg\n",
      "masksimg/25079245_15.png\n",
      "train/25079245_15.jpeg\n",
      "train_annotation/25079245_15.png\n"
     ]
    },
    {
     "name": "stderr",
     "output_type": "stream",
     "text": [
      "\r",
      " 77%|███████▋  | 338/439 [01:26<00:30,  3.27it/s]"
     ]
    },
    {
     "name": "stdout",
     "output_type": "stream",
     "text": [
      "25079260_15.png\n",
      "25079260_15.png\n",
      "satimg/25079260_15.jpeg\n",
      "masksimg/25079260_15.png\n",
      "validation/25079260_15.jpeg\n",
      "validation_annotation/25079260_15.png\n"
     ]
    },
    {
     "name": "stderr",
     "output_type": "stream",
     "text": [
      "\r",
      " 77%|███████▋  | 339/439 [01:27<00:30,  3.33it/s]"
     ]
    },
    {
     "name": "stdout",
     "output_type": "stream",
     "text": [
      "25079275_15.png\n",
      "25079275_15.png\n",
      "satimg/25079275_15.jpeg\n",
      "masksimg/25079275_15.png\n",
      "validation/25079275_15.jpeg\n",
      "validation_annotation/25079275_15.png\n"
     ]
    },
    {
     "name": "stderr",
     "output_type": "stream",
     "text": [
      "\r",
      " 77%|███████▋  | 340/439 [01:27<00:30,  3.28it/s]"
     ]
    },
    {
     "name": "stdout",
     "output_type": "stream",
     "text": [
      "25079290_15.png\n",
      "25079290_15.png\n",
      "satimg/25079290_15.jpeg\n",
      "masksimg/25079290_15.png\n",
      "train/25079290_15.jpeg\n",
      "train_annotation/25079290_15.png\n"
     ]
    },
    {
     "name": "stderr",
     "output_type": "stream",
     "text": [
      "\r",
      " 78%|███████▊  | 341/439 [01:27<00:27,  3.56it/s]"
     ]
    },
    {
     "name": "stdout",
     "output_type": "stream",
     "text": [
      "25229155_15.png\n",
      "25229155_15.png\n",
      "satimg/25229155_15.jpeg\n",
      "masksimg/25229155_15.png\n",
      "train/25229155_15.jpeg\n",
      "train_annotation/25229155_15.png\n"
     ]
    },
    {
     "name": "stderr",
     "output_type": "stream",
     "text": [
      "\r",
      " 78%|███████▊  | 342/439 [01:28<00:29,  3.34it/s]"
     ]
    },
    {
     "name": "stdout",
     "output_type": "stream",
     "text": [
      "25229170_15.png\n",
      "25229170_15.png\n",
      "satimg/25229170_15.jpeg\n",
      "masksimg/25229170_15.png\n",
      "train/25229170_15.jpeg\n",
      "train_annotation/25229170_15.png\n"
     ]
    },
    {
     "name": "stderr",
     "output_type": "stream",
     "text": [
      "\r",
      " 78%|███████▊  | 343/439 [01:28<00:27,  3.53it/s]"
     ]
    },
    {
     "name": "stdout",
     "output_type": "stream",
     "text": [
      "25229185_15.png\n",
      "25229185_15.png\n",
      "satimg/25229185_15.jpeg\n",
      "masksimg/25229185_15.png\n",
      "validation/25229185_15.jpeg\n",
      "validation_annotation/25229185_15.png\n"
     ]
    },
    {
     "name": "stderr",
     "output_type": "stream",
     "text": [
      " 79%|███████▊  | 345/439 [01:28<00:24,  3.77it/s]"
     ]
    },
    {
     "name": "stdout",
     "output_type": "stream",
     "text": [
      "25229200_15.png\n",
      "25229200_15.png\n",
      "satimg/25229200_15.jpeg\n",
      "masksimg/25229200_15.png\n",
      "validation/25229200_15.jpeg\n",
      "validation_annotation/25229200_15.png\n",
      "25229215_15.png\n",
      "25229215_15.png\n",
      "satimg/25229215_15.jpeg\n",
      "masksimg/25229215_15.png\n",
      "train/25229215_15.jpeg\n",
      "train_annotation/25229215_15.png\n"
     ]
    },
    {
     "name": "stderr",
     "output_type": "stream",
     "text": [
      "\r",
      " 79%|███████▉  | 346/439 [01:29<00:23,  4.02it/s]"
     ]
    },
    {
     "name": "stdout",
     "output_type": "stream",
     "text": [
      "25229260_15.png\n",
      "25229260_15.png\n",
      "satimg/25229260_15.jpeg\n",
      "masksimg/25229260_15.png\n",
      "train/25229260_15.jpeg\n",
      "train_annotation/25229260_15.png\n"
     ]
    },
    {
     "name": "stderr",
     "output_type": "stream",
     "text": [
      "\r",
      " 79%|███████▉  | 347/439 [01:29<00:23,  3.89it/s]"
     ]
    },
    {
     "name": "stdout",
     "output_type": "stream",
     "text": [
      "25229275_15.png\n",
      "25229275_15.png\n",
      "satimg/25229275_15.jpeg\n",
      "masksimg/25229275_15.png\n",
      "train/25229275_15.jpeg\n",
      "train_annotation/25229275_15.png\n"
     ]
    },
    {
     "name": "stderr",
     "output_type": "stream",
     "text": [
      " 79%|███████▉  | 349/439 [01:29<00:20,  4.33it/s]"
     ]
    },
    {
     "name": "stdout",
     "output_type": "stream",
     "text": [
      "25229290_15.png\n",
      "25229290_15.png\n",
      "satimg/25229290_15.jpeg\n",
      "masksimg/25229290_15.png\n",
      "train/25229290_15.jpeg\n",
      "train_annotation/25229290_15.png\n",
      "25379185_15.png\n",
      "25379185_15.png\n",
      "satimg/25379185_15.jpeg\n",
      "masksimg/25379185_15.png\n",
      "validation/25379185_15.jpeg\n",
      "validation_annotation/25379185_15.png\n"
     ]
    },
    {
     "name": "stderr",
     "output_type": "stream",
     "text": [
      "\r",
      " 80%|███████▉  | 350/439 [01:29<00:19,  4.66it/s]"
     ]
    },
    {
     "name": "stdout",
     "output_type": "stream",
     "text": [
      "25379230_15.png\n",
      "25379230_15.png\n",
      "satimg/25379230_15.jpeg\n",
      "masksimg/25379230_15.png\n",
      "train/25379230_15.jpeg\n",
      "train_annotation/25379230_15.png\n"
     ]
    },
    {
     "name": "stderr",
     "output_type": "stream",
     "text": [
      "\r",
      " 80%|███████▉  | 351/439 [01:30<00:18,  4.66it/s]"
     ]
    },
    {
     "name": "stdout",
     "output_type": "stream",
     "text": [
      "25379245_15.png\n",
      "25379245_15.png\n",
      "satimg/25379245_15.jpeg\n",
      "masksimg/25379245_15.png\n",
      "train/25379245_15.jpeg\n",
      "train_annotation/25379245_15.png\n"
     ]
    },
    {
     "name": "stderr",
     "output_type": "stream",
     "text": [
      "\r",
      " 80%|████████  | 352/439 [01:30<00:18,  4.71it/s]"
     ]
    },
    {
     "name": "stdout",
     "output_type": "stream",
     "text": [
      "25379260_15.png\n",
      "25379260_15.png\n",
      "satimg/25379260_15.jpeg\n",
      "masksimg/25379260_15.png\n",
      "train/25379260_15.jpeg\n",
      "train_annotation/25379260_15.png\n"
     ]
    },
    {
     "name": "stderr",
     "output_type": "stream",
     "text": [
      "\r",
      " 80%|████████  | 353/439 [01:30<00:20,  4.26it/s]"
     ]
    },
    {
     "name": "stdout",
     "output_type": "stream",
     "text": [
      "25379275_15.png\n",
      "25379275_15.png\n",
      "satimg/25379275_15.jpeg\n",
      "masksimg/25379275_15.png\n",
      "train/25379275_15.jpeg\n",
      "train_annotation/25379275_15.png\n"
     ]
    },
    {
     "name": "stderr",
     "output_type": "stream",
     "text": [
      "\r",
      " 81%|████████  | 354/439 [01:30<00:20,  4.08it/s]"
     ]
    },
    {
     "name": "stdout",
     "output_type": "stream",
     "text": [
      "25379290_15.png\n",
      "25379290_15.png\n",
      "satimg/25379290_15.jpeg\n",
      "masksimg/25379290_15.png\n",
      "train/25379290_15.jpeg\n",
      "train_annotation/25379290_15.png\n"
     ]
    },
    {
     "name": "stderr",
     "output_type": "stream",
     "text": [
      " 81%|████████  | 356/439 [01:31<00:18,  4.52it/s]"
     ]
    },
    {
     "name": "stdout",
     "output_type": "stream",
     "text": [
      "25529170_15.png\n",
      "25529170_15.png\n",
      "satimg/25529170_15.jpeg\n",
      "masksimg/25529170_15.png\n",
      "train/25529170_15.jpeg\n",
      "train_annotation/25529170_15.png\n",
      "25529230_15.png\n",
      "25529230_15.png\n",
      "satimg/25529230_15.jpeg\n",
      "masksimg/25529230_15.png\n",
      "train/25529230_15.jpeg\n",
      "train_annotation/25529230_15.png\n"
     ]
    },
    {
     "name": "stderr",
     "output_type": "stream",
     "text": [
      "\r",
      " 81%|████████▏ | 357/439 [01:31<00:19,  4.21it/s]"
     ]
    },
    {
     "name": "stdout",
     "output_type": "stream",
     "text": [
      "25529245_15.png\n",
      "25529245_15.png\n",
      "satimg/25529245_15.jpeg\n",
      "masksimg/25529245_15.png\n",
      "validation/25529245_15.jpeg\n",
      "validation_annotation/25529245_15.png\n"
     ]
    },
    {
     "name": "stderr",
     "output_type": "stream",
     "text": [
      "\r",
      " 82%|████████▏ | 358/439 [01:31<00:18,  4.33it/s]"
     ]
    },
    {
     "name": "stdout",
     "output_type": "stream",
     "text": [
      "25529260_15.png\n",
      "25529260_15.png\n",
      "satimg/25529260_15.jpeg\n",
      "masksimg/25529260_15.png\n",
      "train/25529260_15.jpeg\n",
      "train_annotation/25529260_15.png\n"
     ]
    },
    {
     "name": "stderr",
     "output_type": "stream",
     "text": [
      "\r",
      " 82%|████████▏ | 359/439 [01:32<00:19,  4.02it/s]"
     ]
    },
    {
     "name": "stdout",
     "output_type": "stream",
     "text": [
      "25529275_15.png\n",
      "25529275_15.png\n",
      "satimg/25529275_15.jpeg\n",
      "masksimg/25529275_15.png\n",
      "train/25529275_15.jpeg\n",
      "train_annotation/25529275_15.png\n"
     ]
    },
    {
     "name": "stderr",
     "output_type": "stream",
     "text": [
      "\r",
      " 82%|████████▏ | 360/439 [01:32<00:18,  4.21it/s]"
     ]
    },
    {
     "name": "stdout",
     "output_type": "stream",
     "text": [
      "25529290_15.png\n",
      "25529290_15.png\n",
      "satimg/25529290_15.jpeg\n",
      "masksimg/25529290_15.png\n",
      "train/25529290_15.jpeg\n",
      "train_annotation/25529290_15.png\n"
     ]
    },
    {
     "name": "stderr",
     "output_type": "stream",
     "text": [
      "\r",
      " 82%|████████▏ | 361/439 [01:32<00:18,  4.24it/s]"
     ]
    },
    {
     "name": "stdout",
     "output_type": "stream",
     "text": [
      "25679230_15.png\n",
      "25679230_15.png\n",
      "satimg/25679230_15.jpeg\n",
      "masksimg/25679230_15.png\n",
      "train/25679230_15.jpeg\n",
      "train_annotation/25679230_15.png\n"
     ]
    },
    {
     "name": "stderr",
     "output_type": "stream",
     "text": [
      " 83%|████████▎ | 363/439 [01:33<00:17,  4.44it/s]"
     ]
    },
    {
     "name": "stdout",
     "output_type": "stream",
     "text": [
      "25679245_15.png\n",
      "25679245_15.png\n",
      "satimg/25679245_15.jpeg\n",
      "masksimg/25679245_15.png\n",
      "validation/25679245_15.jpeg\n",
      "validation_annotation/25679245_15.png\n",
      "25679260_15.png\n",
      "25679260_15.png\n",
      "satimg/25679260_15.jpeg\n",
      "masksimg/25679260_15.png\n",
      "train/25679260_15.jpeg\n",
      "train_annotation/25679260_15.png\n"
     ]
    },
    {
     "name": "stderr",
     "output_type": "stream",
     "text": [
      "\r",
      " 83%|████████▎ | 364/439 [01:33<00:16,  4.55it/s]"
     ]
    },
    {
     "name": "stdout",
     "output_type": "stream",
     "text": [
      "25679275_15.png\n",
      "25679275_15.png\n",
      "satimg/25679275_15.jpeg\n",
      "masksimg/25679275_15.png\n",
      "validation/25679275_15.jpeg\n",
      "validation_annotation/25679275_15.png\n"
     ]
    },
    {
     "name": "stderr",
     "output_type": "stream",
     "text": [
      "\r",
      " 83%|████████▎ | 365/439 [01:33<00:16,  4.36it/s]"
     ]
    },
    {
     "name": "stdout",
     "output_type": "stream",
     "text": [
      "25828765_15.png\n",
      "25828765_15.png\n",
      "satimg/25828765_15.jpeg\n",
      "masksimg/25828765_15.png\n",
      "train/25828765_15.jpeg\n",
      "train_annotation/25828765_15.png\n"
     ]
    },
    {
     "name": "stderr",
     "output_type": "stream",
     "text": [
      "\r",
      " 83%|████████▎ | 366/439 [01:33<00:17,  4.27it/s]"
     ]
    },
    {
     "name": "stdout",
     "output_type": "stream",
     "text": [
      "25828780_15.png\n",
      "25828780_15.png\n",
      "satimg/25828780_15.jpeg\n",
      "masksimg/25828780_15.png\n",
      "train/25828780_15.jpeg\n",
      "train_annotation/25828780_15.png\n"
     ]
    },
    {
     "name": "stderr",
     "output_type": "stream",
     "text": [
      " 84%|████████▍ | 368/439 [01:34<00:16,  4.26it/s]"
     ]
    },
    {
     "name": "stdout",
     "output_type": "stream",
     "text": [
      "25829245_15.png\n",
      "25829245_15.png\n",
      "satimg/25829245_15.jpeg\n",
      "masksimg/25829245_15.png\n",
      "train/25829245_15.jpeg\n",
      "train_annotation/25829245_15.png\n",
      "25829260_15.png\n",
      "25829260_15.png\n",
      "satimg/25829260_15.jpeg\n",
      "masksimg/25829260_15.png\n",
      "train/25829260_15.jpeg\n",
      "train_annotation/25829260_15.png\n"
     ]
    },
    {
     "name": "stderr",
     "output_type": "stream",
     "text": [
      "\r",
      " 84%|████████▍ | 369/439 [01:34<00:18,  3.71it/s]"
     ]
    },
    {
     "name": "stdout",
     "output_type": "stream",
     "text": [
      "25829275_15.png\n",
      "25829275_15.png\n",
      "satimg/25829275_15.jpeg\n",
      "masksimg/25829275_15.png\n",
      "train/25829275_15.jpeg\n",
      "train_annotation/25829275_15.png\n"
     ]
    },
    {
     "name": "stderr",
     "output_type": "stream",
     "text": [
      "\r",
      " 84%|████████▍ | 370/439 [01:34<00:19,  3.55it/s]"
     ]
    },
    {
     "name": "stdout",
     "output_type": "stream",
     "text": [
      "25829290_15.png\n",
      "25829290_15.png\n",
      "satimg/25829290_15.jpeg\n",
      "masksimg/25829290_15.png\n",
      "train/25829290_15.jpeg\n",
      "train_annotation/25829290_15.png\n"
     ]
    },
    {
     "name": "stderr",
     "output_type": "stream",
     "text": [
      "\r",
      " 85%|████████▍ | 371/439 [01:35<00:17,  3.87it/s]"
     ]
    },
    {
     "name": "stdout",
     "output_type": "stream",
     "text": [
      "25978735_15.png\n",
      "25978735_15.png\n",
      "satimg/25978735_15.jpeg\n",
      "masksimg/25978735_15.png\n",
      "train/25978735_15.jpeg\n",
      "train_annotation/25978735_15.png\n"
     ]
    },
    {
     "name": "stderr",
     "output_type": "stream",
     "text": [
      "\r",
      " 85%|████████▍ | 372/439 [01:35<00:17,  3.86it/s]"
     ]
    },
    {
     "name": "stdout",
     "output_type": "stream",
     "text": [
      "25978750_15.png\n",
      "25978750_15.png\n",
      "satimg/25978750_15.jpeg\n",
      "masksimg/25978750_15.png\n",
      "validation/25978750_15.jpeg\n",
      "validation_annotation/25978750_15.png\n"
     ]
    },
    {
     "name": "stderr",
     "output_type": "stream",
     "text": [
      " 85%|████████▌ | 374/439 [01:35<00:16,  4.00it/s]"
     ]
    },
    {
     "name": "stdout",
     "output_type": "stream",
     "text": [
      "25978765_15.png\n",
      "25978765_15.png\n",
      "satimg/25978765_15.jpeg\n",
      "masksimg/25978765_15.png\n",
      "train/25978765_15.jpeg\n",
      "train_annotation/25978765_15.png\n",
      "25978780_15.png\n",
      "25978780_15.png\n",
      "satimg/25978780_15.jpeg\n",
      "masksimg/25978780_15.png\n",
      "train/25978780_15.jpeg\n",
      "train_annotation/25978780_15.png\n"
     ]
    },
    {
     "name": "stderr",
     "output_type": "stream",
     "text": [
      "\r",
      " 85%|████████▌ | 375/439 [01:36<00:15,  4.03it/s]"
     ]
    },
    {
     "name": "stdout",
     "output_type": "stream",
     "text": [
      "25978795_15.png\n",
      "25978795_15.png\n",
      "satimg/25978795_15.jpeg\n",
      "masksimg/25978795_15.png\n",
      "train/25978795_15.jpeg\n",
      "train_annotation/25978795_15.png\n"
     ]
    },
    {
     "name": "stderr",
     "output_type": "stream",
     "text": [
      "\r",
      " 86%|████████▌ | 376/439 [01:36<00:16,  3.81it/s]"
     ]
    },
    {
     "name": "stdout",
     "output_type": "stream",
     "text": [
      "25979230_15.png\n",
      "25979230_15.png\n",
      "satimg/25979230_15.jpeg\n",
      "masksimg/25979230_15.png\n",
      "train/25979230_15.jpeg\n",
      "train_annotation/25979230_15.png\n"
     ]
    },
    {
     "name": "stderr",
     "output_type": "stream",
     "text": [
      " 86%|████████▌ | 378/439 [01:36<00:14,  4.22it/s]"
     ]
    },
    {
     "name": "stdout",
     "output_type": "stream",
     "text": [
      "25979245_15.png\n",
      "25979245_15.png\n",
      "satimg/25979245_15.jpeg\n",
      "masksimg/25979245_15.png\n",
      "train/25979245_15.jpeg\n",
      "train_annotation/25979245_15.png\n",
      "25979260_15.png\n",
      "25979260_15.png\n",
      "satimg/25979260_15.jpeg\n",
      "masksimg/25979260_15.png\n",
      "validation/25979260_15.jpeg\n",
      "validation_annotation/25979260_15.png\n"
     ]
    },
    {
     "name": "stderr",
     "output_type": "stream",
     "text": [
      " 87%|████████▋ | 380/439 [01:37<00:13,  4.26it/s]"
     ]
    },
    {
     "name": "stdout",
     "output_type": "stream",
     "text": [
      "25979275_15.png\n",
      "25979275_15.png\n",
      "satimg/25979275_15.jpeg\n",
      "masksimg/25979275_15.png\n",
      "train/25979275_15.jpeg\n",
      "train_annotation/25979275_15.png\n",
      "25979290_15.png\n",
      "25979290_15.png\n",
      "satimg/25979290_15.jpeg\n",
      "masksimg/25979290_15.png\n",
      "train/25979290_15.jpeg\n",
      "train_annotation/25979290_15.png\n"
     ]
    },
    {
     "name": "stderr",
     "output_type": "stream",
     "text": [
      " 87%|████████▋ | 382/439 [01:37<00:12,  4.40it/s]"
     ]
    },
    {
     "name": "stdout",
     "output_type": "stream",
     "text": [
      "26128705_15.png\n",
      "26128705_15.png\n",
      "satimg/26128705_15.jpeg\n",
      "masksimg/26128705_15.png\n",
      "train/26128705_15.jpeg\n",
      "train_annotation/26128705_15.png\n",
      "26128720_15.png\n",
      "26128720_15.png\n",
      "satimg/26128720_15.jpeg\n",
      "masksimg/26128720_15.png\n",
      "train/26128720_15.jpeg\n",
      "train_annotation/26128720_15.png\n"
     ]
    },
    {
     "name": "stderr",
     "output_type": "stream",
     "text": [
      "\r",
      " 87%|████████▋ | 383/439 [01:38<00:13,  4.07it/s]"
     ]
    },
    {
     "name": "stdout",
     "output_type": "stream",
     "text": [
      "26128735_15.png\n",
      "26128735_15.png\n",
      "satimg/26128735_15.jpeg\n",
      "masksimg/26128735_15.png\n",
      "validation/26128735_15.jpeg\n",
      "validation_annotation/26128735_15.png\n"
     ]
    },
    {
     "name": "stderr",
     "output_type": "stream",
     "text": [
      " 88%|████████▊ | 385/439 [01:38<00:14,  3.63it/s]"
     ]
    },
    {
     "name": "stdout",
     "output_type": "stream",
     "text": [
      "26128750_15.png\n",
      "26128750_15.png\n",
      "satimg/26128750_15.jpeg\n",
      "masksimg/26128750_15.png\n",
      "validation/26128750_15.jpeg\n",
      "validation_annotation/26128750_15.png\n",
      "26128765_15.png\n",
      "26128765_15.png\n",
      "satimg/26128765_15.jpeg\n",
      "masksimg/26128765_15.png\n",
      "train/26128765_15.jpeg\n",
      "train_annotation/26128765_15.png\n"
     ]
    },
    {
     "name": "stderr",
     "output_type": "stream",
     "text": [
      " 88%|████████▊ | 387/439 [01:39<00:12,  4.15it/s]"
     ]
    },
    {
     "name": "stdout",
     "output_type": "stream",
     "text": [
      "26128780_15.png\n",
      "26128780_15.png\n",
      "satimg/26128780_15.jpeg\n",
      "masksimg/26128780_15.png\n",
      "validation/26128780_15.jpeg\n",
      "validation_annotation/26128780_15.png\n",
      "26128795_15.png\n",
      "26128795_15.png\n",
      "satimg/26128795_15.jpeg\n",
      "masksimg/26128795_15.png\n",
      "train/26128795_15.jpeg\n",
      "train_annotation/26128795_15.png\n"
     ]
    },
    {
     "name": "stderr",
     "output_type": "stream",
     "text": [
      "\r",
      " 88%|████████▊ | 388/439 [01:39<00:11,  4.26it/s]"
     ]
    },
    {
     "name": "stdout",
     "output_type": "stream",
     "text": [
      "26128810_15.png\n",
      "26128810_15.png\n",
      "satimg/26128810_15.jpeg\n",
      "masksimg/26128810_15.png\n",
      "train/26128810_15.jpeg\n",
      "train_annotation/26128810_15.png\n"
     ]
    },
    {
     "name": "stderr",
     "output_type": "stream",
     "text": [
      "\r",
      " 89%|████████▊ | 389/439 [01:39<00:11,  4.20it/s]"
     ]
    },
    {
     "name": "stdout",
     "output_type": "stream",
     "text": [
      "26129245_15.png\n",
      "26129245_15.png\n",
      "satimg/26129245_15.jpeg\n",
      "masksimg/26129245_15.png\n",
      "train/26129245_15.jpeg\n",
      "train_annotation/26129245_15.png\n"
     ]
    },
    {
     "name": "stderr",
     "output_type": "stream",
     "text": [
      " 89%|████████▉ | 391/439 [01:40<00:10,  4.52it/s]"
     ]
    },
    {
     "name": "stdout",
     "output_type": "stream",
     "text": [
      "26129260_15.png\n",
      "26129260_15.png\n",
      "satimg/26129260_15.jpeg\n",
      "masksimg/26129260_15.png\n",
      "validation/26129260_15.jpeg\n",
      "validation_annotation/26129260_15.png\n",
      "26129275_15.png\n",
      "26129275_15.png\n",
      "satimg/26129275_15.jpeg\n",
      "masksimg/26129275_15.png\n",
      "validation/26129275_15.jpeg\n",
      "validation_annotation/26129275_15.png\n"
     ]
    },
    {
     "name": "stderr",
     "output_type": "stream",
     "text": [
      "\r",
      " 89%|████████▉ | 392/439 [01:40<00:10,  4.53it/s]"
     ]
    },
    {
     "name": "stdout",
     "output_type": "stream",
     "text": [
      "26129290_15.png\n",
      "26129290_15.png\n",
      "satimg/26129290_15.jpeg\n",
      "masksimg/26129290_15.png\n",
      "train/26129290_15.jpeg\n",
      "train_annotation/26129290_15.png\n"
     ]
    },
    {
     "name": "stderr",
     "output_type": "stream",
     "text": [
      "\r",
      " 90%|████████▉ | 393/439 [01:40<00:09,  4.64it/s]"
     ]
    },
    {
     "name": "stdout",
     "output_type": "stream",
     "text": [
      "26278705_15.png\n",
      "26278705_15.png\n",
      "satimg/26278705_15.jpeg\n",
      "masksimg/26278705_15.png\n",
      "train/26278705_15.jpeg\n",
      "train_annotation/26278705_15.png\n"
     ]
    },
    {
     "name": "stderr",
     "output_type": "stream",
     "text": [
      "\r",
      " 90%|████████▉ | 394/439 [01:40<00:09,  4.51it/s]"
     ]
    },
    {
     "name": "stdout",
     "output_type": "stream",
     "text": [
      "26278735_15.png\n",
      "26278735_15.png\n",
      "satimg/26278735_15.jpeg\n",
      "masksimg/26278735_15.png\n",
      "train/26278735_15.jpeg\n",
      "train_annotation/26278735_15.png\n"
     ]
    },
    {
     "name": "stderr",
     "output_type": "stream",
     "text": [
      " 90%|█████████ | 396/439 [01:41<00:08,  4.82it/s]"
     ]
    },
    {
     "name": "stdout",
     "output_type": "stream",
     "text": [
      "26278750_15.png\n",
      "26278750_15.png\n",
      "satimg/26278750_15.jpeg\n",
      "masksimg/26278750_15.png\n",
      "train/26278750_15.jpeg\n",
      "train_annotation/26278750_15.png\n",
      "26278765_15.png\n",
      "26278765_15.png\n",
      "satimg/26278765_15.jpeg\n",
      "masksimg/26278765_15.png\n",
      "train/26278765_15.jpeg\n",
      "train_annotation/26278765_15.png\n"
     ]
    },
    {
     "name": "stderr",
     "output_type": "stream",
     "text": [
      "\r",
      " 90%|█████████ | 397/439 [01:41<00:08,  5.03it/s]"
     ]
    },
    {
     "name": "stdout",
     "output_type": "stream",
     "text": [
      "26278780_15.png\n",
      "26278780_15.png\n",
      "satimg/26278780_15.jpeg\n",
      "masksimg/26278780_15.png\n",
      "train/26278780_15.jpeg\n",
      "train_annotation/26278780_15.png\n"
     ]
    },
    {
     "name": "stderr",
     "output_type": "stream",
     "text": [
      "\r",
      " 91%|█████████ | 398/439 [01:41<00:08,  4.89it/s]"
     ]
    },
    {
     "name": "stdout",
     "output_type": "stream",
     "text": [
      "26278795_15.png\n",
      "26278795_15.png\n",
      "satimg/26278795_15.jpeg\n",
      "masksimg/26278795_15.png\n",
      "train/26278795_15.jpeg\n",
      "train_annotation/26278795_15.png\n"
     ]
    },
    {
     "name": "stderr",
     "output_type": "stream",
     "text": [
      " 91%|█████████ | 400/439 [01:41<00:07,  4.90it/s]"
     ]
    },
    {
     "name": "stdout",
     "output_type": "stream",
     "text": [
      "26278810_15.png\n",
      "26278810_15.png\n",
      "satimg/26278810_15.jpeg\n",
      "masksimg/26278810_15.png\n",
      "train/26278810_15.jpeg\n",
      "train_annotation/26278810_15.png\n",
      "26279260_15.png\n",
      "26279260_15.png\n",
      "satimg/26279260_15.jpeg\n",
      "masksimg/26279260_15.png\n",
      "train/26279260_15.jpeg\n",
      "train_annotation/26279260_15.png\n"
     ]
    },
    {
     "name": "stderr",
     "output_type": "stream",
     "text": [
      " 92%|█████████▏| 402/439 [01:42<00:07,  4.63it/s]"
     ]
    },
    {
     "name": "stdout",
     "output_type": "stream",
     "text": [
      "26428690_15.png\n",
      "26428690_15.png\n",
      "satimg/26428690_15.jpeg\n",
      "masksimg/26428690_15.png\n",
      "train/26428690_15.jpeg\n",
      "train_annotation/26428690_15.png\n",
      "26428705_15.png\n",
      "26428705_15.png\n",
      "satimg/26428705_15.jpeg\n",
      "masksimg/26428705_15.png\n",
      "train/26428705_15.jpeg\n",
      "train_annotation/26428705_15.png\n"
     ]
    },
    {
     "name": "stderr",
     "output_type": "stream",
     "text": [
      "\r",
      " 92%|█████████▏| 403/439 [01:42<00:07,  4.76it/s]"
     ]
    },
    {
     "name": "stdout",
     "output_type": "stream",
     "text": [
      "26428720_15.png\n",
      "26428720_15.png\n",
      "satimg/26428720_15.jpeg\n",
      "masksimg/26428720_15.png\n",
      "train/26428720_15.jpeg\n",
      "train_annotation/26428720_15.png\n"
     ]
    },
    {
     "name": "stderr",
     "output_type": "stream",
     "text": [
      "\r",
      " 92%|█████████▏| 404/439 [01:42<00:07,  4.68it/s]"
     ]
    },
    {
     "name": "stdout",
     "output_type": "stream",
     "text": [
      "26428750_15.png\n",
      "26428750_15.png\n",
      "satimg/26428750_15.jpeg\n",
      "masksimg/26428750_15.png\n",
      "train/26428750_15.jpeg\n",
      "train_annotation/26428750_15.png\n"
     ]
    },
    {
     "name": "stderr",
     "output_type": "stream",
     "text": [
      "\r",
      " 92%|█████████▏| 405/439 [01:42<00:07,  4.71it/s]"
     ]
    },
    {
     "name": "stdout",
     "output_type": "stream",
     "text": [
      "26428765_15.png\n",
      "26428765_15.png\n",
      "satimg/26428765_15.jpeg\n",
      "masksimg/26428765_15.png\n",
      "train/26428765_15.jpeg\n",
      "train_annotation/26428765_15.png\n"
     ]
    },
    {
     "name": "stderr",
     "output_type": "stream",
     "text": [
      "\r",
      " 92%|█████████▏| 406/439 [01:43<00:07,  4.57it/s]"
     ]
    },
    {
     "name": "stdout",
     "output_type": "stream",
     "text": [
      "26428780_15.png\n",
      "26428780_15.png\n",
      "satimg/26428780_15.jpeg\n",
      "masksimg/26428780_15.png\n",
      "train/26428780_15.jpeg\n",
      "train_annotation/26428780_15.png\n"
     ]
    },
    {
     "name": "stderr",
     "output_type": "stream",
     "text": [
      " 93%|█████████▎| 408/439 [01:43<00:06,  5.16it/s]"
     ]
    },
    {
     "name": "stdout",
     "output_type": "stream",
     "text": [
      "26428795_15.png\n",
      "26428795_15.png\n",
      "satimg/26428795_15.jpeg\n",
      "masksimg/26428795_15.png\n",
      "train/26428795_15.jpeg\n",
      "train_annotation/26428795_15.png\n",
      "26429245_15.png\n",
      "26429245_15.png\n",
      "satimg/26429245_15.jpeg\n",
      "masksimg/26429245_15.png\n",
      "train/26429245_15.jpeg\n",
      "train_annotation/26429245_15.png\n"
     ]
    },
    {
     "name": "stderr",
     "output_type": "stream",
     "text": [
      " 93%|█████████▎| 410/439 [01:43<00:05,  5.23it/s]"
     ]
    },
    {
     "name": "stdout",
     "output_type": "stream",
     "text": [
      "26429260_15.png\n",
      "26429260_15.png\n",
      "satimg/26429260_15.jpeg\n",
      "masksimg/26429260_15.png\n",
      "train/26429260_15.jpeg\n",
      "train_annotation/26429260_15.png\n",
      "26429275_15.png\n",
      "26429275_15.png\n",
      "satimg/26429275_15.jpeg\n",
      "masksimg/26429275_15.png\n",
      "train/26429275_15.jpeg\n",
      "train_annotation/26429275_15.png\n"
     ]
    },
    {
     "name": "stderr",
     "output_type": "stream",
     "text": [
      " 94%|█████████▍| 412/439 [01:44<00:05,  4.94it/s]"
     ]
    },
    {
     "name": "stdout",
     "output_type": "stream",
     "text": [
      "26578675_15.png\n",
      "26578675_15.png\n",
      "satimg/26578675_15.jpeg\n",
      "masksimg/26578675_15.png\n",
      "train/26578675_15.jpeg\n",
      "train_annotation/26578675_15.png\n",
      "26578690_15.png\n",
      "26578690_15.png\n",
      "satimg/26578690_15.jpeg\n",
      "masksimg/26578690_15.png\n",
      "train/26578690_15.jpeg\n",
      "train_annotation/26578690_15.png\n"
     ]
    },
    {
     "name": "stderr",
     "output_type": "stream",
     "text": [
      "\r",
      " 94%|█████████▍| 413/439 [01:44<00:04,  5.27it/s]"
     ]
    },
    {
     "name": "stdout",
     "output_type": "stream",
     "text": [
      "26578705_15.png\n",
      "26578705_15.png\n",
      "satimg/26578705_15.jpeg\n",
      "masksimg/26578705_15.png\n",
      "validation/26578705_15.jpeg\n",
      "validation_annotation/26578705_15.png\n"
     ]
    },
    {
     "name": "stderr",
     "output_type": "stream",
     "text": [
      " 95%|█████████▍| 415/439 [01:44<00:04,  5.01it/s]"
     ]
    },
    {
     "name": "stdout",
     "output_type": "stream",
     "text": [
      "26578735_15.png\n",
      "26578735_15.png\n",
      "satimg/26578735_15.jpeg\n",
      "masksimg/26578735_15.png\n",
      "train/26578735_15.jpeg\n",
      "train_annotation/26578735_15.png\n",
      "26578750_15.png\n",
      "26578750_15.png\n",
      "satimg/26578750_15.jpeg\n",
      "masksimg/26578750_15.png\n",
      "validation/26578750_15.jpeg\n",
      "validation_annotation/26578750_15.png\n"
     ]
    },
    {
     "name": "stderr",
     "output_type": "stream",
     "text": [
      " 95%|█████████▍| 417/439 [01:45<00:04,  4.75it/s]"
     ]
    },
    {
     "name": "stdout",
     "output_type": "stream",
     "text": [
      "26578765_15.png\n",
      "26578765_15.png\n",
      "satimg/26578765_15.jpeg\n",
      "masksimg/26578765_15.png\n",
      "validation/26578765_15.jpeg\n",
      "validation_annotation/26578765_15.png\n",
      "26578780_15.png\n",
      "26578780_15.png\n",
      "satimg/26578780_15.jpeg\n",
      "masksimg/26578780_15.png\n",
      "train/26578780_15.jpeg\n",
      "train_annotation/26578780_15.png\n"
     ]
    },
    {
     "name": "stderr",
     "output_type": "stream",
     "text": [
      "\r",
      " 95%|█████████▌| 418/439 [01:45<00:04,  4.71it/s]"
     ]
    },
    {
     "name": "stdout",
     "output_type": "stream",
     "text": [
      "26578795_15.png\n",
      "26578795_15.png\n",
      "satimg/26578795_15.jpeg\n",
      "masksimg/26578795_15.png\n",
      "train/26578795_15.jpeg\n",
      "train_annotation/26578795_15.png\n"
     ]
    },
    {
     "name": "stderr",
     "output_type": "stream",
     "text": [
      "\r",
      " 95%|█████████▌| 419/439 [01:45<00:04,  4.70it/s]"
     ]
    },
    {
     "name": "stdout",
     "output_type": "stream",
     "text": [
      "26728675_15.png\n",
      "26728675_15.png\n",
      "satimg/26728675_15.jpeg\n",
      "masksimg/26728675_15.png\n",
      "train/26728675_15.jpeg\n",
      "train_annotation/26728675_15.png\n"
     ]
    },
    {
     "name": "stderr",
     "output_type": "stream",
     "text": [
      "\r",
      " 96%|█████████▌| 420/439 [01:46<00:04,  4.12it/s]"
     ]
    },
    {
     "name": "stdout",
     "output_type": "stream",
     "text": [
      "26728690_15.png\n",
      "26728690_15.png\n",
      "satimg/26728690_15.jpeg\n",
      "masksimg/26728690_15.png\n",
      "train/26728690_15.jpeg\n",
      "train_annotation/26728690_15.png\n"
     ]
    },
    {
     "name": "stderr",
     "output_type": "stream",
     "text": [
      " 96%|█████████▌| 422/439 [01:46<00:03,  4.62it/s]"
     ]
    },
    {
     "name": "stdout",
     "output_type": "stream",
     "text": [
      "26728705_15.png\n",
      "26728705_15.png\n",
      "satimg/26728705_15.jpeg\n",
      "masksimg/26728705_15.png\n",
      "validation/26728705_15.jpeg\n",
      "validation_annotation/26728705_15.png\n",
      "26728720_15.png\n",
      "26728720_15.png\n",
      "satimg/26728720_15.jpeg\n",
      "masksimg/26728720_15.png\n",
      "validation/26728720_15.jpeg\n",
      "validation_annotation/26728720_15.png\n"
     ]
    },
    {
     "name": "stderr",
     "output_type": "stream",
     "text": [
      "\r",
      " 96%|█████████▋| 423/439 [01:46<00:03,  5.04it/s]"
     ]
    },
    {
     "name": "stdout",
     "output_type": "stream",
     "text": [
      "26728735_15.png\n",
      "26728735_15.png\n",
      "satimg/26728735_15.jpeg\n",
      "masksimg/26728735_15.png\n",
      "train/26728735_15.jpeg\n",
      "train_annotation/26728735_15.png\n"
     ]
    },
    {
     "name": "stderr",
     "output_type": "stream",
     "text": [
      " 97%|█████████▋| 425/439 [01:47<00:02,  5.00it/s]"
     ]
    },
    {
     "name": "stdout",
     "output_type": "stream",
     "text": [
      "26728750_15.png\n",
      "26728750_15.png\n",
      "satimg/26728750_15.jpeg\n",
      "masksimg/26728750_15.png\n",
      "validation/26728750_15.jpeg\n",
      "validation_annotation/26728750_15.png\n",
      "26728765_15.png\n",
      "26728765_15.png\n",
      "satimg/26728765_15.jpeg\n",
      "masksimg/26728765_15.png\n",
      "train/26728765_15.jpeg\n",
      "train_annotation/26728765_15.png\n"
     ]
    },
    {
     "name": "stderr",
     "output_type": "stream",
     "text": [
      " 97%|█████████▋| 427/439 [01:47<00:02,  5.14it/s]"
     ]
    },
    {
     "name": "stdout",
     "output_type": "stream",
     "text": [
      "26728780_15.png\n",
      "26728780_15.png\n",
      "satimg/26728780_15.jpeg\n",
      "masksimg/26728780_15.png\n",
      "validation/26728780_15.jpeg\n",
      "validation_annotation/26728780_15.png\n",
      "26878675_15.png\n",
      "26878675_15.png\n",
      "satimg/26878675_15.jpeg\n",
      "masksimg/26878675_15.png\n",
      "validation/26878675_15.jpeg\n",
      "validation_annotation/26878675_15.png\n"
     ]
    },
    {
     "name": "stderr",
     "output_type": "stream",
     "text": [
      " 98%|█████████▊| 429/439 [01:47<00:01,  5.17it/s]"
     ]
    },
    {
     "name": "stdout",
     "output_type": "stream",
     "text": [
      "26878705_15.png\n",
      "26878705_15.png\n",
      "satimg/26878705_15.jpeg\n",
      "masksimg/26878705_15.png\n",
      "train/26878705_15.jpeg\n",
      "train_annotation/26878705_15.png\n",
      "26878720_15.png\n",
      "26878720_15.png\n",
      "satimg/26878720_15.jpeg\n",
      "masksimg/26878720_15.png\n",
      "validation/26878720_15.jpeg\n",
      "validation_annotation/26878720_15.png\n"
     ]
    },
    {
     "name": "stderr",
     "output_type": "stream",
     "text": [
      "\r",
      " 98%|█████████▊| 430/439 [01:48<00:01,  5.28it/s]"
     ]
    },
    {
     "name": "stdout",
     "output_type": "stream",
     "text": [
      "26878735_15.png\n",
      "26878735_15.png\n",
      "satimg/26878735_15.jpeg\n",
      "masksimg/26878735_15.png\n",
      "train/26878735_15.jpeg\n",
      "train_annotation/26878735_15.png\n"
     ]
    },
    {
     "name": "stderr",
     "output_type": "stream",
     "text": [
      " 98%|█████████▊| 432/439 [01:48<00:01,  5.41it/s]"
     ]
    },
    {
     "name": "stdout",
     "output_type": "stream",
     "text": [
      "26878750_15.png\n",
      "26878750_15.png\n",
      "satimg/26878750_15.jpeg\n",
      "masksimg/26878750_15.png\n",
      "train/26878750_15.jpeg\n",
      "train_annotation/26878750_15.png\n",
      "27028675_15.png\n",
      "27028675_15.png\n",
      "satimg/27028675_15.jpeg\n",
      "masksimg/27028675_15.png\n",
      "train/27028675_15.jpeg\n",
      "train_annotation/27028675_15.png\n"
     ]
    },
    {
     "name": "stderr",
     "output_type": "stream",
     "text": [
      "\r",
      " 99%|█████████▊| 433/439 [01:48<00:01,  5.00it/s]"
     ]
    },
    {
     "name": "stdout",
     "output_type": "stream",
     "text": [
      "27028690_15.png\n",
      "27028690_15.png\n",
      "satimg/27028690_15.jpeg\n",
      "masksimg/27028690_15.png\n",
      "train/27028690_15.jpeg\n",
      "train_annotation/27028690_15.png\n"
     ]
    },
    {
     "name": "stderr",
     "output_type": "stream",
     "text": [
      " 99%|█████████▉| 435/439 [01:49<00:00,  4.45it/s]"
     ]
    },
    {
     "name": "stdout",
     "output_type": "stream",
     "text": [
      "27028705_15.png\n",
      "27028705_15.png\n",
      "satimg/27028705_15.jpeg\n",
      "masksimg/27028705_15.png\n",
      "train/27028705_15.jpeg\n",
      "train_annotation/27028705_15.png\n",
      "27028720_15.png\n",
      "27028720_15.png\n",
      "satimg/27028720_15.jpeg\n",
      "masksimg/27028720_15.png\n",
      "train/27028720_15.jpeg\n",
      "train_annotation/27028720_15.png\n"
     ]
    },
    {
     "name": "stderr",
     "output_type": "stream",
     "text": [
      "\r",
      " 99%|█████████▉| 436/439 [01:49<00:00,  4.74it/s]"
     ]
    },
    {
     "name": "stdout",
     "output_type": "stream",
     "text": [
      "27178705_15.png\n",
      "27178705_15.png\n",
      "satimg/27178705_15.jpeg\n",
      "masksimg/27178705_15.png\n",
      "validation/27178705_15.jpeg\n",
      "validation_annotation/27178705_15.png\n"
     ]
    },
    {
     "name": "stderr",
     "output_type": "stream",
     "text": [
      "\r",
      "100%|█████████▉| 437/439 [01:49<00:00,  4.58it/s]"
     ]
    },
    {
     "name": "stdout",
     "output_type": "stream",
     "text": [
      "99238660_15.png\n",
      "99238660_15.png\n",
      "satimg/99238660_15.jpeg\n",
      "masksimg/99238660_15.png\n",
      "train/99238660_15.jpeg\n",
      "train_annotation/99238660_15.png\n"
     ]
    },
    {
     "name": "stderr",
     "output_type": "stream",
     "text": [
      "\r",
      "100%|█████████▉| 438/439 [01:49<00:00,  4.47it/s]"
     ]
    },
    {
     "name": "stdout",
     "output_type": "stream",
     "text": [
      "99238675_15.png\n",
      "99238675_15.png\n",
      "satimg/99238675_15.jpeg\n",
      "masksimg/99238675_15.png\n",
      "validation/99238675_15.jpeg\n",
      "validation_annotation/99238675_15.png\n"
     ]
    },
    {
     "name": "stderr",
     "output_type": "stream",
     "text": [
      "100%|██████████| 439/439 [01:50<00:00,  3.99it/s]\n"
     ]
    }
   ],
   "source": [
    "def get_map_file(image):\n",
    "    map_file = image.split('.')[0] + '.png'\n",
    "    print(map_file)\n",
    "    assert map_file in masks_images\n",
    "    return map_file\n",
    "    \n",
    "for image in tqdm(sat_images):\n",
    "    image_png = image.split('.')[0] + '.png'\n",
    "    if (image!='') and (image_png in masks_images):\n",
    "        target_set = 'train' if random.randint(0, 99) < 75 else 'validation'\n",
    "          \n",
    "        image_s3_path = s3_satimg_path + image\n",
    "        if(target_set == 'train'):\n",
    "            image_target_path = train_path + image\n",
    "        else:\n",
    "            image_target_path = validation_path + image\n",
    "\n",
    "        masks_file_path = s3_masksimg_path + get_map_file(image)\n",
    "\n",
    "        if(target_set == 'train'):\n",
    "            masks_target_path = train_annotation_path + get_map_file(image)\n",
    "        else:\n",
    "            masks_target_path = validation_annotation_path + get_map_file(image)\n",
    "    \n",
    "        print(image_s3_path)\n",
    "        print(masks_file_path)\n",
    "        print(image_target_path)\n",
    "        print(masks_target_path)\n",
    "        s3.Object('segmentroads', image_target_path).copy_from(CopySource={'Bucket': 'segmentroads', 'Key': image_s3_path})\n",
    "        s3.Object('segmentroads', masks_target_path).copy_from(CopySource={'Bucket': 'segmentroads', 'Key': masks_file_path})\n",
    "\n",
    "    #shutil.copy(image_file_path, image_target_path)\n",
    "    #shutil.copy(map_file_path, map_target_path)"
   ]
  },
  {
   "cell_type": "code",
   "execution_count": 48,
   "metadata": {},
   "outputs": [
    {
     "name": "stderr",
     "output_type": "stream",
     "text": [
      "Parameter image_name will be renamed to image_uri in SageMaker Python SDK v2.\n"
     ]
    },
    {
     "name": "stdout",
     "output_type": "stream",
     "text": [
      "CPU times: user 7.94 ms, sys: 0 ns, total: 7.94 ms\n",
      "Wall time: 7.35 ms\n"
     ]
    }
   ],
   "source": [
    "%%time\n",
    "sess = sagemaker.Session()\n",
    "model = sagemaker.estimator.Estimator(\n",
    "    training_image,\n",
    "    role=role,\n",
    "    train_instance_count=1,\n",
    "    train_instance_type='ml.p3.2xlarge',\n",
    "    train_volume_size=100,\n",
    "    train_max_run=36000,\n",
    "    input_mode='File',\n",
    "    output_path='s3://segmentroads/output',\n",
    "    sagemaker_session=sess\n",
    ")"
   ]
  },
  {
   "cell_type": "code",
   "execution_count": 75,
   "metadata": {},
   "outputs": [],
   "source": [
    "model.set_hyperparameters(\n",
    "    backbone='resnet-50', # This is the encoder. Other option is resnet-50\n",
    "    algorithm='fcn', # This is the decoder. Other option is 'psp' and 'deeplab'                             \n",
    "    use_pretrained_model='True', # Use the pre-trained model.\n",
    "    crop_size=240, # Size of image random crop.                             \n",
    "    num_classes=2, # Pascal has 21 classes. This is a mandatory parameter.\n",
    "    epochs=100, # Number of epochs to run.\n",
    "    learning_rate=0.0001,                             \n",
    "    optimizer='rmsprop', # Other options include 'adam', 'rmsprop', 'nag', 'adagrad'.\n",
    "    lr_scheduler='poly', # Other options include 'cosine' and 'step'.                           \n",
    "    mini_batch_size=16, # Setup some mini batch size.\n",
    "    validation_mini_batch_size=16,\n",
    "    early_stopping=True, # Turn on early stopping. If OFF, other early stopping parameters are ignored.\n",
    "    early_stopping_patience=3, # Tolerate these many epochs if the mIoU doens't increase.\n",
    "    early_stopping_min_epochs=10, # No matter what, run these many number of epochs.                             \n",
    "    num_training_samples=len(sat_images)\n",
    ")"
   ]
  },
  {
   "cell_type": "code",
   "execution_count": 76,
   "metadata": {},
   "outputs": [
    {
     "name": "stderr",
     "output_type": "stream",
     "text": [
      "'s3_input' class will be renamed to 'TrainingInput' in SageMaker Python SDK v2.\n",
      "'s3_input' class will be renamed to 'TrainingInput' in SageMaker Python SDK v2.\n",
      "'s3_input' class will be renamed to 'TrainingInput' in SageMaker Python SDK v2.\n",
      "'s3_input' class will be renamed to 'TrainingInput' in SageMaker Python SDK v2.\n"
     ]
    },
    {
     "name": "stdout",
     "output_type": "stream",
     "text": [
      "s3://segmentroads/train/\n",
      "s3://segmentroads/train_annotation/\n"
     ]
    }
   ],
   "source": [
    "s3_train_path = \"s3://\" + bucket_name + \"/\" + train_path\n",
    "s3_validation_path = \"s3://\" + bucket_name + \"/\" + validation_path\n",
    "s3_train_annotation_path = \"s3://\" + bucket_name + \"/\" + train_annotation_path\n",
    "s3_validation_annotation_path = \"s3://\" + bucket_name + \"/\" + validation_annotation_path\n",
    "print(s3_train_path)\n",
    "print(s3_train_annotation_path)\n",
    "train_data = sagemaker.session.s3_input(s3_train_path, distribution='FullyReplicated',\n",
    "                          content_type='image/jpeg', s3_data_type='S3Prefix')\n",
    "validation_data = sagemaker.session.s3_input(s3_validation_path, distribution='FullyReplicated',\n",
    "                          content_type='image/jpeg', s3_data_type='S3Prefix')\n",
    "\n",
    "train_annotation_data = sagemaker.session.s3_input(s3_train_annotation_path, distribution='FullyReplicated',\n",
    "                          content_type='image/png', s3_data_type='S3Prefix')\n",
    "validation_annotation_data = sagemaker.session.s3_input(s3_validation_annotation_path, distribution='FullyReplicated',\n",
    "                          content_type='image/png', s3_data_type='S3Prefix')"
   ]
  },
  {
   "cell_type": "code",
   "execution_count": 77,
   "metadata": {},
   "outputs": [],
   "source": [
    "data_channels = {\n",
    "    'train': train_data,\n",
    "    'train_annotation': train_annotation_data,\n",
    "    'validation': validation_data,\n",
    "    'validation_annotation': validation_annotation_data\n",
    "}"
   ]
  },
  {
   "cell_type": "code",
   "execution_count": 78,
   "metadata": {},
   "outputs": [
    {
     "name": "stdout",
     "output_type": "stream",
     "text": [
      "2020-08-14 13:46:54 Starting - Starting the training job...\n",
      "2020-08-14 13:46:55 Starting - Launching requested ML instances.........\n",
      "2020-08-14 13:48:37 Starting - Preparing the instances for training......\n",
      "2020-08-14 13:49:47 Downloading - Downloading input data...\n",
      "2020-08-14 13:50:08 Training - Downloading the training image......\n",
      "2020-08-14 13:51:17 Training - Training image download completed. Training in progress.\u001b[34mDocker entrypoint called with argument(s): train\u001b[0m\n",
      "\u001b[34mRunning default environment configuration script\u001b[0m\n",
      "\u001b[34mRunning custom environment configuration script\u001b[0m\n",
      "\u001b[34m[08/14/2020 13:51:20 INFO 139936138098496] Reading default configuration from /opt/amazon/lib/python2.7/site-packages/algorithm/default-input.json: {u'syncbn': u'False', u'gamma2': u'0.9', u'gamma1': u'0.9', u'early_stopping_min_epochs': u'5', u'epochs': u'10', u'_workers': u'16', u'lr_scheduler_factor': u'0.1', u'_num_kv_servers': u'auto', u'weight_decay': u'0.0001', u'crop_size': u'240', u'use_pretrained_model': u'True', u'_aux_weight': u'0.5', u'_hybrid': u'False', u'_augmentation_type': u'default', u'lr_scheduler': u'poly', u'early_stopping_patience': u'4', u'momentum': u'0.9', u'optimizer': u'sgd', u'early_stopping_tolerance': u'0.0', u'learning_rate': u'0.001', u'backbone': u'resnet-50', u'validation_mini_batch_size': u'16', u'_aux_loss': u'True', u'mini_batch_size': u'16', u'early_stopping': u'False', u'algorithm': u'fcn', u'_logging_frequency': u'20', u'num_training_samples': u'8', u'_kvstore': u'device', u'precision_dtype': u'float32'}\u001b[0m\n",
      "\u001b[34m[08/14/2020 13:51:20 INFO 139936138098496] Merging with provided configuration from /opt/ml/input/config/hyperparameters.json: {u'learning_rate': u'0.0001', u'optimizer': u'rmsprop', u'algorithm': u'fcn', u'lr_scheduler': u'poly', u'use_pretrained_model': u'True', u'backbone': u'resnet-50', u'early_stopping_min_epochs': u'10', u'epochs': u'100', u'validation_mini_batch_size': u'16', u'num_training_samples': u'439', u'num_classes': u'2', u'mini_batch_size': u'16', u'early_stopping_patience': u'3', u'early_stopping': u'True', u'crop_size': u'240'}\u001b[0m\n",
      "\u001b[34m[08/14/2020 13:51:20 INFO 139936138098496] Final configuration: {u'syncbn': u'False', u'gamma2': u'0.9', u'gamma1': u'0.9', u'early_stopping_min_epochs': u'10', u'epochs': u'100', u'_workers': u'16', u'lr_scheduler_factor': u'0.1', u'_num_kv_servers': u'auto', u'weight_decay': u'0.0001', u'crop_size': u'240', u'use_pretrained_model': u'True', u'_aux_weight': u'0.5', u'_hybrid': u'False', u'_augmentation_type': u'default', u'lr_scheduler': u'poly', u'num_classes': u'2', u'early_stopping_patience': u'3', u'momentum': u'0.9', u'optimizer': u'rmsprop', u'early_stopping_tolerance': u'0.0', u'learning_rate': u'0.0001', u'backbone': u'resnet-50', u'validation_mini_batch_size': u'16', u'_aux_loss': u'True', u'mini_batch_size': u'16', u'early_stopping': u'True', u'algorithm': u'fcn', u'_logging_frequency': u'20', u'num_training_samples': u'439', u'_kvstore': u'device', u'precision_dtype': u'float32'}\u001b[0m\n",
      "\u001b[34mProcess 1 is a worker.\u001b[0m\n",
      "\u001b[34m[08/14/2020 13:51:20 INFO 139936138098496] Using default worker.\u001b[0m\n",
      "\u001b[34m[08/14/2020 13:51:21 INFO 139936138098496] font search path ['/opt/amazon/lib/python2.7/site-packages/matplotlib/mpl-data/fonts/ttf', '/opt/amazon/lib/python2.7/site-packages/matplotlib/mpl-data/fonts/afm', '/opt/amazon/lib/python2.7/site-packages/matplotlib/mpl-data/fonts/pdfcorefonts']\u001b[0m\n",
      "\u001b[34m[08/14/2020 13:51:21 INFO 139936138098496] generated new fontManager\u001b[0m\n",
      "\u001b[34m[08/14/2020 13:51:22 INFO 139936138098496] Loaded iterator creator application/x-image for content type ('application/x-image', '1.0')\u001b[0m\n",
      "\u001b[34m[08/14/2020 13:51:22 INFO 139936138098496] Loaded iterator creator application/x-recordio for content type ('application/x-recordio', '1.0')\u001b[0m\n",
      "\u001b[34m[08/14/2020 13:51:22 INFO 139936138098496] Loaded iterator creator image/png for content type ('image/png', '1.0')\u001b[0m\n",
      "\u001b[34m[08/14/2020 13:51:22 INFO 139936138098496] Loaded iterator creator application/json for content type ('application/json', '1.0')\u001b[0m\n",
      "\u001b[34m[08/14/2020 13:51:22 INFO 139936138098496] Loaded iterator creator image/jpeg for content type ('image/jpeg', '1.0')\u001b[0m\n",
      "\u001b[34m[08/14/2020 13:51:22 INFO 139936138098496] Checkpoint loading and saving are disabled.\u001b[0m\n",
      "\u001b[34m[08/14/2020 13:51:22 WARNING 139936138098496] label maps not provided, using defaults.\u001b[0m\n",
      "\u001b[34m[08/14/2020 13:51:22 INFO 139936138098496] #label_map train :{'scale': 1}\u001b[0m\n",
      "\u001b[34m[08/14/2020 13:51:22 WARNING 139936138098496] label maps not provided, using defaults.\u001b[0m\n",
      "\u001b[34m[08/14/2020 13:51:22 INFO 139936138098496] #label_map validation :{'scale': 1}\u001b[0m\n",
      "\u001b[34m[08/14/2020 13:51:22 INFO 139936138098496] nvidia-smi took: 0.0754868984222 secs to identify 1 gpus\u001b[0m\n",
      "\u001b[34m[08/14/2020 13:51:22 INFO 139936138098496] Number of GPUs being used: 1\u001b[0m\n",
      "\u001b[34m[08/14/2020 13:51:22 INFO 139936138098496] Number of GPUs being used: 1\u001b[0m\n",
      "\u001b[34m[08/14/2020 13:51:22 INFO 139936138098496] Number of GPUs being used: 1\u001b[0m\n",
      "\u001b[34m[13:51:24] /opt/brazil-pkg-cache/packages/AIAlgorithmsMXNet/AIAlgorithmsMXNet-1.4.x.1856.0/AL2012/generic-flavor/src/src/storage/storage.cc:108: Using GPUPooledRoundedStorageManager.\u001b[0m\n",
      "\u001b[34m[08/14/2020 13:51:28 INFO 139936138098496] LRScheduler setup: iters per epoch: 27, num_epochs 100\u001b[0m\n",
      "\u001b[34m#metrics {\"Metrics\": {\"Max Batches Seen Between Resets\": {\"count\": 1, \"max\": 0, \"sum\": 0.0, \"min\": 0}, \"Number of Batches Since Last Reset\": {\"count\": 1, \"max\": 0, \"sum\": 0.0, \"min\": 0}, \"Number of Records Since Last Reset\": {\"count\": 1, \"max\": 0, \"sum\": 0.0, \"min\": 0}, \"Total Batches Seen\": {\"count\": 1, \"max\": 0, \"sum\": 0.0, \"min\": 0}, \"Total Records Seen\": {\"count\": 1, \"max\": 0, \"sum\": 0.0, \"min\": 0}, \"Max Records Seen Between Resets\": {\"count\": 1, \"max\": 0, \"sum\": 0.0, \"min\": 0}, \"Reset Count\": {\"count\": 1, \"max\": 0, \"sum\": 0.0, \"min\": 0}}, \"EndTime\": 1597413088.388809, \"Dimensions\": {\"Host\": \"algo-1\", \"Meta\": \"init_train_data_iter\", \"Operation\": \"training\", \"Algorithm\": \"AWS/Semantic Segmentation\"}, \"StartTime\": 1597413088.388681}\n",
      "\u001b[0m\n",
      "\u001b[34m[08/14/2020 13:51:39 INFO 139936138098496] #progress_notice. epoch: 0, iterations: 20 speed: 58.3262693414 samples/sec learning_rate: 0.000099\u001b[0m\n",
      "\u001b[34m[08/14/2020 13:51:39 INFO 139936138098496] #quality_metric. host: algo-1, epoch: 0, train loss: 0.21637976896904765 .\u001b[0m\n",
      "\u001b[34m[08/14/2020 13:51:39 INFO 139936138098496] #throughput_metric. host: algo-1, epoch: 0, train throughput: 55.7051233565 samples/sec.\u001b[0m\n",
      "\u001b[34m[08/14/2020 13:51:41 INFO 139936138098496] #quality_metric. host: algo-1, epoch: 0, validation pixel_accuracy: 1.0 .\u001b[0m\n",
      "\u001b[34m[08/14/2020 13:51:41 INFO 139936138098496] #quality_metric. host: algo-1, epoch: 0, validation mIOU: 0.5 .\u001b[0m\n",
      "\u001b[34m[08/14/2020 13:51:41 INFO 139936138098496] #throughput_metric. host: algo-1, epoch: 0, validation throughput: 97.4514992334 samples/sec.\u001b[0m\n",
      "\u001b[34m[08/14/2020 13:51:41 INFO 139936138098496] Serializing model to /opt/ml/model/model_best.params\u001b[0m\n",
      "\u001b[34m[08/14/2020 13:51:41 INFO 139936138098496] Serializing model to /opt/ml/model/model_best.params\u001b[0m\n",
      "\u001b[34m[08/14/2020 13:51:41 INFO 139936138098496] #progress_metric: host=algo-1, completed 1 % of epochs\u001b[0m\n",
      "\u001b[34m#metrics {\"Metrics\": {\"Max Batches Seen Between Resets\": {\"count\": 1, \"max\": 0, \"sum\": 0.0, \"min\": 0}, \"Number of Batches Since Last Reset\": {\"count\": 1, \"max\": 0, \"sum\": 0.0, \"min\": 0}, \"Number of Records Since Last Reset\": {\"count\": 1, \"max\": 0, \"sum\": 0.0, \"min\": 0}, \"Total Batches Seen\": {\"count\": 1, \"max\": 0, \"sum\": 0.0, \"min\": 0}, \"Total Records Seen\": {\"count\": 1, \"max\": 0, \"sum\": 0.0, \"min\": 0}, \"Max Records Seen Between Resets\": {\"count\": 1, \"max\": 0, \"sum\": 0.0, \"min\": 0}, \"Reset Count\": {\"count\": 1, \"max\": 1, \"sum\": 1.0, \"min\": 1}}, \"EndTime\": 1597413101.961577, \"Dimensions\": {\"Host\": \"algo-1\", \"Meta\": \"training_data_iter\", \"Operation\": \"training\", \"Algorithm\": \"AWS/Semantic Segmentation\", \"epoch\": 0}, \"StartTime\": 1597413088.389309}\n",
      "\u001b[0m\n",
      "\u001b[34m[08/14/2020 13:51:52 INFO 139936138098496] #progress_notice. epoch: 1, iterations: 20 speed: 58.4090670928 samples/sec learning_rate: 0.000099\u001b[0m\n",
      "\u001b[34m[08/14/2020 13:51:52 INFO 139936138098496] #quality_metric. host: algo-1, epoch: 1, train loss: 0.02015568883242932 .\u001b[0m\n",
      "\u001b[34m[08/14/2020 13:51:52 INFO 139936138098496] #throughput_metric. host: algo-1, epoch: 1, train throughput: 54.0846844323 samples/sec.\u001b[0m\n",
      "\u001b[34m[08/14/2020 13:51:55 INFO 139936138098496] #quality_metric. host: algo-1, epoch: 1, validation pixel_accuracy: 1.0 .\u001b[0m\n",
      "\u001b[34m[08/14/2020 13:51:55 INFO 139936138098496] #quality_metric. host: algo-1, epoch: 1, validation mIOU: 0.5 .\u001b[0m\n",
      "\u001b[34m[08/14/2020 13:51:55 INFO 139936138098496] #throughput_metric. host: algo-1, epoch: 1, validation throughput: 100.778107459 samples/sec.\u001b[0m\n",
      "\u001b[34m[08/14/2020 13:51:55 INFO 139936138098496] Serializing model to /opt/ml/model/model_best.params\u001b[0m\n",
      "\u001b[34m[08/14/2020 13:51:55 INFO 139936138098496] #progress_metric: host=algo-1, completed 2 % of epochs\u001b[0m\n",
      "\u001b[34m#metrics {\"Metrics\": {\"Max Batches Seen Between Resets\": {\"count\": 1, \"max\": 0, \"sum\": 0.0, \"min\": 0}, \"Number of Batches Since Last Reset\": {\"count\": 1, \"max\": 0, \"sum\": 0.0, \"min\": 0}, \"Number of Records Since Last Reset\": {\"count\": 1, \"max\": 0, \"sum\": 0.0, \"min\": 0}, \"Total Batches Seen\": {\"count\": 1, \"max\": 0, \"sum\": 0.0, \"min\": 0}, \"Total Records Seen\": {\"count\": 1, \"max\": 0, \"sum\": 0.0, \"min\": 0}, \"Max Records Seen Between Resets\": {\"count\": 1, \"max\": 0, \"sum\": 0.0, \"min\": 0}, \"Reset Count\": {\"count\": 1, \"max\": 2, \"sum\": 2.0, \"min\": 2}}, \"EndTime\": 1597413115.565153, \"Dimensions\": {\"Host\": \"algo-1\", \"Meta\": \"training_data_iter\", \"Operation\": \"training\", \"Algorithm\": \"AWS/Semantic Segmentation\", \"epoch\": 1}, \"StartTime\": 1597413101.961775}\n",
      "\u001b[0m\n"
     ]
    },
    {
     "name": "stdout",
     "output_type": "stream",
     "text": [
      "\u001b[34m[08/14/2020 13:52:05 INFO 139936138098496] #progress_notice. epoch: 2, iterations: 20 speed: 57.9386777222 samples/sec learning_rate: 0.000098\u001b[0m\n",
      "\u001b[34m[08/14/2020 13:52:06 INFO 139936138098496] #quality_metric. host: algo-1, epoch: 2, train loss: 0.0063230741680378 .\u001b[0m\n",
      "\u001b[34m[08/14/2020 13:52:06 INFO 139936138098496] #throughput_metric. host: algo-1, epoch: 2, train throughput: 55.704927391 samples/sec.\u001b[0m\n",
      "\u001b[34m[08/14/2020 13:52:08 INFO 139936138098496] #quality_metric. host: algo-1, epoch: 2, validation pixel_accuracy: 1.0 .\u001b[0m\n",
      "\u001b[34m[08/14/2020 13:52:08 INFO 139936138098496] #quality_metric. host: algo-1, epoch: 2, validation mIOU: 0.5 .\u001b[0m\n",
      "\u001b[34m[08/14/2020 13:52:08 INFO 139936138098496] #throughput_metric. host: algo-1, epoch: 2, validation throughput: 100.77788045 samples/sec.\u001b[0m\n",
      "\u001b[34m[08/14/2020 13:52:08 INFO 139936138098496] Serializing model to /opt/ml/model/model_best.params\u001b[0m\n",
      "\u001b[34m[08/14/2020 13:52:08 INFO 139936138098496] #progress_metric: host=algo-1, completed 3 % of epochs\u001b[0m\n",
      "\u001b[34m#metrics {\"Metrics\": {\"Max Batches Seen Between Resets\": {\"count\": 1, \"max\": 0, \"sum\": 0.0, \"min\": 0}, \"Number of Batches Since Last Reset\": {\"count\": 1, \"max\": 0, \"sum\": 0.0, \"min\": 0}, \"Number of Records Since Last Reset\": {\"count\": 1, \"max\": 0, \"sum\": 0.0, \"min\": 0}, \"Total Batches Seen\": {\"count\": 1, \"max\": 0, \"sum\": 0.0, \"min\": 0}, \"Total Records Seen\": {\"count\": 1, \"max\": 0, \"sum\": 0.0, \"min\": 0}, \"Max Records Seen Between Resets\": {\"count\": 1, \"max\": 0, \"sum\": 0.0, \"min\": 0}, \"Reset Count\": {\"count\": 1, \"max\": 3, \"sum\": 3.0, \"min\": 3}}, \"EndTime\": 1597413128.889166, \"Dimensions\": {\"Host\": \"algo-1\", \"Meta\": \"training_data_iter\", \"Operation\": \"training\", \"Algorithm\": \"AWS/Semantic Segmentation\", \"epoch\": 2}, \"StartTime\": 1597413115.565348}\n",
      "\u001b[0m\n",
      "\u001b[34m[08/14/2020 13:52:19 INFO 139936138098496] #progress_notice. epoch: 3, iterations: 20 speed: 57.9176762804 samples/sec learning_rate: 0.000097\u001b[0m\n",
      "\u001b[34m[08/14/2020 13:52:20 INFO 139936138098496] #quality_metric. host: algo-1, epoch: 3, train loss: 0.002342284725851972 .\u001b[0m\n",
      "\u001b[34m[08/14/2020 13:52:20 INFO 139936138098496] #throughput_metric. host: algo-1, epoch: 3, train throughput: 56.4071032539 samples/sec.\u001b[0m\n",
      "\u001b[34m[08/14/2020 13:52:22 INFO 139936138098496] #quality_metric. host: algo-1, epoch: 3, validation pixel_accuracy: 1.0 .\u001b[0m\n",
      "\u001b[34m[08/14/2020 13:52:22 INFO 139936138098496] #quality_metric. host: algo-1, epoch: 3, validation mIOU: 0.5 .\u001b[0m\n",
      "\u001b[34m[08/14/2020 13:52:22 INFO 139936138098496] #throughput_metric. host: algo-1, epoch: 3, validation throughput: 98.6131290471 samples/sec.\u001b[0m\n",
      "\u001b[34m[08/14/2020 13:52:22 INFO 139936138098496] Serializing model to /opt/ml/model/model_best.params\u001b[0m\n",
      "\u001b[34m[08/14/2020 13:52:22 INFO 139936138098496] #progress_metric: host=algo-1, completed 4 % of epochs\u001b[0m\n",
      "\u001b[34m#metrics {\"Metrics\": {\"Max Batches Seen Between Resets\": {\"count\": 1, \"max\": 0, \"sum\": 0.0, \"min\": 0}, \"Number of Batches Since Last Reset\": {\"count\": 1, \"max\": 0, \"sum\": 0.0, \"min\": 0}, \"Number of Records Since Last Reset\": {\"count\": 1, \"max\": 0, \"sum\": 0.0, \"min\": 0}, \"Total Batches Seen\": {\"count\": 1, \"max\": 0, \"sum\": 0.0, \"min\": 0}, \"Total Records Seen\": {\"count\": 1, \"max\": 0, \"sum\": 0.0, \"min\": 0}, \"Max Records Seen Between Resets\": {\"count\": 1, \"max\": 0, \"sum\": 0.0, \"min\": 0}, \"Reset Count\": {\"count\": 1, \"max\": 4, \"sum\": 4.0, \"min\": 4}}, \"EndTime\": 1597413142.821899, \"Dimensions\": {\"Host\": \"algo-1\", \"Meta\": \"training_data_iter\", \"Operation\": \"training\", \"Algorithm\": \"AWS/Semantic Segmentation\", \"epoch\": 3}, \"StartTime\": 1597413128.889309}\n",
      "\u001b[0m\n",
      "\u001b[34m[08/14/2020 13:52:33 INFO 139936138098496] #progress_notice. epoch: 4, iterations: 20 speed: 57.7778060937 samples/sec learning_rate: 0.000096\u001b[0m\n",
      "\u001b[34m[08/14/2020 13:52:34 INFO 139936138098496] #quality_metric. host: algo-1, epoch: 4, train loss: 0.0011241010294973173 .\u001b[0m\n",
      "\u001b[34m[08/14/2020 13:52:34 INFO 139936138098496] #throughput_metric. host: algo-1, epoch: 4, train throughput: 56.9324521396 samples/sec.\u001b[0m\n",
      "\u001b[34m[08/14/2020 13:52:36 INFO 139936138098496] #quality_metric. host: algo-1, epoch: 4, validation pixel_accuracy: 1.0 .\u001b[0m\n",
      "\u001b[34m[08/14/2020 13:52:36 INFO 139936138098496] #quality_metric. host: algo-1, epoch: 4, validation mIOU: 0.5 .\u001b[0m\n",
      "\u001b[34m[08/14/2020 13:52:36 INFO 139936138098496] #throughput_metric. host: algo-1, epoch: 4, validation throughput: 100.6502316 samples/sec.\u001b[0m\n",
      "\u001b[34m[08/14/2020 13:52:36 INFO 139936138098496] Serializing model to /opt/ml/model/model_best.params\u001b[0m\n",
      "\u001b[34m[08/14/2020 13:52:36 INFO 139936138098496] #progress_metric: host=algo-1, completed 5 % of epochs\u001b[0m\n",
      "\u001b[34m#metrics {\"Metrics\": {\"Max Batches Seen Between Resets\": {\"count\": 1, \"max\": 0, \"sum\": 0.0, \"min\": 0}, \"Number of Batches Since Last Reset\": {\"count\": 1, \"max\": 0, \"sum\": 0.0, \"min\": 0}, \"Number of Records Since Last Reset\": {\"count\": 1, \"max\": 0, \"sum\": 0.0, \"min\": 0}, \"Total Batches Seen\": {\"count\": 1, \"max\": 0, \"sum\": 0.0, \"min\": 0}, \"Total Records Seen\": {\"count\": 1, \"max\": 0, \"sum\": 0.0, \"min\": 0}, \"Max Records Seen Between Resets\": {\"count\": 1, \"max\": 0, \"sum\": 0.0, \"min\": 0}, \"Reset Count\": {\"count\": 1, \"max\": 5, \"sum\": 5.0, \"min\": 5}}, \"EndTime\": 1597413156.260844, \"Dimensions\": {\"Host\": \"algo-1\", \"Meta\": \"training_data_iter\", \"Operation\": \"training\", \"Algorithm\": \"AWS/Semantic Segmentation\", \"epoch\": 4}, \"StartTime\": 1597413142.822075}\n",
      "\u001b[0m\n",
      "\u001b[34m[08/14/2020 13:52:46 INFO 139936138098496] #progress_notice. epoch: 5, iterations: 20 speed: 57.8407013745 samples/sec learning_rate: 0.000096\u001b[0m\n",
      "\u001b[34m[08/14/2020 13:52:46 INFO 139936138098496] #quality_metric. host: algo-1, epoch: 5, train loss: 0.0007060222172488769 .\u001b[0m\n",
      "\u001b[34m[08/14/2020 13:52:46 INFO 139936138098496] #throughput_metric. host: algo-1, epoch: 5, train throughput: 55.7171261177 samples/sec.\u001b[0m\n",
      "\u001b[34m[08/14/2020 13:52:49 INFO 139936138098496] #quality_metric. host: algo-1, epoch: 5, validation pixel_accuracy: 1.0 .\u001b[0m\n",
      "\u001b[34m[08/14/2020 13:52:49 INFO 139936138098496] #quality_metric. host: algo-1, epoch: 5, validation mIOU: 0.5 .\u001b[0m\n",
      "\u001b[34m[08/14/2020 13:52:49 INFO 139936138098496] #throughput_metric. host: algo-1, epoch: 5, validation throughput: 97.6394983748 samples/sec.\u001b[0m\n",
      "\u001b[34m[08/14/2020 13:52:49 INFO 139936138098496] Serializing model to /opt/ml/model/model_best.params\u001b[0m\n",
      "\u001b[34m[08/14/2020 13:52:49 INFO 139936138098496] #progress_metric: host=algo-1, completed 6 % of epochs\u001b[0m\n",
      "\u001b[34m#metrics {\"Metrics\": {\"Max Batches Seen Between Resets\": {\"count\": 1, \"max\": 0, \"sum\": 0.0, \"min\": 0}, \"Number of Batches Since Last Reset\": {\"count\": 1, \"max\": 0, \"sum\": 0.0, \"min\": 0}, \"Number of Records Since Last Reset\": {\"count\": 1, \"max\": 0, \"sum\": 0.0, \"min\": 0}, \"Total Batches Seen\": {\"count\": 1, \"max\": 0, \"sum\": 0.0, \"min\": 0}, \"Total Records Seen\": {\"count\": 1, \"max\": 0, \"sum\": 0.0, \"min\": 0}, \"Max Records Seen Between Resets\": {\"count\": 1, \"max\": 0, \"sum\": 0.0, \"min\": 0}, \"Reset Count\": {\"count\": 1, \"max\": 6, \"sum\": 6.0, \"min\": 6}}, \"EndTime\": 1597413169.509995, \"Dimensions\": {\"Host\": \"algo-1\", \"Meta\": \"training_data_iter\", \"Operation\": \"training\", \"Algorithm\": \"AWS/Semantic Segmentation\", \"epoch\": 5}, \"StartTime\": 1597413156.261023}\n",
      "\u001b[0m\n",
      "\u001b[34m[08/14/2020 13:52:59 INFO 139936138098496] #progress_notice. epoch: 6, iterations: 20 speed: 58.0783235496 samples/sec learning_rate: 0.000095\u001b[0m\n",
      "\u001b[34m[08/14/2020 13:53:00 INFO 139936138098496] #quality_metric. host: algo-1, epoch: 6, train loss: 0.000561735780634494 .\u001b[0m\n",
      "\u001b[34m[08/14/2020 13:53:00 INFO 139936138098496] #throughput_metric. host: algo-1, epoch: 6, train throughput: 54.4839074497 samples/sec.\u001b[0m\n",
      "\u001b[34m[08/14/2020 13:53:02 INFO 139936138098496] #quality_metric. host: algo-1, epoch: 6, validation pixel_accuracy: 1.0 .\u001b[0m\n",
      "\u001b[34m[08/14/2020 13:53:02 INFO 139936138098496] #quality_metric. host: algo-1, epoch: 6, validation mIOU: 0.5 .\u001b[0m\n",
      "\u001b[34m[08/14/2020 13:53:02 INFO 139936138098496] #throughput_metric. host: algo-1, epoch: 6, validation throughput: 100.022153993 samples/sec.\u001b[0m\n",
      "\u001b[34m[08/14/2020 13:53:02 INFO 139936138098496] Serializing model to /opt/ml/model/model_best.params\u001b[0m\n",
      "\u001b[34m[08/14/2020 13:53:03 INFO 139936138098496] #progress_metric: host=algo-1, completed 7 % of epochs\u001b[0m\n",
      "\u001b[34m#metrics {\"Metrics\": {\"Max Batches Seen Between Resets\": {\"count\": 1, \"max\": 0, \"sum\": 0.0, \"min\": 0}, \"Number of Batches Since Last Reset\": {\"count\": 1, \"max\": 0, \"sum\": 0.0, \"min\": 0}, \"Number of Records Since Last Reset\": {\"count\": 1, \"max\": 0, \"sum\": 0.0, \"min\": 0}, \"Total Batches Seen\": {\"count\": 1, \"max\": 0, \"sum\": 0.0, \"min\": 0}, \"Total Records Seen\": {\"count\": 1, \"max\": 0, \"sum\": 0.0, \"min\": 0}, \"Max Records Seen Between Resets\": {\"count\": 1, \"max\": 0, \"sum\": 0.0, \"min\": 0}, \"Reset Count\": {\"count\": 1, \"max\": 7, \"sum\": 7.0, \"min\": 7}}, \"EndTime\": 1597413183.090635, \"Dimensions\": {\"Host\": \"algo-1\", \"Meta\": \"training_data_iter\", \"Operation\": \"training\", \"Algorithm\": \"AWS/Semantic Segmentation\", \"epoch\": 6}, \"StartTime\": 1597413169.510219}\n",
      "\u001b[0m\n"
     ]
    },
    {
     "name": "stdout",
     "output_type": "stream",
     "text": [
      "\u001b[34m[08/14/2020 13:53:13 INFO 139936138098496] #progress_notice. epoch: 7, iterations: 20 speed: 57.9605453963 samples/sec learning_rate: 0.000094\u001b[0m\n",
      "\u001b[34m[08/14/2020 13:53:14 INFO 139936138098496] #quality_metric. host: algo-1, epoch: 7, train loss: 0.0004957346827723086 .\u001b[0m\n",
      "\u001b[34m[08/14/2020 13:53:14 INFO 139936138098496] #throughput_metric. host: algo-1, epoch: 7, train throughput: 55.5722933465 samples/sec.\u001b[0m\n",
      "\u001b[34m[08/14/2020 13:53:16 INFO 139936138098496] #quality_metric. host: algo-1, epoch: 7, validation pixel_accuracy: 1.0 .\u001b[0m\n",
      "\u001b[34m[08/14/2020 13:53:16 INFO 139936138098496] #quality_metric. host: algo-1, epoch: 7, validation mIOU: 0.5 .\u001b[0m\n",
      "\u001b[34m[08/14/2020 13:53:16 INFO 139936138098496] #throughput_metric. host: algo-1, epoch: 7, validation throughput: 98.750523056 samples/sec.\u001b[0m\n",
      "\u001b[34m[08/14/2020 13:53:16 INFO 139936138098496] Serializing model to /opt/ml/model/model_best.params\u001b[0m\n",
      "\u001b[34m[08/14/2020 13:53:16 INFO 139936138098496] #progress_metric: host=algo-1, completed 8 % of epochs\u001b[0m\n",
      "\u001b[34m#metrics {\"Metrics\": {\"Max Batches Seen Between Resets\": {\"count\": 1, \"max\": 0, \"sum\": 0.0, \"min\": 0}, \"Number of Batches Since Last Reset\": {\"count\": 1, \"max\": 0, \"sum\": 0.0, \"min\": 0}, \"Number of Records Since Last Reset\": {\"count\": 1, \"max\": 0, \"sum\": 0.0, \"min\": 0}, \"Total Batches Seen\": {\"count\": 1, \"max\": 0, \"sum\": 0.0, \"min\": 0}, \"Total Records Seen\": {\"count\": 1, \"max\": 0, \"sum\": 0.0, \"min\": 0}, \"Max Records Seen Between Resets\": {\"count\": 1, \"max\": 0, \"sum\": 0.0, \"min\": 0}, \"Reset Count\": {\"count\": 1, \"max\": 8, \"sum\": 8.0, \"min\": 8}}, \"EndTime\": 1597413196.659073, \"Dimensions\": {\"Host\": \"algo-1\", \"Meta\": \"training_data_iter\", \"Operation\": \"training\", \"Algorithm\": \"AWS/Semantic Segmentation\", \"epoch\": 7}, \"StartTime\": 1597413183.090962}\n",
      "\u001b[0m\n",
      "\u001b[34m[08/14/2020 13:53:27 INFO 139936138098496] #progress_notice. epoch: 8, iterations: 20 speed: 57.6956958334 samples/sec learning_rate: 0.000094\u001b[0m\n",
      "\u001b[34m[08/14/2020 13:53:27 INFO 139936138098496] #quality_metric. host: algo-1, epoch: 8, train loss: 0.0004524114594373497 .\u001b[0m\n",
      "\u001b[34m[08/14/2020 13:53:27 INFO 139936138098496] #throughput_metric. host: algo-1, epoch: 8, train throughput: 55.4449779213 samples/sec.\u001b[0m\n",
      "\u001b[34m[08/14/2020 13:53:29 INFO 139936138098496] #quality_metric. host: algo-1, epoch: 8, validation pixel_accuracy: 1.0 .\u001b[0m\n",
      "\u001b[34m[08/14/2020 13:53:29 INFO 139936138098496] #quality_metric. host: algo-1, epoch: 8, validation mIOU: 0.5 .\u001b[0m\n",
      "\u001b[34m[08/14/2020 13:53:29 INFO 139936138098496] #throughput_metric. host: algo-1, epoch: 8, validation throughput: 100.276769166 samples/sec.\u001b[0m\n",
      "\u001b[34m[08/14/2020 13:53:29 INFO 139936138098496] Serializing model to /opt/ml/model/model_best.params\u001b[0m\n",
      "\u001b[34m[08/14/2020 13:53:29 INFO 139936138098496] #progress_metric: host=algo-1, completed 9 % of epochs\u001b[0m\n",
      "\u001b[34m#metrics {\"Metrics\": {\"Max Batches Seen Between Resets\": {\"count\": 1, \"max\": 0, \"sum\": 0.0, \"min\": 0}, \"Number of Batches Since Last Reset\": {\"count\": 1, \"max\": 0, \"sum\": 0.0, \"min\": 0}, \"Number of Records Since Last Reset\": {\"count\": 1, \"max\": 0, \"sum\": 0.0, \"min\": 0}, \"Total Batches Seen\": {\"count\": 1, \"max\": 0, \"sum\": 0.0, \"min\": 0}, \"Total Records Seen\": {\"count\": 1, \"max\": 0, \"sum\": 0.0, \"min\": 0}, \"Max Records Seen Between Resets\": {\"count\": 1, \"max\": 0, \"sum\": 0.0, \"min\": 0}, \"Reset Count\": {\"count\": 1, \"max\": 9, \"sum\": 9.0, \"min\": 9}}, \"EndTime\": 1597413209.711336, \"Dimensions\": {\"Host\": \"algo-1\", \"Meta\": \"training_data_iter\", \"Operation\": \"training\", \"Algorithm\": \"AWS/Semantic Segmentation\", \"epoch\": 8}, \"StartTime\": 1597413196.659255}\n",
      "\u001b[0m\n",
      "\u001b[34m[08/14/2020 13:53:40 INFO 139936138098496] #progress_notice. epoch: 9, iterations: 20 speed: 57.7633838847 samples/sec learning_rate: 0.000093\u001b[0m\n",
      "\u001b[34m[08/14/2020 13:53:41 INFO 139936138098496] #quality_metric. host: algo-1, epoch: 9, train loss: 0.00044236090351742774 .\u001b[0m\n",
      "\u001b[34m[08/14/2020 13:53:41 INFO 139936138098496] #throughput_metric. host: algo-1, epoch: 9, train throughput: 56.7090614042 samples/sec.\u001b[0m\n",
      "\u001b[34m[08/14/2020 13:53:43 INFO 139936138098496] #quality_metric. host: algo-1, epoch: 9, validation pixel_accuracy: 1.0 .\u001b[0m\n",
      "\u001b[34m[08/14/2020 13:53:43 INFO 139936138098496] #quality_metric. host: algo-1, epoch: 9, validation mIOU: 0.5 .\u001b[0m\n",
      "\u001b[34m[08/14/2020 13:53:43 INFO 139936138098496] #throughput_metric. host: algo-1, epoch: 9, validation throughput: 100.53943142 samples/sec.\u001b[0m\n",
      "\u001b[34m[08/14/2020 13:53:43 INFO 139936138098496] Serializing model to /opt/ml/model/model_best.params\u001b[0m\n",
      "\u001b[34m[08/14/2020 13:53:43 INFO 139936138098496] #progress_metric: host=algo-1, completed 10 % of epochs\u001b[0m\n",
      "\u001b[34m#metrics {\"Metrics\": {\"Max Batches Seen Between Resets\": {\"count\": 1, \"max\": 0, \"sum\": 0.0, \"min\": 0}, \"Number of Batches Since Last Reset\": {\"count\": 1, \"max\": 0, \"sum\": 0.0, \"min\": 0}, \"Number of Records Since Last Reset\": {\"count\": 1, \"max\": 0, \"sum\": 0.0, \"min\": 0}, \"Total Batches Seen\": {\"count\": 1, \"max\": 0, \"sum\": 0.0, \"min\": 0}, \"Total Records Seen\": {\"count\": 1, \"max\": 0, \"sum\": 0.0, \"min\": 0}, \"Max Records Seen Between Resets\": {\"count\": 1, \"max\": 0, \"sum\": 0.0, \"min\": 0}, \"Reset Count\": {\"count\": 1, \"max\": 10, \"sum\": 10.0, \"min\": 10}}, \"EndTime\": 1597413223.769313, \"Dimensions\": {\"Host\": \"algo-1\", \"Meta\": \"training_data_iter\", \"Operation\": \"training\", \"Algorithm\": \"AWS/Semantic Segmentation\", \"epoch\": 9}, \"StartTime\": 1597413209.711537}\n",
      "\u001b[0m\n",
      "\u001b[34m[08/14/2020 13:53:54 INFO 139936138098496] #progress_notice. epoch: 10, iterations: 20 speed: 57.8950917313 samples/sec learning_rate: 0.000092\u001b[0m\n",
      "\u001b[34m[08/14/2020 13:53:54 INFO 139936138098496] #quality_metric. host: algo-1, epoch: 10, train loss: 0.00042796965793795173 .\u001b[0m\n",
      "\u001b[34m[08/14/2020 13:53:54 INFO 139936138098496] #throughput_metric. host: algo-1, epoch: 10, train throughput: 56.0804644191 samples/sec.\u001b[0m\n",
      "\u001b[34m[08/14/2020 13:53:56 INFO 139936138098496] #quality_metric. host: algo-1, epoch: 10, validation pixel_accuracy: 1.0 .\u001b[0m\n",
      "\u001b[34m[08/14/2020 13:53:56 INFO 139936138098496] #quality_metric. host: algo-1, epoch: 10, validation mIOU: 0.5 .\u001b[0m\n",
      "\u001b[34m[08/14/2020 13:53:56 INFO 139936138098496] #throughput_metric. host: algo-1, epoch: 10, validation throughput: 100.949918055 samples/sec.\u001b[0m\n",
      "\u001b[34m[08/14/2020 13:53:56 INFO 139936138098496] Serializing model to /opt/ml/model/model_best.params\u001b[0m\n",
      "\u001b[34m[08/14/2020 13:53:57 INFO 139936138098496] #progress_metric: host=algo-1, completed 11 % of epochs\u001b[0m\n",
      "\u001b[34m#metrics {\"Metrics\": {\"Max Batches Seen Between Resets\": {\"count\": 1, \"max\": 0, \"sum\": 0.0, \"min\": 0}, \"Number of Batches Since Last Reset\": {\"count\": 1, \"max\": 0, \"sum\": 0.0, \"min\": 0}, \"Number of Records Since Last Reset\": {\"count\": 1, \"max\": 0, \"sum\": 0.0, \"min\": 0}, \"Total Batches Seen\": {\"count\": 1, \"max\": 0, \"sum\": 0.0, \"min\": 0}, \"Total Records Seen\": {\"count\": 1, \"max\": 0, \"sum\": 0.0, \"min\": 0}, \"Max Records Seen Between Resets\": {\"count\": 1, \"max\": 0, \"sum\": 0.0, \"min\": 0}, \"Reset Count\": {\"count\": 1, \"max\": 11, \"sum\": 11.0, \"min\": 11}}, \"EndTime\": 1597413237.085715, \"Dimensions\": {\"Host\": \"algo-1\", \"Meta\": \"training_data_iter\", \"Operation\": \"training\", \"Algorithm\": \"AWS/Semantic Segmentation\", \"epoch\": 10}, \"StartTime\": 1597413223.769511}\n",
      "\u001b[0m\n",
      "\u001b[34m[08/14/2020 13:54:07 INFO 139936138098496] #progress_notice. epoch: 11, iterations: 20 speed: 58.2368825949 samples/sec learning_rate: 0.000091\u001b[0m\n",
      "\u001b[34m[08/14/2020 13:54:08 INFO 139936138098496] #quality_metric. host: algo-1, epoch: 11, train loss: 0.0004211822379147634 .\u001b[0m\n",
      "\u001b[34m[08/14/2020 13:54:08 INFO 139936138098496] #throughput_metric. host: algo-1, epoch: 11, train throughput: 55.7550479561 samples/sec.\u001b[0m\n",
      "\u001b[34m[08/14/2020 13:54:10 INFO 139936138098496] #quality_metric. host: algo-1, epoch: 11, validation pixel_accuracy: 1.0 .\u001b[0m\n",
      "\u001b[34m[08/14/2020 13:54:10 INFO 139936138098496] #quality_metric. host: algo-1, epoch: 11, validation mIOU: 0.5 .\u001b[0m\n",
      "\u001b[34m[08/14/2020 13:54:10 INFO 139936138098496] #throughput_metric. host: algo-1, epoch: 11, validation throughput: 100.52630378 samples/sec.\u001b[0m\n",
      "\u001b[34m[08/14/2020 13:54:10 INFO 139936138098496] Serializing model to /opt/ml/model/model_best.params\u001b[0m\n",
      "\u001b[34m[08/14/2020 13:54:10 INFO 139936138098496] #progress_metric: host=algo-1, completed 12 % of epochs\u001b[0m\n",
      "\u001b[34m#metrics {\"Metrics\": {\"Max Batches Seen Between Resets\": {\"count\": 1, \"max\": 0, \"sum\": 0.0, \"min\": 0}, \"Number of Batches Since Last Reset\": {\"count\": 1, \"max\": 0, \"sum\": 0.0, \"min\": 0}, \"Number of Records Since Last Reset\": {\"count\": 1, \"max\": 0, \"sum\": 0.0, \"min\": 0}, \"Total Batches Seen\": {\"count\": 1, \"max\": 0, \"sum\": 0.0, \"min\": 0}, \"Total Records Seen\": {\"count\": 1, \"max\": 0, \"sum\": 0.0, \"min\": 0}, \"Max Records Seen Between Resets\": {\"count\": 1, \"max\": 0, \"sum\": 0.0, \"min\": 0}, \"Reset Count\": {\"count\": 1, \"max\": 12, \"sum\": 12.0, \"min\": 12}}, \"EndTime\": 1597413250.997398, \"Dimensions\": {\"Host\": \"algo-1\", \"Meta\": \"training_data_iter\", \"Operation\": \"training\", \"Algorithm\": \"AWS/Semantic Segmentation\", \"epoch\": 11}, \"StartTime\": 1597413237.085883}\n",
      "\u001b[0m\n"
     ]
    },
    {
     "name": "stdout",
     "output_type": "stream",
     "text": [
      "\u001b[34m[08/14/2020 13:54:21 INFO 139936138098496] #progress_notice. epoch: 12, iterations: 20 speed: 58.041453941 samples/sec learning_rate: 0.000091\u001b[0m\n",
      "\u001b[34m[08/14/2020 13:54:22 INFO 139936138098496] #quality_metric. host: algo-1, epoch: 12, train loss: 0.0004249668338822878 .\u001b[0m\n",
      "\u001b[34m[08/14/2020 13:54:22 INFO 139936138098496] #throughput_metric. host: algo-1, epoch: 12, train throughput: 56.6742834541 samples/sec.\u001b[0m\n",
      "\u001b[34m[08/14/2020 13:54:24 INFO 139936138098496] #quality_metric. host: algo-1, epoch: 12, validation pixel_accuracy: 1.0 .\u001b[0m\n",
      "\u001b[34m[08/14/2020 13:54:24 INFO 139936138098496] #quality_metric. host: algo-1, epoch: 12, validation mIOU: 0.5 .\u001b[0m\n",
      "\u001b[34m[08/14/2020 13:54:24 INFO 139936138098496] #throughput_metric. host: algo-1, epoch: 12, validation throughput: 100.774319067 samples/sec.\u001b[0m\n",
      "\u001b[34m[08/14/2020 13:54:24 INFO 139936138098496] Serializing model to /opt/ml/model/model_best.params\u001b[0m\n",
      "\u001b[34m[08/14/2020 13:54:24 INFO 139936138098496] #progress_metric: host=algo-1, completed 13 % of epochs\u001b[0m\n",
      "\u001b[34m#metrics {\"Metrics\": {\"Max Batches Seen Between Resets\": {\"count\": 1, \"max\": 0, \"sum\": 0.0, \"min\": 0}, \"Number of Batches Since Last Reset\": {\"count\": 1, \"max\": 0, \"sum\": 0.0, \"min\": 0}, \"Number of Records Since Last Reset\": {\"count\": 1, \"max\": 0, \"sum\": 0.0, \"min\": 0}, \"Total Batches Seen\": {\"count\": 1, \"max\": 0, \"sum\": 0.0, \"min\": 0}, \"Total Records Seen\": {\"count\": 1, \"max\": 0, \"sum\": 0.0, \"min\": 0}, \"Max Records Seen Between Resets\": {\"count\": 1, \"max\": 0, \"sum\": 0.0, \"min\": 0}, \"Reset Count\": {\"count\": 1, \"max\": 13, \"sum\": 13.0, \"min\": 13}}, \"EndTime\": 1597413264.77992, \"Dimensions\": {\"Host\": \"algo-1\", \"Meta\": \"training_data_iter\", \"Operation\": \"training\", \"Algorithm\": \"AWS/Semantic Segmentation\", \"epoch\": 12}, \"StartTime\": 1597413250.997555}\n",
      "\u001b[0m\n",
      "\u001b[34m[08/14/2020 13:54:35 INFO 139936138098496] #progress_notice. epoch: 13, iterations: 20 speed: 57.9493843151 samples/sec learning_rate: 0.000090\u001b[0m\n",
      "\u001b[34m[08/14/2020 13:54:35 INFO 139936138098496] #quality_metric. host: algo-1, epoch: 13, train loss: 0.00042199998279102147 .\u001b[0m\n",
      "\u001b[34m[08/14/2020 13:54:35 INFO 139936138098496] #throughput_metric. host: algo-1, epoch: 13, train throughput: 57.1234091787 samples/sec.\u001b[0m\n",
      "\u001b[34m[08/14/2020 13:54:38 INFO 139936138098496] #quality_metric. host: algo-1, epoch: 13, validation pixel_accuracy: 1.0 .\u001b[0m\n",
      "\u001b[34m[08/14/2020 13:54:38 INFO 139936138098496] #quality_metric. host: algo-1, epoch: 13, validation mIOU: 0.5 .\u001b[0m\n",
      "\u001b[34m[08/14/2020 13:54:38 INFO 139936138098496] #throughput_metric. host: algo-1, epoch: 13, validation throughput: 100.529139863 samples/sec.\u001b[0m\n",
      "\u001b[34m[08/14/2020 13:54:38 INFO 139936138098496] Serializing model to /opt/ml/model/model_best.params\u001b[0m\n",
      "\u001b[34m[08/14/2020 13:54:38 INFO 139936138098496] #progress_metric: host=algo-1, completed 14 % of epochs\u001b[0m\n",
      "\u001b[34m#metrics {\"Metrics\": {\"Max Batches Seen Between Resets\": {\"count\": 1, \"max\": 0, \"sum\": 0.0, \"min\": 0}, \"Number of Batches Since Last Reset\": {\"count\": 1, \"max\": 0, \"sum\": 0.0, \"min\": 0}, \"Number of Records Since Last Reset\": {\"count\": 1, \"max\": 0, \"sum\": 0.0, \"min\": 0}, \"Total Batches Seen\": {\"count\": 1, \"max\": 0, \"sum\": 0.0, \"min\": 0}, \"Total Records Seen\": {\"count\": 1, \"max\": 0, \"sum\": 0.0, \"min\": 0}, \"Max Records Seen Between Resets\": {\"count\": 1, \"max\": 0, \"sum\": 0.0, \"min\": 0}, \"Reset Count\": {\"count\": 1, \"max\": 14, \"sum\": 14.0, \"min\": 14}}, \"EndTime\": 1597413278.529535, \"Dimensions\": {\"Host\": \"algo-1\", \"Meta\": \"training_data_iter\", \"Operation\": \"training\", \"Algorithm\": \"AWS/Semantic Segmentation\", \"epoch\": 13}, \"StartTime\": 1597413264.780077}\n",
      "\u001b[0m\n",
      "\u001b[34m[08/14/2020 13:54:49 INFO 139936138098496] #progress_notice. epoch: 14, iterations: 20 speed: 57.6738788166 samples/sec learning_rate: 0.000089\u001b[0m\n",
      "\u001b[34m[08/14/2020 13:54:49 INFO 139936138098496] #quality_metric. host: algo-1, epoch: 14, train loss: 0.0004255817885595289 .\u001b[0m\n",
      "\u001b[34m[08/14/2020 13:54:49 INFO 139936138098496] #throughput_metric. host: algo-1, epoch: 14, train throughput: 56.0425068136 samples/sec.\u001b[0m\n",
      "\u001b[34m[08/14/2020 13:54:52 INFO 139936138098496] #quality_metric. host: algo-1, epoch: 14, validation pixel_accuracy: 1.0 .\u001b[0m\n",
      "\u001b[34m[08/14/2020 13:54:52 INFO 139936138098496] #quality_metric. host: algo-1, epoch: 14, validation mIOU: 0.5 .\u001b[0m\n",
      "\u001b[34m[08/14/2020 13:54:52 INFO 139936138098496] #throughput_metric. host: algo-1, epoch: 14, validation throughput: 99.6124839073 samples/sec.\u001b[0m\n",
      "\u001b[34m[08/14/2020 13:54:52 INFO 139936138098496] Serializing model to /opt/ml/model/model_best.params\u001b[0m\n",
      "\u001b[34m[08/14/2020 13:54:52 INFO 139936138098496] #progress_metric: host=algo-1, completed 15 % of epochs\u001b[0m\n",
      "\u001b[34m#metrics {\"Metrics\": {\"Max Batches Seen Between Resets\": {\"count\": 1, \"max\": 0, \"sum\": 0.0, \"min\": 0}, \"Number of Batches Since Last Reset\": {\"count\": 1, \"max\": 0, \"sum\": 0.0, \"min\": 0}, \"Number of Records Since Last Reset\": {\"count\": 1, \"max\": 0, \"sum\": 0.0, \"min\": 0}, \"Total Batches Seen\": {\"count\": 1, \"max\": 0, \"sum\": 0.0, \"min\": 0}, \"Total Records Seen\": {\"count\": 1, \"max\": 0, \"sum\": 0.0, \"min\": 0}, \"Max Records Seen Between Resets\": {\"count\": 1, \"max\": 0, \"sum\": 0.0, \"min\": 0}, \"Reset Count\": {\"count\": 1, \"max\": 15, \"sum\": 15.0, \"min\": 15}}, \"EndTime\": 1597413292.434918, \"Dimensions\": {\"Host\": \"algo-1\", \"Meta\": \"training_data_iter\", \"Operation\": \"training\", \"Algorithm\": \"AWS/Semantic Segmentation\", \"epoch\": 14}, \"StartTime\": 1597413278.529712}\n",
      "\u001b[0m\n",
      "\u001b[34m[08/14/2020 13:55:03 INFO 139936138098496] #progress_notice. epoch: 15, iterations: 20 speed: 57.9502350085 samples/sec learning_rate: 0.000088\u001b[0m\n",
      "\u001b[34m[08/14/2020 13:55:03 INFO 139936138098496] #quality_metric. host: algo-1, epoch: 15, train loss: 0.00043306835604281247 .\u001b[0m\n",
      "\u001b[34m[08/14/2020 13:55:03 INFO 139936138098496] #throughput_metric. host: algo-1, epoch: 15, train throughput: 56.0681974481 samples/sec.\u001b[0m\n",
      "\u001b[34m[08/14/2020 13:55:06 INFO 139936138098496] #quality_metric. host: algo-1, epoch: 15, validation pixel_accuracy: 1.0 .\u001b[0m\n",
      "\u001b[34m[08/14/2020 13:55:06 INFO 139936138098496] #quality_metric. host: algo-1, epoch: 15, validation mIOU: 0.5 .\u001b[0m\n",
      "\u001b[34m[08/14/2020 13:55:06 INFO 139936138098496] #throughput_metric. host: algo-1, epoch: 15, validation throughput: 100.611279968 samples/sec.\u001b[0m\n",
      "\u001b[34m[08/14/2020 13:55:06 INFO 139936138098496] Serializing model to /opt/ml/model/model_best.params\u001b[0m\n",
      "\u001b[34m[08/14/2020 13:55:06 INFO 139936138098496] #progress_metric: host=algo-1, completed 16 % of epochs\u001b[0m\n",
      "\u001b[34m#metrics {\"Metrics\": {\"Max Batches Seen Between Resets\": {\"count\": 1, \"max\": 0, \"sum\": 0.0, \"min\": 0}, \"Number of Batches Since Last Reset\": {\"count\": 1, \"max\": 0, \"sum\": 0.0, \"min\": 0}, \"Number of Records Since Last Reset\": {\"count\": 1, \"max\": 0, \"sum\": 0.0, \"min\": 0}, \"Total Batches Seen\": {\"count\": 1, \"max\": 0, \"sum\": 0.0, \"min\": 0}, \"Total Records Seen\": {\"count\": 1, \"max\": 0, \"sum\": 0.0, \"min\": 0}, \"Max Records Seen Between Resets\": {\"count\": 1, \"max\": 0, \"sum\": 0.0, \"min\": 0}, \"Reset Count\": {\"count\": 1, \"max\": 16, \"sum\": 16.0, \"min\": 16}}, \"EndTime\": 1597413306.288732, \"Dimensions\": {\"Host\": \"algo-1\", \"Meta\": \"training_data_iter\", \"Operation\": \"training\", \"Algorithm\": \"AWS/Semantic Segmentation\", \"epoch\": 15}, \"StartTime\": 1597413292.435226}\n",
      "\u001b[0m\n",
      "\u001b[34m[08/14/2020 13:55:16 INFO 139936138098496] #progress_notice. epoch: 16, iterations: 20 speed: 58.1454518674 samples/sec learning_rate: 0.000088\u001b[0m\n",
      "\u001b[34m[08/14/2020 13:55:17 INFO 139936138098496] #quality_metric. host: algo-1, epoch: 16, train loss: 0.0004381081117095337 .\u001b[0m\n",
      "\u001b[34m[08/14/2020 13:55:17 INFO 139936138098496] #throughput_metric. host: algo-1, epoch: 16, train throughput: 57.0097589466 samples/sec.\u001b[0m\n",
      "\u001b[34m[08/14/2020 13:55:19 INFO 139936138098496] #quality_metric. host: algo-1, epoch: 16, validation pixel_accuracy: 1.0 .\u001b[0m\n",
      "\u001b[34m[08/14/2020 13:55:19 INFO 139936138098496] #quality_metric. host: algo-1, epoch: 16, validation mIOU: 0.5 .\u001b[0m\n",
      "\u001b[34m[08/14/2020 13:55:19 INFO 139936138098496] #throughput_metric. host: algo-1, epoch: 16, validation throughput: 99.7061567774 samples/sec.\u001b[0m\n",
      "\u001b[34m[08/14/2020 13:55:19 INFO 139936138098496] Serializing model to /opt/ml/model/model_best.params\u001b[0m\n",
      "\u001b[34m[08/14/2020 13:55:19 INFO 139936138098496] #progress_metric: host=algo-1, completed 17 % of epochs\u001b[0m\n",
      "\u001b[34m#metrics {\"Metrics\": {\"Max Batches Seen Between Resets\": {\"count\": 1, \"max\": 0, \"sum\": 0.0, \"min\": 0}, \"Number of Batches Since Last Reset\": {\"count\": 1, \"max\": 0, \"sum\": 0.0, \"min\": 0}, \"Number of Records Since Last Reset\": {\"count\": 1, \"max\": 0, \"sum\": 0.0, \"min\": 0}, \"Total Batches Seen\": {\"count\": 1, \"max\": 0, \"sum\": 0.0, \"min\": 0}, \"Total Records Seen\": {\"count\": 1, \"max\": 0, \"sum\": 0.0, \"min\": 0}, \"Max Records Seen Between Resets\": {\"count\": 1, \"max\": 0, \"sum\": 0.0, \"min\": 0}, \"Reset Count\": {\"count\": 1, \"max\": 17, \"sum\": 17.0, \"min\": 17}}, \"EndTime\": 1597413319.212409, \"Dimensions\": {\"Host\": \"algo-1\", \"Meta\": \"training_data_iter\", \"Operation\": \"training\", \"Algorithm\": \"AWS/Semantic Segmentation\", \"epoch\": 16}, \"StartTime\": 1597413306.288952}\n",
      "\u001b[0m\n"
     ]
    },
    {
     "name": "stdout",
     "output_type": "stream",
     "text": [
      "\u001b[34m[08/14/2020 13:55:29 INFO 139936138098496] #progress_notice. epoch: 17, iterations: 20 speed: 57.9286251322 samples/sec learning_rate: 0.000087\u001b[0m\n",
      "\u001b[34m[08/14/2020 13:55:30 INFO 139936138098496] #quality_metric. host: algo-1, epoch: 17, train loss: 0.00045236660993065345 .\u001b[0m\n",
      "\u001b[34m[08/14/2020 13:55:30 INFO 139936138098496] #throughput_metric. host: algo-1, epoch: 17, train throughput: 54.3811148527 samples/sec.\u001b[0m\n",
      "\u001b[34m[08/14/2020 13:55:32 INFO 139936138098496] #quality_metric. host: algo-1, epoch: 17, validation pixel_accuracy: 1.0 .\u001b[0m\n",
      "\u001b[34m[08/14/2020 13:55:32 INFO 139936138098496] #quality_metric. host: algo-1, epoch: 17, validation mIOU: 0.5 .\u001b[0m\n",
      "\u001b[34m[08/14/2020 13:55:32 INFO 139936138098496] #throughput_metric. host: algo-1, epoch: 17, validation throughput: 99.329842529 samples/sec.\u001b[0m\n",
      "\u001b[34m[08/14/2020 13:55:32 INFO 139936138098496] Serializing model to /opt/ml/model/model_best.params\u001b[0m\n",
      "\u001b[34m[08/14/2020 13:55:32 INFO 139936138098496] #progress_metric: host=algo-1, completed 18 % of epochs\u001b[0m\n",
      "\u001b[34m#metrics {\"Metrics\": {\"Max Batches Seen Between Resets\": {\"count\": 1, \"max\": 0, \"sum\": 0.0, \"min\": 0}, \"Number of Batches Since Last Reset\": {\"count\": 1, \"max\": 0, \"sum\": 0.0, \"min\": 0}, \"Number of Records Since Last Reset\": {\"count\": 1, \"max\": 0, \"sum\": 0.0, \"min\": 0}, \"Total Batches Seen\": {\"count\": 1, \"max\": 0, \"sum\": 0.0, \"min\": 0}, \"Total Records Seen\": {\"count\": 1, \"max\": 0, \"sum\": 0.0, \"min\": 0}, \"Max Records Seen Between Resets\": {\"count\": 1, \"max\": 0, \"sum\": 0.0, \"min\": 0}, \"Reset Count\": {\"count\": 1, \"max\": 18, \"sum\": 18.0, \"min\": 18}}, \"EndTime\": 1597413332.96344, \"Dimensions\": {\"Host\": \"algo-1\", \"Meta\": \"training_data_iter\", \"Operation\": \"training\", \"Algorithm\": \"AWS/Semantic Segmentation\", \"epoch\": 17}, \"StartTime\": 1597413319.212548}\n",
      "\u001b[0m\n",
      "\u001b[34m[08/14/2020 13:55:43 INFO 139936138098496] #progress_notice. epoch: 18, iterations: 20 speed: 58.0397974151 samples/sec learning_rate: 0.000086\u001b[0m\n",
      "\u001b[34m[08/14/2020 13:55:43 INFO 139936138098496] #quality_metric. host: algo-1, epoch: 18, train loss: 0.0004507023938155423 .\u001b[0m\n",
      "\u001b[34m[08/14/2020 13:55:43 INFO 139936138098496] #throughput_metric. host: algo-1, epoch: 18, train throughput: 56.1312287985 samples/sec.\u001b[0m\n",
      "\u001b[34m[08/14/2020 13:55:46 INFO 139936138098496] #quality_metric. host: algo-1, epoch: 18, validation pixel_accuracy: 1.0 .\u001b[0m\n",
      "\u001b[34m[08/14/2020 13:55:46 INFO 139936138098496] #quality_metric. host: algo-1, epoch: 18, validation mIOU: 0.5 .\u001b[0m\n",
      "\u001b[34m[08/14/2020 13:55:46 INFO 139936138098496] #throughput_metric. host: algo-1, epoch: 18, validation throughput: 100.57908616 samples/sec.\u001b[0m\n",
      "\u001b[34m[08/14/2020 13:55:46 INFO 139936138098496] Serializing model to /opt/ml/model/model_best.params\u001b[0m\n",
      "\u001b[34m[08/14/2020 13:55:46 INFO 139936138098496] #progress_metric: host=algo-1, completed 19 % of epochs\u001b[0m\n",
      "\u001b[34m#metrics {\"Metrics\": {\"Max Batches Seen Between Resets\": {\"count\": 1, \"max\": 0, \"sum\": 0.0, \"min\": 0}, \"Number of Batches Since Last Reset\": {\"count\": 1, \"max\": 0, \"sum\": 0.0, \"min\": 0}, \"Number of Records Since Last Reset\": {\"count\": 1, \"max\": 0, \"sum\": 0.0, \"min\": 0}, \"Total Batches Seen\": {\"count\": 1, \"max\": 0, \"sum\": 0.0, \"min\": 0}, \"Total Records Seen\": {\"count\": 1, \"max\": 0, \"sum\": 0.0, \"min\": 0}, \"Max Records Seen Between Resets\": {\"count\": 1, \"max\": 0, \"sum\": 0.0, \"min\": 0}, \"Reset Count\": {\"count\": 1, \"max\": 19, \"sum\": 19.0, \"min\": 19}}, \"EndTime\": 1597413346.282759, \"Dimensions\": {\"Host\": \"algo-1\", \"Meta\": \"training_data_iter\", \"Operation\": \"training\", \"Algorithm\": \"AWS/Semantic Segmentation\", \"epoch\": 18}, \"StartTime\": 1597413332.963645}\n",
      "\u001b[0m\n",
      "\u001b[34m[08/14/2020 13:55:57 INFO 139936138098496] #progress_notice. epoch: 19, iterations: 20 speed: 57.6712024104 samples/sec learning_rate: 0.000086\u001b[0m\n",
      "\u001b[34m[08/14/2020 13:55:57 INFO 139936138098496] #quality_metric. host: algo-1, epoch: 19, train loss: 0.0004669157801386477 .\u001b[0m\n",
      "\u001b[34m[08/14/2020 13:55:57 INFO 139936138098496] #throughput_metric. host: algo-1, epoch: 19, train throughput: 55.1718561297 samples/sec.\u001b[0m\n",
      "\u001b[34m[08/14/2020 13:56:00 INFO 139936138098496] #quality_metric. host: algo-1, epoch: 19, validation pixel_accuracy: 1.0 .\u001b[0m\n",
      "\u001b[34m[08/14/2020 13:56:00 INFO 139936138098496] #quality_metric. host: algo-1, epoch: 19, validation mIOU: 0.5 .\u001b[0m\n",
      "\u001b[34m[08/14/2020 13:56:00 INFO 139936138098496] #throughput_metric. host: algo-1, epoch: 19, validation throughput: 100.656199738 samples/sec.\u001b[0m\n",
      "\u001b[34m[08/14/2020 13:56:00 INFO 139936138098496] Serializing model to /opt/ml/model/model_best.params\u001b[0m\n",
      "\u001b[34m[08/14/2020 13:56:00 INFO 139936138098496] #progress_metric: host=algo-1, completed 20 % of epochs\u001b[0m\n",
      "\u001b[34m#metrics {\"Metrics\": {\"Max Batches Seen Between Resets\": {\"count\": 1, \"max\": 0, \"sum\": 0.0, \"min\": 0}, \"Number of Batches Since Last Reset\": {\"count\": 1, \"max\": 0, \"sum\": 0.0, \"min\": 0}, \"Number of Records Since Last Reset\": {\"count\": 1, \"max\": 0, \"sum\": 0.0, \"min\": 0}, \"Total Batches Seen\": {\"count\": 1, \"max\": 0, \"sum\": 0.0, \"min\": 0}, \"Total Records Seen\": {\"count\": 1, \"max\": 0, \"sum\": 0.0, \"min\": 0}, \"Max Records Seen Between Resets\": {\"count\": 1, \"max\": 0, \"sum\": 0.0, \"min\": 0}, \"Reset Count\": {\"count\": 1, \"max\": 20, \"sum\": 20.0, \"min\": 20}}, \"EndTime\": 1597413360.212906, \"Dimensions\": {\"Host\": \"algo-1\", \"Meta\": \"training_data_iter\", \"Operation\": \"training\", \"Algorithm\": \"AWS/Semantic Segmentation\", \"epoch\": 19}, \"StartTime\": 1597413346.282909}\n",
      "\u001b[0m\n",
      "\u001b[34m[08/14/2020 13:56:10 INFO 139936138098496] #progress_notice. epoch: 20, iterations: 20 speed: 58.0484324668 samples/sec learning_rate: 0.000085\u001b[0m\n",
      "\u001b[34m[08/14/2020 13:56:11 INFO 139936138098496] #quality_metric. host: algo-1, epoch: 20, train loss: 0.00046974516986996275 .\u001b[0m\n",
      "\u001b[34m[08/14/2020 13:56:11 INFO 139936138098496] #throughput_metric. host: algo-1, epoch: 20, train throughput: 56.9906330305 samples/sec.\u001b[0m\n",
      "\u001b[34m[08/14/2020 13:56:13 INFO 139936138098496] #quality_metric. host: algo-1, epoch: 20, validation pixel_accuracy: 1.0 .\u001b[0m\n",
      "\u001b[34m[08/14/2020 13:56:13 INFO 139936138098496] #quality_metric. host: algo-1, epoch: 20, validation mIOU: 0.5 .\u001b[0m\n",
      "\u001b[34m[08/14/2020 13:56:13 INFO 139936138098496] #throughput_metric. host: algo-1, epoch: 20, validation throughput: 100.520847906 samples/sec.\u001b[0m\n",
      "\u001b[34m[08/14/2020 13:56:13 INFO 139936138098496] Serializing model to /opt/ml/model/model_best.params\u001b[0m\n",
      "\u001b[34m[08/14/2020 13:56:13 INFO 139936138098496] #progress_metric: host=algo-1, completed 21 % of epochs\u001b[0m\n",
      "\u001b[34m#metrics {\"Metrics\": {\"Max Batches Seen Between Resets\": {\"count\": 1, \"max\": 0, \"sum\": 0.0, \"min\": 0}, \"Number of Batches Since Last Reset\": {\"count\": 1, \"max\": 0, \"sum\": 0.0, \"min\": 0}, \"Number of Records Since Last Reset\": {\"count\": 1, \"max\": 0, \"sum\": 0.0, \"min\": 0}, \"Total Batches Seen\": {\"count\": 1, \"max\": 0, \"sum\": 0.0, \"min\": 0}, \"Total Records Seen\": {\"count\": 1, \"max\": 0, \"sum\": 0.0, \"min\": 0}, \"Max Records Seen Between Resets\": {\"count\": 1, \"max\": 0, \"sum\": 0.0, \"min\": 0}, \"Reset Count\": {\"count\": 1, \"max\": 21, \"sum\": 21.0, \"min\": 21}}, \"EndTime\": 1597413373.886782, \"Dimensions\": {\"Host\": \"algo-1\", \"Meta\": \"training_data_iter\", \"Operation\": \"training\", \"Algorithm\": \"AWS/Semantic Segmentation\", \"epoch\": 20}, \"StartTime\": 1597413360.213077}\n",
      "\u001b[0m\n",
      "\u001b[34m[08/14/2020 13:56:24 INFO 139936138098496] #progress_notice. epoch: 21, iterations: 20 speed: 57.7115234948 samples/sec learning_rate: 0.000084\u001b[0m\n",
      "\u001b[34m[08/14/2020 13:56:24 INFO 139936138098496] #quality_metric. host: algo-1, epoch: 21, train loss: 0.0004946376845639731 .\u001b[0m\n",
      "\u001b[34m[08/14/2020 13:56:24 INFO 139936138098496] #throughput_metric. host: algo-1, epoch: 21, train throughput: 54.4681331041 samples/sec.\u001b[0m\n",
      "\u001b[34m[08/14/2020 13:56:26 INFO 139936138098496] #quality_metric. host: algo-1, epoch: 21, validation pixel_accuracy: 1.0 .\u001b[0m\n",
      "\u001b[34m[08/14/2020 13:56:26 INFO 139936138098496] #quality_metric. host: algo-1, epoch: 21, validation mIOU: 0.5 .\u001b[0m\n",
      "\u001b[34m[08/14/2020 13:56:26 INFO 139936138098496] #throughput_metric. host: algo-1, epoch: 21, validation throughput: 99.6436179466 samples/sec.\u001b[0m\n",
      "\u001b[34m[08/14/2020 13:56:26 INFO 139936138098496] Serializing model to /opt/ml/model/model_best.params\u001b[0m\n",
      "\u001b[34m[08/14/2020 13:56:26 INFO 139936138098496] #progress_metric: host=algo-1, completed 22 % of epochs\u001b[0m\n",
      "\u001b[34m#metrics {\"Metrics\": {\"Max Batches Seen Between Resets\": {\"count\": 1, \"max\": 0, \"sum\": 0.0, \"min\": 0}, \"Number of Batches Since Last Reset\": {\"count\": 1, \"max\": 0, \"sum\": 0.0, \"min\": 0}, \"Number of Records Since Last Reset\": {\"count\": 1, \"max\": 0, \"sum\": 0.0, \"min\": 0}, \"Total Batches Seen\": {\"count\": 1, \"max\": 0, \"sum\": 0.0, \"min\": 0}, \"Total Records Seen\": {\"count\": 1, \"max\": 0, \"sum\": 0.0, \"min\": 0}, \"Max Records Seen Between Resets\": {\"count\": 1, \"max\": 0, \"sum\": 0.0, \"min\": 0}, \"Reset Count\": {\"count\": 1, \"max\": 22, \"sum\": 22.0, \"min\": 22}}, \"EndTime\": 1597413386.905452, \"Dimensions\": {\"Host\": \"algo-1\", \"Meta\": \"training_data_iter\", \"Operation\": \"training\", \"Algorithm\": \"AWS/Semantic Segmentation\", \"epoch\": 21}, \"StartTime\": 1597413373.886933}\n",
      "\u001b[0m\n"
     ]
    },
    {
     "name": "stdout",
     "output_type": "stream",
     "text": [
      "\u001b[34m[08/14/2020 13:56:37 INFO 139936138098496] #progress_notice. epoch: 22, iterations: 20 speed: 57.9340761038 samples/sec learning_rate: 0.000083\u001b[0m\n",
      "\u001b[34m[08/14/2020 13:56:38 INFO 139936138098496] #quality_metric. host: algo-1, epoch: 22, train loss: 0.0004963938276473941 .\u001b[0m\n",
      "\u001b[34m[08/14/2020 13:56:38 INFO 139936138098496] #throughput_metric. host: algo-1, epoch: 22, train throughput: 56.5656665473 samples/sec.\u001b[0m\n",
      "\u001b[34m[08/14/2020 13:56:40 INFO 139936138098496] #quality_metric. host: algo-1, epoch: 22, validation pixel_accuracy: 1.0 .\u001b[0m\n",
      "\u001b[34m[08/14/2020 13:56:40 INFO 139936138098496] #quality_metric. host: algo-1, epoch: 22, validation mIOU: 0.5 .\u001b[0m\n",
      "\u001b[34m[08/14/2020 13:56:40 INFO 139936138098496] #throughput_metric. host: algo-1, epoch: 22, validation throughput: 100.445479977 samples/sec.\u001b[0m\n",
      "\u001b[34m[08/14/2020 13:56:40 INFO 139936138098496] Serializing model to /opt/ml/model/model_best.params\u001b[0m\n",
      "\u001b[34m[08/14/2020 13:56:40 INFO 139936138098496] #progress_metric: host=algo-1, completed 23 % of epochs\u001b[0m\n",
      "\u001b[34m#metrics {\"Metrics\": {\"Max Batches Seen Between Resets\": {\"count\": 1, \"max\": 0, \"sum\": 0.0, \"min\": 0}, \"Number of Batches Since Last Reset\": {\"count\": 1, \"max\": 0, \"sum\": 0.0, \"min\": 0}, \"Number of Records Since Last Reset\": {\"count\": 1, \"max\": 0, \"sum\": 0.0, \"min\": 0}, \"Total Batches Seen\": {\"count\": 1, \"max\": 0, \"sum\": 0.0, \"min\": 0}, \"Total Records Seen\": {\"count\": 1, \"max\": 0, \"sum\": 0.0, \"min\": 0}, \"Max Records Seen Between Resets\": {\"count\": 1, \"max\": 0, \"sum\": 0.0, \"min\": 0}, \"Reset Count\": {\"count\": 1, \"max\": 23, \"sum\": 23.0, \"min\": 23}}, \"EndTime\": 1597413400.94249, \"Dimensions\": {\"Host\": \"algo-1\", \"Meta\": \"training_data_iter\", \"Operation\": \"training\", \"Algorithm\": \"AWS/Semantic Segmentation\", \"epoch\": 22}, \"StartTime\": 1597413386.905656}\n",
      "\u001b[0m\n",
      "\u001b[34m[08/14/2020 13:56:51 INFO 139936138098496] #progress_notice. epoch: 23, iterations: 20 speed: 58.0760115444 samples/sec learning_rate: 0.000083\u001b[0m\n",
      "\u001b[34m[08/14/2020 13:56:52 INFO 139936138098496] #quality_metric. host: algo-1, epoch: 23, train loss: 0.0005107552953466603 .\u001b[0m\n",
      "\u001b[34m[08/14/2020 13:56:52 INFO 139936138098496] #throughput_metric. host: algo-1, epoch: 23, train throughput: 56.6468238919 samples/sec.\u001b[0m\n",
      "\u001b[34m[08/14/2020 13:56:54 INFO 139936138098496] #quality_metric. host: algo-1, epoch: 23, validation pixel_accuracy: 1.0 .\u001b[0m\n",
      "\u001b[34m[08/14/2020 13:56:54 INFO 139936138098496] #quality_metric. host: algo-1, epoch: 23, validation mIOU: 0.5 .\u001b[0m\n",
      "\u001b[34m[08/14/2020 13:56:54 INFO 139936138098496] #throughput_metric. host: algo-1, epoch: 23, validation throughput: 100.207552053 samples/sec.\u001b[0m\n",
      "\u001b[34m[08/14/2020 13:56:54 INFO 139936138098496] Serializing model to /opt/ml/model/model_best.params\u001b[0m\n",
      "\u001b[34m[08/14/2020 13:56:55 INFO 139936138098496] #progress_metric: host=algo-1, completed 24 % of epochs\u001b[0m\n",
      "\u001b[34m#metrics {\"Metrics\": {\"Max Batches Seen Between Resets\": {\"count\": 1, \"max\": 0, \"sum\": 0.0, \"min\": 0}, \"Number of Batches Since Last Reset\": {\"count\": 1, \"max\": 0, \"sum\": 0.0, \"min\": 0}, \"Number of Records Since Last Reset\": {\"count\": 1, \"max\": 0, \"sum\": 0.0, \"min\": 0}, \"Total Batches Seen\": {\"count\": 1, \"max\": 0, \"sum\": 0.0, \"min\": 0}, \"Total Records Seen\": {\"count\": 1, \"max\": 0, \"sum\": 0.0, \"min\": 0}, \"Max Records Seen Between Resets\": {\"count\": 1, \"max\": 0, \"sum\": 0.0, \"min\": 0}, \"Reset Count\": {\"count\": 1, \"max\": 24, \"sum\": 24.0, \"min\": 24}}, \"EndTime\": 1597413415.044183, \"Dimensions\": {\"Host\": \"algo-1\", \"Meta\": \"training_data_iter\", \"Operation\": \"training\", \"Algorithm\": \"AWS/Semantic Segmentation\", \"epoch\": 23}, \"StartTime\": 1597413400.942671}\n",
      "\u001b[0m\n",
      "\u001b[34m[08/14/2020 13:57:05 INFO 139936138098496] #progress_notice. epoch: 24, iterations: 20 speed: 58.3124334188 samples/sec learning_rate: 0.000082\u001b[0m\n",
      "\u001b[34m[08/14/2020 13:57:05 INFO 139936138098496] #quality_metric. host: algo-1, epoch: 24, train loss: 0.0005224827189175855 .\u001b[0m\n",
      "\u001b[34m[08/14/2020 13:57:05 INFO 139936138098496] #throughput_metric. host: algo-1, epoch: 24, train throughput: 56.3468312103 samples/sec.\u001b[0m\n",
      "\u001b[34m[08/14/2020 13:57:08 INFO 139936138098496] #quality_metric. host: algo-1, epoch: 24, validation pixel_accuracy: 1.0 .\u001b[0m\n",
      "\u001b[34m[08/14/2020 13:57:08 INFO 139936138098496] #quality_metric. host: algo-1, epoch: 24, validation mIOU: 0.5 .\u001b[0m\n",
      "\u001b[34m[08/14/2020 13:57:08 INFO 139936138098496] #throughput_metric. host: algo-1, epoch: 24, validation throughput: 100.606533794 samples/sec.\u001b[0m\n",
      "\u001b[34m[08/14/2020 13:57:08 INFO 139936138098496] Serializing model to /opt/ml/model/model_best.params\u001b[0m\n",
      "\u001b[34m[08/14/2020 13:57:08 INFO 139936138098496] #progress_metric: host=algo-1, completed 25 % of epochs\u001b[0m\n",
      "\u001b[34m#metrics {\"Metrics\": {\"Max Batches Seen Between Resets\": {\"count\": 1, \"max\": 0, \"sum\": 0.0, \"min\": 0}, \"Number of Batches Since Last Reset\": {\"count\": 1, \"max\": 0, \"sum\": 0.0, \"min\": 0}, \"Number of Records Since Last Reset\": {\"count\": 1, \"max\": 0, \"sum\": 0.0, \"min\": 0}, \"Total Batches Seen\": {\"count\": 1, \"max\": 0, \"sum\": 0.0, \"min\": 0}, \"Total Records Seen\": {\"count\": 1, \"max\": 0, \"sum\": 0.0, \"min\": 0}, \"Max Records Seen Between Resets\": {\"count\": 1, \"max\": 0, \"sum\": 0.0, \"min\": 0}, \"Reset Count\": {\"count\": 1, \"max\": 25, \"sum\": 25.0, \"min\": 25}}, \"EndTime\": 1597413428.369315, \"Dimensions\": {\"Host\": \"algo-1\", \"Meta\": \"training_data_iter\", \"Operation\": \"training\", \"Algorithm\": \"AWS/Semantic Segmentation\", \"epoch\": 24}, \"StartTime\": 1597413415.044378}\n",
      "\u001b[0m\n",
      "\u001b[34m[08/14/2020 13:57:18 INFO 139936138098496] #progress_notice. epoch: 25, iterations: 20 speed: 58.0983854072 samples/sec learning_rate: 0.000081\u001b[0m\n",
      "\u001b[34m[08/14/2020 13:57:19 INFO 139936138098496] #quality_metric. host: algo-1, epoch: 25, train loss: 0.0005295489999380978 .\u001b[0m\n",
      "\u001b[34m[08/14/2020 13:57:19 INFO 139936138098496] #throughput_metric. host: algo-1, epoch: 25, train throughput: 55.5736697657 samples/sec.\u001b[0m\n",
      "\u001b[34m[08/14/2020 13:57:21 INFO 139936138098496] #quality_metric. host: algo-1, epoch: 25, validation pixel_accuracy: 1.0 .\u001b[0m\n",
      "\u001b[34m[08/14/2020 13:57:21 INFO 139936138098496] #quality_metric. host: algo-1, epoch: 25, validation mIOU: 0.5 .\u001b[0m\n",
      "\u001b[34m[08/14/2020 13:57:21 INFO 139936138098496] #throughput_metric. host: algo-1, epoch: 25, validation throughput: 98.6143366209 samples/sec.\u001b[0m\n",
      "\u001b[34m[08/14/2020 13:57:21 INFO 139936138098496] Serializing model to /opt/ml/model/model_best.params\u001b[0m\n",
      "\u001b[34m[08/14/2020 13:57:21 INFO 139936138098496] #progress_metric: host=algo-1, completed 26 % of epochs\u001b[0m\n",
      "\u001b[34m#metrics {\"Metrics\": {\"Max Batches Seen Between Resets\": {\"count\": 1, \"max\": 0, \"sum\": 0.0, \"min\": 0}, \"Number of Batches Since Last Reset\": {\"count\": 1, \"max\": 0, \"sum\": 0.0, \"min\": 0}, \"Number of Records Since Last Reset\": {\"count\": 1, \"max\": 0, \"sum\": 0.0, \"min\": 0}, \"Total Batches Seen\": {\"count\": 1, \"max\": 0, \"sum\": 0.0, \"min\": 0}, \"Total Records Seen\": {\"count\": 1, \"max\": 0, \"sum\": 0.0, \"min\": 0}, \"Max Records Seen Between Resets\": {\"count\": 1, \"max\": 0, \"sum\": 0.0, \"min\": 0}, \"Reset Count\": {\"count\": 1, \"max\": 26, \"sum\": 26.0, \"min\": 26}}, \"EndTime\": 1597413441.964075, \"Dimensions\": {\"Host\": \"algo-1\", \"Meta\": \"training_data_iter\", \"Operation\": \"training\", \"Algorithm\": \"AWS/Semantic Segmentation\", \"epoch\": 25}, \"StartTime\": 1597413428.369457}\n",
      "\u001b[0m\n",
      "\u001b[34m[08/14/2020 13:57:32 INFO 139936138098496] #progress_notice. epoch: 26, iterations: 20 speed: 57.9840828363 samples/sec learning_rate: 0.000080\u001b[0m\n",
      "\u001b[34m[08/14/2020 13:57:32 INFO 139936138098496] #quality_metric. host: algo-1, epoch: 26, train loss: 0.0005429393966637907 .\u001b[0m\n",
      "\u001b[34m[08/14/2020 13:57:32 INFO 139936138098496] #throughput_metric. host: algo-1, epoch: 26, train throughput: 56.5828755963 samples/sec.\u001b[0m\n",
      "\u001b[34m[08/14/2020 13:57:35 INFO 139936138098496] #quality_metric. host: algo-1, epoch: 26, validation pixel_accuracy: 1.0 .\u001b[0m\n",
      "\u001b[34m[08/14/2020 13:57:35 INFO 139936138098496] #quality_metric. host: algo-1, epoch: 26, validation mIOU: 0.5 .\u001b[0m\n",
      "\u001b[34m[08/14/2020 13:57:35 INFO 139936138098496] #throughput_metric. host: algo-1, epoch: 26, validation throughput: 101.116779477 samples/sec.\u001b[0m\n",
      "\u001b[34m[08/14/2020 13:57:35 INFO 139936138098496] Serializing model to /opt/ml/model/model_best.params\u001b[0m\n",
      "\u001b[34m[08/14/2020 13:57:35 INFO 139936138098496] #progress_metric: host=algo-1, completed 27 % of epochs\u001b[0m\n",
      "\u001b[34m#metrics {\"Metrics\": {\"Max Batches Seen Between Resets\": {\"count\": 1, \"max\": 0, \"sum\": 0.0, \"min\": 0}, \"Number of Batches Since Last Reset\": {\"count\": 1, \"max\": 0, \"sum\": 0.0, \"min\": 0}, \"Number of Records Since Last Reset\": {\"count\": 1, \"max\": 0, \"sum\": 0.0, \"min\": 0}, \"Total Batches Seen\": {\"count\": 1, \"max\": 0, \"sum\": 0.0, \"min\": 0}, \"Total Records Seen\": {\"count\": 1, \"max\": 0, \"sum\": 0.0, \"min\": 0}, \"Max Records Seen Between Resets\": {\"count\": 1, \"max\": 0, \"sum\": 0.0, \"min\": 0}, \"Reset Count\": {\"count\": 1, \"max\": 27, \"sum\": 27.0, \"min\": 27}}, \"EndTime\": 1597413455.465937, \"Dimensions\": {\"Host\": \"algo-1\", \"Meta\": \"training_data_iter\", \"Operation\": \"training\", \"Algorithm\": \"AWS/Semantic Segmentation\", \"epoch\": 26}, \"StartTime\": 1597413441.96421}\n",
      "\u001b[0m\n"
     ]
    },
    {
     "name": "stdout",
     "output_type": "stream",
     "text": [
      "\u001b[34m[08/14/2020 13:57:46 INFO 139936138098496] #progress_notice. epoch: 27, iterations: 20 speed: 57.7778060937 samples/sec learning_rate: 0.000080\u001b[0m\n",
      "\u001b[34m[08/14/2020 13:57:46 INFO 139936138098496] #quality_metric. host: algo-1, epoch: 27, train loss: 0.0005523141722237183 .\u001b[0m\n",
      "\u001b[34m[08/14/2020 13:57:46 INFO 139936138098496] #throughput_metric. host: algo-1, epoch: 27, train throughput: 54.9902296662 samples/sec.\u001b[0m\n",
      "\u001b[34m[08/14/2020 13:57:48 INFO 139936138098496] #quality_metric. host: algo-1, epoch: 27, validation pixel_accuracy: 1.0 .\u001b[0m\n",
      "\u001b[34m[08/14/2020 13:57:48 INFO 139936138098496] #quality_metric. host: algo-1, epoch: 27, validation mIOU: 0.5 .\u001b[0m\n",
      "\u001b[34m[08/14/2020 13:57:48 INFO 139936138098496] #throughput_metric. host: algo-1, epoch: 27, validation throughput: 100.093115567 samples/sec.\u001b[0m\n",
      "\u001b[34m[08/14/2020 13:57:48 INFO 139936138098496] Serializing model to /opt/ml/model/model_best.params\u001b[0m\n",
      "\u001b[34m[08/14/2020 13:57:49 INFO 139936138098496] #progress_metric: host=algo-1, completed 28 % of epochs\u001b[0m\n",
      "\u001b[34m#metrics {\"Metrics\": {\"Max Batches Seen Between Resets\": {\"count\": 1, \"max\": 0, \"sum\": 0.0, \"min\": 0}, \"Number of Batches Since Last Reset\": {\"count\": 1, \"max\": 0, \"sum\": 0.0, \"min\": 0}, \"Number of Records Since Last Reset\": {\"count\": 1, \"max\": 0, \"sum\": 0.0, \"min\": 0}, \"Total Batches Seen\": {\"count\": 1, \"max\": 0, \"sum\": 0.0, \"min\": 0}, \"Total Records Seen\": {\"count\": 1, \"max\": 0, \"sum\": 0.0, \"min\": 0}, \"Max Records Seen Between Resets\": {\"count\": 1, \"max\": 0, \"sum\": 0.0, \"min\": 0}, \"Reset Count\": {\"count\": 1, \"max\": 28, \"sum\": 28.0, \"min\": 28}}, \"EndTime\": 1597413469.134525, \"Dimensions\": {\"Host\": \"algo-1\", \"Meta\": \"training_data_iter\", \"Operation\": \"training\", \"Algorithm\": \"AWS/Semantic Segmentation\", \"epoch\": 27}, \"StartTime\": 1597413455.466131}\n",
      "\u001b[0m\n",
      "\u001b[34m[08/14/2020 13:58:00 INFO 139936138098496] #progress_notice. epoch: 28, iterations: 20 speed: 57.7796466867 samples/sec learning_rate: 0.000079\u001b[0m\n",
      "\u001b[34m[08/14/2020 13:58:00 INFO 139936138098496] #quality_metric. host: algo-1, epoch: 28, train loss: 0.0005623020141766491 .\u001b[0m\n",
      "\u001b[34m[08/14/2020 13:58:00 INFO 139936138098496] #throughput_metric. host: algo-1, epoch: 28, train throughput: 57.1331001023 samples/sec.\u001b[0m\n",
      "\u001b[34m[08/14/2020 13:58:02 INFO 139936138098496] #quality_metric. host: algo-1, epoch: 28, validation pixel_accuracy: 1.0 .\u001b[0m\n",
      "\u001b[34m[08/14/2020 13:58:02 INFO 139936138098496] #quality_metric. host: algo-1, epoch: 28, validation mIOU: 0.5 .\u001b[0m\n",
      "\u001b[34m[08/14/2020 13:58:02 INFO 139936138098496] #throughput_metric. host: algo-1, epoch: 28, validation throughput: 98.8671468824 samples/sec.\u001b[0m\n",
      "\u001b[34m[08/14/2020 13:58:02 INFO 139936138098496] Serializing model to /opt/ml/model/model_best.params\u001b[0m\n",
      "\u001b[34m[08/14/2020 13:58:03 INFO 139936138098496] #progress_metric: host=algo-1, completed 29 % of epochs\u001b[0m\n",
      "\u001b[34m#metrics {\"Metrics\": {\"Max Batches Seen Between Resets\": {\"count\": 1, \"max\": 0, \"sum\": 0.0, \"min\": 0}, \"Number of Batches Since Last Reset\": {\"count\": 1, \"max\": 0, \"sum\": 0.0, \"min\": 0}, \"Number of Records Since Last Reset\": {\"count\": 1, \"max\": 0, \"sum\": 0.0, \"min\": 0}, \"Total Batches Seen\": {\"count\": 1, \"max\": 0, \"sum\": 0.0, \"min\": 0}, \"Total Records Seen\": {\"count\": 1, \"max\": 0, \"sum\": 0.0, \"min\": 0}, \"Max Records Seen Between Resets\": {\"count\": 1, \"max\": 0, \"sum\": 0.0, \"min\": 0}, \"Reset Count\": {\"count\": 1, \"max\": 29, \"sum\": 29.0, \"min\": 29}}, \"EndTime\": 1597413483.106409, \"Dimensions\": {\"Host\": \"algo-1\", \"Meta\": \"training_data_iter\", \"Operation\": \"training\", \"Algorithm\": \"AWS/Semantic Segmentation\", \"epoch\": 28}, \"StartTime\": 1597413469.134662}\n",
      "\u001b[0m\n",
      "\u001b[34m[08/14/2020 13:58:13 INFO 139936138098496] #progress_notice. epoch: 29, iterations: 20 speed: 58.0328209652 samples/sec learning_rate: 0.000078\u001b[0m\n",
      "\u001b[34m[08/14/2020 13:58:13 INFO 139936138098496] #quality_metric. host: algo-1, epoch: 29, train loss: 0.0005834367503190325 .\u001b[0m\n",
      "\u001b[34m[08/14/2020 13:58:13 INFO 139936138098496] #throughput_metric. host: algo-1, epoch: 29, train throughput: 56.8588741445 samples/sec.\u001b[0m\n",
      "\u001b[34m[08/14/2020 13:58:16 INFO 139936138098496] #quality_metric. host: algo-1, epoch: 29, validation pixel_accuracy: 1.0 .\u001b[0m\n",
      "\u001b[34m[08/14/2020 13:58:16 INFO 139936138098496] #quality_metric. host: algo-1, epoch: 29, validation mIOU: 0.5 .\u001b[0m\n",
      "\u001b[34m[08/14/2020 13:58:16 INFO 139936138098496] #throughput_metric. host: algo-1, epoch: 29, validation throughput: 98.9709180442 samples/sec.\u001b[0m\n",
      "\u001b[34m[08/14/2020 13:58:16 INFO 139936138098496] Serializing model to /opt/ml/model/model_best.params\u001b[0m\n",
      "\u001b[34m[08/14/2020 13:58:16 INFO 139936138098496] #progress_metric: host=algo-1, completed 30 % of epochs\u001b[0m\n",
      "\u001b[34m#metrics {\"Metrics\": {\"Max Batches Seen Between Resets\": {\"count\": 1, \"max\": 0, \"sum\": 0.0, \"min\": 0}, \"Number of Batches Since Last Reset\": {\"count\": 1, \"max\": 0, \"sum\": 0.0, \"min\": 0}, \"Number of Records Since Last Reset\": {\"count\": 1, \"max\": 0, \"sum\": 0.0, \"min\": 0}, \"Total Batches Seen\": {\"count\": 1, \"max\": 0, \"sum\": 0.0, \"min\": 0}, \"Total Records Seen\": {\"count\": 1, \"max\": 0, \"sum\": 0.0, \"min\": 0}, \"Max Records Seen Between Resets\": {\"count\": 1, \"max\": 0, \"sum\": 0.0, \"min\": 0}, \"Reset Count\": {\"count\": 1, \"max\": 30, \"sum\": 30.0, \"min\": 30}}, \"EndTime\": 1597413496.516593, \"Dimensions\": {\"Host\": \"algo-1\", \"Meta\": \"training_data_iter\", \"Operation\": \"training\", \"Algorithm\": \"AWS/Semantic Segmentation\", \"epoch\": 29}, \"StartTime\": 1597413483.10655}\n",
      "\u001b[0m\n",
      "\u001b[34m[08/14/2020 13:58:27 INFO 139936138098496] #progress_notice. epoch: 30, iterations: 20 speed: 57.9177262657 samples/sec learning_rate: 0.000077\u001b[0m\n",
      "\u001b[34m[08/14/2020 13:58:27 INFO 139936138098496] #quality_metric. host: algo-1, epoch: 30, train loss: 0.0005895788649054753 .\u001b[0m\n",
      "\u001b[34m[08/14/2020 13:58:27 INFO 139936138098496] #throughput_metric. host: algo-1, epoch: 30, train throughput: 55.2790680556 samples/sec.\u001b[0m\n",
      "\u001b[34m[08/14/2020 13:58:30 INFO 139936138098496] #quality_metric. host: algo-1, epoch: 30, validation pixel_accuracy: 1.0 .\u001b[0m\n",
      "\u001b[34m[08/14/2020 13:58:30 INFO 139936138098496] #quality_metric. host: algo-1, epoch: 30, validation mIOU: 0.5 .\u001b[0m\n",
      "\u001b[34m[08/14/2020 13:58:30 INFO 139936138098496] #throughput_metric. host: algo-1, epoch: 30, validation throughput: 100.650991416 samples/sec.\u001b[0m\n",
      "\u001b[34m[08/14/2020 13:58:30 INFO 139936138098496] Serializing model to /opt/ml/model/model_best.params\u001b[0m\n",
      "\u001b[34m[08/14/2020 13:58:30 INFO 139936138098496] #progress_metric: host=algo-1, completed 31 % of epochs\u001b[0m\n",
      "\u001b[34m#metrics {\"Metrics\": {\"Max Batches Seen Between Resets\": {\"count\": 1, \"max\": 0, \"sum\": 0.0, \"min\": 0}, \"Number of Batches Since Last Reset\": {\"count\": 1, \"max\": 0, \"sum\": 0.0, \"min\": 0}, \"Number of Records Since Last Reset\": {\"count\": 1, \"max\": 0, \"sum\": 0.0, \"min\": 0}, \"Total Batches Seen\": {\"count\": 1, \"max\": 0, \"sum\": 0.0, \"min\": 0}, \"Total Records Seen\": {\"count\": 1, \"max\": 0, \"sum\": 0.0, \"min\": 0}, \"Max Records Seen Between Resets\": {\"count\": 1, \"max\": 0, \"sum\": 0.0, \"min\": 0}, \"Reset Count\": {\"count\": 1, \"max\": 31, \"sum\": 31.0, \"min\": 31}}, \"EndTime\": 1597413510.225963, \"Dimensions\": {\"Host\": \"algo-1\", \"Meta\": \"training_data_iter\", \"Operation\": \"training\", \"Algorithm\": \"AWS/Semantic Segmentation\", \"epoch\": 30}, \"StartTime\": 1597413496.516852}\n",
      "\u001b[0m\n",
      "\u001b[34m[08/14/2020 13:58:40 INFO 139936138098496] #progress_notice. epoch: 31, iterations: 20 speed: 57.5006246262 samples/sec learning_rate: 0.000077\u001b[0m\n",
      "\u001b[34m[08/14/2020 13:58:41 INFO 139936138098496] #quality_metric. host: algo-1, epoch: 31, train loss: 0.0006018654649696228 .\u001b[0m\n",
      "\u001b[34m[08/14/2020 13:58:41 INFO 139936138098496] #throughput_metric. host: algo-1, epoch: 31, train throughput: 56.4302972248 samples/sec.\u001b[0m\n",
      "\u001b[34m[08/14/2020 13:58:44 INFO 139936138098496] #quality_metric. host: algo-1, epoch: 31, validation pixel_accuracy: 1.0 .\u001b[0m\n",
      "\u001b[34m[08/14/2020 13:58:44 INFO 139936138098496] #quality_metric. host: algo-1, epoch: 31, validation mIOU: 0.5 .\u001b[0m\n",
      "\u001b[34m[08/14/2020 13:58:44 INFO 139936138098496] #throughput_metric. host: algo-1, epoch: 31, validation throughput: 100.595896749 samples/sec.\u001b[0m\n",
      "\u001b[34m[08/14/2020 13:58:44 INFO 139936138098496] Serializing model to /opt/ml/model/model_best.params\u001b[0m\n",
      "\u001b[34m[08/14/2020 13:58:44 INFO 139936138098496] #progress_metric: host=algo-1, completed 32 % of epochs\u001b[0m\n",
      "\u001b[34m#metrics {\"Metrics\": {\"Max Batches Seen Between Resets\": {\"count\": 1, \"max\": 0, \"sum\": 0.0, \"min\": 0}, \"Number of Batches Since Last Reset\": {\"count\": 1, \"max\": 0, \"sum\": 0.0, \"min\": 0}, \"Number of Records Since Last Reset\": {\"count\": 1, \"max\": 0, \"sum\": 0.0, \"min\": 0}, \"Total Batches Seen\": {\"count\": 1, \"max\": 0, \"sum\": 0.0, \"min\": 0}, \"Total Records Seen\": {\"count\": 1, \"max\": 0, \"sum\": 0.0, \"min\": 0}, \"Max Records Seen Between Resets\": {\"count\": 1, \"max\": 0, \"sum\": 0.0, \"min\": 0}, \"Reset Count\": {\"count\": 1, \"max\": 32, \"sum\": 32.0, \"min\": 32}}, \"EndTime\": 1597413524.244642, \"Dimensions\": {\"Host\": \"algo-1\", \"Meta\": \"training_data_iter\", \"Operation\": \"training\", \"Algorithm\": \"AWS/Semantic Segmentation\", \"epoch\": 31}, \"StartTime\": 1597413510.226138}\n",
      "\u001b[0m\n"
     ]
    },
    {
     "name": "stdout",
     "output_type": "stream",
     "text": [
      "\u001b[34m[08/14/2020 13:58:54 INFO 139936138098496] #progress_notice. epoch: 32, iterations: 20 speed: 57.7213022821 samples/sec learning_rate: 0.000076\u001b[0m\n",
      "\u001b[34m[08/14/2020 13:58:54 INFO 139936138098496] #quality_metric. host: algo-1, epoch: 32, train loss: 0.0006129084060722519 .\u001b[0m\n",
      "\u001b[34m[08/14/2020 13:58:54 INFO 139936138098496] #throughput_metric. host: algo-1, epoch: 32, train throughput: 55.2702826538 samples/sec.\u001b[0m\n",
      "\u001b[34m[08/14/2020 13:58:57 INFO 139936138098496] #quality_metric. host: algo-1, epoch: 32, validation pixel_accuracy: 1.0 .\u001b[0m\n",
      "\u001b[34m[08/14/2020 13:58:57 INFO 139936138098496] #quality_metric. host: algo-1, epoch: 32, validation mIOU: 0.5 .\u001b[0m\n",
      "\u001b[34m[08/14/2020 13:58:57 INFO 139936138098496] #throughput_metric. host: algo-1, epoch: 32, validation throughput: 99.1113412409 samples/sec.\u001b[0m\n",
      "\u001b[34m[08/14/2020 13:58:57 INFO 139936138098496] Serializing model to /opt/ml/model/model_best.params\u001b[0m\n",
      "\u001b[34m[08/14/2020 13:58:57 INFO 139936138098496] #progress_metric: host=algo-1, completed 33 % of epochs\u001b[0m\n",
      "\u001b[34m#metrics {\"Metrics\": {\"Max Batches Seen Between Resets\": {\"count\": 1, \"max\": 0, \"sum\": 0.0, \"min\": 0}, \"Number of Batches Since Last Reset\": {\"count\": 1, \"max\": 0, \"sum\": 0.0, \"min\": 0}, \"Number of Records Since Last Reset\": {\"count\": 1, \"max\": 0, \"sum\": 0.0, \"min\": 0}, \"Total Batches Seen\": {\"count\": 1, \"max\": 0, \"sum\": 0.0, \"min\": 0}, \"Total Records Seen\": {\"count\": 1, \"max\": 0, \"sum\": 0.0, \"min\": 0}, \"Max Records Seen Between Resets\": {\"count\": 1, \"max\": 0, \"sum\": 0.0, \"min\": 0}, \"Reset Count\": {\"count\": 1, \"max\": 33, \"sum\": 33.0, \"min\": 33}}, \"EndTime\": 1597413537.309452, \"Dimensions\": {\"Host\": \"algo-1\", \"Meta\": \"training_data_iter\", \"Operation\": \"training\", \"Algorithm\": \"AWS/Semantic Segmentation\", \"epoch\": 32}, \"StartTime\": 1597413524.244837}\n",
      "\u001b[0m\n",
      "\u001b[34m[08/14/2020 13:59:07 INFO 139936138098496] #progress_notice. epoch: 33, iterations: 20 speed: 57.889198664 samples/sec learning_rate: 0.000075\u001b[0m\n",
      "\u001b[34m[08/14/2020 13:59:08 INFO 139936138098496] #quality_metric. host: algo-1, epoch: 33, train loss: 0.0006263955332211812 .\u001b[0m\n",
      "\u001b[34m[08/14/2020 13:59:08 INFO 139936138098496] #throughput_metric. host: algo-1, epoch: 33, train throughput: 54.4667299532 samples/sec.\u001b[0m\n",
      "\u001b[34m[08/14/2020 13:59:10 INFO 139936138098496] #quality_metric. host: algo-1, epoch: 33, validation pixel_accuracy: 1.0 .\u001b[0m\n",
      "\u001b[34m[08/14/2020 13:59:10 INFO 139936138098496] #quality_metric. host: algo-1, epoch: 33, validation mIOU: 0.5 .\u001b[0m\n",
      "\u001b[34m[08/14/2020 13:59:10 INFO 139936138098496] #throughput_metric. host: algo-1, epoch: 33, validation throughput: 99.6145046874 samples/sec.\u001b[0m\n",
      "\u001b[34m[08/14/2020 13:59:10 INFO 139936138098496] Serializing model to /opt/ml/model/model_best.params\u001b[0m\n",
      "\u001b[34m[08/14/2020 13:59:10 INFO 139936138098496] #progress_metric: host=algo-1, completed 34 % of epochs\u001b[0m\n",
      "\u001b[34m#metrics {\"Metrics\": {\"Max Batches Seen Between Resets\": {\"count\": 1, \"max\": 0, \"sum\": 0.0, \"min\": 0}, \"Number of Batches Since Last Reset\": {\"count\": 1, \"max\": 0, \"sum\": 0.0, \"min\": 0}, \"Number of Records Since Last Reset\": {\"count\": 1, \"max\": 0, \"sum\": 0.0, \"min\": 0}, \"Total Batches Seen\": {\"count\": 1, \"max\": 0, \"sum\": 0.0, \"min\": 0}, \"Total Records Seen\": {\"count\": 1, \"max\": 0, \"sum\": 0.0, \"min\": 0}, \"Max Records Seen Between Resets\": {\"count\": 1, \"max\": 0, \"sum\": 0.0, \"min\": 0}, \"Reset Count\": {\"count\": 1, \"max\": 34, \"sum\": 34.0, \"min\": 34}}, \"EndTime\": 1597413550.996971, \"Dimensions\": {\"Host\": \"algo-1\", \"Meta\": \"training_data_iter\", \"Operation\": \"training\", \"Algorithm\": \"AWS/Semantic Segmentation\", \"epoch\": 33}, \"StartTime\": 1597413537.309644}\n",
      "\u001b[0m\n",
      "\u001b[34m[08/14/2020 13:59:21 INFO 139936138098496] #progress_notice. epoch: 34, iterations: 20 speed: 57.7957693229 samples/sec learning_rate: 0.000074\u001b[0m\n",
      "\u001b[34m[08/14/2020 13:59:21 INFO 139936138098496] #quality_metric. host: algo-1, epoch: 34, train loss: 0.0006428568490913936 .\u001b[0m\n",
      "\u001b[34m[08/14/2020 13:59:21 INFO 139936138098496] #throughput_metric. host: algo-1, epoch: 34, train throughput: 56.5752524494 samples/sec.\u001b[0m\n",
      "\u001b[34m[08/14/2020 13:59:24 INFO 139936138098496] #quality_metric. host: algo-1, epoch: 34, validation pixel_accuracy: 1.0 .\u001b[0m\n",
      "\u001b[34m[08/14/2020 13:59:24 INFO 139936138098496] #quality_metric. host: algo-1, epoch: 34, validation mIOU: 0.5 .\u001b[0m\n",
      "\u001b[34m[08/14/2020 13:59:24 INFO 139936138098496] #throughput_metric. host: algo-1, epoch: 34, validation throughput: 99.9809758304 samples/sec.\u001b[0m\n",
      "\u001b[34m[08/14/2020 13:59:24 INFO 139936138098496] Serializing model to /opt/ml/model/model_best.params\u001b[0m\n",
      "\u001b[34m[08/14/2020 13:59:24 INFO 139936138098496] #progress_metric: host=algo-1, completed 35 % of epochs\u001b[0m\n",
      "\u001b[34m#metrics {\"Metrics\": {\"Max Batches Seen Between Resets\": {\"count\": 1, \"max\": 0, \"sum\": 0.0, \"min\": 0}, \"Number of Batches Since Last Reset\": {\"count\": 1, \"max\": 0, \"sum\": 0.0, \"min\": 0}, \"Number of Records Since Last Reset\": {\"count\": 1, \"max\": 0, \"sum\": 0.0, \"min\": 0}, \"Total Batches Seen\": {\"count\": 1, \"max\": 0, \"sum\": 0.0, \"min\": 0}, \"Total Records Seen\": {\"count\": 1, \"max\": 0, \"sum\": 0.0, \"min\": 0}, \"Max Records Seen Between Resets\": {\"count\": 1, \"max\": 0, \"sum\": 0.0, \"min\": 0}, \"Reset Count\": {\"count\": 1, \"max\": 35, \"sum\": 35.0, \"min\": 35}}, \"EndTime\": 1597413564.550715, \"Dimensions\": {\"Host\": \"algo-1\", \"Meta\": \"training_data_iter\", \"Operation\": \"training\", \"Algorithm\": \"AWS/Semantic Segmentation\", \"epoch\": 34}, \"StartTime\": 1597413550.997155}\n",
      "\u001b[0m\n",
      "\u001b[34m[08/14/2020 13:59:35 INFO 139936138098496] #progress_notice. epoch: 35, iterations: 20 speed: 57.8001498643 samples/sec learning_rate: 0.000074\u001b[0m\n",
      "\u001b[34m[08/14/2020 13:59:35 INFO 139936138098496] #quality_metric. host: algo-1, epoch: 35, train loss: 0.0006593479642602192 .\u001b[0m\n",
      "\u001b[34m[08/14/2020 13:59:35 INFO 139936138098496] #throughput_metric. host: algo-1, epoch: 35, train throughput: 56.6528427993 samples/sec.\u001b[0m\n",
      "\u001b[34m[08/14/2020 13:59:38 INFO 139936138098496] #quality_metric. host: algo-1, epoch: 35, validation pixel_accuracy: 1.0 .\u001b[0m\n",
      "\u001b[34m[08/14/2020 13:59:38 INFO 139936138098496] #quality_metric. host: algo-1, epoch: 35, validation mIOU: 0.5 .\u001b[0m\n",
      "\u001b[34m[08/14/2020 13:59:38 INFO 139936138098496] #throughput_metric. host: algo-1, epoch: 35, validation throughput: 100.76232017 samples/sec.\u001b[0m\n",
      "\u001b[34m[08/14/2020 13:59:38 INFO 139936138098496] Serializing model to /opt/ml/model/model_best.params\u001b[0m\n",
      "\u001b[34m[08/14/2020 13:59:38 INFO 139936138098496] #progress_metric: host=algo-1, completed 36 % of epochs\u001b[0m\n",
      "\u001b[34m#metrics {\"Metrics\": {\"Max Batches Seen Between Resets\": {\"count\": 1, \"max\": 0, \"sum\": 0.0, \"min\": 0}, \"Number of Batches Since Last Reset\": {\"count\": 1, \"max\": 0, \"sum\": 0.0, \"min\": 0}, \"Number of Records Since Last Reset\": {\"count\": 1, \"max\": 0, \"sum\": 0.0, \"min\": 0}, \"Total Batches Seen\": {\"count\": 1, \"max\": 0, \"sum\": 0.0, \"min\": 0}, \"Total Records Seen\": {\"count\": 1, \"max\": 0, \"sum\": 0.0, \"min\": 0}, \"Max Records Seen Between Resets\": {\"count\": 1, \"max\": 0, \"sum\": 0.0, \"min\": 0}, \"Reset Count\": {\"count\": 1, \"max\": 36, \"sum\": 36.0, \"min\": 36}}, \"EndTime\": 1597413578.413146, \"Dimensions\": {\"Host\": \"algo-1\", \"Meta\": \"training_data_iter\", \"Operation\": \"training\", \"Algorithm\": \"AWS/Semantic Segmentation\", \"epoch\": 35}, \"StartTime\": 1597413564.550856}\n",
      "\u001b[0m\n",
      "\u001b[34m[08/14/2020 13:59:49 INFO 139936138098496] #progress_notice. epoch: 36, iterations: 20 speed: 57.755081948 samples/sec learning_rate: 0.000073\u001b[0m\n",
      "\u001b[34m[08/14/2020 13:59:49 INFO 139936138098496] #quality_metric. host: algo-1, epoch: 36, train loss: 0.000670454327271066 .\u001b[0m\n",
      "\u001b[34m[08/14/2020 13:59:49 INFO 139936138098496] #throughput_metric. host: algo-1, epoch: 36, train throughput: 56.283792043 samples/sec.\u001b[0m\n",
      "\u001b[34m[08/14/2020 13:59:52 INFO 139936138098496] #quality_metric. host: algo-1, epoch: 36, validation pixel_accuracy: 1.0 .\u001b[0m\n",
      "\u001b[34m[08/14/2020 13:59:52 INFO 139936138098496] #quality_metric. host: algo-1, epoch: 36, validation mIOU: 0.5 .\u001b[0m\n",
      "\u001b[34m[08/14/2020 13:59:52 INFO 139936138098496] #throughput_metric. host: algo-1, epoch: 36, validation throughput: 101.304533436 samples/sec.\u001b[0m\n",
      "\u001b[34m[08/14/2020 13:59:52 INFO 139936138098496] Serializing model to /opt/ml/model/model_best.params\u001b[0m\n",
      "\u001b[34m[08/14/2020 13:59:52 INFO 139936138098496] #progress_metric: host=algo-1, completed 37 % of epochs\u001b[0m\n",
      "\u001b[34m#metrics {\"Metrics\": {\"Max Batches Seen Between Resets\": {\"count\": 1, \"max\": 0, \"sum\": 0.0, \"min\": 0}, \"Number of Batches Since Last Reset\": {\"count\": 1, \"max\": 0, \"sum\": 0.0, \"min\": 0}, \"Number of Records Since Last Reset\": {\"count\": 1, \"max\": 0, \"sum\": 0.0, \"min\": 0}, \"Total Batches Seen\": {\"count\": 1, \"max\": 0, \"sum\": 0.0, \"min\": 0}, \"Total Records Seen\": {\"count\": 1, \"max\": 0, \"sum\": 0.0, \"min\": 0}, \"Max Records Seen Between Resets\": {\"count\": 1, \"max\": 0, \"sum\": 0.0, \"min\": 0}, \"Reset Count\": {\"count\": 1, \"max\": 37, \"sum\": 37.0, \"min\": 37}}, \"EndTime\": 1597413592.224721, \"Dimensions\": {\"Host\": \"algo-1\", \"Meta\": \"training_data_iter\", \"Operation\": \"training\", \"Algorithm\": \"AWS/Semantic Segmentation\", \"epoch\": 36}, \"StartTime\": 1597413578.413298}\n",
      "\u001b[0m\n"
     ]
    },
    {
     "name": "stdout",
     "output_type": "stream",
     "text": [
      "\u001b[34m[08/14/2020 14:00:03 INFO 139936138098496] #progress_notice. epoch: 37, iterations: 20 speed: 58.0680214659 samples/sec learning_rate: 0.000072\u001b[0m\n",
      "\u001b[34m[08/14/2020 14:00:03 INFO 139936138098496] #quality_metric. host: algo-1, epoch: 37, train loss: 0.0006866587320387009 .\u001b[0m\n",
      "\u001b[34m[08/14/2020 14:00:03 INFO 139936138098496] #throughput_metric. host: algo-1, epoch: 37, train throughput: 57.20493772 samples/sec.\u001b[0m\n",
      "\u001b[34m[08/14/2020 14:00:05 INFO 139936138098496] #quality_metric. host: algo-1, epoch: 37, validation pixel_accuracy: 1.0 .\u001b[0m\n",
      "\u001b[34m[08/14/2020 14:00:05 INFO 139936138098496] #quality_metric. host: algo-1, epoch: 37, validation mIOU: 0.5 .\u001b[0m\n",
      "\u001b[34m[08/14/2020 14:00:05 INFO 139936138098496] #throughput_metric. host: algo-1, epoch: 37, validation throughput: 101.069113759 samples/sec.\u001b[0m\n",
      "\u001b[34m[08/14/2020 14:00:05 INFO 139936138098496] Serializing model to /opt/ml/model/model_best.params\u001b[0m\n",
      "\u001b[34m[08/14/2020 14:00:06 INFO 139936138098496] #progress_metric: host=algo-1, completed 38 % of epochs\u001b[0m\n",
      "\u001b[34m#metrics {\"Metrics\": {\"Max Batches Seen Between Resets\": {\"count\": 1, \"max\": 0, \"sum\": 0.0, \"min\": 0}, \"Number of Batches Since Last Reset\": {\"count\": 1, \"max\": 0, \"sum\": 0.0, \"min\": 0}, \"Number of Records Since Last Reset\": {\"count\": 1, \"max\": 0, \"sum\": 0.0, \"min\": 0}, \"Total Batches Seen\": {\"count\": 1, \"max\": 0, \"sum\": 0.0, \"min\": 0}, \"Total Records Seen\": {\"count\": 1, \"max\": 0, \"sum\": 0.0, \"min\": 0}, \"Max Records Seen Between Resets\": {\"count\": 1, \"max\": 0, \"sum\": 0.0, \"min\": 0}, \"Reset Count\": {\"count\": 1, \"max\": 38, \"sum\": 38.0, \"min\": 38}}, \"EndTime\": 1597413606.102613, \"Dimensions\": {\"Host\": \"algo-1\", \"Meta\": \"training_data_iter\", \"Operation\": \"training\", \"Algorithm\": \"AWS/Semantic Segmentation\", \"epoch\": 37}, \"StartTime\": 1597413592.224879}\n",
      "\u001b[0m\n",
      "\u001b[34m[08/14/2020 14:00:16 INFO 139936138098496] #progress_notice. epoch: 38, iterations: 20 speed: 58.0380907904 samples/sec learning_rate: 0.000071\u001b[0m\n",
      "\u001b[34m[08/14/2020 14:00:17 INFO 139936138098496] #quality_metric. host: algo-1, epoch: 38, train loss: 0.000697646049295806 .\u001b[0m\n",
      "\u001b[34m[08/14/2020 14:00:17 INFO 139936138098496] #throughput_metric. host: algo-1, epoch: 38, train throughput: 55.1462283162 samples/sec.\u001b[0m\n",
      "\u001b[34m[08/14/2020 14:00:19 INFO 139936138098496] #quality_metric. host: algo-1, epoch: 38, validation pixel_accuracy: 1.0 .\u001b[0m\n",
      "\u001b[34m[08/14/2020 14:00:19 INFO 139936138098496] #quality_metric. host: algo-1, epoch: 38, validation mIOU: 0.5 .\u001b[0m\n",
      "\u001b[34m[08/14/2020 14:00:19 INFO 139936138098496] #throughput_metric. host: algo-1, epoch: 38, validation throughput: 100.437537525 samples/sec.\u001b[0m\n",
      "\u001b[34m[08/14/2020 14:00:19 INFO 139936138098496] Serializing model to /opt/ml/model/model_best.params\u001b[0m\n",
      "\u001b[34m[08/14/2020 14:00:20 INFO 139936138098496] #progress_metric: host=algo-1, completed 39 % of epochs\u001b[0m\n",
      "\u001b[34m#metrics {\"Metrics\": {\"Max Batches Seen Between Resets\": {\"count\": 1, \"max\": 0, \"sum\": 0.0, \"min\": 0}, \"Number of Batches Since Last Reset\": {\"count\": 1, \"max\": 0, \"sum\": 0.0, \"min\": 0}, \"Number of Records Since Last Reset\": {\"count\": 1, \"max\": 0, \"sum\": 0.0, \"min\": 0}, \"Total Batches Seen\": {\"count\": 1, \"max\": 0, \"sum\": 0.0, \"min\": 0}, \"Total Records Seen\": {\"count\": 1, \"max\": 0, \"sum\": 0.0, \"min\": 0}, \"Max Records Seen Between Resets\": {\"count\": 1, \"max\": 0, \"sum\": 0.0, \"min\": 0}, \"Reset Count\": {\"count\": 1, \"max\": 39, \"sum\": 39.0, \"min\": 39}}, \"EndTime\": 1597413620.00316, \"Dimensions\": {\"Host\": \"algo-1\", \"Meta\": \"training_data_iter\", \"Operation\": \"training\", \"Algorithm\": \"AWS/Semantic Segmentation\", \"epoch\": 38}, \"StartTime\": 1597413606.102763}\n",
      "\u001b[0m\n",
      "\u001b[34m[08/14/2020 14:00:30 INFO 139936138098496] #progress_notice. epoch: 39, iterations: 20 speed: 57.6653548314 samples/sec learning_rate: 0.000071\u001b[0m\n",
      "\u001b[34m[08/14/2020 14:00:31 INFO 139936138098496] #quality_metric. host: algo-1, epoch: 39, train loss: 0.0007055588463448327 .\u001b[0m\n",
      "\u001b[34m[08/14/2020 14:00:31 INFO 139936138098496] #throughput_metric. host: algo-1, epoch: 39, train throughput: 55.7219472977 samples/sec.\u001b[0m\n",
      "\u001b[34m[08/14/2020 14:00:33 INFO 139936138098496] #quality_metric. host: algo-1, epoch: 39, validation pixel_accuracy: 1.0 .\u001b[0m\n",
      "\u001b[34m[08/14/2020 14:00:33 INFO 139936138098496] #quality_metric. host: algo-1, epoch: 39, validation mIOU: 0.5 .\u001b[0m\n",
      "\u001b[34m[08/14/2020 14:00:33 INFO 139936138098496] #throughput_metric. host: algo-1, epoch: 39, validation throughput: 100.983413421 samples/sec.\u001b[0m\n",
      "\u001b[34m[08/14/2020 14:00:33 INFO 139936138098496] Serializing model to /opt/ml/model/model_best.params\u001b[0m\n",
      "\u001b[34m[08/14/2020 14:00:33 INFO 139936138098496] #progress_metric: host=algo-1, completed 40 % of epochs\u001b[0m\n",
      "\u001b[34m#metrics {\"Metrics\": {\"Max Batches Seen Between Resets\": {\"count\": 1, \"max\": 0, \"sum\": 0.0, \"min\": 0}, \"Number of Batches Since Last Reset\": {\"count\": 1, \"max\": 0, \"sum\": 0.0, \"min\": 0}, \"Number of Records Since Last Reset\": {\"count\": 1, \"max\": 0, \"sum\": 0.0, \"min\": 0}, \"Total Batches Seen\": {\"count\": 1, \"max\": 0, \"sum\": 0.0, \"min\": 0}, \"Total Records Seen\": {\"count\": 1, \"max\": 0, \"sum\": 0.0, \"min\": 0}, \"Max Records Seen Between Resets\": {\"count\": 1, \"max\": 0, \"sum\": 0.0, \"min\": 0}, \"Reset Count\": {\"count\": 1, \"max\": 40, \"sum\": 40.0, \"min\": 40}}, \"EndTime\": 1597413633.847396, \"Dimensions\": {\"Host\": \"algo-1\", \"Meta\": \"training_data_iter\", \"Operation\": \"training\", \"Algorithm\": \"AWS/Semantic Segmentation\", \"epoch\": 39}, \"StartTime\": 1597413620.003317}\n",
      "\u001b[0m\n",
      "\u001b[34m[08/14/2020 14:00:44 INFO 139936138098496] #progress_notice. epoch: 40, iterations: 20 speed: 58.0210300615 samples/sec learning_rate: 0.000070\u001b[0m\n",
      "\u001b[34m[08/14/2020 14:00:44 INFO 139936138098496] #quality_metric. host: algo-1, epoch: 40, train loss: 0.0007289617455431394 .\u001b[0m\n",
      "\u001b[34m[08/14/2020 14:00:44 INFO 139936138098496] #throughput_metric. host: algo-1, epoch: 40, train throughput: 55.8238605798 samples/sec.\u001b[0m\n",
      "\u001b[34m[08/14/2020 14:00:46 INFO 139936138098496] #quality_metric. host: algo-1, epoch: 40, validation pixel_accuracy: 1.0 .\u001b[0m\n",
      "\u001b[34m[08/14/2020 14:00:46 INFO 139936138098496] #quality_metric. host: algo-1, epoch: 40, validation mIOU: 0.5 .\u001b[0m\n",
      "\u001b[34m[08/14/2020 14:00:46 INFO 139936138098496] #throughput_metric. host: algo-1, epoch: 40, validation throughput: 100.705844219 samples/sec.\u001b[0m\n",
      "\u001b[34m[08/14/2020 14:00:46 INFO 139936138098496] Serializing model to /opt/ml/model/model_best.params\u001b[0m\n",
      "\u001b[34m[08/14/2020 14:00:46 INFO 139936138098496] #progress_metric: host=algo-1, completed 41 % of epochs\u001b[0m\n",
      "\u001b[34m#metrics {\"Metrics\": {\"Max Batches Seen Between Resets\": {\"count\": 1, \"max\": 0, \"sum\": 0.0, \"min\": 0}, \"Number of Batches Since Last Reset\": {\"count\": 1, \"max\": 0, \"sum\": 0.0, \"min\": 0}, \"Number of Records Since Last Reset\": {\"count\": 1, \"max\": 0, \"sum\": 0.0, \"min\": 0}, \"Total Batches Seen\": {\"count\": 1, \"max\": 0, \"sum\": 0.0, \"min\": 0}, \"Total Records Seen\": {\"count\": 1, \"max\": 0, \"sum\": 0.0, \"min\": 0}, \"Max Records Seen Between Resets\": {\"count\": 1, \"max\": 0, \"sum\": 0.0, \"min\": 0}, \"Reset Count\": {\"count\": 1, \"max\": 41, \"sum\": 41.0, \"min\": 41}}, \"EndTime\": 1597413646.852309, \"Dimensions\": {\"Host\": \"algo-1\", \"Meta\": \"training_data_iter\", \"Operation\": \"training\", \"Algorithm\": \"AWS/Semantic Segmentation\", \"epoch\": 40}, \"StartTime\": 1597413633.847595}\n",
      "\u001b[0m\n",
      "\u001b[34m[08/14/2020 14:00:57 INFO 139936138098496] #progress_notice. epoch: 41, iterations: 20 speed: 58.2012752288 samples/sec learning_rate: 0.000069\u001b[0m\n",
      "\u001b[34m[08/14/2020 14:00:58 INFO 139936138098496] #quality_metric. host: algo-1, epoch: 41, train loss: 0.000743137439712882 .\u001b[0m\n",
      "\u001b[34m[08/14/2020 14:00:58 INFO 139936138098496] #throughput_metric. host: algo-1, epoch: 41, train throughput: 56.6580041233 samples/sec.\u001b[0m\n",
      "\u001b[34m[08/14/2020 14:01:00 INFO 139936138098496] #quality_metric. host: algo-1, epoch: 41, validation pixel_accuracy: 1.0 .\u001b[0m\n",
      "\u001b[34m[08/14/2020 14:01:00 INFO 139936138098496] #quality_metric. host: algo-1, epoch: 41, validation mIOU: 0.5 .\u001b[0m\n",
      "\u001b[34m[08/14/2020 14:01:00 INFO 139936138098496] #throughput_metric. host: algo-1, epoch: 41, validation throughput: 99.5126806302 samples/sec.\u001b[0m\n",
      "\u001b[34m[08/14/2020 14:01:00 INFO 139936138098496] Serializing model to /opt/ml/model/model_best.params\u001b[0m\n",
      "\u001b[34m[08/14/2020 14:01:00 INFO 139936138098496] #progress_metric: host=algo-1, completed 42 % of epochs\u001b[0m\n",
      "\u001b[34m#metrics {\"Metrics\": {\"Max Batches Seen Between Resets\": {\"count\": 1, \"max\": 0, \"sum\": 0.0, \"min\": 0}, \"Number of Batches Since Last Reset\": {\"count\": 1, \"max\": 0, \"sum\": 0.0, \"min\": 0}, \"Number of Records Since Last Reset\": {\"count\": 1, \"max\": 0, \"sum\": 0.0, \"min\": 0}, \"Total Batches Seen\": {\"count\": 1, \"max\": 0, \"sum\": 0.0, \"min\": 0}, \"Total Records Seen\": {\"count\": 1, \"max\": 0, \"sum\": 0.0, \"min\": 0}, \"Max Records Seen Between Resets\": {\"count\": 1, \"max\": 0, \"sum\": 0.0, \"min\": 0}, \"Reset Count\": {\"count\": 1, \"max\": 42, \"sum\": 42.0, \"min\": 42}}, \"EndTime\": 1597413660.735044, \"Dimensions\": {\"Host\": \"algo-1\", \"Meta\": \"training_data_iter\", \"Operation\": \"training\", \"Algorithm\": \"AWS/Semantic Segmentation\", \"epoch\": 41}, \"StartTime\": 1597413646.852466}\n",
      "\u001b[0m\n"
     ]
    },
    {
     "name": "stdout",
     "output_type": "stream",
     "text": [
      "\u001b[34m[08/14/2020 14:01:11 INFO 139936138098496] #progress_notice. epoch: 42, iterations: 20 speed: 58.1088995316 samples/sec learning_rate: 0.000068\u001b[0m\n",
      "\u001b[34m[08/14/2020 14:01:11 INFO 139936138098496] #quality_metric. host: algo-1, epoch: 42, train loss: 0.000750199010196541 .\u001b[0m\n",
      "\u001b[34m[08/14/2020 14:01:11 INFO 139936138098496] #throughput_metric. host: algo-1, epoch: 42, train throughput: 56.2278151798 samples/sec.\u001b[0m\n",
      "\u001b[34m[08/14/2020 14:01:14 INFO 139936138098496] #quality_metric. host: algo-1, epoch: 42, validation pixel_accuracy: 1.0 .\u001b[0m\n",
      "\u001b[34m[08/14/2020 14:01:14 INFO 139936138098496] #quality_metric. host: algo-1, epoch: 42, validation mIOU: 0.5 .\u001b[0m\n",
      "\u001b[34m[08/14/2020 14:01:14 INFO 139936138098496] #throughput_metric. host: algo-1, epoch: 42, validation throughput: 100.251063626 samples/sec.\u001b[0m\n",
      "\u001b[34m[08/14/2020 14:01:14 INFO 139936138098496] Serializing model to /opt/ml/model/model_best.params\u001b[0m\n",
      "\u001b[34m[08/14/2020 14:01:14 INFO 139936138098496] #progress_metric: host=algo-1, completed 43 % of epochs\u001b[0m\n",
      "\u001b[34m#metrics {\"Metrics\": {\"Max Batches Seen Between Resets\": {\"count\": 1, \"max\": 0, \"sum\": 0.0, \"min\": 0}, \"Number of Batches Since Last Reset\": {\"count\": 1, \"max\": 0, \"sum\": 0.0, \"min\": 0}, \"Number of Records Since Last Reset\": {\"count\": 1, \"max\": 0, \"sum\": 0.0, \"min\": 0}, \"Total Batches Seen\": {\"count\": 1, \"max\": 0, \"sum\": 0.0, \"min\": 0}, \"Total Records Seen\": {\"count\": 1, \"max\": 0, \"sum\": 0.0, \"min\": 0}, \"Max Records Seen Between Resets\": {\"count\": 1, \"max\": 0, \"sum\": 0.0, \"min\": 0}, \"Reset Count\": {\"count\": 1, \"max\": 43, \"sum\": 43.0, \"min\": 43}}, \"EndTime\": 1597413674.224013, \"Dimensions\": {\"Host\": \"algo-1\", \"Meta\": \"training_data_iter\", \"Operation\": \"training\", \"Algorithm\": \"AWS/Semantic Segmentation\", \"epoch\": 42}, \"StartTime\": 1597413660.735213}\n",
      "\u001b[0m\n",
      "\u001b[34m[08/14/2020 14:01:24 INFO 139936138098496] #progress_notice. epoch: 43, iterations: 20 speed: 57.6830498699 samples/sec learning_rate: 0.000068\u001b[0m\n",
      "\u001b[34m[08/14/2020 14:01:25 INFO 139936138098496] #quality_metric. host: algo-1, epoch: 43, train loss: 0.0007698789334178648 .\u001b[0m\n",
      "\u001b[34m[08/14/2020 14:01:25 INFO 139936138098496] #throughput_metric. host: algo-1, epoch: 43, train throughput: 56.4606562659 samples/sec.\u001b[0m\n",
      "\u001b[34m[08/14/2020 14:01:27 INFO 139936138098496] #quality_metric. host: algo-1, epoch: 43, validation pixel_accuracy: 1.0 .\u001b[0m\n",
      "\u001b[34m[08/14/2020 14:01:27 INFO 139936138098496] #quality_metric. host: algo-1, epoch: 43, validation mIOU: 0.5 .\u001b[0m\n",
      "\u001b[34m[08/14/2020 14:01:27 INFO 139936138098496] #throughput_metric. host: algo-1, epoch: 43, validation throughput: 101.216520195 samples/sec.\u001b[0m\n",
      "\u001b[34m[08/14/2020 14:01:27 INFO 139936138098496] Serializing model to /opt/ml/model/model_best.params\u001b[0m\n",
      "\u001b[34m[08/14/2020 14:01:28 INFO 139936138098496] #progress_metric: host=algo-1, completed 44 % of epochs\u001b[0m\n",
      "\u001b[34m#metrics {\"Metrics\": {\"Max Batches Seen Between Resets\": {\"count\": 1, \"max\": 0, \"sum\": 0.0, \"min\": 0}, \"Number of Batches Since Last Reset\": {\"count\": 1, \"max\": 0, \"sum\": 0.0, \"min\": 0}, \"Number of Records Since Last Reset\": {\"count\": 1, \"max\": 0, \"sum\": 0.0, \"min\": 0}, \"Total Batches Seen\": {\"count\": 1, \"max\": 0, \"sum\": 0.0, \"min\": 0}, \"Total Records Seen\": {\"count\": 1, \"max\": 0, \"sum\": 0.0, \"min\": 0}, \"Max Records Seen Between Resets\": {\"count\": 1, \"max\": 0, \"sum\": 0.0, \"min\": 0}, \"Reset Count\": {\"count\": 1, \"max\": 44, \"sum\": 44.0, \"min\": 44}}, \"EndTime\": 1597413688.107628, \"Dimensions\": {\"Host\": \"algo-1\", \"Meta\": \"training_data_iter\", \"Operation\": \"training\", \"Algorithm\": \"AWS/Semantic Segmentation\", \"epoch\": 43}, \"StartTime\": 1597413674.224176}\n",
      "\u001b[0m\n",
      "\u001b[34m[08/14/2020 14:01:38 INFO 139936138098496] #progress_notice. epoch: 44, iterations: 20 speed: 57.8114029345 samples/sec learning_rate: 0.000067\u001b[0m\n",
      "\u001b[34m[08/14/2020 14:01:39 INFO 139936138098496] #quality_metric. host: algo-1, epoch: 44, train loss: 0.0007813072985630821 .\u001b[0m\n",
      "\u001b[34m[08/14/2020 14:01:39 INFO 139936138098496] #throughput_metric. host: algo-1, epoch: 44, train throughput: 55.3766571748 samples/sec.\u001b[0m\n",
      "\u001b[34m[08/14/2020 14:01:41 INFO 139936138098496] #quality_metric. host: algo-1, epoch: 44, validation pixel_accuracy: 1.0 .\u001b[0m\n",
      "\u001b[34m[08/14/2020 14:01:41 INFO 139936138098496] #quality_metric. host: algo-1, epoch: 44, validation mIOU: 0.5 .\u001b[0m\n",
      "\u001b[34m[08/14/2020 14:01:41 INFO 139936138098496] #throughput_metric. host: algo-1, epoch: 44, validation throughput: 100.235999956 samples/sec.\u001b[0m\n",
      "\u001b[34m[08/14/2020 14:01:41 INFO 139936138098496] Serializing model to /opt/ml/model/model_best.params\u001b[0m\n",
      "\u001b[34m[08/14/2020 14:01:41 INFO 139936138098496] #progress_metric: host=algo-1, completed 45 % of epochs\u001b[0m\n",
      "\u001b[34m#metrics {\"Metrics\": {\"Max Batches Seen Between Resets\": {\"count\": 1, \"max\": 0, \"sum\": 0.0, \"min\": 0}, \"Number of Batches Since Last Reset\": {\"count\": 1, \"max\": 0, \"sum\": 0.0, \"min\": 0}, \"Number of Records Since Last Reset\": {\"count\": 1, \"max\": 0, \"sum\": 0.0, \"min\": 0}, \"Total Batches Seen\": {\"count\": 1, \"max\": 0, \"sum\": 0.0, \"min\": 0}, \"Total Records Seen\": {\"count\": 1, \"max\": 0, \"sum\": 0.0, \"min\": 0}, \"Max Records Seen Between Resets\": {\"count\": 1, \"max\": 0, \"sum\": 0.0, \"min\": 0}, \"Reset Count\": {\"count\": 1, \"max\": 45, \"sum\": 45.0, \"min\": 45}}, \"EndTime\": 1597413701.660446, \"Dimensions\": {\"Host\": \"algo-1\", \"Meta\": \"training_data_iter\", \"Operation\": \"training\", \"Algorithm\": \"AWS/Semantic Segmentation\", \"epoch\": 44}, \"StartTime\": 1597413688.107826}\n",
      "\u001b[0m\n",
      "\u001b[34m[08/14/2020 14:01:52 INFO 139936138098496] #progress_notice. epoch: 45, iterations: 20 speed: 57.8274934705 samples/sec learning_rate: 0.000066\u001b[0m\n",
      "\u001b[34m[08/14/2020 14:01:52 INFO 139936138098496] #quality_metric. host: algo-1, epoch: 45, train loss: 0.0007884810939209448 .\u001b[0m\n",
      "\u001b[34m[08/14/2020 14:01:52 INFO 139936138098496] #throughput_metric. host: algo-1, epoch: 45, train throughput: 56.7649357534 samples/sec.\u001b[0m\n",
      "\u001b[34m[08/14/2020 14:01:54 INFO 139936138098496] #quality_metric. host: algo-1, epoch: 45, validation pixel_accuracy: 1.0 .\u001b[0m\n",
      "\u001b[34m[08/14/2020 14:01:54 INFO 139936138098496] #quality_metric. host: algo-1, epoch: 45, validation mIOU: 0.5 .\u001b[0m\n",
      "\u001b[34m[08/14/2020 14:01:54 INFO 139936138098496] #throughput_metric. host: algo-1, epoch: 45, validation throughput: 100.765926096 samples/sec.\u001b[0m\n",
      "\u001b[34m[08/14/2020 14:01:54 INFO 139936138098496] Serializing model to /opt/ml/model/model_best.params\u001b[0m\n",
      "\u001b[34m[08/14/2020 14:01:55 INFO 139936138098496] #progress_metric: host=algo-1, completed 46 % of epochs\u001b[0m\n",
      "\u001b[34m#metrics {\"Metrics\": {\"Max Batches Seen Between Resets\": {\"count\": 1, \"max\": 0, \"sum\": 0.0, \"min\": 0}, \"Number of Batches Since Last Reset\": {\"count\": 1, \"max\": 0, \"sum\": 0.0, \"min\": 0}, \"Number of Records Since Last Reset\": {\"count\": 1, \"max\": 0, \"sum\": 0.0, \"min\": 0}, \"Total Batches Seen\": {\"count\": 1, \"max\": 0, \"sum\": 0.0, \"min\": 0}, \"Total Records Seen\": {\"count\": 1, \"max\": 0, \"sum\": 0.0, \"min\": 0}, \"Max Records Seen Between Resets\": {\"count\": 1, \"max\": 0, \"sum\": 0.0, \"min\": 0}, \"Reset Count\": {\"count\": 1, \"max\": 46, \"sum\": 46.0, \"min\": 46}}, \"EndTime\": 1597413715.118623, \"Dimensions\": {\"Host\": \"algo-1\", \"Meta\": \"training_data_iter\", \"Operation\": \"training\", \"Algorithm\": \"AWS/Semantic Segmentation\", \"epoch\": 45}, \"StartTime\": 1597413701.660624}\n",
      "\u001b[0m\n",
      "\u001b[34m[08/14/2020 14:02:05 INFO 139936138098496] #progress_notice. epoch: 46, iterations: 20 speed: 57.6886034927 samples/sec learning_rate: 0.000065\u001b[0m\n",
      "\u001b[34m[08/14/2020 14:02:06 INFO 139936138098496] #quality_metric. host: algo-1, epoch: 46, train loss: 0.0008202941125174137 .\u001b[0m\n",
      "\u001b[34m[08/14/2020 14:02:06 INFO 139936138098496] #throughput_metric. host: algo-1, epoch: 46, train throughput: 54.8972134327 samples/sec.\u001b[0m\n",
      "\u001b[34m[08/14/2020 14:02:08 INFO 139936138098496] #quality_metric. host: algo-1, epoch: 46, validation pixel_accuracy: 1.0 .\u001b[0m\n",
      "\u001b[34m[08/14/2020 14:02:08 INFO 139936138098496] #quality_metric. host: algo-1, epoch: 46, validation mIOU: 0.5 .\u001b[0m\n",
      "\u001b[34m[08/14/2020 14:02:08 INFO 139936138098496] #throughput_metric. host: algo-1, epoch: 46, validation throughput: 100.34750241 samples/sec.\u001b[0m\n",
      "\u001b[34m[08/14/2020 14:02:08 INFO 139936138098496] Serializing model to /opt/ml/model/model_best.params\u001b[0m\n",
      "\u001b[34m[08/14/2020 14:02:08 INFO 139936138098496] #progress_metric: host=algo-1, completed 47 % of epochs\u001b[0m\n",
      "\u001b[34m#metrics {\"Metrics\": {\"Max Batches Seen Between Resets\": {\"count\": 1, \"max\": 0, \"sum\": 0.0, \"min\": 0}, \"Number of Batches Since Last Reset\": {\"count\": 1, \"max\": 0, \"sum\": 0.0, \"min\": 0}, \"Number of Records Since Last Reset\": {\"count\": 1, \"max\": 0, \"sum\": 0.0, \"min\": 0}, \"Total Batches Seen\": {\"count\": 1, \"max\": 0, \"sum\": 0.0, \"min\": 0}, \"Total Records Seen\": {\"count\": 1, \"max\": 0, \"sum\": 0.0, \"min\": 0}, \"Max Records Seen Between Resets\": {\"count\": 1, \"max\": 0, \"sum\": 0.0, \"min\": 0}, \"Reset Count\": {\"count\": 1, \"max\": 47, \"sum\": 47.0, \"min\": 47}}, \"EndTime\": 1597413728.953577, \"Dimensions\": {\"Host\": \"algo-1\", \"Meta\": \"training_data_iter\", \"Operation\": \"training\", \"Algorithm\": \"AWS/Semantic Segmentation\", \"epoch\": 46}, \"StartTime\": 1597413715.118787}\n",
      "\u001b[0m\n"
     ]
    },
    {
     "name": "stdout",
     "output_type": "stream",
     "text": [
      "\u001b[34m[08/14/2020 14:02:19 INFO 139936138098496] #progress_notice. epoch: 47, iterations: 20 speed: 58.0899366202 samples/sec learning_rate: 0.000065\u001b[0m\n",
      "\u001b[34m[08/14/2020 14:02:20 INFO 139936138098496] #quality_metric. host: algo-1, epoch: 47, train loss: 0.0008218544323674657 .\u001b[0m\n",
      "\u001b[34m[08/14/2020 14:02:20 INFO 139936138098496] #throughput_metric. host: algo-1, epoch: 47, train throughput: 56.6585368325 samples/sec.\u001b[0m\n",
      "\u001b[34m[08/14/2020 14:02:22 INFO 139936138098496] #quality_metric. host: algo-1, epoch: 47, validation pixel_accuracy: 1.0 .\u001b[0m\n",
      "\u001b[34m[08/14/2020 14:02:22 INFO 139936138098496] #quality_metric. host: algo-1, epoch: 47, validation mIOU: 0.5 .\u001b[0m\n",
      "\u001b[34m[08/14/2020 14:02:22 INFO 139936138098496] #throughput_metric. host: algo-1, epoch: 47, validation throughput: 99.7515666805 samples/sec.\u001b[0m\n",
      "\u001b[34m[08/14/2020 14:02:22 INFO 139936138098496] Serializing model to /opt/ml/model/model_best.params\u001b[0m\n",
      "\u001b[34m[08/14/2020 14:02:22 INFO 139936138098496] #progress_metric: host=algo-1, completed 48 % of epochs\u001b[0m\n",
      "\u001b[34m#metrics {\"Metrics\": {\"Max Batches Seen Between Resets\": {\"count\": 1, \"max\": 0, \"sum\": 0.0, \"min\": 0}, \"Number of Batches Since Last Reset\": {\"count\": 1, \"max\": 0, \"sum\": 0.0, \"min\": 0}, \"Number of Records Since Last Reset\": {\"count\": 1, \"max\": 0, \"sum\": 0.0, \"min\": 0}, \"Total Batches Seen\": {\"count\": 1, \"max\": 0, \"sum\": 0.0, \"min\": 0}, \"Total Records Seen\": {\"count\": 1, \"max\": 0, \"sum\": 0.0, \"min\": 0}, \"Max Records Seen Between Resets\": {\"count\": 1, \"max\": 0, \"sum\": 0.0, \"min\": 0}, \"Reset Count\": {\"count\": 1, \"max\": 48, \"sum\": 48.0, \"min\": 48}}, \"EndTime\": 1597413742.776757, \"Dimensions\": {\"Host\": \"algo-1\", \"Meta\": \"training_data_iter\", \"Operation\": \"training\", \"Algorithm\": \"AWS/Semantic Segmentation\", \"epoch\": 47}, \"StartTime\": 1597413728.95372}\n",
      "\u001b[0m\n",
      "\u001b[34m[08/14/2020 14:02:33 INFO 139936138098496] #progress_notice. epoch: 48, iterations: 20 speed: 58.016415353 samples/sec learning_rate: 0.000064\u001b[0m\n",
      "\u001b[34m[08/14/2020 14:02:33 INFO 139936138098496] #quality_metric. host: algo-1, epoch: 48, train loss: 0.0008421048849067162 .\u001b[0m\n",
      "\u001b[34m[08/14/2020 14:02:33 INFO 139936138098496] #throughput_metric. host: algo-1, epoch: 48, train throughput: 56.8227112768 samples/sec.\u001b[0m\n",
      "\u001b[34m[08/14/2020 14:02:35 INFO 139936138098496] #quality_metric. host: algo-1, epoch: 48, validation pixel_accuracy: 1.0 .\u001b[0m\n",
      "\u001b[34m[08/14/2020 14:02:35 INFO 139936138098496] #quality_metric. host: algo-1, epoch: 48, validation mIOU: 0.5 .\u001b[0m\n",
      "\u001b[34m[08/14/2020 14:02:35 INFO 139936138098496] #throughput_metric. host: algo-1, epoch: 48, validation throughput: 100.316161953 samples/sec.\u001b[0m\n",
      "\u001b[34m[08/14/2020 14:02:35 INFO 139936138098496] Serializing model to /opt/ml/model/model_best.params\u001b[0m\n",
      "\u001b[34m[08/14/2020 14:02:35 INFO 139936138098496] #progress_metric: host=algo-1, completed 49 % of epochs\u001b[0m\n",
      "\u001b[34m#metrics {\"Metrics\": {\"Max Batches Seen Between Resets\": {\"count\": 1, \"max\": 0, \"sum\": 0.0, \"min\": 0}, \"Number of Batches Since Last Reset\": {\"count\": 1, \"max\": 0, \"sum\": 0.0, \"min\": 0}, \"Number of Records Since Last Reset\": {\"count\": 1, \"max\": 0, \"sum\": 0.0, \"min\": 0}, \"Total Batches Seen\": {\"count\": 1, \"max\": 0, \"sum\": 0.0, \"min\": 0}, \"Total Records Seen\": {\"count\": 1, \"max\": 0, \"sum\": 0.0, \"min\": 0}, \"Max Records Seen Between Resets\": {\"count\": 1, \"max\": 0, \"sum\": 0.0, \"min\": 0}, \"Reset Count\": {\"count\": 1, \"max\": 49, \"sum\": 49.0, \"min\": 49}}, \"EndTime\": 1597413755.890044, \"Dimensions\": {\"Host\": \"algo-1\", \"Meta\": \"training_data_iter\", \"Operation\": \"training\", \"Algorithm\": \"AWS/Semantic Segmentation\", \"epoch\": 48}, \"StartTime\": 1597413742.776913}\n",
      "\u001b[0m\n",
      "\u001b[34m[08/14/2020 14:02:46 INFO 139936138098496] #progress_notice. epoch: 49, iterations: 20 speed: 57.9890932689 samples/sec learning_rate: 0.000063\u001b[0m\n",
      "\u001b[34m[08/14/2020 14:02:46 INFO 139936138098496] #quality_metric. host: algo-1, epoch: 49, train loss: 0.0008563151482535018 .\u001b[0m\n",
      "\u001b[34m[08/14/2020 14:02:46 INFO 139936138098496] #throughput_metric. host: algo-1, epoch: 49, train throughput: 55.5475064657 samples/sec.\u001b[0m\n",
      "\u001b[34m[08/14/2020 14:02:49 INFO 139936138098496] #quality_metric. host: algo-1, epoch: 49, validation pixel_accuracy: 1.0 .\u001b[0m\n",
      "\u001b[34m[08/14/2020 14:02:49 INFO 139936138098496] #quality_metric. host: algo-1, epoch: 49, validation mIOU: 0.5 .\u001b[0m\n",
      "\u001b[34m[08/14/2020 14:02:49 INFO 139936138098496] #throughput_metric. host: algo-1, epoch: 49, validation throughput: 100.157575363 samples/sec.\u001b[0m\n",
      "\u001b[34m[08/14/2020 14:02:49 INFO 139936138098496] Serializing model to /opt/ml/model/model_best.params\u001b[0m\n",
      "\u001b[34m[08/14/2020 14:02:49 INFO 139936138098496] #progress_metric: host=algo-1, completed 50 % of epochs\u001b[0m\n",
      "\u001b[34m#metrics {\"Metrics\": {\"Max Batches Seen Between Resets\": {\"count\": 1, \"max\": 0, \"sum\": 0.0, \"min\": 0}, \"Number of Batches Since Last Reset\": {\"count\": 1, \"max\": 0, \"sum\": 0.0, \"min\": 0}, \"Number of Records Since Last Reset\": {\"count\": 1, \"max\": 0, \"sum\": 0.0, \"min\": 0}, \"Total Batches Seen\": {\"count\": 1, \"max\": 0, \"sum\": 0.0, \"min\": 0}, \"Total Records Seen\": {\"count\": 1, \"max\": 0, \"sum\": 0.0, \"min\": 0}, \"Max Records Seen Between Resets\": {\"count\": 1, \"max\": 0, \"sum\": 0.0, \"min\": 0}, \"Reset Count\": {\"count\": 1, \"max\": 50, \"sum\": 50.0, \"min\": 50}}, \"EndTime\": 1597413769.690533, \"Dimensions\": {\"Host\": \"algo-1\", \"Meta\": \"training_data_iter\", \"Operation\": \"training\", \"Algorithm\": \"AWS/Semantic Segmentation\", \"epoch\": 49}, \"StartTime\": 1597413755.890184}\n",
      "\u001b[0m\n",
      "\u001b[34m[08/14/2020 14:03:00 INFO 139936138098496] #progress_notice. epoch: 50, iterations: 20 speed: 57.5788206567 samples/sec learning_rate: 0.000062\u001b[0m\n",
      "\u001b[34m[08/14/2020 14:03:00 INFO 139936138098496] #quality_metric. host: algo-1, epoch: 50, train loss: 0.0008702207844526995 .\u001b[0m\n",
      "\u001b[34m[08/14/2020 14:03:00 INFO 139936138098496] #throughput_metric. host: algo-1, epoch: 50, train throughput: 56.4445685697 samples/sec.\u001b[0m\n",
      "\u001b[34m[08/14/2020 14:03:02 INFO 139936138098496] #quality_metric. host: algo-1, epoch: 50, validation pixel_accuracy: 1.0 .\u001b[0m\n",
      "\u001b[34m[08/14/2020 14:03:02 INFO 139936138098496] #quality_metric. host: algo-1, epoch: 50, validation mIOU: 0.5 .\u001b[0m\n",
      "\u001b[34m[08/14/2020 14:03:02 INFO 139936138098496] #throughput_metric. host: algo-1, epoch: 50, validation throughput: 100.249665879 samples/sec.\u001b[0m\n",
      "\u001b[34m[08/14/2020 14:03:03 INFO 139936138098496] Serializing model to /opt/ml/model/model_best.params\u001b[0m\n",
      "\u001b[34m[08/14/2020 14:03:03 INFO 139936138098496] #progress_metric: host=algo-1, completed 51 % of epochs\u001b[0m\n",
      "\u001b[34m#metrics {\"Metrics\": {\"Max Batches Seen Between Resets\": {\"count\": 1, \"max\": 0, \"sum\": 0.0, \"min\": 0}, \"Number of Batches Since Last Reset\": {\"count\": 1, \"max\": 0, \"sum\": 0.0, \"min\": 0}, \"Number of Records Since Last Reset\": {\"count\": 1, \"max\": 0, \"sum\": 0.0, \"min\": 0}, \"Total Batches Seen\": {\"count\": 1, \"max\": 0, \"sum\": 0.0, \"min\": 0}, \"Total Records Seen\": {\"count\": 1, \"max\": 0, \"sum\": 0.0, \"min\": 0}, \"Max Records Seen Between Resets\": {\"count\": 1, \"max\": 0, \"sum\": 0.0, \"min\": 0}, \"Reset Count\": {\"count\": 1, \"max\": 51, \"sum\": 51.0, \"min\": 51}}, \"EndTime\": 1597413783.193089, \"Dimensions\": {\"Host\": \"algo-1\", \"Meta\": \"training_data_iter\", \"Operation\": \"training\", \"Algorithm\": \"AWS/Semantic Segmentation\", \"epoch\": 50}, \"StartTime\": 1597413769.690668}\n",
      "\u001b[0m\n",
      "\u001b[34m[08/14/2020 14:03:13 INFO 139936138098496] #progress_notice. epoch: 51, iterations: 20 speed: 57.5964131872 samples/sec learning_rate: 0.000062\u001b[0m\n",
      "\u001b[34m[08/14/2020 14:03:14 INFO 139936138098496] #quality_metric. host: algo-1, epoch: 51, train loss: 0.0008811215467920357 .\u001b[0m\n",
      "\u001b[34m[08/14/2020 14:03:14 INFO 139936138098496] #throughput_metric. host: algo-1, epoch: 51, train throughput: 55.6532874415 samples/sec.\u001b[0m\n",
      "\u001b[34m[08/14/2020 14:03:16 INFO 139936138098496] #quality_metric. host: algo-1, epoch: 51, validation pixel_accuracy: 1.0 .\u001b[0m\n",
      "\u001b[34m[08/14/2020 14:03:16 INFO 139936138098496] #quality_metric. host: algo-1, epoch: 51, validation mIOU: 0.5 .\u001b[0m\n",
      "\u001b[34m[08/14/2020 14:03:16 INFO 139936138098496] #throughput_metric. host: algo-1, epoch: 51, validation throughput: 99.5423003842 samples/sec.\u001b[0m\n",
      "\u001b[34m[08/14/2020 14:03:16 INFO 139936138098496] Serializing model to /opt/ml/model/model_best.params\u001b[0m\n",
      "\u001b[34m[08/14/2020 14:03:17 INFO 139936138098496] #progress_metric: host=algo-1, completed 52 % of epochs\u001b[0m\n",
      "\u001b[34m#metrics {\"Metrics\": {\"Max Batches Seen Between Resets\": {\"count\": 1, \"max\": 0, \"sum\": 0.0, \"min\": 0}, \"Number of Batches Since Last Reset\": {\"count\": 1, \"max\": 0, \"sum\": 0.0, \"min\": 0}, \"Number of Records Since Last Reset\": {\"count\": 1, \"max\": 0, \"sum\": 0.0, \"min\": 0}, \"Total Batches Seen\": {\"count\": 1, \"max\": 0, \"sum\": 0.0, \"min\": 0}, \"Total Records Seen\": {\"count\": 1, \"max\": 0, \"sum\": 0.0, \"min\": 0}, \"Max Records Seen Between Resets\": {\"count\": 1, \"max\": 0, \"sum\": 0.0, \"min\": 0}, \"Reset Count\": {\"count\": 1, \"max\": 52, \"sum\": 52.0, \"min\": 52}}, \"EndTime\": 1597413797.027717, \"Dimensions\": {\"Host\": \"algo-1\", \"Meta\": \"training_data_iter\", \"Operation\": \"training\", \"Algorithm\": \"AWS/Semantic Segmentation\", \"epoch\": 51}, \"StartTime\": 1597413783.193268}\n",
      "\u001b[0m\n"
     ]
    },
    {
     "name": "stdout",
     "output_type": "stream",
     "text": [
      "\u001b[34m[08/14/2020 14:03:27 INFO 139936138098496] #progress_notice. epoch: 52, iterations: 20 speed: 57.8454377528 samples/sec learning_rate: 0.000061\u001b[0m\n",
      "\u001b[34m[08/14/2020 14:03:28 INFO 139936138098496] #quality_metric. host: algo-1, epoch: 52, train loss: 0.0008970730017278005 .\u001b[0m\n",
      "\u001b[34m[08/14/2020 14:03:28 INFO 139936138098496] #throughput_metric. host: algo-1, epoch: 52, train throughput: 55.0353040517 samples/sec.\u001b[0m\n",
      "\u001b[34m[08/14/2020 14:03:30 INFO 139936138098496] #quality_metric. host: algo-1, epoch: 52, validation pixel_accuracy: 1.0 .\u001b[0m\n",
      "\u001b[34m[08/14/2020 14:03:30 INFO 139936138098496] #quality_metric. host: algo-1, epoch: 52, validation mIOU: 0.5 .\u001b[0m\n",
      "\u001b[34m[08/14/2020 14:03:30 INFO 139936138098496] #throughput_metric. host: algo-1, epoch: 52, validation throughput: 100.016131619 samples/sec.\u001b[0m\n",
      "\u001b[34m[08/14/2020 14:03:30 INFO 139936138098496] Serializing model to /opt/ml/model/model_best.params\u001b[0m\n",
      "\u001b[34m[08/14/2020 14:03:30 INFO 139936138098496] #progress_metric: host=algo-1, completed 53 % of epochs\u001b[0m\n",
      "\u001b[34m#metrics {\"Metrics\": {\"Max Batches Seen Between Resets\": {\"count\": 1, \"max\": 0, \"sum\": 0.0, \"min\": 0}, \"Number of Batches Since Last Reset\": {\"count\": 1, \"max\": 0, \"sum\": 0.0, \"min\": 0}, \"Number of Records Since Last Reset\": {\"count\": 1, \"max\": 0, \"sum\": 0.0, \"min\": 0}, \"Total Batches Seen\": {\"count\": 1, \"max\": 0, \"sum\": 0.0, \"min\": 0}, \"Total Records Seen\": {\"count\": 1, \"max\": 0, \"sum\": 0.0, \"min\": 0}, \"Max Records Seen Between Resets\": {\"count\": 1, \"max\": 0, \"sum\": 0.0, \"min\": 0}, \"Reset Count\": {\"count\": 1, \"max\": 53, \"sum\": 53.0, \"min\": 53}}, \"EndTime\": 1597413810.453245, \"Dimensions\": {\"Host\": \"algo-1\", \"Meta\": \"training_data_iter\", \"Operation\": \"training\", \"Algorithm\": \"AWS/Semantic Segmentation\", \"epoch\": 52}, \"StartTime\": 1597413797.028169}\n",
      "\u001b[0m\n",
      "\u001b[34m[08/14/2020 14:03:40 INFO 139936138098496] #progress_notice. epoch: 53, iterations: 20 speed: 57.7917875885 samples/sec learning_rate: 0.000060\u001b[0m\n",
      "\u001b[34m[08/14/2020 14:03:41 INFO 139936138098496] #quality_metric. host: algo-1, epoch: 53, train loss: 0.0009113166098748999 .\u001b[0m\n",
      "\u001b[34m[08/14/2020 14:03:41 INFO 139936138098496] #throughput_metric. host: algo-1, epoch: 53, train throughput: 54.157119291 samples/sec.\u001b[0m\n",
      "\u001b[34m[08/14/2020 14:03:43 INFO 139936138098496] #quality_metric. host: algo-1, epoch: 53, validation pixel_accuracy: 1.0 .\u001b[0m\n",
      "\u001b[34m[08/14/2020 14:03:43 INFO 139936138098496] #quality_metric. host: algo-1, epoch: 53, validation mIOU: 0.5 .\u001b[0m\n",
      "\u001b[34m[08/14/2020 14:03:43 INFO 139936138098496] #throughput_metric. host: algo-1, epoch: 53, validation throughput: 100.602054499 samples/sec.\u001b[0m\n",
      "\u001b[34m[08/14/2020 14:03:43 INFO 139936138098496] Serializing model to /opt/ml/model/model_best.params\u001b[0m\n",
      "\u001b[34m[08/14/2020 14:03:43 INFO 139936138098496] #progress_metric: host=algo-1, completed 54 % of epochs\u001b[0m\n",
      "\u001b[34m#metrics {\"Metrics\": {\"Max Batches Seen Between Resets\": {\"count\": 1, \"max\": 0, \"sum\": 0.0, \"min\": 0}, \"Number of Batches Since Last Reset\": {\"count\": 1, \"max\": 0, \"sum\": 0.0, \"min\": 0}, \"Number of Records Since Last Reset\": {\"count\": 1, \"max\": 0, \"sum\": 0.0, \"min\": 0}, \"Total Batches Seen\": {\"count\": 1, \"max\": 0, \"sum\": 0.0, \"min\": 0}, \"Total Records Seen\": {\"count\": 1, \"max\": 0, \"sum\": 0.0, \"min\": 0}, \"Max Records Seen Between Resets\": {\"count\": 1, \"max\": 0, \"sum\": 0.0, \"min\": 0}, \"Reset Count\": {\"count\": 1, \"max\": 54, \"sum\": 54.0, \"min\": 54}}, \"EndTime\": 1597413823.765683, \"Dimensions\": {\"Host\": \"algo-1\", \"Meta\": \"training_data_iter\", \"Operation\": \"training\", \"Algorithm\": \"AWS/Semantic Segmentation\", \"epoch\": 53}, \"StartTime\": 1597413810.453402}\n",
      "\u001b[0m\n",
      "\u001b[34m[08/14/2020 14:03:54 INFO 139936138098496] #progress_notice. epoch: 54, iterations: 20 speed: 58.1372412108 samples/sec learning_rate: 0.000059\u001b[0m\n",
      "\u001b[34m[08/14/2020 14:03:55 INFO 139936138098496] #quality_metric. host: algo-1, epoch: 54, train loss: 0.000939825467701832 .\u001b[0m\n",
      "\u001b[34m[08/14/2020 14:03:55 INFO 139936138098496] #throughput_metric. host: algo-1, epoch: 54, train throughput: 56.3447780839 samples/sec.\u001b[0m\n",
      "\u001b[34m[08/14/2020 14:03:57 INFO 139936138098496] #quality_metric. host: algo-1, epoch: 54, validation pixel_accuracy: 1.0 .\u001b[0m\n",
      "\u001b[34m[08/14/2020 14:03:57 INFO 139936138098496] #quality_metric. host: algo-1, epoch: 54, validation mIOU: 0.5 .\u001b[0m\n",
      "\u001b[34m[08/14/2020 14:03:57 INFO 139936138098496] #throughput_metric. host: algo-1, epoch: 54, validation throughput: 99.800273138 samples/sec.\u001b[0m\n",
      "\u001b[34m[08/14/2020 14:03:57 INFO 139936138098496] Serializing model to /opt/ml/model/model_best.params\u001b[0m\n",
      "\u001b[34m[08/14/2020 14:03:57 INFO 139936138098496] #progress_metric: host=algo-1, completed 55 % of epochs\u001b[0m\n",
      "\u001b[34m#metrics {\"Metrics\": {\"Max Batches Seen Between Resets\": {\"count\": 1, \"max\": 0, \"sum\": 0.0, \"min\": 0}, \"Number of Batches Since Last Reset\": {\"count\": 1, \"max\": 0, \"sum\": 0.0, \"min\": 0}, \"Number of Records Since Last Reset\": {\"count\": 1, \"max\": 0, \"sum\": 0.0, \"min\": 0}, \"Total Batches Seen\": {\"count\": 1, \"max\": 0, \"sum\": 0.0, \"min\": 0}, \"Total Records Seen\": {\"count\": 1, \"max\": 0, \"sum\": 0.0, \"min\": 0}, \"Max Records Seen Between Resets\": {\"count\": 1, \"max\": 0, \"sum\": 0.0, \"min\": 0}, \"Reset Count\": {\"count\": 1, \"max\": 55, \"sum\": 55.0, \"min\": 55}}, \"EndTime\": 1597413837.676388, \"Dimensions\": {\"Host\": \"algo-1\", \"Meta\": \"training_data_iter\", \"Operation\": \"training\", \"Algorithm\": \"AWS/Semantic Segmentation\", \"epoch\": 54}, \"StartTime\": 1597413823.765817}\n",
      "\u001b[0m\n",
      "\u001b[34m[08/14/2020 14:04:08 INFO 139936138098496] #progress_notice. epoch: 55, iterations: 20 speed: 57.8245536637 samples/sec learning_rate: 0.000059\u001b[0m\n",
      "\u001b[34m[08/14/2020 14:04:09 INFO 139936138098496] #quality_metric. host: algo-1, epoch: 55, train loss: 0.0009271505325820974 .\u001b[0m\n",
      "\u001b[34m[08/14/2020 14:04:09 INFO 139936138098496] #throughput_metric. host: algo-1, epoch: 55, train throughput: 56.6661328323 samples/sec.\u001b[0m\n",
      "\u001b[34m[08/14/2020 14:04:11 INFO 139936138098496] #quality_metric. host: algo-1, epoch: 55, validation pixel_accuracy: 1.0 .\u001b[0m\n",
      "\u001b[34m[08/14/2020 14:04:11 INFO 139936138098496] #quality_metric. host: algo-1, epoch: 55, validation mIOU: 0.5 .\u001b[0m\n",
      "\u001b[34m[08/14/2020 14:04:11 INFO 139936138098496] #throughput_metric. host: algo-1, epoch: 55, validation throughput: 100.502492013 samples/sec.\u001b[0m\n",
      "\u001b[34m[08/14/2020 14:04:11 INFO 139936138098496] Serializing model to /opt/ml/model/model_best.params\u001b[0m\n",
      "\u001b[34m[08/14/2020 14:04:11 INFO 139936138098496] #progress_metric: host=algo-1, completed 56 % of epochs\u001b[0m\n",
      "\u001b[34m#metrics {\"Metrics\": {\"Max Batches Seen Between Resets\": {\"count\": 1, \"max\": 0, \"sum\": 0.0, \"min\": 0}, \"Number of Batches Since Last Reset\": {\"count\": 1, \"max\": 0, \"sum\": 0.0, \"min\": 0}, \"Number of Records Since Last Reset\": {\"count\": 1, \"max\": 0, \"sum\": 0.0, \"min\": 0}, \"Total Batches Seen\": {\"count\": 1, \"max\": 0, \"sum\": 0.0, \"min\": 0}, \"Total Records Seen\": {\"count\": 1, \"max\": 0, \"sum\": 0.0, \"min\": 0}, \"Max Records Seen Between Resets\": {\"count\": 1, \"max\": 0, \"sum\": 0.0, \"min\": 0}, \"Reset Count\": {\"count\": 1, \"max\": 56, \"sum\": 56.0, \"min\": 56}}, \"EndTime\": 1597413851.778834, \"Dimensions\": {\"Host\": \"algo-1\", \"Meta\": \"training_data_iter\", \"Operation\": \"training\", \"Algorithm\": \"AWS/Semantic Segmentation\", \"epoch\": 55}, \"StartTime\": 1597413837.676561}\n",
      "\u001b[0m\n",
      "\u001b[34m[08/14/2020 14:04:22 INFO 139936138098496] #progress_notice. epoch: 56, iterations: 20 speed: 57.6119885787 samples/sec learning_rate: 0.000058\u001b[0m\n",
      "\u001b[34m[08/14/2020 14:04:22 INFO 139936138098496] #quality_metric. host: algo-1, epoch: 56, train loss: 0.0009408386734624704 .\u001b[0m\n",
      "\u001b[34m[08/14/2020 14:04:22 INFO 139936138098496] #throughput_metric. host: algo-1, epoch: 56, train throughput: 56.5401525287 samples/sec.\u001b[0m\n",
      "\u001b[34m[08/14/2020 14:04:24 INFO 139936138098496] #quality_metric. host: algo-1, epoch: 56, validation pixel_accuracy: 1.0 .\u001b[0m\n",
      "\u001b[34m[08/14/2020 14:04:24 INFO 139936138098496] #quality_metric. host: algo-1, epoch: 56, validation mIOU: 0.5 .\u001b[0m\n",
      "\u001b[34m[08/14/2020 14:04:24 INFO 139936138098496] #throughput_metric. host: algo-1, epoch: 56, validation throughput: 99.5344361459 samples/sec.\u001b[0m\n",
      "\u001b[34m[08/14/2020 14:04:24 INFO 139936138098496] Serializing model to /opt/ml/model/model_best.params\u001b[0m\n",
      "\u001b[34m[08/14/2020 14:04:24 INFO 139936138098496] #progress_metric: host=algo-1, completed 57 % of epochs\u001b[0m\n",
      "\u001b[34m#metrics {\"Metrics\": {\"Max Batches Seen Between Resets\": {\"count\": 1, \"max\": 0, \"sum\": 0.0, \"min\": 0}, \"Number of Batches Since Last Reset\": {\"count\": 1, \"max\": 0, \"sum\": 0.0, \"min\": 0}, \"Number of Records Since Last Reset\": {\"count\": 1, \"max\": 0, \"sum\": 0.0, \"min\": 0}, \"Total Batches Seen\": {\"count\": 1, \"max\": 0, \"sum\": 0.0, \"min\": 0}, \"Total Records Seen\": {\"count\": 1, \"max\": 0, \"sum\": 0.0, \"min\": 0}, \"Max Records Seen Between Resets\": {\"count\": 1, \"max\": 0, \"sum\": 0.0, \"min\": 0}, \"Reset Count\": {\"count\": 1, \"max\": 57, \"sum\": 57.0, \"min\": 57}}, \"EndTime\": 1597413864.993697, \"Dimensions\": {\"Host\": \"algo-1\", \"Meta\": \"training_data_iter\", \"Operation\": \"training\", \"Algorithm\": \"AWS/Semantic Segmentation\", \"epoch\": 56}, \"StartTime\": 1597413851.77908}\n",
      "\u001b[0m\n"
     ]
    },
    {
     "name": "stdout",
     "output_type": "stream",
     "text": [
      "\u001b[34m[08/14/2020 14:04:35 INFO 139936138098496] #progress_notice. epoch: 57, iterations: 20 speed: 57.7736278854 samples/sec learning_rate: 0.000057\u001b[0m\n",
      "\u001b[34m[08/14/2020 14:04:36 INFO 139936138098496] #quality_metric. host: algo-1, epoch: 57, train loss: 0.0009755527293732898 .\u001b[0m\n",
      "\u001b[34m[08/14/2020 14:04:36 INFO 139936138098496] #throughput_metric. host: algo-1, epoch: 57, train throughput: 56.8120711976 samples/sec.\u001b[0m\n",
      "\u001b[34m[08/14/2020 14:04:38 INFO 139936138098496] #quality_metric. host: algo-1, epoch: 57, validation pixel_accuracy: 1.0 .\u001b[0m\n",
      "\u001b[34m[08/14/2020 14:04:38 INFO 139936138098496] #quality_metric. host: algo-1, epoch: 57, validation mIOU: 0.5 .\u001b[0m\n",
      "\u001b[34m[08/14/2020 14:04:38 INFO 139936138098496] #throughput_metric. host: algo-1, epoch: 57, validation throughput: 100.300234227 samples/sec.\u001b[0m\n",
      "\u001b[34m[08/14/2020 14:04:38 INFO 139936138098496] Serializing model to /opt/ml/model/model_best.params\u001b[0m\n",
      "\u001b[34m[08/14/2020 14:04:39 INFO 139936138098496] #progress_metric: host=algo-1, completed 58 % of epochs\u001b[0m\n",
      "\u001b[34m#metrics {\"Metrics\": {\"Max Batches Seen Between Resets\": {\"count\": 1, \"max\": 0, \"sum\": 0.0, \"min\": 0}, \"Number of Batches Since Last Reset\": {\"count\": 1, \"max\": 0, \"sum\": 0.0, \"min\": 0}, \"Number of Records Since Last Reset\": {\"count\": 1, \"max\": 0, \"sum\": 0.0, \"min\": 0}, \"Total Batches Seen\": {\"count\": 1, \"max\": 0, \"sum\": 0.0, \"min\": 0}, \"Total Records Seen\": {\"count\": 1, \"max\": 0, \"sum\": 0.0, \"min\": 0}, \"Max Records Seen Between Resets\": {\"count\": 1, \"max\": 0, \"sum\": 0.0, \"min\": 0}, \"Reset Count\": {\"count\": 1, \"max\": 58, \"sum\": 58.0, \"min\": 58}}, \"EndTime\": 1597413879.058436, \"Dimensions\": {\"Host\": \"algo-1\", \"Meta\": \"training_data_iter\", \"Operation\": \"training\", \"Algorithm\": \"AWS/Semantic Segmentation\", \"epoch\": 57}, \"StartTime\": 1597413864.993871}\n",
      "\u001b[0m\n",
      "\u001b[34m[08/14/2020 14:04:49 INFO 139936138098496] #progress_notice. epoch: 58, iterations: 20 speed: 57.6096640968 samples/sec learning_rate: 0.000056\u001b[0m\n",
      "\u001b[34m[08/14/2020 14:04:49 INFO 139936138098496] #quality_metric. host: algo-1, epoch: 58, train loss: 0.000980676523232389 .\u001b[0m\n",
      "\u001b[34m[08/14/2020 14:04:49 INFO 139936138098496] #throughput_metric. host: algo-1, epoch: 58, train throughput: 56.6885775355 samples/sec.\u001b[0m\n",
      "\u001b[34m[08/14/2020 14:04:52 INFO 139936138098496] #quality_metric. host: algo-1, epoch: 58, validation pixel_accuracy: 1.0 .\u001b[0m\n",
      "\u001b[34m[08/14/2020 14:04:52 INFO 139936138098496] #quality_metric. host: algo-1, epoch: 58, validation mIOU: 0.5 .\u001b[0m\n",
      "\u001b[34m[08/14/2020 14:04:52 INFO 139936138098496] #throughput_metric. host: algo-1, epoch: 58, validation throughput: 99.6499309398 samples/sec.\u001b[0m\n",
      "\u001b[34m[08/14/2020 14:04:52 INFO 139936138098496] Serializing model to /opt/ml/model/model_best.params\u001b[0m\n",
      "\u001b[34m[08/14/2020 14:04:52 INFO 139936138098496] #progress_metric: host=algo-1, completed 59 % of epochs\u001b[0m\n",
      "\u001b[34m#metrics {\"Metrics\": {\"Max Batches Seen Between Resets\": {\"count\": 1, \"max\": 0, \"sum\": 0.0, \"min\": 0}, \"Number of Batches Since Last Reset\": {\"count\": 1, \"max\": 0, \"sum\": 0.0, \"min\": 0}, \"Number of Records Since Last Reset\": {\"count\": 1, \"max\": 0, \"sum\": 0.0, \"min\": 0}, \"Total Batches Seen\": {\"count\": 1, \"max\": 0, \"sum\": 0.0, \"min\": 0}, \"Total Records Seen\": {\"count\": 1, \"max\": 0, \"sum\": 0.0, \"min\": 0}, \"Max Records Seen Between Resets\": {\"count\": 1, \"max\": 0, \"sum\": 0.0, \"min\": 0}, \"Reset Count\": {\"count\": 1, \"max\": 59, \"sum\": 59.0, \"min\": 59}}, \"EndTime\": 1597413892.593674, \"Dimensions\": {\"Host\": \"algo-1\", \"Meta\": \"training_data_iter\", \"Operation\": \"training\", \"Algorithm\": \"AWS/Semantic Segmentation\", \"epoch\": 58}, \"StartTime\": 1597413879.058574}\n",
      "\u001b[0m\n",
      "\u001b[34m[08/14/2020 14:05:03 INFO 139936138098496] #progress_notice. epoch: 59, iterations: 20 speed: 58.1428826397 samples/sec learning_rate: 0.000056\u001b[0m\n",
      "\u001b[34m[08/14/2020 14:05:03 INFO 139936138098496] #quality_metric. host: algo-1, epoch: 59, train loss: 0.0009918594918086785 .\u001b[0m\n",
      "\u001b[34m[08/14/2020 14:05:03 INFO 139936138098496] #throughput_metric. host: algo-1, epoch: 59, train throughput: 55.3298484855 samples/sec.\u001b[0m\n",
      "\u001b[34m[08/14/2020 14:05:06 INFO 139936138098496] #quality_metric. host: algo-1, epoch: 59, validation pixel_accuracy: 1.0 .\u001b[0m\n",
      "\u001b[34m[08/14/2020 14:05:06 INFO 139936138098496] #quality_metric. host: algo-1, epoch: 59, validation mIOU: 0.5 .\u001b[0m\n",
      "\u001b[34m[08/14/2020 14:05:06 INFO 139936138098496] #throughput_metric. host: algo-1, epoch: 59, validation throughput: 99.730096554 samples/sec.\u001b[0m\n",
      "\u001b[34m[08/14/2020 14:05:06 INFO 139936138098496] Serializing model to /opt/ml/model/model_best.params\u001b[0m\n",
      "\u001b[34m[08/14/2020 14:05:06 INFO 139936138098496] #progress_metric: host=algo-1, completed 60 % of epochs\u001b[0m\n",
      "\u001b[34m#metrics {\"Metrics\": {\"Max Batches Seen Between Resets\": {\"count\": 1, \"max\": 0, \"sum\": 0.0, \"min\": 0}, \"Number of Batches Since Last Reset\": {\"count\": 1, \"max\": 0, \"sum\": 0.0, \"min\": 0}, \"Number of Records Since Last Reset\": {\"count\": 1, \"max\": 0, \"sum\": 0.0, \"min\": 0}, \"Total Batches Seen\": {\"count\": 1, \"max\": 0, \"sum\": 0.0, \"min\": 0}, \"Total Records Seen\": {\"count\": 1, \"max\": 0, \"sum\": 0.0, \"min\": 0}, \"Max Records Seen Between Resets\": {\"count\": 1, \"max\": 0, \"sum\": 0.0, \"min\": 0}, \"Reset Count\": {\"count\": 1, \"max\": 60, \"sum\": 60.0, \"min\": 60}}, \"EndTime\": 1597413906.634448, \"Dimensions\": {\"Host\": \"algo-1\", \"Meta\": \"training_data_iter\", \"Operation\": \"training\", \"Algorithm\": \"AWS/Semantic Segmentation\", \"epoch\": 59}, \"StartTime\": 1597413892.59387}\n",
      "\u001b[0m\n",
      "\u001b[34m[08/14/2020 14:05:17 INFO 139936138098496] #progress_notice. epoch: 60, iterations: 20 speed: 57.898038715 samples/sec learning_rate: 0.000055\u001b[0m\n",
      "\u001b[34m[08/14/2020 14:05:17 INFO 139936138098496] #quality_metric. host: algo-1, epoch: 60, train loss: 0.001003270119492134 .\u001b[0m\n",
      "\u001b[34m[08/14/2020 14:05:17 INFO 139936138098496] #throughput_metric. host: algo-1, epoch: 60, train throughput: 56.795234139 samples/sec.\u001b[0m\n",
      "\u001b[34m[08/14/2020 14:05:19 INFO 139936138098496] #quality_metric. host: algo-1, epoch: 60, validation pixel_accuracy: 1.0 .\u001b[0m\n",
      "\u001b[34m[08/14/2020 14:05:19 INFO 139936138098496] #quality_metric. host: algo-1, epoch: 60, validation mIOU: 0.5 .\u001b[0m\n",
      "\u001b[34m[08/14/2020 14:05:19 INFO 139936138098496] #throughput_metric. host: algo-1, epoch: 60, validation throughput: 101.025299957 samples/sec.\u001b[0m\n",
      "\u001b[34m[08/14/2020 14:05:19 INFO 139936138098496] Serializing model to /opt/ml/model/model_best.params\u001b[0m\n",
      "\u001b[34m[08/14/2020 14:05:20 INFO 139936138098496] #progress_metric: host=algo-1, completed 61 % of epochs\u001b[0m\n",
      "\u001b[34m#metrics {\"Metrics\": {\"Max Batches Seen Between Resets\": {\"count\": 1, \"max\": 0, \"sum\": 0.0, \"min\": 0}, \"Number of Batches Since Last Reset\": {\"count\": 1, \"max\": 0, \"sum\": 0.0, \"min\": 0}, \"Number of Records Since Last Reset\": {\"count\": 1, \"max\": 0, \"sum\": 0.0, \"min\": 0}, \"Total Batches Seen\": {\"count\": 1, \"max\": 0, \"sum\": 0.0, \"min\": 0}, \"Total Records Seen\": {\"count\": 1, \"max\": 0, \"sum\": 0.0, \"min\": 0}, \"Max Records Seen Between Resets\": {\"count\": 1, \"max\": 0, \"sum\": 0.0, \"min\": 0}, \"Reset Count\": {\"count\": 1, \"max\": 61, \"sum\": 61.0, \"min\": 61}}, \"EndTime\": 1597413920.162684, \"Dimensions\": {\"Host\": \"algo-1\", \"Meta\": \"training_data_iter\", \"Operation\": \"training\", \"Algorithm\": \"AWS/Semantic Segmentation\", \"epoch\": 60}, \"StartTime\": 1597413906.63463}\n",
      "\u001b[0m\n",
      "\u001b[34m[08/14/2020 14:05:30 INFO 139936138098496] #progress_notice. epoch: 61, iterations: 20 speed: 58.1285293692 samples/sec learning_rate: 0.000054\u001b[0m\n",
      "\u001b[34m[08/14/2020 14:05:30 INFO 139936138098496] #quality_metric. host: algo-1, epoch: 61, train loss: 0.0010175536375581508 .\u001b[0m\n",
      "\u001b[34m[08/14/2020 14:05:30 INFO 139936138098496] #throughput_metric. host: algo-1, epoch: 61, train throughput: 56.2822788712 samples/sec.\u001b[0m\n",
      "\u001b[34m[08/14/2020 14:05:33 INFO 139936138098496] #quality_metric. host: algo-1, epoch: 61, validation pixel_accuracy: 1.0 .\u001b[0m\n",
      "\u001b[34m[08/14/2020 14:05:33 INFO 139936138098496] #quality_metric. host: algo-1, epoch: 61, validation mIOU: 0.5 .\u001b[0m\n",
      "\u001b[34m[08/14/2020 14:05:33 INFO 139936138098496] #throughput_metric. host: algo-1, epoch: 61, validation throughput: 100.183666696 samples/sec.\u001b[0m\n",
      "\u001b[34m[08/14/2020 14:05:33 INFO 139936138098496] Serializing model to /opt/ml/model/model_best.params\u001b[0m\n",
      "\u001b[34m[08/14/2020 14:05:33 INFO 139936138098496] #progress_metric: host=algo-1, completed 62 % of epochs\u001b[0m\n",
      "\u001b[34m#metrics {\"Metrics\": {\"Max Batches Seen Between Resets\": {\"count\": 1, \"max\": 0, \"sum\": 0.0, \"min\": 0}, \"Number of Batches Since Last Reset\": {\"count\": 1, \"max\": 0, \"sum\": 0.0, \"min\": 0}, \"Number of Records Since Last Reset\": {\"count\": 1, \"max\": 0, \"sum\": 0.0, \"min\": 0}, \"Total Batches Seen\": {\"count\": 1, \"max\": 0, \"sum\": 0.0, \"min\": 0}, \"Total Records Seen\": {\"count\": 1, \"max\": 0, \"sum\": 0.0, \"min\": 0}, \"Max Records Seen Between Resets\": {\"count\": 1, \"max\": 0, \"sum\": 0.0, \"min\": 0}, \"Reset Count\": {\"count\": 1, \"max\": 62, \"sum\": 62.0, \"min\": 62}}, \"EndTime\": 1597413933.496243, \"Dimensions\": {\"Host\": \"algo-1\", \"Meta\": \"training_data_iter\", \"Operation\": \"training\", \"Algorithm\": \"AWS/Semantic Segmentation\", \"epoch\": 61}, \"StartTime\": 1597413920.162836}\n",
      "\u001b[0m\n"
     ]
    },
    {
     "name": "stdout",
     "output_type": "stream",
     "text": [
      "\u001b[34m[08/14/2020 14:05:44 INFO 139936138098496] #progress_notice. epoch: 62, iterations: 20 speed: 58.2155129489 samples/sec learning_rate: 0.000053\u001b[0m\n",
      "\u001b[34m[08/14/2020 14:05:44 INFO 139936138098496] #quality_metric. host: algo-1, epoch: 62, train loss: 0.0010415761287070134 .\u001b[0m\n",
      "\u001b[34m[08/14/2020 14:05:44 INFO 139936138098496] #throughput_metric. host: algo-1, epoch: 62, train throughput: 56.5966574432 samples/sec.\u001b[0m\n",
      "\u001b[34m[08/14/2020 14:05:47 INFO 139936138098496] #quality_metric. host: algo-1, epoch: 62, validation pixel_accuracy: 1.0 .\u001b[0m\n",
      "\u001b[34m[08/14/2020 14:05:47 INFO 139936138098496] #quality_metric. host: algo-1, epoch: 62, validation mIOU: 0.5 .\u001b[0m\n",
      "\u001b[34m[08/14/2020 14:05:47 INFO 139936138098496] #throughput_metric. host: algo-1, epoch: 62, validation throughput: 99.5613017318 samples/sec.\u001b[0m\n",
      "\u001b[34m[08/14/2020 14:05:47 INFO 139936138098496] Serializing model to /opt/ml/model/model_best.params\u001b[0m\n",
      "\u001b[34m[08/14/2020 14:05:47 INFO 139936138098496] #progress_metric: host=algo-1, completed 63 % of epochs\u001b[0m\n",
      "\u001b[34m#metrics {\"Metrics\": {\"Max Batches Seen Between Resets\": {\"count\": 1, \"max\": 0, \"sum\": 0.0, \"min\": 0}, \"Number of Batches Since Last Reset\": {\"count\": 1, \"max\": 0, \"sum\": 0.0, \"min\": 0}, \"Number of Records Since Last Reset\": {\"count\": 1, \"max\": 0, \"sum\": 0.0, \"min\": 0}, \"Total Batches Seen\": {\"count\": 1, \"max\": 0, \"sum\": 0.0, \"min\": 0}, \"Total Records Seen\": {\"count\": 1, \"max\": 0, \"sum\": 0.0, \"min\": 0}, \"Max Records Seen Between Resets\": {\"count\": 1, \"max\": 0, \"sum\": 0.0, \"min\": 0}, \"Reset Count\": {\"count\": 1, \"max\": 63, \"sum\": 63.0, \"min\": 63}}, \"EndTime\": 1597413947.44073, \"Dimensions\": {\"Host\": \"algo-1\", \"Meta\": \"training_data_iter\", \"Operation\": \"training\", \"Algorithm\": \"AWS/Semantic Segmentation\", \"epoch\": 62}, \"StartTime\": 1597413933.496379}\n",
      "\u001b[0m\n",
      "\u001b[34m[08/14/2020 14:05:58 INFO 139936138098496] #progress_notice. epoch: 63, iterations: 20 speed: 57.8051285585 samples/sec learning_rate: 0.000052\u001b[0m\n",
      "\u001b[34m[08/14/2020 14:05:58 INFO 139936138098496] #quality_metric. host: algo-1, epoch: 63, train loss: 0.0010445954817855222 .\u001b[0m\n",
      "\u001b[34m[08/14/2020 14:05:58 INFO 139936138098496] #throughput_metric. host: algo-1, epoch: 63, train throughput: 56.519672197 samples/sec.\u001b[0m\n",
      "\u001b[34m[08/14/2020 14:06:01 INFO 139936138098496] #quality_metric. host: algo-1, epoch: 63, validation pixel_accuracy: 1.0 .\u001b[0m\n",
      "\u001b[34m[08/14/2020 14:06:01 INFO 139936138098496] #quality_metric. host: algo-1, epoch: 63, validation mIOU: 0.5 .\u001b[0m\n",
      "\u001b[34m[08/14/2020 14:06:01 INFO 139936138098496] #throughput_metric. host: algo-1, epoch: 63, validation throughput: 100.054365134 samples/sec.\u001b[0m\n",
      "\u001b[34m[08/14/2020 14:06:01 INFO 139936138098496] Serializing model to /opt/ml/model/model_best.params\u001b[0m\n",
      "\u001b[34m[08/14/2020 14:06:01 INFO 139936138098496] #progress_metric: host=algo-1, completed 64 % of epochs\u001b[0m\n",
      "\u001b[34m#metrics {\"Metrics\": {\"Max Batches Seen Between Resets\": {\"count\": 1, \"max\": 0, \"sum\": 0.0, \"min\": 0}, \"Number of Batches Since Last Reset\": {\"count\": 1, \"max\": 0, \"sum\": 0.0, \"min\": 0}, \"Number of Records Since Last Reset\": {\"count\": 1, \"max\": 0, \"sum\": 0.0, \"min\": 0}, \"Total Batches Seen\": {\"count\": 1, \"max\": 0, \"sum\": 0.0, \"min\": 0}, \"Total Records Seen\": {\"count\": 1, \"max\": 0, \"sum\": 0.0, \"min\": 0}, \"Max Records Seen Between Resets\": {\"count\": 1, \"max\": 0, \"sum\": 0.0, \"min\": 0}, \"Reset Count\": {\"count\": 1, \"max\": 64, \"sum\": 64.0, \"min\": 64}}, \"EndTime\": 1597413961.238261, \"Dimensions\": {\"Host\": \"algo-1\", \"Meta\": \"training_data_iter\", \"Operation\": \"training\", \"Algorithm\": \"AWS/Semantic Segmentation\", \"epoch\": 63}, \"StartTime\": 1597413947.440898}\n",
      "\u001b[0m\n",
      "\u001b[34m[08/14/2020 14:06:11 INFO 139936138098496] #progress_notice. epoch: 64, iterations: 20 speed: 57.6819591054 samples/sec learning_rate: 0.000052\u001b[0m\n",
      "\u001b[34m[08/14/2020 14:06:11 INFO 139936138098496] #quality_metric. host: algo-1, epoch: 64, train loss: 0.00105970418302431 .\u001b[0m\n",
      "\u001b[34m[08/14/2020 14:06:11 INFO 139936138098496] #throughput_metric. host: algo-1, epoch: 64, train throughput: 54.768988408 samples/sec.\u001b[0m\n",
      "\u001b[34m[08/14/2020 14:06:14 INFO 139936138098496] #quality_metric. host: algo-1, epoch: 64, validation pixel_accuracy: 1.0 .\u001b[0m\n",
      "\u001b[34m[08/14/2020 14:06:14 INFO 139936138098496] #quality_metric. host: algo-1, epoch: 64, validation mIOU: 0.5 .\u001b[0m\n",
      "\u001b[34m[08/14/2020 14:06:14 INFO 139936138098496] #throughput_metric. host: algo-1, epoch: 64, validation throughput: 100.453829674 samples/sec.\u001b[0m\n",
      "\u001b[34m[08/14/2020 14:06:14 INFO 139936138098496] Serializing model to /opt/ml/model/model_best.params\u001b[0m\n",
      "\u001b[34m[08/14/2020 14:06:14 INFO 139936138098496] #progress_metric: host=algo-1, completed 65 % of epochs\u001b[0m\n",
      "\u001b[34m#metrics {\"Metrics\": {\"Max Batches Seen Between Resets\": {\"count\": 1, \"max\": 0, \"sum\": 0.0, \"min\": 0}, \"Number of Batches Since Last Reset\": {\"count\": 1, \"max\": 0, \"sum\": 0.0, \"min\": 0}, \"Number of Records Since Last Reset\": {\"count\": 1, \"max\": 0, \"sum\": 0.0, \"min\": 0}, \"Total Batches Seen\": {\"count\": 1, \"max\": 0, \"sum\": 0.0, \"min\": 0}, \"Total Records Seen\": {\"count\": 1, \"max\": 0, \"sum\": 0.0, \"min\": 0}, \"Max Records Seen Between Resets\": {\"count\": 1, \"max\": 0, \"sum\": 0.0, \"min\": 0}, \"Reset Count\": {\"count\": 1, \"max\": 65, \"sum\": 65.0, \"min\": 65}}, \"EndTime\": 1597413974.262062, \"Dimensions\": {\"Host\": \"algo-1\", \"Meta\": \"training_data_iter\", \"Operation\": \"training\", \"Algorithm\": \"AWS/Semantic Segmentation\", \"epoch\": 64}, \"StartTime\": 1597413961.238424}\n",
      "\u001b[0m\n",
      "\u001b[34m[08/14/2020 14:06:24 INFO 139936138098496] #progress_notice. epoch: 65, iterations: 20 speed: 57.9802253932 samples/sec learning_rate: 0.000051\u001b[0m\n",
      "\u001b[34m[08/14/2020 14:06:25 INFO 139936138098496] #quality_metric. host: algo-1, epoch: 65, train loss: 0.0010713619889098811 .\u001b[0m\n",
      "\u001b[34m[08/14/2020 14:06:25 INFO 139936138098496] #throughput_metric. host: algo-1, epoch: 65, train throughput: 56.5316161714 samples/sec.\u001b[0m\n",
      "\u001b[34m[08/14/2020 14:06:27 INFO 139936138098496] #quality_metric. host: algo-1, epoch: 65, validation pixel_accuracy: 1.0 .\u001b[0m\n",
      "\u001b[34m[08/14/2020 14:06:27 INFO 139936138098496] #quality_metric. host: algo-1, epoch: 65, validation mIOU: 0.5 .\u001b[0m\n",
      "\u001b[34m[08/14/2020 14:06:27 INFO 139936138098496] #throughput_metric. host: algo-1, epoch: 65, validation throughput: 100.300908816 samples/sec.\u001b[0m\n",
      "\u001b[34m[08/14/2020 14:06:28 INFO 139936138098496] Serializing model to /opt/ml/model/model_best.params\u001b[0m\n",
      "\u001b[34m[08/14/2020 14:06:28 INFO 139936138098496] #progress_metric: host=algo-1, completed 66 % of epochs\u001b[0m\n",
      "\u001b[34m#metrics {\"Metrics\": {\"Max Batches Seen Between Resets\": {\"count\": 1, \"max\": 0, \"sum\": 0.0, \"min\": 0}, \"Number of Batches Since Last Reset\": {\"count\": 1, \"max\": 0, \"sum\": 0.0, \"min\": 0}, \"Number of Records Since Last Reset\": {\"count\": 1, \"max\": 0, \"sum\": 0.0, \"min\": 0}, \"Total Batches Seen\": {\"count\": 1, \"max\": 0, \"sum\": 0.0, \"min\": 0}, \"Total Records Seen\": {\"count\": 1, \"max\": 0, \"sum\": 0.0, \"min\": 0}, \"Max Records Seen Between Resets\": {\"count\": 1, \"max\": 0, \"sum\": 0.0, \"min\": 0}, \"Reset Count\": {\"count\": 1, \"max\": 66, \"sum\": 66.0, \"min\": 66}}, \"EndTime\": 1597413988.184882, \"Dimensions\": {\"Host\": \"algo-1\", \"Meta\": \"training_data_iter\", \"Operation\": \"training\", \"Algorithm\": \"AWS/Semantic Segmentation\", \"epoch\": 65}, \"StartTime\": 1597413974.262229}\n",
      "\u001b[0m\n",
      "\u001b[34m[08/14/2020 14:06:38 INFO 139936138098496] #progress_notice. epoch: 66, iterations: 20 speed: 57.9370270576 samples/sec learning_rate: 0.000050\u001b[0m\n",
      "\u001b[34m[08/14/2020 14:06:38 INFO 139936138098496] #quality_metric. host: algo-1, epoch: 66, train loss: 0.001094511676845806 .\u001b[0m\n",
      "\u001b[34m[08/14/2020 14:06:38 INFO 139936138098496] #throughput_metric. host: algo-1, epoch: 66, train throughput: 55.3840935854 samples/sec.\u001b[0m\n",
      "\u001b[34m[08/14/2020 14:06:41 INFO 139936138098496] #quality_metric. host: algo-1, epoch: 66, validation pixel_accuracy: 1.0 .\u001b[0m\n",
      "\u001b[34m[08/14/2020 14:06:41 INFO 139936138098496] #quality_metric. host: algo-1, epoch: 66, validation mIOU: 0.5 .\u001b[0m\n",
      "\u001b[34m[08/14/2020 14:06:41 INFO 139936138098496] #throughput_metric. host: algo-1, epoch: 66, validation throughput: 100.077691389 samples/sec.\u001b[0m\n",
      "\u001b[34m[08/14/2020 14:06:41 INFO 139936138098496] Serializing model to /opt/ml/model/model_best.params\u001b[0m\n",
      "\u001b[34m[08/14/2020 14:06:41 INFO 139936138098496] #progress_metric: host=algo-1, completed 67 % of epochs\u001b[0m\n",
      "\u001b[34m#metrics {\"Metrics\": {\"Max Batches Seen Between Resets\": {\"count\": 1, \"max\": 0, \"sum\": 0.0, \"min\": 0}, \"Number of Batches Since Last Reset\": {\"count\": 1, \"max\": 0, \"sum\": 0.0, \"min\": 0}, \"Number of Records Since Last Reset\": {\"count\": 1, \"max\": 0, \"sum\": 0.0, \"min\": 0}, \"Total Batches Seen\": {\"count\": 1, \"max\": 0, \"sum\": 0.0, \"min\": 0}, \"Total Records Seen\": {\"count\": 1, \"max\": 0, \"sum\": 0.0, \"min\": 0}, \"Max Records Seen Between Resets\": {\"count\": 1, \"max\": 0, \"sum\": 0.0, \"min\": 0}, \"Reset Count\": {\"count\": 1, \"max\": 67, \"sum\": 67.0, \"min\": 67}}, \"EndTime\": 1597414001.483211, \"Dimensions\": {\"Host\": \"algo-1\", \"Meta\": \"training_data_iter\", \"Operation\": \"training\", \"Algorithm\": \"AWS/Semantic Segmentation\", \"epoch\": 66}, \"StartTime\": 1597413988.185059}\n",
      "\u001b[0m\n"
     ]
    },
    {
     "name": "stdout",
     "output_type": "stream",
     "text": [
      "\u001b[34m[08/14/2020 14:06:52 INFO 139936138098496] #progress_notice. epoch: 67, iterations: 20 speed: 58.0231370203 samples/sec learning_rate: 0.000049\u001b[0m\n",
      "\u001b[34m[08/14/2020 14:06:52 INFO 139936138098496] #quality_metric. host: algo-1, epoch: 67, train loss: 0.001090871736364947 .\u001b[0m\n",
      "\u001b[34m[08/14/2020 14:06:52 INFO 139936138098496] #throughput_metric. host: algo-1, epoch: 67, train throughput: 56.5611829219 samples/sec.\u001b[0m\n",
      "\u001b[34m[08/14/2020 14:06:55 INFO 139936138098496] #quality_metric. host: algo-1, epoch: 67, validation pixel_accuracy: 1.0 .\u001b[0m\n",
      "\u001b[34m[08/14/2020 14:06:55 INFO 139936138098496] #quality_metric. host: algo-1, epoch: 67, validation mIOU: 0.5 .\u001b[0m\n",
      "\u001b[34m[08/14/2020 14:06:55 INFO 139936138098496] #throughput_metric. host: algo-1, epoch: 67, validation throughput: 100.732348025 samples/sec.\u001b[0m\n",
      "\u001b[34m[08/14/2020 14:06:55 INFO 139936138098496] Serializing model to /opt/ml/model/model_best.params\u001b[0m\n",
      "\u001b[34m[08/14/2020 14:06:55 INFO 139936138098496] #progress_metric: host=algo-1, completed 68 % of epochs\u001b[0m\n",
      "\u001b[34m#metrics {\"Metrics\": {\"Max Batches Seen Between Resets\": {\"count\": 1, \"max\": 0, \"sum\": 0.0, \"min\": 0}, \"Number of Batches Since Last Reset\": {\"count\": 1, \"max\": 0, \"sum\": 0.0, \"min\": 0}, \"Number of Records Since Last Reset\": {\"count\": 1, \"max\": 0, \"sum\": 0.0, \"min\": 0}, \"Total Batches Seen\": {\"count\": 1, \"max\": 0, \"sum\": 0.0, \"min\": 0}, \"Total Records Seen\": {\"count\": 1, \"max\": 0, \"sum\": 0.0, \"min\": 0}, \"Max Records Seen Between Resets\": {\"count\": 1, \"max\": 0, \"sum\": 0.0, \"min\": 0}, \"Reset Count\": {\"count\": 1, \"max\": 68, \"sum\": 68.0, \"min\": 68}}, \"EndTime\": 1597414015.245147, \"Dimensions\": {\"Host\": \"algo-1\", \"Meta\": \"training_data_iter\", \"Operation\": \"training\", \"Algorithm\": \"AWS/Semantic Segmentation\", \"epoch\": 67}, \"StartTime\": 1597414001.483349}\n",
      "\u001b[0m\n",
      "\u001b[34m[08/14/2020 14:07:05 INFO 139936138098496] #progress_notice. epoch: 68, iterations: 20 speed: 57.8323273618 samples/sec learning_rate: 0.000049\u001b[0m\n",
      "\u001b[34m[08/14/2020 14:07:06 INFO 139936138098496] #quality_metric. host: algo-1, epoch: 68, train loss: 0.001106285654135387 .\u001b[0m\n",
      "\u001b[34m[08/14/2020 14:07:06 INFO 139936138098496] #throughput_metric. host: algo-1, epoch: 68, train throughput: 54.9720805748 samples/sec.\u001b[0m\n",
      "\u001b[34m[08/14/2020 14:07:08 INFO 139936138098496] #quality_metric. host: algo-1, epoch: 68, validation pixel_accuracy: 1.0 .\u001b[0m\n",
      "\u001b[34m[08/14/2020 14:07:08 INFO 139936138098496] #quality_metric. host: algo-1, epoch: 68, validation mIOU: 0.5 .\u001b[0m\n",
      "\u001b[34m[08/14/2020 14:07:08 INFO 139936138098496] #throughput_metric. host: algo-1, epoch: 68, validation throughput: 96.9711205838 samples/sec.\u001b[0m\n",
      "\u001b[34m[08/14/2020 14:07:08 INFO 139936138098496] Serializing model to /opt/ml/model/model_best.params\u001b[0m\n",
      "\u001b[34m[08/14/2020 14:07:08 INFO 139936138098496] #progress_metric: host=algo-1, completed 69 % of epochs\u001b[0m\n",
      "\u001b[34m#metrics {\"Metrics\": {\"Max Batches Seen Between Resets\": {\"count\": 1, \"max\": 0, \"sum\": 0.0, \"min\": 0}, \"Number of Batches Since Last Reset\": {\"count\": 1, \"max\": 0, \"sum\": 0.0, \"min\": 0}, \"Number of Records Since Last Reset\": {\"count\": 1, \"max\": 0, \"sum\": 0.0, \"min\": 0}, \"Total Batches Seen\": {\"count\": 1, \"max\": 0, \"sum\": 0.0, \"min\": 0}, \"Total Records Seen\": {\"count\": 1, \"max\": 0, \"sum\": 0.0, \"min\": 0}, \"Max Records Seen Between Resets\": {\"count\": 1, \"max\": 0, \"sum\": 0.0, \"min\": 0}, \"Reset Count\": {\"count\": 1, \"max\": 69, \"sum\": 69.0, \"min\": 69}}, \"EndTime\": 1597414028.750494, \"Dimensions\": {\"Host\": \"algo-1\", \"Meta\": \"training_data_iter\", \"Operation\": \"training\", \"Algorithm\": \"AWS/Semantic Segmentation\", \"epoch\": 68}, \"StartTime\": 1597414015.245337}\n",
      "\u001b[0m\n",
      "\u001b[34m[08/14/2020 14:07:19 INFO 139936138098496] #progress_notice. epoch: 69, iterations: 20 speed: 58.1572933999 samples/sec learning_rate: 0.000048\u001b[0m\n",
      "\u001b[34m[08/14/2020 14:07:19 INFO 139936138098496] #quality_metric. host: algo-1, epoch: 69, train loss: 0.0011380772727231185 .\u001b[0m\n",
      "\u001b[34m[08/14/2020 14:07:19 INFO 139936138098496] #throughput_metric. host: algo-1, epoch: 69, train throughput: 56.1102949807 samples/sec.\u001b[0m\n",
      "\u001b[34m[08/14/2020 14:07:21 INFO 139936138098496] #quality_metric. host: algo-1, epoch: 69, validation pixel_accuracy: 1.0 .\u001b[0m\n",
      "\u001b[34m[08/14/2020 14:07:21 INFO 139936138098496] #quality_metric. host: algo-1, epoch: 69, validation mIOU: 0.5 .\u001b[0m\n",
      "\u001b[34m[08/14/2020 14:07:21 INFO 139936138098496] #throughput_metric. host: algo-1, epoch: 69, validation throughput: 100.692698268 samples/sec.\u001b[0m\n",
      "\u001b[34m[08/14/2020 14:07:21 INFO 139936138098496] Serializing model to /opt/ml/model/model_best.params\u001b[0m\n",
      "\u001b[34m[08/14/2020 14:07:22 INFO 139936138098496] #progress_metric: host=algo-1, completed 70 % of epochs\u001b[0m\n",
      "\u001b[34m#metrics {\"Metrics\": {\"Max Batches Seen Between Resets\": {\"count\": 1, \"max\": 0, \"sum\": 0.0, \"min\": 0}, \"Number of Batches Since Last Reset\": {\"count\": 1, \"max\": 0, \"sum\": 0.0, \"min\": 0}, \"Number of Records Since Last Reset\": {\"count\": 1, \"max\": 0, \"sum\": 0.0, \"min\": 0}, \"Total Batches Seen\": {\"count\": 1, \"max\": 0, \"sum\": 0.0, \"min\": 0}, \"Total Records Seen\": {\"count\": 1, \"max\": 0, \"sum\": 0.0, \"min\": 0}, \"Max Records Seen Between Resets\": {\"count\": 1, \"max\": 0, \"sum\": 0.0, \"min\": 0}, \"Reset Count\": {\"count\": 1, \"max\": 70, \"sum\": 70.0, \"min\": 70}}, \"EndTime\": 1597414042.009056, \"Dimensions\": {\"Host\": \"algo-1\", \"Meta\": \"training_data_iter\", \"Operation\": \"training\", \"Algorithm\": \"AWS/Semantic Segmentation\", \"epoch\": 69}, \"StartTime\": 1597414028.750673}\n",
      "\u001b[0m\n",
      "\u001b[34m[08/14/2020 14:07:32 INFO 139936138098496] #progress_notice. epoch: 70, iterations: 20 speed: 57.5297074688 samples/sec learning_rate: 0.000047\u001b[0m\n",
      "\u001b[34m[08/14/2020 14:07:33 INFO 139936138098496] #quality_metric. host: algo-1, epoch: 70, train loss: 0.0011348586201413789 .\u001b[0m\n",
      "\u001b[34m[08/14/2020 14:07:33 INFO 139936138098496] #throughput_metric. host: algo-1, epoch: 70, train throughput: 54.8861112315 samples/sec.\u001b[0m\n",
      "\u001b[34m[08/14/2020 14:07:35 INFO 139936138098496] #quality_metric. host: algo-1, epoch: 70, validation pixel_accuracy: 1.0 .\u001b[0m\n",
      "\u001b[34m[08/14/2020 14:07:35 INFO 139936138098496] #quality_metric. host: algo-1, epoch: 70, validation mIOU: 0.5 .\u001b[0m\n",
      "\u001b[34m[08/14/2020 14:07:35 INFO 139936138098496] #throughput_metric. host: algo-1, epoch: 70, validation throughput: 100.636853667 samples/sec.\u001b[0m\n",
      "\u001b[34m[08/14/2020 14:07:35 INFO 139936138098496] Serializing model to /opt/ml/model/model_best.params\u001b[0m\n",
      "\u001b[34m[08/14/2020 14:07:35 INFO 139936138098496] #progress_metric: host=algo-1, completed 71 % of epochs\u001b[0m\n",
      "\u001b[34m#metrics {\"Metrics\": {\"Max Batches Seen Between Resets\": {\"count\": 1, \"max\": 0, \"sum\": 0.0, \"min\": 0}, \"Number of Batches Since Last Reset\": {\"count\": 1, \"max\": 0, \"sum\": 0.0, \"min\": 0}, \"Number of Records Since Last Reset\": {\"count\": 1, \"max\": 0, \"sum\": 0.0, \"min\": 0}, \"Total Batches Seen\": {\"count\": 1, \"max\": 0, \"sum\": 0.0, \"min\": 0}, \"Total Records Seen\": {\"count\": 1, \"max\": 0, \"sum\": 0.0, \"min\": 0}, \"Max Records Seen Between Resets\": {\"count\": 1, \"max\": 0, \"sum\": 0.0, \"min\": 0}, \"Reset Count\": {\"count\": 1, \"max\": 71, \"sum\": 71.0, \"min\": 71}}, \"EndTime\": 1597414055.872246, \"Dimensions\": {\"Host\": \"algo-1\", \"Meta\": \"training_data_iter\", \"Operation\": \"training\", \"Algorithm\": \"AWS/Semantic Segmentation\", \"epoch\": 70}, \"StartTime\": 1597414042.00921}\n",
      "\u001b[0m\n",
      "\u001b[34m[08/14/2020 14:07:46 INFO 139936138098496] #progress_notice. epoch: 71, iterations: 20 speed: 57.7663174748 samples/sec learning_rate: 0.000046\u001b[0m\n",
      "\u001b[34m[08/14/2020 14:07:47 INFO 139936138098496] #quality_metric. host: algo-1, epoch: 71, train loss: 0.0011578141658736224 .\u001b[0m\n",
      "\u001b[34m[08/14/2020 14:07:47 INFO 139936138098496] #throughput_metric. host: algo-1, epoch: 71, train throughput: 54.8090687116 samples/sec.\u001b[0m\n",
      "\u001b[34m[08/14/2020 14:07:49 INFO 139936138098496] #quality_metric. host: algo-1, epoch: 71, validation pixel_accuracy: 1.0 .\u001b[0m\n",
      "\u001b[34m[08/14/2020 14:07:49 INFO 139936138098496] #quality_metric. host: algo-1, epoch: 71, validation mIOU: 0.5 .\u001b[0m\n",
      "\u001b[34m[08/14/2020 14:07:49 INFO 139936138098496] #throughput_metric. host: algo-1, epoch: 71, validation throughput: 100.246670836 samples/sec.\u001b[0m\n",
      "\u001b[34m[08/14/2020 14:07:49 INFO 139936138098496] Serializing model to /opt/ml/model/model_best.params\u001b[0m\n",
      "\u001b[34m[08/14/2020 14:07:49 INFO 139936138098496] #progress_metric: host=algo-1, completed 72 % of epochs\u001b[0m\n",
      "\u001b[34m#metrics {\"Metrics\": {\"Max Batches Seen Between Resets\": {\"count\": 1, \"max\": 0, \"sum\": 0.0, \"min\": 0}, \"Number of Batches Since Last Reset\": {\"count\": 1, \"max\": 0, \"sum\": 0.0, \"min\": 0}, \"Number of Records Since Last Reset\": {\"count\": 1, \"max\": 0, \"sum\": 0.0, \"min\": 0}, \"Total Batches Seen\": {\"count\": 1, \"max\": 0, \"sum\": 0.0, \"min\": 0}, \"Total Records Seen\": {\"count\": 1, \"max\": 0, \"sum\": 0.0, \"min\": 0}, \"Max Records Seen Between Resets\": {\"count\": 1, \"max\": 0, \"sum\": 0.0, \"min\": 0}, \"Reset Count\": {\"count\": 1, \"max\": 72, \"sum\": 72.0, \"min\": 72}}, \"EndTime\": 1597414069.607465, \"Dimensions\": {\"Host\": \"algo-1\", \"Meta\": \"training_data_iter\", \"Operation\": \"training\", \"Algorithm\": \"AWS/Semantic Segmentation\", \"epoch\": 71}, \"StartTime\": 1597414055.872397}\n",
      "\u001b[0m\n"
     ]
    },
    {
     "name": "stdout",
     "output_type": "stream",
     "text": [
      "\u001b[34m[08/14/2020 14:08:00 INFO 139936138098496] #progress_notice. epoch: 72, iterations: 20 speed: 58.0265486114 samples/sec learning_rate: 0.000045\u001b[0m\n",
      "\u001b[34m[08/14/2020 14:08:00 INFO 139936138098496] #quality_metric. host: algo-1, epoch: 72, train loss: 0.0011609382428494947 .\u001b[0m\n",
      "\u001b[34m[08/14/2020 14:08:00 INFO 139936138098496] #throughput_metric. host: algo-1, epoch: 72, train throughput: 55.8962116965 samples/sec.\u001b[0m\n",
      "\u001b[34m[08/14/2020 14:08:02 INFO 139936138098496] #quality_metric. host: algo-1, epoch: 72, validation pixel_accuracy: 1.0 .\u001b[0m\n",
      "\u001b[34m[08/14/2020 14:08:02 INFO 139936138098496] #quality_metric. host: algo-1, epoch: 72, validation mIOU: 0.5 .\u001b[0m\n",
      "\u001b[34m[08/14/2020 14:08:02 INFO 139936138098496] #throughput_metric. host: algo-1, epoch: 72, validation throughput: 100.55229632 samples/sec.\u001b[0m\n",
      "\u001b[34m[08/14/2020 14:08:02 INFO 139936138098496] Serializing model to /opt/ml/model/model_best.params\u001b[0m\n",
      "\u001b[34m[08/14/2020 14:08:02 INFO 139936138098496] #progress_metric: host=algo-1, completed 73 % of epochs\u001b[0m\n",
      "\u001b[34m#metrics {\"Metrics\": {\"Max Batches Seen Between Resets\": {\"count\": 1, \"max\": 0, \"sum\": 0.0, \"min\": 0}, \"Number of Batches Since Last Reset\": {\"count\": 1, \"max\": 0, \"sum\": 0.0, \"min\": 0}, \"Number of Records Since Last Reset\": {\"count\": 1, \"max\": 0, \"sum\": 0.0, \"min\": 0}, \"Total Batches Seen\": {\"count\": 1, \"max\": 0, \"sum\": 0.0, \"min\": 0}, \"Total Records Seen\": {\"count\": 1, \"max\": 0, \"sum\": 0.0, \"min\": 0}, \"Max Records Seen Between Resets\": {\"count\": 1, \"max\": 0, \"sum\": 0.0, \"min\": 0}, \"Reset Count\": {\"count\": 1, \"max\": 73, \"sum\": 73.0, \"min\": 73}}, \"EndTime\": 1597414082.789275, \"Dimensions\": {\"Host\": \"algo-1\", \"Meta\": \"training_data_iter\", \"Operation\": \"training\", \"Algorithm\": \"AWS/Semantic Segmentation\", \"epoch\": 72}, \"StartTime\": 1597414069.607635}\n",
      "\u001b[0m\n",
      "\u001b[34m[08/14/2020 14:08:13 INFO 139936138098496] #progress_notice. epoch: 73, iterations: 20 speed: 57.7119205383 samples/sec learning_rate: 0.000045\u001b[0m\n",
      "\u001b[34m[08/14/2020 14:08:13 INFO 139936138098496] #quality_metric. host: algo-1, epoch: 73, train loss: 0.001173776114063168 .\u001b[0m\n",
      "\u001b[34m[08/14/2020 14:08:13 INFO 139936138098496] #throughput_metric. host: algo-1, epoch: 73, train throughput: 55.6812745398 samples/sec.\u001b[0m\n",
      "\u001b[34m[08/14/2020 14:08:16 INFO 139936138098496] #quality_metric. host: algo-1, epoch: 73, validation pixel_accuracy: 1.0 .\u001b[0m\n",
      "\u001b[34m[08/14/2020 14:08:16 INFO 139936138098496] #quality_metric. host: algo-1, epoch: 73, validation mIOU: 0.5 .\u001b[0m\n",
      "\u001b[34m[08/14/2020 14:08:16 INFO 139936138098496] #throughput_metric. host: algo-1, epoch: 73, validation throughput: 99.6992540628 samples/sec.\u001b[0m\n",
      "\u001b[34m[08/14/2020 14:08:16 INFO 139936138098496] Serializing model to /opt/ml/model/model_best.params\u001b[0m\n",
      "\u001b[34m[08/14/2020 14:08:16 INFO 139936138098496] #progress_metric: host=algo-1, completed 74 % of epochs\u001b[0m\n",
      "\u001b[34m#metrics {\"Metrics\": {\"Max Batches Seen Between Resets\": {\"count\": 1, \"max\": 0, \"sum\": 0.0, \"min\": 0}, \"Number of Batches Since Last Reset\": {\"count\": 1, \"max\": 0, \"sum\": 0.0, \"min\": 0}, \"Number of Records Since Last Reset\": {\"count\": 1, \"max\": 0, \"sum\": 0.0, \"min\": 0}, \"Total Batches Seen\": {\"count\": 1, \"max\": 0, \"sum\": 0.0, \"min\": 0}, \"Total Records Seen\": {\"count\": 1, \"max\": 0, \"sum\": 0.0, \"min\": 0}, \"Max Records Seen Between Resets\": {\"count\": 1, \"max\": 0, \"sum\": 0.0, \"min\": 0}, \"Reset Count\": {\"count\": 1, \"max\": 74, \"sum\": 74.0, \"min\": 74}}, \"EndTime\": 1597414096.523368, \"Dimensions\": {\"Host\": \"algo-1\", \"Meta\": \"training_data_iter\", \"Operation\": \"training\", \"Algorithm\": \"AWS/Semantic Segmentation\", \"epoch\": 73}, \"StartTime\": 1597414082.789449}\n",
      "\u001b[0m\n",
      "\u001b[34m[08/14/2020 14:08:27 INFO 139936138098496] #progress_notice. epoch: 74, iterations: 20 speed: 57.9162767256 samples/sec learning_rate: 0.000044\u001b[0m\n",
      "\u001b[34m[08/14/2020 14:08:27 INFO 139936138098496] #quality_metric. host: algo-1, epoch: 74, train loss: 0.0011893114119413354 .\u001b[0m\n",
      "\u001b[34m[08/14/2020 14:08:27 INFO 139936138098496] #throughput_metric. host: algo-1, epoch: 74, train throughput: 56.2418353257 samples/sec.\u001b[0m\n",
      "\u001b[34m[08/14/2020 14:08:29 INFO 139936138098496] #quality_metric. host: algo-1, epoch: 74, validation pixel_accuracy: 1.0 .\u001b[0m\n",
      "\u001b[34m[08/14/2020 14:08:29 INFO 139936138098496] #quality_metric. host: algo-1, epoch: 74, validation mIOU: 0.5 .\u001b[0m\n",
      "\u001b[34m[08/14/2020 14:08:29 INFO 139936138098496] #throughput_metric. host: algo-1, epoch: 74, validation throughput: 100.101227607 samples/sec.\u001b[0m\n",
      "\u001b[34m[08/14/2020 14:08:29 INFO 139936138098496] Serializing model to /opt/ml/model/model_best.params\u001b[0m\n",
      "\u001b[34m[08/14/2020 14:08:30 INFO 139936138098496] #progress_metric: host=algo-1, completed 75 % of epochs\u001b[0m\n",
      "\u001b[34m#metrics {\"Metrics\": {\"Max Batches Seen Between Resets\": {\"count\": 1, \"max\": 0, \"sum\": 0.0, \"min\": 0}, \"Number of Batches Since Last Reset\": {\"count\": 1, \"max\": 0, \"sum\": 0.0, \"min\": 0}, \"Number of Records Since Last Reset\": {\"count\": 1, \"max\": 0, \"sum\": 0.0, \"min\": 0}, \"Total Batches Seen\": {\"count\": 1, \"max\": 0, \"sum\": 0.0, \"min\": 0}, \"Total Records Seen\": {\"count\": 1, \"max\": 0, \"sum\": 0.0, \"min\": 0}, \"Max Records Seen Between Resets\": {\"count\": 1, \"max\": 0, \"sum\": 0.0, \"min\": 0}, \"Reset Count\": {\"count\": 1, \"max\": 75, \"sum\": 75.0, \"min\": 75}}, \"EndTime\": 1597414110.039913, \"Dimensions\": {\"Host\": \"algo-1\", \"Meta\": \"training_data_iter\", \"Operation\": \"training\", \"Algorithm\": \"AWS/Semantic Segmentation\", \"epoch\": 74}, \"StartTime\": 1597414096.523509}\n",
      "\u001b[0m\n",
      "\u001b[34m[08/14/2020 14:08:40 INFO 139936138098496] #progress_notice. epoch: 75, iterations: 20 speed: 57.908280567 samples/sec learning_rate: 0.000043\u001b[0m\n",
      "\u001b[34m[08/14/2020 14:08:41 INFO 139936138098496] #quality_metric. host: algo-1, epoch: 75, train loss: 0.001195649960374629 .\u001b[0m\n",
      "\u001b[34m[08/14/2020 14:08:41 INFO 139936138098496] #throughput_metric. host: algo-1, epoch: 75, train throughput: 56.1704629414 samples/sec.\u001b[0m\n",
      "\u001b[34m[08/14/2020 14:08:43 INFO 139936138098496] #quality_metric. host: algo-1, epoch: 75, validation pixel_accuracy: 1.0 .\u001b[0m\n",
      "\u001b[34m[08/14/2020 14:08:43 INFO 139936138098496] #quality_metric. host: algo-1, epoch: 75, validation mIOU: 0.5 .\u001b[0m\n",
      "\u001b[34m[08/14/2020 14:08:43 INFO 139936138098496] #throughput_metric. host: algo-1, epoch: 75, validation throughput: 100.778838939 samples/sec.\u001b[0m\n",
      "\u001b[34m[08/14/2020 14:08:43 INFO 139936138098496] Serializing model to /opt/ml/model/model_best.params\u001b[0m\n",
      "\u001b[34m[08/14/2020 14:08:43 INFO 139936138098496] #progress_metric: host=algo-1, completed 76 % of epochs\u001b[0m\n",
      "\u001b[34m#metrics {\"Metrics\": {\"Max Batches Seen Between Resets\": {\"count\": 1, \"max\": 0, \"sum\": 0.0, \"min\": 0}, \"Number of Batches Since Last Reset\": {\"count\": 1, \"max\": 0, \"sum\": 0.0, \"min\": 0}, \"Number of Records Since Last Reset\": {\"count\": 1, \"max\": 0, \"sum\": 0.0, \"min\": 0}, \"Total Batches Seen\": {\"count\": 1, \"max\": 0, \"sum\": 0.0, \"min\": 0}, \"Total Records Seen\": {\"count\": 1, \"max\": 0, \"sum\": 0.0, \"min\": 0}, \"Max Records Seen Between Resets\": {\"count\": 1, \"max\": 0, \"sum\": 0.0, \"min\": 0}, \"Reset Count\": {\"count\": 1, \"max\": 76, \"sum\": 76.0, \"min\": 76}}, \"EndTime\": 1597414123.914964, \"Dimensions\": {\"Host\": \"algo-1\", \"Meta\": \"training_data_iter\", \"Operation\": \"training\", \"Algorithm\": \"AWS/Semantic Segmentation\", \"epoch\": 75}, \"StartTime\": 1597414110.04011}\n",
      "\u001b[0m\n",
      "\u001b[34m[08/14/2020 14:08:54 INFO 139936138098496] #progress_notice. epoch: 76, iterations: 20 speed: 58.0446166621 samples/sec learning_rate: 0.000042\u001b[0m\n",
      "\u001b[34m[08/14/2020 14:08:55 INFO 139936138098496] #quality_metric. host: algo-1, epoch: 76, train loss: 0.0012107958741994066 .\u001b[0m\n",
      "\u001b[34m[08/14/2020 14:08:55 INFO 139936138098496] #throughput_metric. host: algo-1, epoch: 76, train throughput: 55.8798130314 samples/sec.\u001b[0m\n",
      "\u001b[34m[08/14/2020 14:08:57 INFO 139936138098496] #quality_metric. host: algo-1, epoch: 76, validation pixel_accuracy: 1.0 .\u001b[0m\n",
      "\u001b[34m[08/14/2020 14:08:57 INFO 139936138098496] #quality_metric. host: algo-1, epoch: 76, validation mIOU: 0.5 .\u001b[0m\n",
      "\u001b[34m[08/14/2020 14:08:57 INFO 139936138098496] #throughput_metric. host: algo-1, epoch: 76, validation throughput: 99.6488606339 samples/sec.\u001b[0m\n",
      "\u001b[34m[08/14/2020 14:08:57 INFO 139936138098496] Serializing model to /opt/ml/model/model_best.params\u001b[0m\n",
      "\u001b[34m[08/14/2020 14:08:57 INFO 139936138098496] #progress_metric: host=algo-1, completed 77 % of epochs\u001b[0m\n",
      "\u001b[34m#metrics {\"Metrics\": {\"Max Batches Seen Between Resets\": {\"count\": 1, \"max\": 0, \"sum\": 0.0, \"min\": 0}, \"Number of Batches Since Last Reset\": {\"count\": 1, \"max\": 0, \"sum\": 0.0, \"min\": 0}, \"Number of Records Since Last Reset\": {\"count\": 1, \"max\": 0, \"sum\": 0.0, \"min\": 0}, \"Total Batches Seen\": {\"count\": 1, \"max\": 0, \"sum\": 0.0, \"min\": 0}, \"Total Records Seen\": {\"count\": 1, \"max\": 0, \"sum\": 0.0, \"min\": 0}, \"Max Records Seen Between Resets\": {\"count\": 1, \"max\": 0, \"sum\": 0.0, \"min\": 0}, \"Reset Count\": {\"count\": 1, \"max\": 77, \"sum\": 77.0, \"min\": 77}}, \"EndTime\": 1597414137.59666, \"Dimensions\": {\"Host\": \"algo-1\", \"Meta\": \"training_data_iter\", \"Operation\": \"training\", \"Algorithm\": \"AWS/Semantic Segmentation\", \"epoch\": 76}, \"StartTime\": 1597414123.915158}\n",
      "\u001b[0m\n"
     ]
    },
    {
     "name": "stdout",
     "output_type": "stream",
     "text": [
      "\u001b[34m[08/14/2020 14:09:08 INFO 139936138098496] #progress_notice. epoch: 77, iterations: 20 speed: 58.311166721 samples/sec learning_rate: 0.000041\u001b[0m\n",
      "\u001b[34m[08/14/2020 14:09:08 INFO 139936138098496] #quality_metric. host: algo-1, epoch: 77, train loss: 0.0012183240892010786 .\u001b[0m\n",
      "\u001b[34m[08/14/2020 14:09:08 INFO 139936138098496] #throughput_metric. host: algo-1, epoch: 77, train throughput: 56.4268162663 samples/sec.\u001b[0m\n",
      "\u001b[34m[08/14/2020 14:09:11 INFO 139936138098496] #quality_metric. host: algo-1, epoch: 77, validation pixel_accuracy: 1.0 .\u001b[0m\n",
      "\u001b[34m[08/14/2020 14:09:11 INFO 139936138098496] #quality_metric. host: algo-1, epoch: 77, validation mIOU: 0.5 .\u001b[0m\n",
      "\u001b[34m[08/14/2020 14:09:11 INFO 139936138098496] #throughput_metric. host: algo-1, epoch: 77, validation throughput: 100.620683141 samples/sec.\u001b[0m\n",
      "\u001b[34m[08/14/2020 14:09:11 INFO 139936138098496] Serializing model to /opt/ml/model/model_best.params\u001b[0m\n",
      "\u001b[34m[08/14/2020 14:09:11 INFO 139936138098496] #progress_metric: host=algo-1, completed 78 % of epochs\u001b[0m\n",
      "\u001b[34m#metrics {\"Metrics\": {\"Max Batches Seen Between Resets\": {\"count\": 1, \"max\": 0, \"sum\": 0.0, \"min\": 0}, \"Number of Batches Since Last Reset\": {\"count\": 1, \"max\": 0, \"sum\": 0.0, \"min\": 0}, \"Number of Records Since Last Reset\": {\"count\": 1, \"max\": 0, \"sum\": 0.0, \"min\": 0}, \"Total Batches Seen\": {\"count\": 1, \"max\": 0, \"sum\": 0.0, \"min\": 0}, \"Total Records Seen\": {\"count\": 1, \"max\": 0, \"sum\": 0.0, \"min\": 0}, \"Max Records Seen Between Resets\": {\"count\": 1, \"max\": 0, \"sum\": 0.0, \"min\": 0}, \"Reset Count\": {\"count\": 1, \"max\": 78, \"sum\": 78.0, \"min\": 78}}, \"EndTime\": 1597414151.206455, \"Dimensions\": {\"Host\": \"algo-1\", \"Meta\": \"training_data_iter\", \"Operation\": \"training\", \"Algorithm\": \"AWS/Semantic Segmentation\", \"epoch\": 77}, \"StartTime\": 1597414137.596802}\n",
      "\u001b[0m\n",
      "\u001b[34m[08/14/2020 14:09:21 INFO 139936138098496] #progress_notice. epoch: 78, iterations: 20 speed: 58.1765524846 samples/sec learning_rate: 0.000041\u001b[0m\n",
      "\u001b[34m[08/14/2020 14:09:22 INFO 139936138098496] #quality_metric. host: algo-1, epoch: 78, train loss: 0.0012311311914924193 .\u001b[0m\n",
      "\u001b[34m[08/14/2020 14:09:22 INFO 139936138098496] #throughput_metric. host: algo-1, epoch: 78, train throughput: 56.0128400499 samples/sec.\u001b[0m\n",
      "\u001b[34m[08/14/2020 14:09:24 INFO 139936138098496] #quality_metric. host: algo-1, epoch: 78, validation pixel_accuracy: 1.0 .\u001b[0m\n",
      "\u001b[34m[08/14/2020 14:09:24 INFO 139936138098496] #quality_metric. host: algo-1, epoch: 78, validation mIOU: 0.5 .\u001b[0m\n",
      "\u001b[34m[08/14/2020 14:09:24 INFO 139936138098496] #throughput_metric. host: algo-1, epoch: 78, validation throughput: 100.495518731 samples/sec.\u001b[0m\n",
      "\u001b[34m[08/14/2020 14:09:24 INFO 139936138098496] Serializing model to /opt/ml/model/model_best.params\u001b[0m\n",
      "\u001b[34m[08/14/2020 14:09:25 INFO 139936138098496] #progress_metric: host=algo-1, completed 79 % of epochs\u001b[0m\n",
      "\u001b[34m#metrics {\"Metrics\": {\"Max Batches Seen Between Resets\": {\"count\": 1, \"max\": 0, \"sum\": 0.0, \"min\": 0}, \"Number of Batches Since Last Reset\": {\"count\": 1, \"max\": 0, \"sum\": 0.0, \"min\": 0}, \"Number of Records Since Last Reset\": {\"count\": 1, \"max\": 0, \"sum\": 0.0, \"min\": 0}, \"Total Batches Seen\": {\"count\": 1, \"max\": 0, \"sum\": 0.0, \"min\": 0}, \"Total Records Seen\": {\"count\": 1, \"max\": 0, \"sum\": 0.0, \"min\": 0}, \"Max Records Seen Between Resets\": {\"count\": 1, \"max\": 0, \"sum\": 0.0, \"min\": 0}, \"Reset Count\": {\"count\": 1, \"max\": 79, \"sum\": 79.0, \"min\": 79}}, \"EndTime\": 1597414165.091601, \"Dimensions\": {\"Host\": \"algo-1\", \"Meta\": \"training_data_iter\", \"Operation\": \"training\", \"Algorithm\": \"AWS/Semantic Segmentation\", \"epoch\": 78}, \"StartTime\": 1597414151.206601}\n",
      "\u001b[0m\n",
      "\u001b[34m[08/14/2020 14:09:35 INFO 139936138098496] #progress_notice. epoch: 79, iterations: 20 speed: 57.8314801266 samples/sec learning_rate: 0.000040\u001b[0m\n",
      "\u001b[34m[08/14/2020 14:09:36 INFO 139936138098496] #quality_metric. host: algo-1, epoch: 79, train loss: 0.0012593393436294389 .\u001b[0m\n",
      "\u001b[34m[08/14/2020 14:09:36 INFO 139936138098496] #throughput_metric. host: algo-1, epoch: 79, train throughput: 55.0762935708 samples/sec.\u001b[0m\n",
      "\u001b[34m[08/14/2020 14:09:38 INFO 139936138098496] #quality_metric. host: algo-1, epoch: 79, validation pixel_accuracy: 1.0 .\u001b[0m\n",
      "\u001b[34m[08/14/2020 14:09:38 INFO 139936138098496] #quality_metric. host: algo-1, epoch: 79, validation mIOU: 0.5 .\u001b[0m\n",
      "\u001b[34m[08/14/2020 14:09:38 INFO 139936138098496] #throughput_metric. host: algo-1, epoch: 79, validation throughput: 100.85284893 samples/sec.\u001b[0m\n",
      "\u001b[34m[08/14/2020 14:09:38 INFO 139936138098496] Serializing model to /opt/ml/model/model_best.params\u001b[0m\n",
      "\u001b[34m[08/14/2020 14:09:38 INFO 139936138098496] #progress_metric: host=algo-1, completed 80 % of epochs\u001b[0m\n",
      "\u001b[34m#metrics {\"Metrics\": {\"Max Batches Seen Between Resets\": {\"count\": 1, \"max\": 0, \"sum\": 0.0, \"min\": 0}, \"Number of Batches Since Last Reset\": {\"count\": 1, \"max\": 0, \"sum\": 0.0, \"min\": 0}, \"Number of Records Since Last Reset\": {\"count\": 1, \"max\": 0, \"sum\": 0.0, \"min\": 0}, \"Total Batches Seen\": {\"count\": 1, \"max\": 0, \"sum\": 0.0, \"min\": 0}, \"Total Records Seen\": {\"count\": 1, \"max\": 0, \"sum\": 0.0, \"min\": 0}, \"Max Records Seen Between Resets\": {\"count\": 1, \"max\": 0, \"sum\": 0.0, \"min\": 0}, \"Reset Count\": {\"count\": 1, \"max\": 80, \"sum\": 80.0, \"min\": 80}}, \"EndTime\": 1597414178.824663, \"Dimensions\": {\"Host\": \"algo-1\", \"Meta\": \"training_data_iter\", \"Operation\": \"training\", \"Algorithm\": \"AWS/Semantic Segmentation\", \"epoch\": 79}, \"StartTime\": 1597414165.091739}\n",
      "\u001b[0m\n",
      "\u001b[34m[08/14/2020 14:09:49 INFO 139936138098496] #progress_notice. epoch: 80, iterations: 20 speed: 57.8739721396 samples/sec learning_rate: 0.000039\u001b[0m\n",
      "\u001b[34m[08/14/2020 14:09:49 INFO 139936138098496] #quality_metric. host: algo-1, epoch: 80, train loss: 0.001256724381597624 .\u001b[0m\n",
      "\u001b[34m[08/14/2020 14:09:49 INFO 139936138098496] #throughput_metric. host: algo-1, epoch: 80, train throughput: 56.2231515754 samples/sec.\u001b[0m\n",
      "\u001b[34m[08/14/2020 14:09:51 INFO 139936138098496] #quality_metric. host: algo-1, epoch: 80, validation pixel_accuracy: 1.0 .\u001b[0m\n",
      "\u001b[34m[08/14/2020 14:09:51 INFO 139936138098496] #quality_metric. host: algo-1, epoch: 80, validation mIOU: 0.5 .\u001b[0m\n",
      "\u001b[34m[08/14/2020 14:09:51 INFO 139936138098496] #throughput_metric. host: algo-1, epoch: 80, validation throughput: 100.000870235 samples/sec.\u001b[0m\n",
      "\u001b[34m[08/14/2020 14:09:51 INFO 139936138098496] Serializing model to /opt/ml/model/model_best.params\u001b[0m\n",
      "\u001b[34m[08/14/2020 14:09:51 INFO 139936138098496] #progress_metric: host=algo-1, completed 81 % of epochs\u001b[0m\n",
      "\u001b[34m#metrics {\"Metrics\": {\"Max Batches Seen Between Resets\": {\"count\": 1, \"max\": 0, \"sum\": 0.0, \"min\": 0}, \"Number of Batches Since Last Reset\": {\"count\": 1, \"max\": 0, \"sum\": 0.0, \"min\": 0}, \"Number of Records Since Last Reset\": {\"count\": 1, \"max\": 0, \"sum\": 0.0, \"min\": 0}, \"Total Batches Seen\": {\"count\": 1, \"max\": 0, \"sum\": 0.0, \"min\": 0}, \"Total Records Seen\": {\"count\": 1, \"max\": 0, \"sum\": 0.0, \"min\": 0}, \"Max Records Seen Between Resets\": {\"count\": 1, \"max\": 0, \"sum\": 0.0, \"min\": 0}, \"Reset Count\": {\"count\": 1, \"max\": 81, \"sum\": 81.0, \"min\": 81}}, \"EndTime\": 1597414191.835587, \"Dimensions\": {\"Host\": \"algo-1\", \"Meta\": \"training_data_iter\", \"Operation\": \"training\", \"Algorithm\": \"AWS/Semantic Segmentation\", \"epoch\": 80}, \"StartTime\": 1597414178.824806}\n",
      "\u001b[0m\n",
      "\u001b[34m[08/14/2020 14:10:02 INFO 139936138098496] #progress_notice. epoch: 81, iterations: 20 speed: 57.8944424363 samples/sec learning_rate: 0.000038\u001b[0m\n",
      "\u001b[34m[08/14/2020 14:10:03 INFO 139936138098496] #quality_metric. host: algo-1, epoch: 81, train loss: 0.0012738060428422284 .\u001b[0m\n",
      "\u001b[34m[08/14/2020 14:10:03 INFO 139936138098496] #throughput_metric. host: algo-1, epoch: 81, train throughput: 55.7803344564 samples/sec.\u001b[0m\n",
      "\u001b[34m[08/14/2020 14:10:05 INFO 139936138098496] #quality_metric. host: algo-1, epoch: 81, validation pixel_accuracy: 1.0 .\u001b[0m\n",
      "\u001b[34m[08/14/2020 14:10:05 INFO 139936138098496] #quality_metric. host: algo-1, epoch: 81, validation mIOU: 0.5 .\u001b[0m\n",
      "\u001b[34m[08/14/2020 14:10:05 INFO 139936138098496] #throughput_metric. host: algo-1, epoch: 81, validation throughput: 99.8949787447 samples/sec.\u001b[0m\n",
      "\u001b[34m[08/14/2020 14:10:05 INFO 139936138098496] Serializing model to /opt/ml/model/model_best.params\u001b[0m\n",
      "\u001b[34m[08/14/2020 14:10:05 INFO 139936138098496] #progress_metric: host=algo-1, completed 82 % of epochs\u001b[0m\n",
      "\u001b[34m#metrics {\"Metrics\": {\"Max Batches Seen Between Resets\": {\"count\": 1, \"max\": 0, \"sum\": 0.0, \"min\": 0}, \"Number of Batches Since Last Reset\": {\"count\": 1, \"max\": 0, \"sum\": 0.0, \"min\": 0}, \"Number of Records Since Last Reset\": {\"count\": 1, \"max\": 0, \"sum\": 0.0, \"min\": 0}, \"Total Batches Seen\": {\"count\": 1, \"max\": 0, \"sum\": 0.0, \"min\": 0}, \"Total Records Seen\": {\"count\": 1, \"max\": 0, \"sum\": 0.0, \"min\": 0}, \"Max Records Seen Between Resets\": {\"count\": 1, \"max\": 0, \"sum\": 0.0, \"min\": 0}, \"Reset Count\": {\"count\": 1, \"max\": 82, \"sum\": 82.0, \"min\": 82}}, \"EndTime\": 1597414205.675769, \"Dimensions\": {\"Host\": \"algo-1\", \"Meta\": \"training_data_iter\", \"Operation\": \"training\", \"Algorithm\": \"AWS/Semantic Segmentation\", \"epoch\": 81}, \"StartTime\": 1597414191.835813}\n",
      "\u001b[0m\n"
     ]
    },
    {
     "name": "stdout",
     "output_type": "stream",
     "text": [
      "\u001b[34m[08/14/2020 14:10:16 INFO 139936138098496] #progress_notice. epoch: 82, iterations: 20 speed: 58.1790742513 samples/sec learning_rate: 0.000037\u001b[0m\n",
      "\u001b[34m[08/14/2020 14:10:16 INFO 139936138098496] #quality_metric. host: algo-1, epoch: 82, train loss: 0.001276731540981148 .\u001b[0m\n",
      "\u001b[34m[08/14/2020 14:10:16 INFO 139936138098496] #throughput_metric. host: algo-1, epoch: 82, train throughput: 56.5788706894 samples/sec.\u001b[0m\n",
      "\u001b[34m[08/14/2020 14:10:18 INFO 139936138098496] #quality_metric. host: algo-1, epoch: 82, validation pixel_accuracy: 1.0 .\u001b[0m\n",
      "\u001b[34m[08/14/2020 14:10:18 INFO 139936138098496] #quality_metric. host: algo-1, epoch: 82, validation mIOU: 0.5 .\u001b[0m\n",
      "\u001b[34m[08/14/2020 14:10:18 INFO 139936138098496] #throughput_metric. host: algo-1, epoch: 82, validation throughput: 99.0231020927 samples/sec.\u001b[0m\n",
      "\u001b[34m[08/14/2020 14:10:18 INFO 139936138098496] Serializing model to /opt/ml/model/model_best.params\u001b[0m\n",
      "\u001b[34m[08/14/2020 14:10:19 INFO 139936138098496] #progress_metric: host=algo-1, completed 83 % of epochs\u001b[0m\n",
      "\u001b[34m#metrics {\"Metrics\": {\"Max Batches Seen Between Resets\": {\"count\": 1, \"max\": 0, \"sum\": 0.0, \"min\": 0}, \"Number of Batches Since Last Reset\": {\"count\": 1, \"max\": 0, \"sum\": 0.0, \"min\": 0}, \"Number of Records Since Last Reset\": {\"count\": 1, \"max\": 0, \"sum\": 0.0, \"min\": 0}, \"Total Batches Seen\": {\"count\": 1, \"max\": 0, \"sum\": 0.0, \"min\": 0}, \"Total Records Seen\": {\"count\": 1, \"max\": 0, \"sum\": 0.0, \"min\": 0}, \"Max Records Seen Between Resets\": {\"count\": 1, \"max\": 0, \"sum\": 0.0, \"min\": 0}, \"Reset Count\": {\"count\": 1, \"max\": 83, \"sum\": 83.0, \"min\": 83}}, \"EndTime\": 1597414219.133315, \"Dimensions\": {\"Host\": \"algo-1\", \"Meta\": \"training_data_iter\", \"Operation\": \"training\", \"Algorithm\": \"AWS/Semantic Segmentation\", \"epoch\": 82}, \"StartTime\": 1597414205.675969}\n",
      "\u001b[0m\n",
      "\u001b[34m[08/14/2020 14:10:29 INFO 139936138098496] #progress_notice. epoch: 83, iterations: 20 speed: 57.71966398 samples/sec learning_rate: 0.000037\u001b[0m\n",
      "\u001b[34m[08/14/2020 14:10:30 INFO 139936138098496] #quality_metric. host: algo-1, epoch: 83, train loss: 0.0012789345505139368 .\u001b[0m\n",
      "\u001b[34m[08/14/2020 14:10:30 INFO 139936138098496] #throughput_metric. host: algo-1, epoch: 83, train throughput: 56.5487477784 samples/sec.\u001b[0m\n",
      "\u001b[34m[08/14/2020 14:10:32 INFO 139936138098496] #quality_metric. host: algo-1, epoch: 83, validation pixel_accuracy: 1.0 .\u001b[0m\n",
      "\u001b[34m[08/14/2020 14:10:32 INFO 139936138098496] #quality_metric. host: algo-1, epoch: 83, validation mIOU: 0.5 .\u001b[0m\n",
      "\u001b[34m[08/14/2020 14:10:32 INFO 139936138098496] #throughput_metric. host: algo-1, epoch: 83, validation throughput: 97.5549277266 samples/sec.\u001b[0m\n",
      "\u001b[34m[08/14/2020 14:10:32 INFO 139936138098496] Serializing model to /opt/ml/model/model_best.params\u001b[0m\n",
      "\u001b[34m[08/14/2020 14:10:32 INFO 139936138098496] #progress_metric: host=algo-1, completed 84 % of epochs\u001b[0m\n",
      "\u001b[34m#metrics {\"Metrics\": {\"Max Batches Seen Between Resets\": {\"count\": 1, \"max\": 0, \"sum\": 0.0, \"min\": 0}, \"Number of Batches Since Last Reset\": {\"count\": 1, \"max\": 0, \"sum\": 0.0, \"min\": 0}, \"Number of Records Since Last Reset\": {\"count\": 1, \"max\": 0, \"sum\": 0.0, \"min\": 0}, \"Total Batches Seen\": {\"count\": 1, \"max\": 0, \"sum\": 0.0, \"min\": 0}, \"Total Records Seen\": {\"count\": 1, \"max\": 0, \"sum\": 0.0, \"min\": 0}, \"Max Records Seen Between Resets\": {\"count\": 1, \"max\": 0, \"sum\": 0.0, \"min\": 0}, \"Reset Count\": {\"count\": 1, \"max\": 84, \"sum\": 84.0, \"min\": 84}}, \"EndTime\": 1597414232.97449, \"Dimensions\": {\"Host\": \"algo-1\", \"Meta\": \"training_data_iter\", \"Operation\": \"training\", \"Algorithm\": \"AWS/Semantic Segmentation\", \"epoch\": 83}, \"StartTime\": 1597414219.133467}\n",
      "\u001b[0m\n",
      "\u001b[34m[08/14/2020 14:10:43 INFO 139936138098496] #progress_notice. epoch: 84, iterations: 20 speed: 57.9359766836 samples/sec learning_rate: 0.000036\u001b[0m\n",
      "\u001b[34m[08/14/2020 14:10:44 INFO 139936138098496] #quality_metric. host: algo-1, epoch: 84, train loss: 0.0012964679203419523 .\u001b[0m\n",
      "\u001b[34m[08/14/2020 14:10:44 INFO 139936138098496] #throughput_metric. host: algo-1, epoch: 84, train throughput: 56.2034996885 samples/sec.\u001b[0m\n",
      "\u001b[34m[08/14/2020 14:10:46 INFO 139936138098496] #quality_metric. host: algo-1, epoch: 84, validation pixel_accuracy: 1.0 .\u001b[0m\n",
      "\u001b[34m[08/14/2020 14:10:46 INFO 139936138098496] #quality_metric. host: algo-1, epoch: 84, validation mIOU: 0.5 .\u001b[0m\n",
      "\u001b[34m[08/14/2020 14:10:46 INFO 139936138098496] #throughput_metric. host: algo-1, epoch: 84, validation throughput: 97.5763037511 samples/sec.\u001b[0m\n",
      "\u001b[34m[08/14/2020 14:10:46 INFO 139936138098496] Serializing model to /opt/ml/model/model_best.params\u001b[0m\n",
      "\u001b[34m[08/14/2020 14:10:46 INFO 139936138098496] #progress_metric: host=algo-1, completed 85 % of epochs\u001b[0m\n",
      "\u001b[34m#metrics {\"Metrics\": {\"Max Batches Seen Between Resets\": {\"count\": 1, \"max\": 0, \"sum\": 0.0, \"min\": 0}, \"Number of Batches Since Last Reset\": {\"count\": 1, \"max\": 0, \"sum\": 0.0, \"min\": 0}, \"Number of Records Since Last Reset\": {\"count\": 1, \"max\": 0, \"sum\": 0.0, \"min\": 0}, \"Total Batches Seen\": {\"count\": 1, \"max\": 0, \"sum\": 0.0, \"min\": 0}, \"Total Records Seen\": {\"count\": 1, \"max\": 0, \"sum\": 0.0, \"min\": 0}, \"Max Records Seen Between Resets\": {\"count\": 1, \"max\": 0, \"sum\": 0.0, \"min\": 0}, \"Reset Count\": {\"count\": 1, \"max\": 85, \"sum\": 85.0, \"min\": 85}}, \"EndTime\": 1597414246.361998, \"Dimensions\": {\"Host\": \"algo-1\", \"Meta\": \"training_data_iter\", \"Operation\": \"training\", \"Algorithm\": \"AWS/Semantic Segmentation\", \"epoch\": 84}, \"StartTime\": 1597414232.974636}\n",
      "\u001b[0m\n",
      "\u001b[34m[08/14/2020 14:10:56 INFO 139936138098496] #progress_notice. epoch: 85, iterations: 20 speed: 58.0954179937 samples/sec learning_rate: 0.000035\u001b[0m\n",
      "\u001b[34m[08/14/2020 14:10:57 INFO 139936138098496] #quality_metric. host: algo-1, epoch: 85, train loss: 0.0013026070692354725 .\u001b[0m\n",
      "\u001b[34m[08/14/2020 14:10:57 INFO 139936138098496] #throughput_metric. host: algo-1, epoch: 85, train throughput: 55.7192607283 samples/sec.\u001b[0m\n",
      "\u001b[34m[08/14/2020 14:10:59 INFO 139936138098496] #quality_metric. host: algo-1, epoch: 85, validation pixel_accuracy: 1.0 .\u001b[0m\n",
      "\u001b[34m[08/14/2020 14:10:59 INFO 139936138098496] #quality_metric. host: algo-1, epoch: 85, validation mIOU: 0.5 .\u001b[0m\n",
      "\u001b[34m[08/14/2020 14:10:59 INFO 139936138098496] #throughput_metric. host: algo-1, epoch: 85, validation throughput: 100.552286276 samples/sec.\u001b[0m\n",
      "\u001b[34m[08/14/2020 14:10:59 INFO 139936138098496] Serializing model to /opt/ml/model/model_best.params\u001b[0m\n",
      "\u001b[34m[08/14/2020 14:10:59 INFO 139936138098496] #progress_metric: host=algo-1, completed 86 % of epochs\u001b[0m\n",
      "\u001b[34m#metrics {\"Metrics\": {\"Max Batches Seen Between Resets\": {\"count\": 1, \"max\": 0, \"sum\": 0.0, \"min\": 0}, \"Number of Batches Since Last Reset\": {\"count\": 1, \"max\": 0, \"sum\": 0.0, \"min\": 0}, \"Number of Records Since Last Reset\": {\"count\": 1, \"max\": 0, \"sum\": 0.0, \"min\": 0}, \"Total Batches Seen\": {\"count\": 1, \"max\": 0, \"sum\": 0.0, \"min\": 0}, \"Total Records Seen\": {\"count\": 1, \"max\": 0, \"sum\": 0.0, \"min\": 0}, \"Max Records Seen Between Resets\": {\"count\": 1, \"max\": 0, \"sum\": 0.0, \"min\": 0}, \"Reset Count\": {\"count\": 1, \"max\": 86, \"sum\": 86.0, \"min\": 86}}, \"EndTime\": 1597414259.931565, \"Dimensions\": {\"Host\": \"algo-1\", \"Meta\": \"training_data_iter\", \"Operation\": \"training\", \"Algorithm\": \"AWS/Semantic Segmentation\", \"epoch\": 85}, \"StartTime\": 1597414246.362196}\n",
      "\u001b[0m\n",
      "\u001b[34m[08/14/2020 14:11:10 INFO 139936138098496] #progress_notice. epoch: 86, iterations: 20 speed: 57.7635827627 samples/sec learning_rate: 0.000034\u001b[0m\n",
      "\u001b[34m[08/14/2020 14:11:11 INFO 139936138098496] #quality_metric. host: algo-1, epoch: 86, train loss: 0.0013174784835428 .\u001b[0m\n",
      "\u001b[34m[08/14/2020 14:11:11 INFO 139936138098496] #throughput_metric. host: algo-1, epoch: 86, train throughput: 55.4098748807 samples/sec.\u001b[0m\n",
      "\u001b[34m[08/14/2020 14:11:13 INFO 139936138098496] #quality_metric. host: algo-1, epoch: 86, validation pixel_accuracy: 1.0 .\u001b[0m\n",
      "\u001b[34m[08/14/2020 14:11:13 INFO 139936138098496] #quality_metric. host: algo-1, epoch: 86, validation mIOU: 0.5 .\u001b[0m\n",
      "\u001b[34m[08/14/2020 14:11:13 INFO 139936138098496] #throughput_metric. host: algo-1, epoch: 86, validation throughput: 96.8653042843 samples/sec.\u001b[0m\n",
      "\u001b[34m[08/14/2020 14:11:13 INFO 139936138098496] Serializing model to /opt/ml/model/model_best.params\u001b[0m\n",
      "\u001b[34m[08/14/2020 14:11:13 INFO 139936138098496] #progress_metric: host=algo-1, completed 87 % of epochs\u001b[0m\n",
      "\u001b[34m#metrics {\"Metrics\": {\"Max Batches Seen Between Resets\": {\"count\": 1, \"max\": 0, \"sum\": 0.0, \"min\": 0}, \"Number of Batches Since Last Reset\": {\"count\": 1, \"max\": 0, \"sum\": 0.0, \"min\": 0}, \"Number of Records Since Last Reset\": {\"count\": 1, \"max\": 0, \"sum\": 0.0, \"min\": 0}, \"Total Batches Seen\": {\"count\": 1, \"max\": 0, \"sum\": 0.0, \"min\": 0}, \"Total Records Seen\": {\"count\": 1, \"max\": 0, \"sum\": 0.0, \"min\": 0}, \"Max Records Seen Between Resets\": {\"count\": 1, \"max\": 0, \"sum\": 0.0, \"min\": 0}, \"Reset Count\": {\"count\": 1, \"max\": 87, \"sum\": 87.0, \"min\": 87}}, \"EndTime\": 1597414273.600186, \"Dimensions\": {\"Host\": \"algo-1\", \"Meta\": \"training_data_iter\", \"Operation\": \"training\", \"Algorithm\": \"AWS/Semantic Segmentation\", \"epoch\": 86}, \"StartTime\": 1597414259.931728}\n",
      "\u001b[0m\n"
     ]
    },
    {
     "name": "stdout",
     "output_type": "stream",
     "text": [
      "\u001b[34m[08/14/2020 14:11:24 INFO 139936138098496] #progress_notice. epoch: 87, iterations: 20 speed: 57.8366636014 samples/sec learning_rate: 0.000033\u001b[0m\n",
      "\u001b[34m[08/14/2020 14:11:24 INFO 139936138098496] #quality_metric. host: algo-1, epoch: 87, train loss: 0.0013269866520369594 .\u001b[0m\n",
      "\u001b[34m[08/14/2020 14:11:24 INFO 139936138098496] #throughput_metric. host: algo-1, epoch: 87, train throughput: 54.7656112937 samples/sec.\u001b[0m\n",
      "\u001b[34m[08/14/2020 14:11:27 INFO 139936138098496] #quality_metric. host: algo-1, epoch: 87, validation pixel_accuracy: 1.0 .\u001b[0m\n",
      "\u001b[34m[08/14/2020 14:11:27 INFO 139936138098496] #quality_metric. host: algo-1, epoch: 87, validation mIOU: 0.5 .\u001b[0m\n",
      "\u001b[34m[08/14/2020 14:11:27 INFO 139936138098496] #throughput_metric. host: algo-1, epoch: 87, validation throughput: 99.3537882326 samples/sec.\u001b[0m\n",
      "\u001b[34m[08/14/2020 14:11:27 INFO 139936138098496] Serializing model to /opt/ml/model/model_best.params\u001b[0m\n",
      "\u001b[34m[08/14/2020 14:11:27 INFO 139936138098496] #progress_metric: host=algo-1, completed 88 % of epochs\u001b[0m\n",
      "\u001b[34m#metrics {\"Metrics\": {\"Max Batches Seen Between Resets\": {\"count\": 1, \"max\": 0, \"sum\": 0.0, \"min\": 0}, \"Number of Batches Since Last Reset\": {\"count\": 1, \"max\": 0, \"sum\": 0.0, \"min\": 0}, \"Number of Records Since Last Reset\": {\"count\": 1, \"max\": 0, \"sum\": 0.0, \"min\": 0}, \"Total Batches Seen\": {\"count\": 1, \"max\": 0, \"sum\": 0.0, \"min\": 0}, \"Total Records Seen\": {\"count\": 1, \"max\": 0, \"sum\": 0.0, \"min\": 0}, \"Max Records Seen Between Resets\": {\"count\": 1, \"max\": 0, \"sum\": 0.0, \"min\": 0}, \"Reset Count\": {\"count\": 1, \"max\": 88, \"sum\": 88.0, \"min\": 88}}, \"EndTime\": 1597414287.25371, \"Dimensions\": {\"Host\": \"algo-1\", \"Meta\": \"training_data_iter\", \"Operation\": \"training\", \"Algorithm\": \"AWS/Semantic Segmentation\", \"epoch\": 87}, \"StartTime\": 1597414273.600364}\n",
      "\u001b[0m\n",
      "\u001b[34m[08/14/2020 14:11:37 INFO 139936138098496] #progress_notice. epoch: 88, iterations: 20 speed: 58.0278029736 samples/sec learning_rate: 0.000033\u001b[0m\n",
      "\u001b[34m[08/14/2020 14:11:38 INFO 139936138098496] #quality_metric. host: algo-1, epoch: 88, train loss: 0.001334272613305421 .\u001b[0m\n",
      "\u001b[34m[08/14/2020 14:11:38 INFO 139936138098496] #throughput_metric. host: algo-1, epoch: 88, train throughput: 57.3933808202 samples/sec.\u001b[0m\n",
      "\u001b[34m[08/14/2020 14:11:40 INFO 139936138098496] #quality_metric. host: algo-1, epoch: 88, validation pixel_accuracy: 1.0 .\u001b[0m\n",
      "\u001b[34m[08/14/2020 14:11:40 INFO 139936138098496] #quality_metric. host: algo-1, epoch: 88, validation mIOU: 0.5 .\u001b[0m\n",
      "\u001b[34m[08/14/2020 14:11:40 INFO 139936138098496] #throughput_metric. host: algo-1, epoch: 88, validation throughput: 100.927210563 samples/sec.\u001b[0m\n",
      "\u001b[34m[08/14/2020 14:11:40 INFO 139936138098496] Serializing model to /opt/ml/model/model_best.params\u001b[0m\n",
      "\u001b[34m[08/14/2020 14:11:40 INFO 139936138098496] #progress_metric: host=algo-1, completed 89 % of epochs\u001b[0m\n",
      "\u001b[34m#metrics {\"Metrics\": {\"Max Batches Seen Between Resets\": {\"count\": 1, \"max\": 0, \"sum\": 0.0, \"min\": 0}, \"Number of Batches Since Last Reset\": {\"count\": 1, \"max\": 0, \"sum\": 0.0, \"min\": 0}, \"Number of Records Since Last Reset\": {\"count\": 1, \"max\": 0, \"sum\": 0.0, \"min\": 0}, \"Total Batches Seen\": {\"count\": 1, \"max\": 0, \"sum\": 0.0, \"min\": 0}, \"Total Records Seen\": {\"count\": 1, \"max\": 0, \"sum\": 0.0, \"min\": 0}, \"Max Records Seen Between Resets\": {\"count\": 1, \"max\": 0, \"sum\": 0.0, \"min\": 0}, \"Reset Count\": {\"count\": 1, \"max\": 89, \"sum\": 89.0, \"min\": 89}}, \"EndTime\": 1597414300.474962, \"Dimensions\": {\"Host\": \"algo-1\", \"Meta\": \"training_data_iter\", \"Operation\": \"training\", \"Algorithm\": \"AWS/Semantic Segmentation\", \"epoch\": 88}, \"StartTime\": 1597414287.25387}\n",
      "\u001b[0m\n",
      "\u001b[34m[08/14/2020 14:11:51 INFO 139936138098496] #progress_notice. epoch: 89, iterations: 20 speed: 57.7679584263 samples/sec learning_rate: 0.000032\u001b[0m\n",
      "\u001b[34m[08/14/2020 14:11:51 INFO 139936138098496] #quality_metric. host: algo-1, epoch: 89, train loss: 0.0013497701835479927 .\u001b[0m\n",
      "\u001b[34m[08/14/2020 14:11:51 INFO 139936138098496] #throughput_metric. host: algo-1, epoch: 89, train throughput: 56.0701926445 samples/sec.\u001b[0m\n",
      "\u001b[34m[08/14/2020 14:11:54 INFO 139936138098496] #quality_metric. host: algo-1, epoch: 89, validation pixel_accuracy: 1.0 .\u001b[0m\n",
      "\u001b[34m[08/14/2020 14:11:54 INFO 139936138098496] #quality_metric. host: algo-1, epoch: 89, validation mIOU: 0.5 .\u001b[0m\n",
      "\u001b[34m[08/14/2020 14:11:54 INFO 139936138098496] #throughput_metric. host: algo-1, epoch: 89, validation throughput: 100.069259856 samples/sec.\u001b[0m\n",
      "\u001b[34m[08/14/2020 14:11:54 INFO 139936138098496] Serializing model to /opt/ml/model/model_best.params\u001b[0m\n",
      "\u001b[34m[08/14/2020 14:11:54 INFO 139936138098496] #progress_metric: host=algo-1, completed 90 % of epochs\u001b[0m\n",
      "\u001b[34m#metrics {\"Metrics\": {\"Max Batches Seen Between Resets\": {\"count\": 1, \"max\": 0, \"sum\": 0.0, \"min\": 0}, \"Number of Batches Since Last Reset\": {\"count\": 1, \"max\": 0, \"sum\": 0.0, \"min\": 0}, \"Number of Records Since Last Reset\": {\"count\": 1, \"max\": 0, \"sum\": 0.0, \"min\": 0}, \"Total Batches Seen\": {\"count\": 1, \"max\": 0, \"sum\": 0.0, \"min\": 0}, \"Total Records Seen\": {\"count\": 1, \"max\": 0, \"sum\": 0.0, \"min\": 0}, \"Max Records Seen Between Resets\": {\"count\": 1, \"max\": 0, \"sum\": 0.0, \"min\": 0}, \"Reset Count\": {\"count\": 1, \"max\": 90, \"sum\": 90.0, \"min\": 90}}, \"EndTime\": 1597414314.470125, \"Dimensions\": {\"Host\": \"algo-1\", \"Meta\": \"training_data_iter\", \"Operation\": \"training\", \"Algorithm\": \"AWS/Semantic Segmentation\", \"epoch\": 89}, \"StartTime\": 1597414300.475135}\n",
      "\u001b[0m\n",
      "\u001b[34m[08/14/2020 14:12:04 INFO 139936138098496] #progress_notice. epoch: 90, iterations: 20 speed: 57.6244549584 samples/sec learning_rate: 0.000031\u001b[0m\n",
      "\u001b[34m[08/14/2020 14:12:05 INFO 139936138098496] #quality_metric. host: algo-1, epoch: 90, train loss: 0.0013515574003880222 .\u001b[0m\n",
      "\u001b[34m[08/14/2020 14:12:05 INFO 139936138098496] #throughput_metric. host: algo-1, epoch: 90, train throughput: 54.8436038685 samples/sec.\u001b[0m\n",
      "\u001b[34m[08/14/2020 14:12:07 INFO 139936138098496] #quality_metric. host: algo-1, epoch: 90, validation pixel_accuracy: 1.0 .\u001b[0m\n",
      "\u001b[34m[08/14/2020 14:12:07 INFO 139936138098496] #quality_metric. host: algo-1, epoch: 90, validation mIOU: 0.5 .\u001b[0m\n",
      "\u001b[34m[08/14/2020 14:12:07 INFO 139936138098496] #throughput_metric. host: algo-1, epoch: 90, validation throughput: 100.278777029 samples/sec.\u001b[0m\n",
      "\u001b[34m[08/14/2020 14:12:07 INFO 139936138098496] Serializing model to /opt/ml/model/model_best.params\u001b[0m\n",
      "\u001b[34m[08/14/2020 14:12:07 INFO 139936138098496] #progress_metric: host=algo-1, completed 91 % of epochs\u001b[0m\n",
      "\u001b[34m#metrics {\"Metrics\": {\"Max Batches Seen Between Resets\": {\"count\": 1, \"max\": 0, \"sum\": 0.0, \"min\": 0}, \"Number of Batches Since Last Reset\": {\"count\": 1, \"max\": 0, \"sum\": 0.0, \"min\": 0}, \"Number of Records Since Last Reset\": {\"count\": 1, \"max\": 0, \"sum\": 0.0, \"min\": 0}, \"Total Batches Seen\": {\"count\": 1, \"max\": 0, \"sum\": 0.0, \"min\": 0}, \"Total Records Seen\": {\"count\": 1, \"max\": 0, \"sum\": 0.0, \"min\": 0}, \"Max Records Seen Between Resets\": {\"count\": 1, \"max\": 0, \"sum\": 0.0, \"min\": 0}, \"Reset Count\": {\"count\": 1, \"max\": 91, \"sum\": 91.0, \"min\": 91}}, \"EndTime\": 1597414327.86508, \"Dimensions\": {\"Host\": \"algo-1\", \"Meta\": \"training_data_iter\", \"Operation\": \"training\", \"Algorithm\": \"AWS/Semantic Segmentation\", \"epoch\": 90}, \"StartTime\": 1597414314.470279}\n",
      "\u001b[0m\n",
      "\u001b[34m[08/14/2020 14:12:18 INFO 139936138098496] #progress_notice. epoch: 91, iterations: 20 speed: 57.9629984073 samples/sec learning_rate: 0.000030\u001b[0m\n",
      "\u001b[34m[08/14/2020 14:12:19 INFO 139936138098496] #quality_metric. host: algo-1, epoch: 91, train loss: 0.0013568734231574292 .\u001b[0m\n",
      "\u001b[34m[08/14/2020 14:12:19 INFO 139936138098496] #throughput_metric. host: algo-1, epoch: 91, train throughput: 56.5813008669 samples/sec.\u001b[0m\n",
      "\u001b[34m[08/14/2020 14:12:21 INFO 139936138098496] #quality_metric. host: algo-1, epoch: 91, validation pixel_accuracy: 1.0 .\u001b[0m\n",
      "\u001b[34m[08/14/2020 14:12:21 INFO 139936138098496] #quality_metric. host: algo-1, epoch: 91, validation mIOU: 0.5 .\u001b[0m\n",
      "\u001b[34m[08/14/2020 14:12:21 INFO 139936138098496] #throughput_metric. host: algo-1, epoch: 91, validation throughput: 100.080676343 samples/sec.\u001b[0m\n",
      "\u001b[34m[08/14/2020 14:12:21 INFO 139936138098496] Serializing model to /opt/ml/model/model_best.params\u001b[0m\n",
      "\u001b[34m[08/14/2020 14:12:21 INFO 139936138098496] #progress_metric: host=algo-1, completed 92 % of epochs\u001b[0m\n",
      "\u001b[34m#metrics {\"Metrics\": {\"Max Batches Seen Between Resets\": {\"count\": 1, \"max\": 0, \"sum\": 0.0, \"min\": 0}, \"Number of Batches Since Last Reset\": {\"count\": 1, \"max\": 0, \"sum\": 0.0, \"min\": 0}, \"Number of Records Since Last Reset\": {\"count\": 1, \"max\": 0, \"sum\": 0.0, \"min\": 0}, \"Total Batches Seen\": {\"count\": 1, \"max\": 0, \"sum\": 0.0, \"min\": 0}, \"Total Records Seen\": {\"count\": 1, \"max\": 0, \"sum\": 0.0, \"min\": 0}, \"Max Records Seen Between Resets\": {\"count\": 1, \"max\": 0, \"sum\": 0.0, \"min\": 0}, \"Reset Count\": {\"count\": 1, \"max\": 92, \"sum\": 92.0, \"min\": 92}}, \"EndTime\": 1597414341.909192, \"Dimensions\": {\"Host\": \"algo-1\", \"Meta\": \"training_data_iter\", \"Operation\": \"training\", \"Algorithm\": \"AWS/Semantic Segmentation\", \"epoch\": 91}, \"StartTime\": 1597414327.865226}\n",
      "\u001b[0m\n"
     ]
    },
    {
     "name": "stdout",
     "output_type": "stream",
     "text": [
      "\u001b[34m[08/14/2020 14:12:32 INFO 139936138098496] #progress_notice. epoch: 92, iterations: 20 speed: 58.0111494631 samples/sec learning_rate: 0.000029\u001b[0m\n",
      "\u001b[34m[08/14/2020 14:12:33 INFO 139936138098496] #quality_metric. host: algo-1, epoch: 92, train loss: 0.001385182364505123 .\u001b[0m\n",
      "\u001b[34m[08/14/2020 14:12:33 INFO 139936138098496] #throughput_metric. host: algo-1, epoch: 92, train throughput: 55.7326033963 samples/sec.\u001b[0m\n",
      "\u001b[34m[08/14/2020 14:12:35 INFO 139936138098496] #quality_metric. host: algo-1, epoch: 92, validation pixel_accuracy: 1.0 .\u001b[0m\n",
      "\u001b[34m[08/14/2020 14:12:35 INFO 139936138098496] #quality_metric. host: algo-1, epoch: 92, validation mIOU: 0.5 .\u001b[0m\n",
      "\u001b[34m[08/14/2020 14:12:35 INFO 139936138098496] #throughput_metric. host: algo-1, epoch: 92, validation throughput: 100.611843103 samples/sec.\u001b[0m\n",
      "\u001b[34m[08/14/2020 14:12:35 INFO 139936138098496] Serializing model to /opt/ml/model/model_best.params\u001b[0m\n",
      "\u001b[34m[08/14/2020 14:12:35 INFO 139936138098496] #progress_metric: host=algo-1, completed 93 % of epochs\u001b[0m\n",
      "\u001b[34m#metrics {\"Metrics\": {\"Max Batches Seen Between Resets\": {\"count\": 1, \"max\": 0, \"sum\": 0.0, \"min\": 0}, \"Number of Batches Since Last Reset\": {\"count\": 1, \"max\": 0, \"sum\": 0.0, \"min\": 0}, \"Number of Records Since Last Reset\": {\"count\": 1, \"max\": 0, \"sum\": 0.0, \"min\": 0}, \"Total Batches Seen\": {\"count\": 1, \"max\": 0, \"sum\": 0.0, \"min\": 0}, \"Total Records Seen\": {\"count\": 1, \"max\": 0, \"sum\": 0.0, \"min\": 0}, \"Max Records Seen Between Resets\": {\"count\": 1, \"max\": 0, \"sum\": 0.0, \"min\": 0}, \"Reset Count\": {\"count\": 1, \"max\": 93, \"sum\": 93.0, \"min\": 93}}, \"EndTime\": 1597414355.420116, \"Dimensions\": {\"Host\": \"algo-1\", \"Meta\": \"training_data_iter\", \"Operation\": \"training\", \"Algorithm\": \"AWS/Semantic Segmentation\", \"epoch\": 92}, \"StartTime\": 1597414341.909351}\n",
      "\u001b[0m\n",
      "\u001b[34m[08/14/2020 14:12:45 INFO 139936138098496] #progress_notice. epoch: 93, iterations: 20 speed: 58.1642998108 samples/sec learning_rate: 0.000028\u001b[0m\n",
      "\u001b[34m[08/14/2020 14:12:46 INFO 139936138098496] #quality_metric. host: algo-1, epoch: 93, train loss: 0.0013649431389889546 .\u001b[0m\n",
      "\u001b[34m[08/14/2020 14:12:46 INFO 139936138098496] #throughput_metric. host: algo-1, epoch: 93, train throughput: 56.7304999015 samples/sec.\u001b[0m\n",
      "\u001b[34m[08/14/2020 14:12:48 INFO 139936138098496] #quality_metric. host: algo-1, epoch: 93, validation pixel_accuracy: 1.0 .\u001b[0m\n",
      "\u001b[34m[08/14/2020 14:12:48 INFO 139936138098496] #quality_metric. host: algo-1, epoch: 93, validation mIOU: 0.5 .\u001b[0m\n",
      "\u001b[34m[08/14/2020 14:12:48 INFO 139936138098496] #throughput_metric. host: algo-1, epoch: 93, validation throughput: 101.169040031 samples/sec.\u001b[0m\n",
      "\u001b[34m[08/14/2020 14:12:48 INFO 139936138098496] Serializing model to /opt/ml/model/model_best.params\u001b[0m\n",
      "\u001b[34m[08/14/2020 14:12:48 INFO 139936138098496] #progress_metric: host=algo-1, completed 94 % of epochs\u001b[0m\n",
      "\u001b[34m#metrics {\"Metrics\": {\"Max Batches Seen Between Resets\": {\"count\": 1, \"max\": 0, \"sum\": 0.0, \"min\": 0}, \"Number of Batches Since Last Reset\": {\"count\": 1, \"max\": 0, \"sum\": 0.0, \"min\": 0}, \"Number of Records Since Last Reset\": {\"count\": 1, \"max\": 0, \"sum\": 0.0, \"min\": 0}, \"Total Batches Seen\": {\"count\": 1, \"max\": 0, \"sum\": 0.0, \"min\": 0}, \"Total Records Seen\": {\"count\": 1, \"max\": 0, \"sum\": 0.0, \"min\": 0}, \"Max Records Seen Between Resets\": {\"count\": 1, \"max\": 0, \"sum\": 0.0, \"min\": 0}, \"Reset Count\": {\"count\": 1, \"max\": 94, \"sum\": 94.0, \"min\": 94}}, \"EndTime\": 1597414368.940236, \"Dimensions\": {\"Host\": \"algo-1\", \"Meta\": \"training_data_iter\", \"Operation\": \"training\", \"Algorithm\": \"AWS/Semantic Segmentation\", \"epoch\": 93}, \"StartTime\": 1597414355.420287}\n",
      "\u001b[0m\n",
      "\u001b[34m[08/14/2020 14:12:59 INFO 139936138098496] #progress_notice. epoch: 94, iterations: 20 speed: 57.8597014282 samples/sec learning_rate: 0.000028\u001b[0m\n",
      "\u001b[34m[08/14/2020 14:13:00 INFO 139936138098496] #quality_metric. host: algo-1, epoch: 94, train loss: 0.0013795990592122755 .\u001b[0m\n",
      "\u001b[34m[08/14/2020 14:13:00 INFO 139936138098496] #throughput_metric. host: algo-1, epoch: 94, train throughput: 55.941460875 samples/sec.\u001b[0m\n",
      "\u001b[34m[08/14/2020 14:13:02 INFO 139936138098496] #quality_metric. host: algo-1, epoch: 94, validation pixel_accuracy: 1.0 .\u001b[0m\n",
      "\u001b[34m[08/14/2020 14:13:02 INFO 139936138098496] #quality_metric. host: algo-1, epoch: 94, validation mIOU: 0.5 .\u001b[0m\n",
      "\u001b[34m[08/14/2020 14:13:02 INFO 139936138098496] #throughput_metric. host: algo-1, epoch: 94, validation throughput: 100.09928657 samples/sec.\u001b[0m\n",
      "\u001b[34m[08/14/2020 14:13:02 INFO 139936138098496] Serializing model to /opt/ml/model/model_best.params\u001b[0m\n",
      "\u001b[34m[08/14/2020 14:13:02 INFO 139936138098496] #progress_metric: host=algo-1, completed 95 % of epochs\u001b[0m\n",
      "\u001b[34m#metrics {\"Metrics\": {\"Max Batches Seen Between Resets\": {\"count\": 1, \"max\": 0, \"sum\": 0.0, \"min\": 0}, \"Number of Batches Since Last Reset\": {\"count\": 1, \"max\": 0, \"sum\": 0.0, \"min\": 0}, \"Number of Records Since Last Reset\": {\"count\": 1, \"max\": 0, \"sum\": 0.0, \"min\": 0}, \"Total Batches Seen\": {\"count\": 1, \"max\": 0, \"sum\": 0.0, \"min\": 0}, \"Total Records Seen\": {\"count\": 1, \"max\": 0, \"sum\": 0.0, \"min\": 0}, \"Max Records Seen Between Resets\": {\"count\": 1, \"max\": 0, \"sum\": 0.0, \"min\": 0}, \"Reset Count\": {\"count\": 1, \"max\": 95, \"sum\": 95.0, \"min\": 95}}, \"EndTime\": 1597414382.953751, \"Dimensions\": {\"Host\": \"algo-1\", \"Meta\": \"training_data_iter\", \"Operation\": \"training\", \"Algorithm\": \"AWS/Semantic Segmentation\", \"epoch\": 94}, \"StartTime\": 1597414368.940379}\n",
      "\u001b[0m\n",
      "\u001b[34m[08/14/2020 14:13:13 INFO 139936138098496] #progress_notice. epoch: 95, iterations: 20 speed: 57.7229903269 samples/sec learning_rate: 0.000027\u001b[0m\n",
      "\u001b[34m[08/14/2020 14:13:14 INFO 139936138098496] #quality_metric. host: algo-1, epoch: 95, train loss: 0.001396765943023969 .\u001b[0m\n",
      "\u001b[34m[08/14/2020 14:13:14 INFO 139936138098496] #throughput_metric. host: algo-1, epoch: 95, train throughput: 54.0432420608 samples/sec.\u001b[0m\n",
      "\u001b[34m[08/14/2020 14:13:16 INFO 139936138098496] #quality_metric. host: algo-1, epoch: 95, validation pixel_accuracy: 1.0 .\u001b[0m\n",
      "\u001b[34m[08/14/2020 14:13:16 INFO 139936138098496] #quality_metric. host: algo-1, epoch: 95, validation mIOU: 0.5 .\u001b[0m\n",
      "\u001b[34m[08/14/2020 14:13:16 INFO 139936138098496] #throughput_metric. host: algo-1, epoch: 95, validation throughput: 100.223814573 samples/sec.\u001b[0m\n",
      "\u001b[34m[08/14/2020 14:13:16 INFO 139936138098496] Serializing model to /opt/ml/model/model_best.params\u001b[0m\n",
      "\u001b[34m[08/14/2020 14:13:16 INFO 139936138098496] #progress_metric: host=algo-1, completed 96 % of epochs\u001b[0m\n",
      "\u001b[34m#metrics {\"Metrics\": {\"Max Batches Seen Between Resets\": {\"count\": 1, \"max\": 0, \"sum\": 0.0, \"min\": 0}, \"Number of Batches Since Last Reset\": {\"count\": 1, \"max\": 0, \"sum\": 0.0, \"min\": 0}, \"Number of Records Since Last Reset\": {\"count\": 1, \"max\": 0, \"sum\": 0.0, \"min\": 0}, \"Total Batches Seen\": {\"count\": 1, \"max\": 0, \"sum\": 0.0, \"min\": 0}, \"Total Records Seen\": {\"count\": 1, \"max\": 0, \"sum\": 0.0, \"min\": 0}, \"Max Records Seen Between Resets\": {\"count\": 1, \"max\": 0, \"sum\": 0.0, \"min\": 0}, \"Reset Count\": {\"count\": 1, \"max\": 96, \"sum\": 96.0, \"min\": 96}}, \"EndTime\": 1597414396.662072, \"Dimensions\": {\"Host\": \"algo-1\", \"Meta\": \"training_data_iter\", \"Operation\": \"training\", \"Algorithm\": \"AWS/Semantic Segmentation\", \"epoch\": 95}, \"StartTime\": 1597414382.953909}\n",
      "\u001b[0m\n",
      "\u001b[34m[08/14/2020 14:13:27 INFO 139936138098496] #progress_notice. epoch: 96, iterations: 20 speed: 57.9947560999 samples/sec learning_rate: 0.000026\u001b[0m\n",
      "\u001b[34m[08/14/2020 14:13:27 INFO 139936138098496] #quality_metric. host: algo-1, epoch: 96, train loss: 0.0014042905698131239 .\u001b[0m\n",
      "\u001b[34m[08/14/2020 14:13:27 INFO 139936138098496] #throughput_metric. host: algo-1, epoch: 96, train throughput: 56.5218844075 samples/sec.\u001b[0m\n",
      "\u001b[34m[08/14/2020 14:13:29 INFO 139936138098496] #quality_metric. host: algo-1, epoch: 96, validation pixel_accuracy: 1.0 .\u001b[0m\n",
      "\u001b[34m[08/14/2020 14:13:29 INFO 139936138098496] #quality_metric. host: algo-1, epoch: 96, validation mIOU: 0.5 .\u001b[0m\n",
      "\u001b[34m[08/14/2020 14:13:29 INFO 139936138098496] #throughput_metric. host: algo-1, epoch: 96, validation throughput: 100.440809563 samples/sec.\u001b[0m\n",
      "\u001b[34m[08/14/2020 14:13:29 INFO 139936138098496] Serializing model to /opt/ml/model/model_best.params\u001b[0m\n",
      "\u001b[34m[08/14/2020 14:13:29 INFO 139936138098496] #progress_metric: host=algo-1, completed 97 % of epochs\u001b[0m\n",
      "\u001b[34m#metrics {\"Metrics\": {\"Max Batches Seen Between Resets\": {\"count\": 1, \"max\": 0, \"sum\": 0.0, \"min\": 0}, \"Number of Batches Since Last Reset\": {\"count\": 1, \"max\": 0, \"sum\": 0.0, \"min\": 0}, \"Number of Records Since Last Reset\": {\"count\": 1, \"max\": 0, \"sum\": 0.0, \"min\": 0}, \"Total Batches Seen\": {\"count\": 1, \"max\": 0, \"sum\": 0.0, \"min\": 0}, \"Total Records Seen\": {\"count\": 1, \"max\": 0, \"sum\": 0.0, \"min\": 0}, \"Max Records Seen Between Resets\": {\"count\": 1, \"max\": 0, \"sum\": 0.0, \"min\": 0}, \"Reset Count\": {\"count\": 1, \"max\": 97, \"sum\": 97.0, \"min\": 97}}, \"EndTime\": 1597414409.726819, \"Dimensions\": {\"Host\": \"algo-1\", \"Meta\": \"training_data_iter\", \"Operation\": \"training\", \"Algorithm\": \"AWS/Semantic Segmentation\", \"epoch\": 96}, \"StartTime\": 1597414396.662245}\n",
      "\u001b[0m\n"
     ]
    },
    {
     "name": "stdout",
     "output_type": "stream",
     "text": [
      "\u001b[34m[08/14/2020 14:13:40 INFO 139936138098496] #progress_notice. epoch: 97, iterations: 20 speed: 57.8846049013 samples/sec learning_rate: 0.000025\u001b[0m\n",
      "\u001b[34m[08/14/2020 14:13:40 INFO 139936138098496] #quality_metric. host: algo-1, epoch: 97, train loss: 0.0014008799123323777 .\u001b[0m\n",
      "\u001b[34m[08/14/2020 14:13:40 INFO 139936138098496] #throughput_metric. host: algo-1, epoch: 97, train throughput: 55.2441443965 samples/sec.\u001b[0m\n",
      "\u001b[34m[08/14/2020 14:13:43 INFO 139936138098496] #quality_metric. host: algo-1, epoch: 97, validation pixel_accuracy: 1.0 .\u001b[0m\n",
      "\u001b[34m[08/14/2020 14:13:43 INFO 139936138098496] #quality_metric. host: algo-1, epoch: 97, validation mIOU: 0.5 .\u001b[0m\n",
      "\u001b[34m[08/14/2020 14:13:43 INFO 139936138098496] #throughput_metric. host: algo-1, epoch: 97, validation throughput: 101.262516944 samples/sec.\u001b[0m\n",
      "\u001b[34m[08/14/2020 14:13:43 INFO 139936138098496] Serializing model to /opt/ml/model/model_best.params\u001b[0m\n",
      "\u001b[34m[08/14/2020 14:13:43 INFO 139936138098496] #progress_metric: host=algo-1, completed 98 % of epochs\u001b[0m\n",
      "\u001b[34m#metrics {\"Metrics\": {\"Max Batches Seen Between Resets\": {\"count\": 1, \"max\": 0, \"sum\": 0.0, \"min\": 0}, \"Number of Batches Since Last Reset\": {\"count\": 1, \"max\": 0, \"sum\": 0.0, \"min\": 0}, \"Number of Records Since Last Reset\": {\"count\": 1, \"max\": 0, \"sum\": 0.0, \"min\": 0}, \"Total Batches Seen\": {\"count\": 1, \"max\": 0, \"sum\": 0.0, \"min\": 0}, \"Total Records Seen\": {\"count\": 1, \"max\": 0, \"sum\": 0.0, \"min\": 0}, \"Max Records Seen Between Resets\": {\"count\": 1, \"max\": 0, \"sum\": 0.0, \"min\": 0}, \"Reset Count\": {\"count\": 1, \"max\": 98, \"sum\": 98.0, \"min\": 98}}, \"EndTime\": 1597414423.576608, \"Dimensions\": {\"Host\": \"algo-1\", \"Meta\": \"training_data_iter\", \"Operation\": \"training\", \"Algorithm\": \"AWS/Semantic Segmentation\", \"epoch\": 97}, \"StartTime\": 1597414409.726961}\n",
      "\u001b[0m\n",
      "\u001b[34m[08/14/2020 14:13:54 INFO 139936138098496] #progress_notice. epoch: 98, iterations: 20 speed: 57.9731130128 samples/sec learning_rate: 0.000024\u001b[0m\n",
      "\u001b[34m[08/14/2020 14:13:54 INFO 139936138098496] #quality_metric. host: algo-1, epoch: 98, train loss: 0.0014153665120136879 .\u001b[0m\n",
      "\u001b[34m[08/14/2020 14:13:54 INFO 139936138098496] #throughput_metric. host: algo-1, epoch: 98, train throughput: 57.2975809393 samples/sec.\u001b[0m\n",
      "\u001b[34m[08/14/2020 14:13:57 INFO 139936138098496] #quality_metric. host: algo-1, epoch: 98, validation pixel_accuracy: 1.0 .\u001b[0m\n",
      "\u001b[34m[08/14/2020 14:13:57 INFO 139936138098496] #quality_metric. host: algo-1, epoch: 98, validation mIOU: 0.5 .\u001b[0m\n",
      "\u001b[34m[08/14/2020 14:13:57 INFO 139936138098496] #throughput_metric. host: algo-1, epoch: 98, validation throughput: 100.27945133 samples/sec.\u001b[0m\n",
      "\u001b[34m[08/14/2020 14:13:57 INFO 139936138098496] Serializing model to /opt/ml/model/model_best.params\u001b[0m\n",
      "\u001b[34m[08/14/2020 14:13:57 INFO 139936138098496] #progress_metric: host=algo-1, completed 99 % of epochs\u001b[0m\n",
      "\u001b[34m#metrics {\"Metrics\": {\"Max Batches Seen Between Resets\": {\"count\": 1, \"max\": 0, \"sum\": 0.0, \"min\": 0}, \"Number of Batches Since Last Reset\": {\"count\": 1, \"max\": 0, \"sum\": 0.0, \"min\": 0}, \"Number of Records Since Last Reset\": {\"count\": 1, \"max\": 0, \"sum\": 0.0, \"min\": 0}, \"Total Batches Seen\": {\"count\": 1, \"max\": 0, \"sum\": 0.0, \"min\": 0}, \"Total Records Seen\": {\"count\": 1, \"max\": 0, \"sum\": 0.0, \"min\": 0}, \"Max Records Seen Between Resets\": {\"count\": 1, \"max\": 0, \"sum\": 0.0, \"min\": 0}, \"Reset Count\": {\"count\": 1, \"max\": 99, \"sum\": 99.0, \"min\": 99}}, \"EndTime\": 1597414437.274822, \"Dimensions\": {\"Host\": \"algo-1\", \"Meta\": \"training_data_iter\", \"Operation\": \"training\", \"Algorithm\": \"AWS/Semantic Segmentation\", \"epoch\": 98}, \"StartTime\": 1597414423.576784}\n",
      "\u001b[0m\n",
      "\u001b[34m[08/14/2020 14:14:07 INFO 139936138098496] #progress_notice. epoch: 99, iterations: 20 speed: 57.7698481224 samples/sec learning_rate: 0.000023\u001b[0m\n",
      "\u001b[34m[08/14/2020 14:14:08 INFO 139936138098496] #quality_metric. host: algo-1, epoch: 99, train loss: 0.0014118475373834372 .\u001b[0m\n",
      "\u001b[34m[08/14/2020 14:14:08 INFO 139936138098496] #throughput_metric. host: algo-1, epoch: 99, train throughput: 55.870066765 samples/sec.\u001b[0m\n",
      "\u001b[34m[08/14/2020 14:14:10 INFO 139936138098496] #quality_metric. host: algo-1, epoch: 99, validation pixel_accuracy: 1.0 .\u001b[0m\n",
      "\u001b[34m[08/14/2020 14:14:10 INFO 139936138098496] #quality_metric. host: algo-1, epoch: 99, validation mIOU: 0.5 .\u001b[0m\n",
      "\u001b[34m[08/14/2020 14:14:10 INFO 139936138098496] #throughput_metric. host: algo-1, epoch: 99, validation throughput: 99.7315292551 samples/sec.\u001b[0m\n",
      "\u001b[34m[08/14/2020 14:14:10 INFO 139936138098496] Serializing model to /opt/ml/model/model_best.params\u001b[0m\n",
      "\u001b[34m[08/14/2020 14:14:11 INFO 139936138098496] #progress_metric: host=algo-1, completed 100 % of epochs\u001b[0m\n",
      "\u001b[34m#metrics {\"Metrics\": {\"Max Batches Seen Between Resets\": {\"count\": 1, \"max\": 0, \"sum\": 0.0, \"min\": 0}, \"Number of Batches Since Last Reset\": {\"count\": 1, \"max\": 0, \"sum\": 0.0, \"min\": 0}, \"Number of Records Since Last Reset\": {\"count\": 1, \"max\": 0, \"sum\": 0.0, \"min\": 0}, \"Total Batches Seen\": {\"count\": 1, \"max\": 0, \"sum\": 0.0, \"min\": 0}, \"Total Records Seen\": {\"count\": 1, \"max\": 0, \"sum\": 0.0, \"min\": 0}, \"Max Records Seen Between Resets\": {\"count\": 1, \"max\": 0, \"sum\": 0.0, \"min\": 0}, \"Reset Count\": {\"count\": 1, \"max\": 100, \"sum\": 100.0, \"min\": 100}}, \"EndTime\": 1597414451.070191, \"Dimensions\": {\"Host\": \"algo-1\", \"Meta\": \"training_data_iter\", \"Operation\": \"training\", \"Algorithm\": \"AWS/Semantic Segmentation\", \"epoch\": 99}, \"StartTime\": 1597414437.274982}\n",
      "\u001b[0m\n",
      "\u001b[34m[08/14/2020 14:14:11 WARNING 139936138098496] wait_for_all_workers will not sync workers since the kv store is not running distributed\u001b[0m\n",
      "\u001b[34m[08/14/2020 14:14:11 INFO 139936138098496] Serializing model to /opt/ml/model/model_algo-1\u001b[0m\n",
      "\u001b[34m[08/14/2020 14:14:11 INFO 139936138098496] Test data is not provided.\u001b[0m\n",
      "\u001b[34m#metrics {\"Metrics\": {\"epochs\": {\"count\": 1, \"max\": 100, \"sum\": 100.0, \"min\": 100}, \"totaltime\": {\"count\": 1, \"max\": 1370563.6360645294, \"sum\": 1370563.6360645294, \"min\": 1370563.6360645294}, \"setuptime\": {\"count\": 1, \"max\": 19.025087356567383, \"sum\": 19.025087356567383, \"min\": 19.025087356567383}}, \"EndTime\": 1597414451.438444, \"Dimensions\": {\"Host\": \"algo-1\", \"Operation\": \"training\", \"Algorithm\": \"AWS/Semantic Segmentation\"}, \"StartTime\": 1597413082.275671}\n",
      "\u001b[0m\n",
      "\n",
      "2020-08-14 14:14:15 Uploading - Uploading generated training model\n",
      "2020-08-14 14:14:57 Completed - Training job completed\n",
      "Training seconds: 1510\n",
      "Billable seconds: 1510\n"
     ]
    }
   ],
   "source": [
    "model.fit(inputs=data_channels, logs=True)\n"
   ]
  },
  {
   "cell_type": "code",
   "execution_count": 80,
   "metadata": {},
   "outputs": [
    {
     "name": "stderr",
     "output_type": "stream",
     "text": [
      "Parameter image will be renamed to image_uri in SageMaker Python SDK v2.\n",
      "Using already existing model: semantic-segmentation-2020-08-14-13-46-53-942\n"
     ]
    },
    {
     "ename": "ClientError",
     "evalue": "An error occurred (ValidationException) when calling the CreateEndpoint operation: Cannot create already existing endpoint \"arn:aws:sagemaker:us-east-1:805318928011:endpoint/semantic-segmentation-2020-08-14-13-46-53-942\".",
     "output_type": "error",
     "traceback": [
      "\u001b[0;31m---------------------------------------------------------------------------\u001b[0m",
      "\u001b[0;31mClientError\u001b[0m                               Traceback (most recent call last)",
      "\u001b[0;32m<ipython-input-80-34b8c51d8416>\u001b[0m in \u001b[0;36m<module>\u001b[0;34m\u001b[0m\n\u001b[0;32m----> 1\u001b[0;31m \u001b[0mdeployed_model\u001b[0m \u001b[0;34m=\u001b[0m \u001b[0mmodel\u001b[0m\u001b[0;34m.\u001b[0m\u001b[0mdeploy\u001b[0m\u001b[0;34m(\u001b[0m\u001b[0minitial_instance_count\u001b[0m\u001b[0;34m=\u001b[0m\u001b[0;36m1\u001b[0m\u001b[0;34m,\u001b[0m \u001b[0minstance_type\u001b[0m\u001b[0;34m=\u001b[0m\u001b[0;34m'ml.m4.xlarge'\u001b[0m\u001b[0;34m)\u001b[0m\u001b[0;34m\u001b[0m\u001b[0;34m\u001b[0m\u001b[0m\n\u001b[0m\u001b[1;32m      2\u001b[0m \u001b[0mprint\u001b[0m\u001b[0;34m(\u001b[0m\u001b[0;34m'\\nModel deployed!'\u001b[0m\u001b[0;34m)\u001b[0m\u001b[0;34m\u001b[0m\u001b[0;34m\u001b[0m\u001b[0m\n",
      "\u001b[0;32m~/anaconda3/envs/tensorflow2_p36/lib/python3.6/site-packages/sagemaker/estimator.py\u001b[0m in \u001b[0;36mdeploy\u001b[0;34m(self, initial_instance_count, instance_type, accelerator_type, endpoint_name, use_compiled_model, update_endpoint, wait, model_name, kms_key, data_capture_config, tags, **kwargs)\u001b[0m\n\u001b[1;32m    720\u001b[0m             \u001b[0mwait\u001b[0m\u001b[0;34m=\u001b[0m\u001b[0mwait\u001b[0m\u001b[0;34m,\u001b[0m\u001b[0;34m\u001b[0m\u001b[0;34m\u001b[0m\u001b[0m\n\u001b[1;32m    721\u001b[0m             \u001b[0mkms_key\u001b[0m\u001b[0;34m=\u001b[0m\u001b[0mkms_key\u001b[0m\u001b[0;34m,\u001b[0m\u001b[0;34m\u001b[0m\u001b[0;34m\u001b[0m\u001b[0m\n\u001b[0;32m--> 722\u001b[0;31m             \u001b[0mdata_capture_config\u001b[0m\u001b[0;34m=\u001b[0m\u001b[0mdata_capture_config\u001b[0m\u001b[0;34m,\u001b[0m\u001b[0;34m\u001b[0m\u001b[0;34m\u001b[0m\u001b[0m\n\u001b[0m\u001b[1;32m    723\u001b[0m         )\n\u001b[1;32m    724\u001b[0m \u001b[0;34m\u001b[0m\u001b[0m\n",
      "\u001b[0;32m~/anaconda3/envs/tensorflow2_p36/lib/python3.6/site-packages/sagemaker/model.py\u001b[0m in \u001b[0;36mdeploy\u001b[0;34m(self, initial_instance_count, instance_type, accelerator_type, endpoint_name, update_endpoint, tags, kms_key, wait, data_capture_config)\u001b[0m\n\u001b[1;32m    515\u001b[0m                 \u001b[0mkms_key\u001b[0m\u001b[0;34m=\u001b[0m\u001b[0mkms_key\u001b[0m\u001b[0;34m,\u001b[0m\u001b[0;34m\u001b[0m\u001b[0;34m\u001b[0m\u001b[0m\n\u001b[1;32m    516\u001b[0m                 \u001b[0mwait\u001b[0m\u001b[0;34m=\u001b[0m\u001b[0mwait\u001b[0m\u001b[0;34m,\u001b[0m\u001b[0;34m\u001b[0m\u001b[0;34m\u001b[0m\u001b[0m\n\u001b[0;32m--> 517\u001b[0;31m                 \u001b[0mdata_capture_config_dict\u001b[0m\u001b[0;34m=\u001b[0m\u001b[0mdata_capture_config_dict\u001b[0m\u001b[0;34m,\u001b[0m\u001b[0;34m\u001b[0m\u001b[0;34m\u001b[0m\u001b[0m\n\u001b[0m\u001b[1;32m    518\u001b[0m             )\n\u001b[1;32m    519\u001b[0m \u001b[0;34m\u001b[0m\u001b[0m\n",
      "\u001b[0;32m~/anaconda3/envs/tensorflow2_p36/lib/python3.6/site-packages/sagemaker/session.py\u001b[0m in \u001b[0;36mendpoint_from_production_variants\u001b[0;34m(self, name, production_variants, tags, kms_key, wait, data_capture_config_dict)\u001b[0m\n\u001b[1;32m   2903\u001b[0m \u001b[0;34m\u001b[0m\u001b[0m\n\u001b[1;32m   2904\u001b[0m             \u001b[0mself\u001b[0m\u001b[0;34m.\u001b[0m\u001b[0msagemaker_client\u001b[0m\u001b[0;34m.\u001b[0m\u001b[0mcreate_endpoint_config\u001b[0m\u001b[0;34m(\u001b[0m\u001b[0;34m**\u001b[0m\u001b[0mconfig_options\u001b[0m\u001b[0;34m)\u001b[0m\u001b[0;34m\u001b[0m\u001b[0;34m\u001b[0m\u001b[0m\n\u001b[0;32m-> 2905\u001b[0;31m         \u001b[0;32mreturn\u001b[0m \u001b[0mself\u001b[0m\u001b[0;34m.\u001b[0m\u001b[0mcreate_endpoint\u001b[0m\u001b[0;34m(\u001b[0m\u001b[0mendpoint_name\u001b[0m\u001b[0;34m=\u001b[0m\u001b[0mname\u001b[0m\u001b[0;34m,\u001b[0m \u001b[0mconfig_name\u001b[0m\u001b[0;34m=\u001b[0m\u001b[0mname\u001b[0m\u001b[0;34m,\u001b[0m \u001b[0mtags\u001b[0m\u001b[0;34m=\u001b[0m\u001b[0mtags\u001b[0m\u001b[0;34m,\u001b[0m \u001b[0mwait\u001b[0m\u001b[0;34m=\u001b[0m\u001b[0mwait\u001b[0m\u001b[0;34m)\u001b[0m\u001b[0;34m\u001b[0m\u001b[0;34m\u001b[0m\u001b[0m\n\u001b[0m\u001b[1;32m   2906\u001b[0m \u001b[0;34m\u001b[0m\u001b[0m\n\u001b[1;32m   2907\u001b[0m     \u001b[0;32mdef\u001b[0m \u001b[0mexpand_role\u001b[0m\u001b[0;34m(\u001b[0m\u001b[0mself\u001b[0m\u001b[0;34m,\u001b[0m \u001b[0mrole\u001b[0m\u001b[0;34m)\u001b[0m\u001b[0;34m:\u001b[0m\u001b[0;34m\u001b[0m\u001b[0;34m\u001b[0m\u001b[0m\n",
      "\u001b[0;32m~/anaconda3/envs/tensorflow2_p36/lib/python3.6/site-packages/sagemaker/session.py\u001b[0m in \u001b[0;36mcreate_endpoint\u001b[0;34m(self, endpoint_name, config_name, tags, wait)\u001b[0m\n\u001b[1;32m   2420\u001b[0m \u001b[0;34m\u001b[0m\u001b[0m\n\u001b[1;32m   2421\u001b[0m         self.sagemaker_client.create_endpoint(\n\u001b[0;32m-> 2422\u001b[0;31m             \u001b[0mEndpointName\u001b[0m\u001b[0;34m=\u001b[0m\u001b[0mendpoint_name\u001b[0m\u001b[0;34m,\u001b[0m \u001b[0mEndpointConfigName\u001b[0m\u001b[0;34m=\u001b[0m\u001b[0mconfig_name\u001b[0m\u001b[0;34m,\u001b[0m \u001b[0mTags\u001b[0m\u001b[0;34m=\u001b[0m\u001b[0mtags\u001b[0m\u001b[0;34m\u001b[0m\u001b[0;34m\u001b[0m\u001b[0m\n\u001b[0m\u001b[1;32m   2423\u001b[0m         )\n\u001b[1;32m   2424\u001b[0m         \u001b[0;32mif\u001b[0m \u001b[0mwait\u001b[0m\u001b[0;34m:\u001b[0m\u001b[0;34m\u001b[0m\u001b[0;34m\u001b[0m\u001b[0m\n",
      "\u001b[0;32m~/anaconda3/envs/tensorflow2_p36/lib/python3.6/site-packages/botocore/client.py\u001b[0m in \u001b[0;36m_api_call\u001b[0;34m(self, *args, **kwargs)\u001b[0m\n\u001b[1;32m    314\u001b[0m                     \"%s() only accepts keyword arguments.\" % py_operation_name)\n\u001b[1;32m    315\u001b[0m             \u001b[0;31m# The \"self\" in this scope is referring to the BaseClient.\u001b[0m\u001b[0;34m\u001b[0m\u001b[0;34m\u001b[0m\u001b[0;34m\u001b[0m\u001b[0m\n\u001b[0;32m--> 316\u001b[0;31m             \u001b[0;32mreturn\u001b[0m \u001b[0mself\u001b[0m\u001b[0;34m.\u001b[0m\u001b[0m_make_api_call\u001b[0m\u001b[0;34m(\u001b[0m\u001b[0moperation_name\u001b[0m\u001b[0;34m,\u001b[0m \u001b[0mkwargs\u001b[0m\u001b[0;34m)\u001b[0m\u001b[0;34m\u001b[0m\u001b[0;34m\u001b[0m\u001b[0m\n\u001b[0m\u001b[1;32m    317\u001b[0m \u001b[0;34m\u001b[0m\u001b[0m\n\u001b[1;32m    318\u001b[0m         \u001b[0m_api_call\u001b[0m\u001b[0;34m.\u001b[0m\u001b[0m__name__\u001b[0m \u001b[0;34m=\u001b[0m \u001b[0mstr\u001b[0m\u001b[0;34m(\u001b[0m\u001b[0mpy_operation_name\u001b[0m\u001b[0;34m)\u001b[0m\u001b[0;34m\u001b[0m\u001b[0;34m\u001b[0m\u001b[0m\n",
      "\u001b[0;32m~/anaconda3/envs/tensorflow2_p36/lib/python3.6/site-packages/botocore/client.py\u001b[0m in \u001b[0;36m_make_api_call\u001b[0;34m(self, operation_name, api_params)\u001b[0m\n\u001b[1;32m    633\u001b[0m             \u001b[0merror_code\u001b[0m \u001b[0;34m=\u001b[0m \u001b[0mparsed_response\u001b[0m\u001b[0;34m.\u001b[0m\u001b[0mget\u001b[0m\u001b[0;34m(\u001b[0m\u001b[0;34m\"Error\"\u001b[0m\u001b[0;34m,\u001b[0m \u001b[0;34m{\u001b[0m\u001b[0;34m}\u001b[0m\u001b[0;34m)\u001b[0m\u001b[0;34m.\u001b[0m\u001b[0mget\u001b[0m\u001b[0;34m(\u001b[0m\u001b[0;34m\"Code\"\u001b[0m\u001b[0;34m)\u001b[0m\u001b[0;34m\u001b[0m\u001b[0;34m\u001b[0m\u001b[0m\n\u001b[1;32m    634\u001b[0m             \u001b[0merror_class\u001b[0m \u001b[0;34m=\u001b[0m \u001b[0mself\u001b[0m\u001b[0;34m.\u001b[0m\u001b[0mexceptions\u001b[0m\u001b[0;34m.\u001b[0m\u001b[0mfrom_code\u001b[0m\u001b[0;34m(\u001b[0m\u001b[0merror_code\u001b[0m\u001b[0;34m)\u001b[0m\u001b[0;34m\u001b[0m\u001b[0;34m\u001b[0m\u001b[0m\n\u001b[0;32m--> 635\u001b[0;31m             \u001b[0;32mraise\u001b[0m \u001b[0merror_class\u001b[0m\u001b[0;34m(\u001b[0m\u001b[0mparsed_response\u001b[0m\u001b[0;34m,\u001b[0m \u001b[0moperation_name\u001b[0m\u001b[0;34m)\u001b[0m\u001b[0;34m\u001b[0m\u001b[0;34m\u001b[0m\u001b[0m\n\u001b[0m\u001b[1;32m    636\u001b[0m         \u001b[0;32melse\u001b[0m\u001b[0;34m:\u001b[0m\u001b[0;34m\u001b[0m\u001b[0;34m\u001b[0m\u001b[0m\n\u001b[1;32m    637\u001b[0m             \u001b[0;32mreturn\u001b[0m \u001b[0mparsed_response\u001b[0m\u001b[0;34m\u001b[0m\u001b[0;34m\u001b[0m\u001b[0m\n",
      "\u001b[0;31mClientError\u001b[0m: An error occurred (ValidationException) when calling the CreateEndpoint operation: Cannot create already existing endpoint \"arn:aws:sagemaker:us-east-1:805318928011:endpoint/semantic-segmentation-2020-08-14-13-46-53-942\"."
     ]
    }
   ],
   "source": [
    "deployed_model = model.deploy(initial_instance_count=1, instance_type='ml.m4.xlarge')\n",
    "print('\\nModel deployed!')"
   ]
  },
  {
   "cell_type": "code",
   "execution_count": 81,
   "metadata": {},
   "outputs": [],
   "source": [
    "deployed_model.content_type = 'image/jpeg'\n",
    "deployed_model.accept = 'image/png'"
   ]
  },
  {
   "cell_type": "code",
   "execution_count": 86,
   "metadata": {},
   "outputs": [
    {
     "name": "stdout",
     "output_type": "stream",
     "text": [
      "Completed 256.0 KiB/564.6 KiB (2.2 MiB/s) with 1 file(s) remaining\r",
      "Completed 512.0 KiB/564.6 KiB (4.2 MiB/s) with 1 file(s) remaining\r",
      "Completed 564.6 KiB/564.6 KiB (4.6 MiB/s) with 1 file(s) remaining\r",
      "download: s3://segmentroads/validation/24628840_15.jpeg to ./24628840_15.jpeg\n"
     ]
    }
   ],
   "source": [
    "%%bash\n",
    "\n",
    "aws s3 cp s3://segmentroads/validation/24628840_15.jpeg ."
   ]
  },
  {
   "cell_type": "code",
   "execution_count": 87,
   "metadata": {},
   "outputs": [],
   "source": [
    "filename = './24628840_15.jpeg'"
   ]
  },
  {
   "cell_type": "code",
   "execution_count": 88,
   "metadata": {},
   "outputs": [
    {
     "data": {
      "image/png": "[encoded data removed]",
      "text/plain": [
       "<Figure size 432x288 with 1 Axes>"
      ]
     },
     "metadata": {
      "needs_background": "light"
     },
     "output_type": "display_data"
    }
   ],
   "source": [
    "plt.imshow(plt.imread(filename));\n"
   ]
  },
  {
   "cell_type": "code",
   "execution_count": 89,
   "metadata": {},
   "outputs": [],
   "source": [
    "with open(filename, 'rb') as f:\n",
    "    b = bytearray(f.read())"
   ]
  },
  {
   "cell_type": "code",
   "execution_count": 90,
   "metadata": {},
   "outputs": [],
   "source": [
    "results = deployed_model.predict(b)\n"
   ]
  },
  {
   "cell_type": "code",
   "execution_count": 91,
   "metadata": {},
   "outputs": [],
   "source": [
    "import io\n",
    "\n",
    "mask = np.array(Image.open(io.BytesIO(results)))"
   ]
  },
  {
   "cell_type": "code",
   "execution_count": 92,
   "metadata": {},
   "outputs": [
    {
     "data": {
      "image/png": "[encoded data removed]",
      "text/plain": [
       "<Figure size 432x288 with 1 Axes>"
      ]
     },
     "metadata": {
      "needs_background": "light"
     },
     "output_type": "display_data"
    }
   ],
   "source": [
    "plt.imshow(plt.imread(filename));\n"
   ]
  },
  {
   "cell_type": "code",
   "execution_count": 93,
   "metadata": {},
   "outputs": [
    {
     "data": {
      "image/png": "[encoded data removed]",
      "text/plain": [
       "<Figure size 432x288 with 1 Axes>"
      ]
     },
     "metadata": {
      "needs_background": "light"
     },
     "output_type": "display_data"
    }
   ],
   "source": [
    "plt.imshow(mask);\n"
   ]
  },
  {
   "cell_type": "code",
   "execution_count": null,
   "metadata": {},
   "outputs": [],
   "source": []
  }
 ],
 "metadata": {
  "kernelspec": {
   "display_name": "conda_tensorflow2_p36",
   "language": "python",
   "name": "conda_tensorflow2_p36"
  },
  "language_info": {
   "codemirror_mode": {
    "name": "ipython",
    "version": 3
   },
   "file_extension": ".py",
   "mimetype": "text/x-python",
   "name": "python",
   "nbconvert_exporter": "python",
   "pygments_lexer": "ipython3",
   "version": "3.6.10"
  }
 },
 "nbformat": 4,
 "nbformat_minor": 4
}
